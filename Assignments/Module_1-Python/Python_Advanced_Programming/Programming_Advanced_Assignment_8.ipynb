{
 "cells": [
  {
   "cell_type": "code",
   "execution_count": 159,
   "metadata": {},
   "outputs": [
    {
     "name": "stdout",
     "output_type": "stream",
     "text": [
      "Enter the string: i like ds\n",
      "False\n",
      "\n",
      "Enter the string: i like ai\n",
      "True\n"
     ]
    }
   ],
   "source": [
    "'''\n",
    "Q1. Given a sentence as txt, return True if any two adjacent words have this\n",
    "property: One word ends with a vowel, while the word immediately after\n",
    "begins with a vowel (a e i o u).\n",
    "Examples\n",
    "vowel_links(\"a very large appliance\") ➞ True\n",
    "vowel_links(\"go to edabit\") ➞ True\n",
    "vowel_links(\"an open fire\") ➞ False\n",
    "vowel_links(\"a sudden applause\") ➞ False\n",
    "'''\n",
    "\n",
    "def vowel_links(string):\n",
    "    vowels = ['a','e','i','o','u', 'A', 'E', 'I', 'O', 'U']\n",
    "    list = string.split(\" \")\n",
    "    count = 0\n",
    "    \n",
    "    for i in range(len(list) - 1):\n",
    "        count += 1 \n",
    "        \n",
    "        a = list[i][-1] not in vowels and list[i+1][0] not in vowels \n",
    "        b = list[i][-1] not in vowels and list[i+1][0] in vowels     \n",
    "        c = list[i][-1] in vowels and list[i+1][0] not in vowels\n",
    "        d = list[i][-1] in vowels and list[i+1][0] in vowels\n",
    "        \n",
    "        if a or b or c:\n",
    "            flag = False\n",
    "            if count == len(list) - 1:\n",
    "                break\n",
    "                \n",
    "        elif d:\n",
    "            flag = True\n",
    "            \n",
    "    if flag == False:\n",
    "        return False\n",
    "    elif flag == True:\n",
    "        return True\n",
    "    \n",
    "string1 = input(\"Enter the string: \")\n",
    "print(vowel_links(string1))\n",
    "\n",
    "print()\n",
    "\n",
    "string2 = input(\"Enter the string: \")\n",
    "print(vowel_links(string2))"
   ]
  },
  {
   "cell_type": "code",
   "execution_count": 146,
   "metadata": {},
   "outputs": [
    {
     "name": "stdout",
     "output_type": "stream",
     "text": [
      "Enter the string: knaves knew about waterfalls\n",
      "Enter the first character: k\n",
      "Enter the second character: w\n",
      "True\n",
      "\n",
      "Enter the string: happy birthday\n",
      "Enter the first character: a\n",
      "Enter the second character: y\n",
      "False\n"
     ]
    }
   ],
   "source": [
    "'''\n",
    "Q2. You are given three inputs: a string, one letter, and a second letter.\n",
    "Write a function that returns True if every instance of the first letter occurs\n",
    "before every instance of the second letter.\n",
    "Examples\n",
    "first_before_second(\"a rabbit jumps joyfully\", \"a\", \"j\") ➞ True\n",
    "# Every instance of \"a\" occurs before every instance of \"j\".\n",
    "first_before_second(\"knaves knew about waterfalls\", \"k\", \"w\") ➞ True\n",
    "first_before_second(\"happy birthday\", \"a\", \"y\") ➞ False\n",
    "# The \"a\" in \"birthday\" occurs after the \"y\" in \"happy\".\n",
    "first_before_second(\"precarious kangaroos\", \"k\", \"a\") ➞ False\n",
    "'''\n",
    "\n",
    "def first_before_second(string, first, second):\n",
    "    index_second = string.index(second)\n",
    "    list = []\n",
    "    flag = True\n",
    "    count = 0\n",
    "    for i in range(index_second+1,len(string)):\n",
    "        list.append(string[i])\n",
    "    for i in range(len(list)+1):\n",
    "        if list[i] == first:\n",
    "            flag = False\n",
    "            break\n",
    "        else:\n",
    "            count += 1\n",
    "            flag = True\n",
    "            if count == len(list):\n",
    "                break\n",
    "            \n",
    "    if flag == True:\n",
    "        return True\n",
    "    elif flag == False:\n",
    "        return False\n",
    "    \n",
    "    \n",
    "string = input(\"Enter the string: \")\n",
    "first = input(\"Enter the first character: \")\n",
    "second = input(\"Enter the second character: \")\n",
    "print(first_before_second(string, first, second))\n",
    "\n",
    "print()\n",
    "\n",
    "string = input(\"Enter the string: \")\n",
    "first = input(\"Enter the first character: \")\n",
    "second = input(\"Enter the second character: \")\n",
    "print(first_before_second(string, first, second))"
   ]
  },
  {
   "cell_type": "code",
   "execution_count": 99,
   "metadata": {},
   "outputs": [
    {
     "data": {
      "text/plain": [
       "['A', 'B', 'T', 'A', 'I', 'Y']"
      ]
     },
     "execution_count": 99,
     "metadata": {},
     "output_type": "execute_result"
    }
   ],
   "source": [
    "'''\n",
    "Q3. Create a function that returns the characters from a list or string r on odd or\n",
    "even positions, depending on the specifier s. The specifier will be \"odd\" for\n",
    "items on odd positions (1, 3, 5, ...) and \"even\" for items on even positions (2,\n",
    "4, 6, ...).\n",
    "Examples\n",
    "char_at_pos([2, 4, 6, 8, 10], \"even\") ➞ [4, 8]\n",
    "# 4 & 8 occupy the 2nd & 4th positions\n",
    "char_at_pos(\"EDABIT\", \"odd\") ➞ \"EAI\"\n",
    "# \"E\", \"A\" and \"I\" occupy the 1st, 3rd and 5th positions\n",
    "\n",
    "char_at_pos([\"A\", \"R\", \"B\", \"I\", \"T\", \"R\", \"A\", \"R\", \"I\", \"L\", \"Y\"], \"odd\") ➞ [\"A\",\n",
    "\"B\", \"T\", \"A\", \"I\", \"Y\"]\n",
    "'''\n",
    "\n",
    "def char_at_pos(*args,specifier):\n",
    "    list = []\n",
    "    if specifier == \"odd\":\n",
    "        for i in range(len(args[0])):\n",
    "            if i % 2 == 0:\n",
    "                list.append(args[0][i])\n",
    "    elif specifier == \"even\":\n",
    "        for i in range(len(args[0])):\n",
    "            if i % 2 != 0:\n",
    "                list.append(args[0][i])\n",
    "    return list\n",
    "\n",
    "char_at_pos([\"A\", \"R\", \"B\", \"I\", \"T\", \"R\", \"A\", \"R\", \"I\", \"L\", \"Y\"],specifier=\"odd\")"
   ]
  },
  {
   "cell_type": "code",
   "execution_count": 125,
   "metadata": {},
   "outputs": [
    {
     "data": {
      "text/plain": [
       "8"
      ]
     },
     "execution_count": 125,
     "metadata": {},
     "output_type": "execute_result"
    }
   ],
   "source": [
    "'''\n",
    "Q4. Write a function that returns the greatest common divisor of all list\n",
    "elements. If the greatest common divisor is 1, return 1.\n",
    "Examples\n",
    "GCD([10, 20, 40]) ➞ 10\n",
    "GCD([1, 2, 3, 100]) ➞ 1\n",
    "GCD([1024, 192, 2048, 512]) ➞ 64\n",
    "'''\n",
    "\n",
    "def GCD(*args):\n",
    "    args[0].sort()\n",
    "    first = args[0][0]\n",
    "    second = args[0][1]\n",
    "    \n",
    "    result = calc_GCD(first, second)\n",
    "    \n",
    "    for i in range(2,len(args[0])):\n",
    "        result = calc_GCD(result, args[0][i])\n",
    "\n",
    "    return result\n",
    "\n",
    "    \n",
    "def calc_GCD(first, second):\n",
    "    while(second):\n",
    "        first, second = second, first % second\n",
    "    return first\n",
    "    \n",
    "GCD([1024, 192, 2048, 512, 256, 8])"
   ]
  },
  {
   "cell_type": "code",
   "execution_count": 104,
   "metadata": {},
   "outputs": [
    {
     "name": "stdout",
     "output_type": "stream",
     "text": [
      "Enter the number to be checked: 1306031\n",
      "Decimal only.\n"
     ]
    }
   ],
   "source": [
    "'''\n",
    "Q5. A number/string is a palindrome if the digits/characters are the same when\n",
    "read both forward and backward. Examples include \"racecar\" and 12321.\n",
    "Given a positive number n, check if n or the binary representation of n is\n",
    "palindromic. Return the following:\n",
    "- \"Decimal only.\" if only n is a palindrome.\n",
    "- \"Binary only.\" if only the binary representation of n is a palindrome.\n",
    "- \"Decimal and binary.\" if both are palindromes.\n",
    "- \"Neither!\" if neither are palindromes.\n",
    "Examples\n",
    "palindrome_type(1306031) ➞ \"Decimal only.\"\n",
    "# decimal = 1306031\n",
    "# binary = \"100111110110110101111\"\n",
    "palindrome_type(427787) ➞ \"Binary only.\"\n",
    "# decimal = 427787\n",
    "# binary = \"1101000011100001011\"\n",
    "palindrome_type(313) ➞ \"Decimal and binary.\"\n",
    "# decimal = 313\n",
    "# binary = 100111001\n",
    "palindrome_type(934) ➞ \"Neither!\"\n",
    "# decimal = 934\n",
    "# binary = \"1110100110\"\n",
    "'''\n",
    "\n",
    "def is_Palindrome(number):\n",
    "    number = str(number)\n",
    "    reverse = number[::-1]\n",
    "    if number == reverse:\n",
    "        return True\n",
    "    else:\n",
    "        return False\n",
    "    \n",
    "def to_Binary(number):\n",
    "    binary = \"\"\n",
    "    binary = str(bin(int(number)))[2:]\n",
    "    return binary\n",
    "    \n",
    "def palindrome_type(number):\n",
    "    binary = to_Binary(number)\n",
    "    if is_Palindrome(number) and is_Palindrome(binary):\n",
    "        return \"Decimal and binary.\"\n",
    "    elif is_Palindrome(number) and not is_Palindrome(binary):\n",
    "        return \"Decimal only.\"\n",
    "    elif not is_Palindrome(number) and is_Palindrome(binary):\n",
    "        return \"Binary only.\"\n",
    "    elif not is_Palindrome(number) and not is_Palindrome(binary):\n",
    "        return \"Neither!\"\n",
    "    \n",
    "number = int(input(\"Enter the number to be checked: \"))\n",
    "print(palindrome_type(number))"
   ]
  },
  {
   "cell_type": "code",
   "execution_count": 121,
   "metadata": {},
   "outputs": [
    {
     "name": "stdout",
     "output_type": "stream",
     "text": [
      "64\n"
     ]
    }
   ],
   "source": [
    "def find_gcd(x, y):\n",
    "    while(y):\n",
    "        x, y = y, x % y\n",
    "  \n",
    "    return x\n",
    "      \n",
    "      \n",
    "l = [192,512]\n",
    "  \n",
    "num1=l[0]\n",
    "num2=l[1]\n",
    "gcd=find_gcd(num1,num2)\n",
    "  \n",
    "for i in range(2,len(l)):\n",
    "    gcd=find_gcd(gcd,l[i])\n",
    "      \n",
    "print(gcd)"
   ]
  }
 ],
 "metadata": {
  "kernelspec": {
   "display_name": "Python 3",
   "language": "python",
   "name": "python3"
  },
  "language_info": {
   "codemirror_mode": {
    "name": "ipython",
    "version": 3
   },
   "file_extension": ".py",
   "mimetype": "text/x-python",
   "name": "python",
   "nbconvert_exporter": "python",
   "pygments_lexer": "ipython3",
   "version": "3.8.5"
  }
 },
 "nbformat": 4,
 "nbformat_minor": 4
}
