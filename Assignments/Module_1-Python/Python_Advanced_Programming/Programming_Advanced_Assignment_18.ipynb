{
 "cells": [
  {
   "cell_type": "code",
   "execution_count": 6,
   "metadata": {},
   "outputs": [
    {
     "name": "stdout",
     "output_type": "stream",
     "text": [
      "Enter the number of instructions for robot: 5\n",
      "Enter the instruction in direction space value format (eg. left 30): right 105\n",
      "Enter the instruction in direction space value format (eg. left 30): down 39\n",
      "Enter the instruction in direction space value format (eg. left 30): left 80\n",
      "Enter the instruction in direction space value format (eg. left 30): up 365\n",
      "Enter the instruction in direction space value format (eg. left 30): down 90\n"
     ]
    },
    {
     "data": {
      "text/plain": [
       "[25, 236]"
      ]
     },
     "execution_count": 6,
     "metadata": {},
     "output_type": "execute_result"
    }
   ],
   "source": [
    "'''\n",
    "Q1. A robot has been given a list of movement instructions. Each instruction is\n",
    "either left, right, up or down, followed by a distance to move. The robot starts\n",
    "at [0, 0]. You want to calculate where the robot will end up and return its final\n",
    "position as a list.\n",
    "To illustrate, if the robot is given the following instructions:\n",
    "[\"right 10\", \"up 50\", \"left 30\", \"down 10\"]\n",
    "It will end up 20 left and 40 up from where it started, so we return [-20, 40].\n",
    "Examples\n",
    "track_robot([\"right 10\", \"up 50\", \"left 30\", \"down 10\"]) ➞ [-20, 40]\n",
    "track_robot([]) ➞ [0, 0]\n",
    "// If there are no instructions, the robot doesn't move.\n",
    "track_robot([\"right 100\", \"right 100\", \"up 500\", \"up 10000\"]) ➞ [200, 10500]\n",
    "'''\n",
    "\n",
    "def track_robot(instruction_list):\n",
    "    position = [0,0]\n",
    "    for i in instruction_list:\n",
    "        direction, value = i.split(\" \")\n",
    "        if direction == \"right\":\n",
    "            position[0] += int(value)\n",
    "        elif direction == \"left\":\n",
    "            position[0] -= int(value)\n",
    "        elif direction == \"up\":\n",
    "            position[1] += int(value)\n",
    "        elif direction == \"down\":\n",
    "            position[1] -= int(value)\n",
    "    \n",
    "    return position\n",
    "    \n",
    "no_of_inst = int(input(\"Enter the number of instructions for robot: \"))\n",
    "instruction_list = []\n",
    "for i in range(no_of_inst):\n",
    "    instruction_list.append(input(\"Enter the instruction in direction space value format (eg. left 30): \"))\n",
    "track_robot(instruction_list)"
   ]
  },
  {
   "cell_type": "code",
   "execution_count": 14,
   "metadata": {},
   "outputs": [
    {
     "name": "stdout",
     "output_type": "stream",
     "text": [
      "Enter the string: \\\"Strengths\\\" is the longest and most commonly used word that contains only a single vowel.\n"
     ]
    },
    {
     "data": {
      "text/plain": [
       "'Strengths'"
      ]
     },
     "execution_count": 14,
     "metadata": {},
     "output_type": "execute_result"
    }
   ],
   "source": [
    "'''\n",
    "Q2. Write a function that will return the longest word in a sentence. In cases\n",
    "where more than one word is found, return the first one.\n",
    "Examples\n",
    "find_longest(\"A thing of beauty is a joy forever.\") ➞ \"forever\"\n",
    "find_longest(\"Forgetfulness is by all means powerless!\") ➞ \"forgetfulness\"\n",
    "find_longest(\"\\\"Strengths\\\" is the longest and most commonly used word that\n",
    "contains only a single vowel.\") ➞ \"strengths\"\n",
    "'''\n",
    "\n",
    "import re\n",
    "\n",
    "def find_longest(string):\n",
    "    res = re.sub(r'[^\\w\\s]', '', string)\n",
    "    words = res.split(\" \")\n",
    "    lengths = [len(i) for i in words]\n",
    "    max_len_index = lengths.index(max(lengths))\n",
    "    return words[max_len_index]\n",
    "    \n",
    "string = input(\"Enter the string: \")\n",
    "find_longest(string)"
   ]
  },
  {
   "cell_type": "code",
   "execution_count": 19,
   "metadata": {},
   "outputs": [
    {
     "name": "stdout",
     "output_type": "stream",
     "text": [
      "Enter the number of interview questions: 8\n",
      "Enter the time for very easy to hard questions: 2\n",
      "Enter the time for very easy to hard questions: 4\n",
      "Enter the time for very easy to hard questions: 7\n",
      "Enter the time for very easy to hard questions: 2\n",
      "Enter the time for very easy to hard questions: 12\n",
      "Enter the time for very easy to hard questions: 9\n",
      "Enter the time for very easy to hard questions: 18\n",
      "Enter the time for very easy to hard questions: 14\n",
      "Enter the total time of the interview: 134\n"
     ]
    },
    {
     "data": {
      "text/plain": [
       "'disqualified'"
      ]
     },
     "execution_count": 19,
     "metadata": {},
     "output_type": "execute_result"
    }
   ],
   "source": [
    "'''\n",
    "Q3. Create a function to check if a candidate is qualified in an imaginary coding\n",
    "interview of an imaginary tech startup.\n",
    "The criteria for a candidate to be qualified in the coding interview is:\n",
    "1. The candidate should have complete all the questions.\n",
    "2. The maximum time given to complete the interview is 120 minutes.\n",
    "3. The maximum time given for very easy questions is 5 minutes each.\n",
    "4. The maximum time given for easy questions is 10 minutes each.\n",
    "5. The maximum time given for medium questions is 15 minutes each.\n",
    "6. The maximum time given for hard questions is 20 minutes each.\n",
    "\n",
    "If all the above conditions are satisfied, return \"qualified\", else return\n",
    "\"disqualified\".\n",
    "You will be given a list of time taken by a candidate to solve a particular\n",
    "question and the total time taken by the candidate to complete the interview.\n",
    "Given a list , in a true condition will always be in the format [very easy, very\n",
    "easy, easy, easy, medium, medium, hard, hard].\n",
    "The maximum time to complete the interview includes a buffer time of 20\n",
    "minutes.\n",
    "Examples\n",
    "interview([5, 5, 10, 10, 15, 15, 20, 20], 120) ➞ \"qualified\"\n",
    "interview([2, 3, 8, 6, 5, 12, 10, 18], 64) ➞ \"qualified\"\n",
    "interview([5, 5, 10, 10, 25, 15, 20, 20], 120) ➞ \"disqualified\"\n",
    "# Exceeded the time limit for a medium question.\n",
    "interview([5, 5, 10, 10, 15, 15, 20], 120) ➞ \"disqualified\"\n",
    "# Did not complete all the questions.\n",
    "interview([5, 5, 10, 10, 15, 15, 20, 20], 130) ➞ \"disqualified\"\n",
    "# Solved all the questions in their respected time limits but exceeded the total\n",
    "time limit of the interview.\n",
    "'''\n",
    "\n",
    "def interview(question_time, total_time):\n",
    "    no_of_questions = len(question_time)\n",
    "    \n",
    "    if total_time > 120 or no_of_questions < 8:\n",
    "        return \"disqualified\"\n",
    "    \n",
    "    for i in range(no_of_questions):\n",
    "        if question_time[0] > 5 or question_time[1] > 5:\n",
    "            return \"disqualified\"\n",
    "        elif question_time[2] > 10 or question_time[3] > 10: \n",
    "            return disqualified\n",
    "        elif question_time[2] > 15 or question_time[3] > 15: \n",
    "            return disqualified\n",
    "        elif question_time[2] > 20 or question_time[3] > 20: \n",
    "            return disqualified\n",
    "        else:\n",
    "            return \"qualified\"\n",
    "    \n",
    "no_of_questions = int(input(\"Enter the number of interview questions: \"))\n",
    "question_time = []\n",
    "for i in range(no_of_questions):\n",
    "    question_time.append(int(input(\"Enter the time for very easy to hard questions: \")))\n",
    "total_time = int(input(\"Enter the total time of the interview: \"))\n",
    "interview(question_time,total_time)"
   ]
  },
  {
   "cell_type": "code",
   "execution_count": 26,
   "metadata": {},
   "outputs": [
    {
     "name": "stdout",
     "output_type": "stream",
     "text": [
      "Enter the number of elements in original list: 10\n",
      "Enter the element: 11\n",
      "Enter the element: 12\n",
      "Enter the element: 13\n",
      "Enter the element: 14\n",
      "Enter the element: 15\n",
      "Enter the element: 16\n",
      "Enter the element: 17\n",
      "Enter the element: 18\n",
      "Enter the element: 19\n",
      "Enter the element: 20\n",
      "Enter the size of the chunk: 2\n"
     ]
    },
    {
     "data": {
      "text/plain": [
       "[[11, 12], [13, 14], [15, 16], [17, 18], [19, 20]]"
      ]
     },
     "execution_count": 26,
     "metadata": {},
     "output_type": "execute_result"
    }
   ],
   "source": [
    "'''\n",
    "Q4. Write a function that divides a list into chunks of size n, where n is the\n",
    "length of each chunk.\n",
    "Examples\n",
    "chunkify([2, 3, 4, 5], 2) ➞ [[2, 3], [4, 5]]\n",
    "chunkify([2, 3, 4, 5, 6], 2) ➞ [[2, 3], [4, 5], [6]]\n",
    "chunkify([2, 3, 4, 5, 6, 7], 3) ➞ [[2, 3, 4], [5, 6, 7]]\n",
    "chunkify([2, 3, 4, 5, 6, 7], 1) ➞ [[2], [3], [4], [5], [6], [7]]\n",
    "chunkify([2, 3, 4, 5, 6, 7], 7) ➞ [[2, 3, 4, 5, 6, 7]]\n",
    "'''\n",
    "\n",
    "def chunkify(original_list, chunk_size):\n",
    "    length = len(original_list)\n",
    "    no_of_chunks = length // chunk_size\n",
    "    chunked_list = []\n",
    "    for i in range(0, length, chunk_size):\n",
    "        chunked_list.append(original_list[i:i+chunk_size])\n",
    "    return chunked_list\n",
    "    \n",
    "length = int(input(\"Enter the number of elements in original list: \"))\n",
    "original_list = []\n",
    "for i in range(length):\n",
    "    original_list.append(int(input(\"Enter the element: \")))\n",
    "chunk_size = int(input(\"Enter the size of the chunk: \"))\n",
    "chunkify(original_list, chunk_size)"
   ]
  },
  {
   "cell_type": "code",
   "execution_count": 32,
   "metadata": {},
   "outputs": [
    {
     "name": "stdout",
     "output_type": "stream",
     "text": [
      "Enter the number of grocery items: 4\n",
      "Enter the grocery item with its price in brackets: cheese ($23.0)\n",
      "Enter the grocery item with its price in brackets: artichokes ($45.6)\n",
      "Enter the grocery item with its price in brackets: chocolate ($55.9)\n",
      "Enter the grocery item with its price in brackets: mushrooms ($4.6)\n"
     ]
    },
    {
     "data": {
      "text/plain": [
       "[23.0, 45.6, 55.9, 4.6]"
      ]
     },
     "execution_count": 32,
     "metadata": {},
     "output_type": "execute_result"
    }
   ],
   "source": [
    "'''\n",
    "Q5. You are given a list of strings consisting of grocery items, with prices in\n",
    "parentheses. Return a list of prices in float format.\n",
    "\n",
    "Examples\n",
    "get_prices([\"salad ($4.99)\"]) ➞ [4.99]\n",
    "get_prices([\n",
    "\"artichokes ($1.99)\",\n",
    "\"rotiserrie chicken ($5.99)\",\n",
    "\"gum ($0.75)\"\n",
    "])\n",
    "➞ [1.99, 5.99, 0.75]\n",
    "get_prices([\n",
    "\"ice cream ($5.99)\",\n",
    "\"banana ($0.20)\",\n",
    "\"sandwich ($8.50)\",\n",
    "\"soup ($1.99)\"\n",
    "])\n",
    "➞ [5.99, 0.2, 8.50, 1.99]\n",
    "'''\n",
    "\n",
    "def get_prices(grocery_list):\n",
    "    prices_list = []\n",
    "    for i in grocery_list:\n",
    "        price = \"\".join([c for c in i if c.isdigit() or c == '.'])\n",
    "        prices_list.append(float(price))\n",
    "    return prices_list\n",
    "    \n",
    "no_of_items = int(input(\"Enter the number of grocery items: \"))\n",
    "grocery_list = []\n",
    "for i in range(no_of_items):\n",
    "    grocery_list.append(input(\"Enter the grocery item with its price in brackets: \"))\n",
    "get_prices(grocery_list)"
   ]
  }
 ],
 "metadata": {
  "kernelspec": {
   "display_name": "Python 3",
   "language": "python",
   "name": "python3"
  },
  "language_info": {
   "codemirror_mode": {
    "name": "ipython",
    "version": 3
   },
   "file_extension": ".py",
   "mimetype": "text/x-python",
   "name": "python",
   "nbconvert_exporter": "python",
   "pygments_lexer": "ipython3",
   "version": "3.8.5"
  }
 },
 "nbformat": 4,
 "nbformat_minor": 4
}
