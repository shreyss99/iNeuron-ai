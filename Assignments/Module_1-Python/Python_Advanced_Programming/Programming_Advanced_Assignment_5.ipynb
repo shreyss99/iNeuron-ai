{
 "cells": [
  {
   "cell_type": "code",
   "execution_count": 21,
   "metadata": {},
   "outputs": [
    {
     "name": "stdout",
     "output_type": "stream",
     "text": [
      "Enter a positive number: 7\n"
     ]
    },
    {
     "data": {
      "text/plain": [
       "2"
      ]
     },
     "execution_count": 21,
     "metadata": {},
     "output_type": "execute_result"
    }
   ],
   "source": [
    "'''\n",
    "Q1. Create a function that takes a number n (integer greater than zero) as an\n",
    "argument, and returns 2 if n is odd and 8 if n is even.\n",
    "You can only use the following arithmetic operators: addition of numbers +,\n",
    "subtraction of numbers -, multiplication of number *, division of number /, and\n",
    "exponentiation **.\n",
    "You are not allowed to use any other methods in this challenge (i.e. no if\n",
    "statements, comparison operators, etc).\n",
    "Examples\n",
    "f(1) ➞ 2\n",
    "f(2) ➞ 8\n",
    "f(3) ➞ 2\n",
    "'''\n",
    "\n",
    "def is_odd_even(number):\n",
    "    result = int(number / 2) * 2\n",
    "    if(not(result - number)):\n",
    "        return 8\n",
    "    else:\n",
    "        return 2\n",
    "\n",
    "number = int(input(\"Enter a positive number: \"))\n",
    "is_odd_even(number)"
   ]
  },
  {
   "cell_type": "code",
   "execution_count": 13,
   "metadata": {},
   "outputs": [
    {
     "name": "stdout",
     "output_type": "stream",
     "text": [
      "Enter the total number of votes: 7\n",
      "Enter the votes: \n",
      "A\n",
      "B\n",
      "C\n",
      "A\n",
      "C\n",
      "B\n",
      "C\n",
      "The majority vote of the list is None\n"
     ]
    }
   ],
   "source": [
    "'''\n",
    "Q2. Create a function that returns the majority vote in a list. A majority vote is\n",
    "an element that occurs > N/2 times in a list (where N is the length of the list).\n",
    "Examples\n",
    "majority_vote([\"A\", \"A\", \"B\"]) ➞ \"A\"\n",
    "majority_vote([\"A\", \"A\", \"A\", \"B\", \"C\", \"A\"]) ➞ \"A\"\n",
    "majority_vote([\"A\", \"B\", \"B\", \"A\", \"C\", \"C\"]) ➞ None\n",
    "'''\n",
    "\n",
    "def majority_vote(votes_list):\n",
    "    votes_list_length = len(votes_list)\n",
    "    count_of_votes = []\n",
    "    types_of_votes = set(votes_list)\n",
    "    for i in types_of_votes:\n",
    "        count_of_votes.append([i,votes_list.count(i)])\n",
    "    for i in count_of_votes:\n",
    "        if i[1] > votes_list_length / 2:\n",
    "            return i[0]\n",
    "\n",
    "no_of_votes = int(input(\"Enter the total number of votes: \"))\n",
    "votes_list = []\n",
    "print(\"Enter the votes: \")\n",
    "for i in range(no_of_votes):\n",
    "    votes_list.append(input())\n",
    "\n",
    "actual_majority_vote = majority_vote(votes_list)\n",
    "print(\"The majority vote of the list is {}\".format(actual_majority_vote))"
   ]
  },
  {
   "cell_type": "code",
   "execution_count": 55,
   "metadata": {},
   "outputs": [
    {
     "name": "stdout",
     "output_type": "stream",
     "text": [
      "Enter the string to be censored: This is a full stack class by iNeuron\n",
      "Enter the number of words to be censored in the string: 4\n",
      "Enter the words to be censored in the above string: \n",
      "is\n",
      "full\n",
      "class\n",
      "by\n",
      "Enter the symbol to be censored with: \n",
      "*\n",
      "The censored string is: This ** a **** stack ***** ** iNeuron \n"
     ]
    }
   ],
   "source": [
    "'''\n",
    "Q3. Create a function that takes a string txt and censors any word from a given\n",
    "list lst. The text removed must be replaced by the given character char.\n",
    "Examples\n",
    "censor_string(\"Today is a Wednesday!\", [\"Today\", \"a\"], \"-\") ➞ \"----- is -\n",
    "Wednesday!\"\n",
    "censor_string(\"The cow jumped over the moon.\", [\"cow\", \"over\"], \"*\"), \"The ***\n",
    "jumped **** the moon.\")\n",
    "censor_string(\"Why did the chicken cross the road?\", [\"Did\", \"chicken\",\n",
    "\"road\"], \"*\") ➞ \"Why *** the ******* cross the ****?\"\n",
    "'''\n",
    "\n",
    "def censor_string(string, words_to_censor, symbol):\n",
    "    split_string = string.split(\" \")\n",
    "    final = \"\"\n",
    "    for i in split_string:\n",
    "        position = split_string.index(i)\n",
    "        if i in words_to_censor:\n",
    "            \n",
    "            for j in range(len(i)):\n",
    "                i = i.replace(i[j],symbol)\n",
    "            split_string[position] = i\n",
    "    for i in split_string:\n",
    "        final += i + \" \"\n",
    "    return final\n",
    "    \n",
    "string = input(\"Enter the string to be censored: \")\n",
    "words_to_censor = []\n",
    "split_string = string.split(\" \")\n",
    "no_of_words = int(input(\"Enter the number of words to be censored in the string: \"))\n",
    "print(\"Enter the words to be censored in the above string: \")\n",
    "if(no_of_words > 0 and no_of_words < len(split_string)):\n",
    "    for i in range(no_of_words):\n",
    "        words_to_censor.append(input())\n",
    "print(\"Enter the symbol to be censored with: \")\n",
    "symbol = input()\n",
    "\n",
    "censored_string = censor_string(string, words_to_censor, symbol)\n",
    "print(\"The censored string is: {}\".format(censored_string))"
   ]
  },
  {
   "cell_type": "code",
   "execution_count": 41,
   "metadata": {},
   "outputs": [
    {
     "name": "stdout",
     "output_type": "stream",
     "text": [
      "Enter the number to be checked: 3608528850368400786036725\n"
     ]
    },
    {
     "data": {
      "text/plain": [
       "True"
      ]
     },
     "execution_count": 41,
     "metadata": {},
     "output_type": "execute_result"
    }
   ],
   "source": [
    "'''\n",
    "Q4. In mathematics a Polydivisible Number (or magic number) is a number in a\n",
    "given number base with digits abcde... that has the following properties:\n",
    "- Its first digit a is not 0.\n",
    "- The number formed by its first two digits ab is a multiple of 2.\n",
    "- The number formed by its first three digits abc is a multiple of 3.\n",
    "- The number formed by its first four digits abcd is a multiple of 4.\n",
    "Create a function which takes an integer n and returns True if the given\n",
    "number is a Polydivisible Number and False otherwise.\n",
    "Examples\n",
    "is_polydivisible(1232) ➞ True\n",
    "# 1 / 1 = 1\n",
    "# 12 / 2 = 6\n",
    "# 123 / 3 = 41\n",
    "# 1232 / 4 = 308\n",
    "is_polydivisible(123220 ) ➞ False\n",
    "# 1 / 1 = 1\n",
    "# 12 / 2 = 6\n",
    "# 123 / 3 = 41\n",
    "# 1232 / 4 = 308\n",
    "# 12322 / 5 = 2464.4 # Not a Whole Number\n",
    "# 123220 /6 = 220536.333... # Not a Whole Number\n",
    "'''\n",
    "\n",
    "def is_Polydivisible(number):\n",
    "    flag = True\n",
    "    number = str(number)\n",
    "    for i in range(1,len(number)+1):\n",
    "        if (int(number[0:i]) % i) != 0:\n",
    "            flag = False\n",
    "    \n",
    "    if flag == False:\n",
    "        return False\n",
    "    else:\n",
    "        return True\n",
    "    \n",
    "number = int(input(\"Enter the number to be checked: \"))\n",
    "is_Polydivisible(number)"
   ]
  },
  {
   "cell_type": "code",
   "execution_count": 54,
   "metadata": {},
   "outputs": [
    {
     "name": "stdout",
     "output_type": "stream",
     "text": [
      "Enter the number of elements in the list: 15\n",
      "1\n",
      "2\n",
      "3\n",
      "4\n",
      "5\n",
      "6\n",
      "7\n",
      "8\n",
      "9\n",
      "10\n",
      "97\n",
      "43\n",
      "37\n",
      "11\n",
      "13\n",
      "The sum of prime numbers is list is:  218\n"
     ]
    }
   ],
   "source": [
    "'''\n",
    "Q5. Create a function that takes a list of numbers and returns the sum of all\n",
    "prime numbers in the list.\n",
    "Examples\n",
    "sum_primes([1, 2, 3, 4, 5, 6, 7, 8, 9, 10]) ➞ 17\n",
    "sum_primes([2, 3, 4, 11, 20, 50, 71]) ➞ 87\n",
    "sum_primes([]) ➞ None\n",
    "'''\n",
    "\n",
    "def sum_primes(num_list):\n",
    "    sum = 0\n",
    "    for i in num_list:\n",
    "        if is_Prime(i):\n",
    "            sum = sum + i\n",
    "    return sum\n",
    "\n",
    "def is_Prime(i):\n",
    "    flag = True\n",
    "    if i == 1:\n",
    "        return False\n",
    "    if i == 2:\n",
    "        return True\n",
    "    for j in range(2,i):\n",
    "        if i % j == 0:\n",
    "            flag = False\n",
    "            break\n",
    "    \n",
    "    if flag == False:\n",
    "        return False\n",
    "    else:\n",
    "        return True\n",
    "        \n",
    "\n",
    "num_list_len = int(input(\"Enter the number of elements in the list: \")) \n",
    "num_list = []\n",
    "for i in range(num_list_len):\n",
    "    num_list.append(int(input()))\n",
    "    \n",
    "sum_of_primes = sum_primes(num_list)\n",
    "print(\"The sum of prime numbers is list is: \",sum_of_primes)"
   ]
  }
 ],
 "metadata": {
  "kernelspec": {
   "display_name": "Python 3",
   "language": "python",
   "name": "python3"
  },
  "language_info": {
   "codemirror_mode": {
    "name": "ipython",
    "version": 3
   },
   "file_extension": ".py",
   "mimetype": "text/x-python",
   "name": "python",
   "nbconvert_exporter": "python",
   "pygments_lexer": "ipython3",
   "version": "3.8.5"
  }
 },
 "nbformat": 4,
 "nbformat_minor": 4
}
