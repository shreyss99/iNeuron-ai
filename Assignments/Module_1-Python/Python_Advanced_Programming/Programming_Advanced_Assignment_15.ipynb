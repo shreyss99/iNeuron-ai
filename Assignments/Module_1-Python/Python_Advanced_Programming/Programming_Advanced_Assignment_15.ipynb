{
 "cells": [
  {
   "cell_type": "code",
   "execution_count": 58,
   "metadata": {},
   "outputs": [
    {
     "name": "stdout",
     "output_type": "stream",
     "text": [
      "Enter the string value: Chris Pratt\n",
      "Enter the number of words: 2\n",
      "Enter the word: chips\n",
      "Enter the word: rat\n"
     ]
    },
    {
     "data": {
      "text/plain": [
       "False"
      ]
     },
     "execution_count": 58,
     "metadata": {},
     "output_type": "execute_result"
    }
   ],
   "source": [
    "'''\n",
    "Q1. Write a function that returns True if a given name can generate an array of\n",
    "words.\n",
    "Examples\n",
    "anagram(\"Justin Bieber\", [\"injures\", \"ebb\", \"it\"]) ➞ True\n",
    "anagram(\"Natalie Portman\", [\"ornamental\", \"pita\"]) ➞ True\n",
    "anagram(\"Chris Pratt\", [\"chirps\", \"rat\"]) ➞ False\n",
    "# Not all letters are used\n",
    "anagram(\"Jeff Goldblum\", [\"jog\", \"meld\", \"bluffs\"]) ➞ False\n",
    "# \"s\" does not exist in the original name\n",
    "'''\n",
    "\n",
    "def anagram(string,words):\n",
    "    string = string.casefold()\n",
    "    string_list = []\n",
    "    word_list = []\n",
    "    for i in string:\n",
    "        if i != \" \":\n",
    "            string_list.append(i)\n",
    "    for i in words:\n",
    "        for j in i:\n",
    "            if j != \" \":\n",
    "                word_list.append(j)\n",
    "    \n",
    "    set_string = set(string_list)\n",
    "    set_words = set(word_list)\n",
    "    \n",
    "    if len(string_list) == len(word_list):\n",
    "        if set_string.intersection(set_words) != None:\n",
    "            return True\n",
    "    else:\n",
    "        return False\n",
    "\n",
    "string = input(\"Enter the string value: \")\n",
    "length = int(input(\"Enter the number of words: \"))\n",
    "words = []\n",
    "for i in range(length):\n",
    "    words.append(input(\"Enter the word: \"))\n",
    "    \n",
    "anagram(string,words)"
   ]
  },
  {
   "cell_type": "code",
   "execution_count": 19,
   "metadata": {},
   "outputs": [
    {
     "name": "stdout",
     "output_type": "stream",
     "text": [
      "Enter the number of users: 4\n",
      "Enter the name of the user: Shrey\n",
      "Enter the score value for user: 78\n",
      "Enter the reputation value for user: 89\n",
      "Enter the name of the user: Shailesh\n",
      "Enter the score value for user: 23\n",
      "Enter the reputation value for user: 12\n",
      "Enter the name of the user: Dipti\n",
      "Enter the score value for user: 23\n",
      "Enter the reputation value for user: 34\n",
      "Enter the name of the user: Ramila\n",
      "Enter the score value for user: 56\n",
      "Enter the reputation value for user: 67\n"
     ]
    },
    {
     "data": {
      "text/plain": [
       "[{'user': 'Shrey', 'score': 78, 'reputation': 89},\n",
       " {'user': 'Ramila', 'score': 56, 'reputation': 67},\n",
       " {'user': 'Dipti', 'score': 23, 'reputation': 34},\n",
       " {'user': 'Shailesh', 'score': 23, 'reputation': 12}]"
      ]
     },
     "execution_count": 19,
     "metadata": {},
     "output_type": "execute_result"
    }
   ],
   "source": [
    "'''\n",
    "Q2. Given an array of users, each defined by an object with the following\n",
    "properties: name, score, reputation create a function that sorts the array to\n",
    "form the correct leaderboard.\n",
    "The leaderboard takes into consideration the score of each user of course,\n",
    "but an emphasis is put on their reputation in the community, so to get the\n",
    "trueScore, you should add the reputation multiplied by 2 to the score.\n",
    "Once you know the trueScore of each user, sort the array according to it in\n",
    "descending order.\n",
    "Examples\n",
    "leaderboards([\n",
    "{ \"name\": \"a\", \"score\": 100, \"reputation\": 20 },\n",
    "{ \"name\": \"b\", \"score\": 90, \"reputation\": 40 },\n",
    "{ \"name\": \"c\", \"score\": 115, \"reputation\": 30 },\n",
    "]) ➞ [\n",
    "{ \"name\": \"c\", \"score\": 115, \"reputation\": 30 }, # trueScore = 175\n",
    "{ \"name\": \"b\", \"score\": 90, \"reputation\": 40 }, # trueScore = 170\n",
    "{ \"name\": \"a\", \"score\": 100, \"reputation\": 20 } # trueScore = 140\n",
    "]\n",
    "'''\n",
    "\n",
    "def leaderboards(score_list):\n",
    "    sorted_list = sorted(score_list, key = lambda x:x['reputation'] * 2 + x['score'], reverse = True)\n",
    "    return sorted_list\n",
    "\n",
    "length = int(input(\"Enter the number of users: \"))\n",
    "score_list = []\n",
    "score_dict = {}\n",
    "for i in range(length):\n",
    "    user = input(\"Enter the name of the user: \")\n",
    "    score = int(input(\"Enter the score value for user: \"))\n",
    "    reputation = int(input(\"Enter the reputation value for user: \"))\n",
    "    score_dict['user'] = user\n",
    "    score_dict['score'] = score\n",
    "    score_dict['reputation'] = reputation\n",
    "    score_dict_copy = score_dict.copy()\n",
    "    score_list.append(score_dict_copy)\n",
    "    \n",
    "leaderboards(score_list)"
   ]
  },
  {
   "cell_type": "code",
   "execution_count": 21,
   "metadata": {},
   "outputs": [
    {
     "name": "stdout",
     "output_type": "stream",
     "text": [
      "Enter the string: it's the full stack data science class\n",
      "Enter the number of characters: 4\n",
      "Enter the character: a\n",
      "Enter the character: t\n",
      "Enter the character: l\n",
      "Enter the character: c\n"
     ]
    },
    {
     "data": {
      "text/plain": [
       "'-t---t-----ll--tac---ata--c---c--cla--'"
      ]
     },
     "execution_count": 21,
     "metadata": {},
     "output_type": "execute_result"
    }
   ],
   "source": [
    "'''\n",
    "Q3. Create a function that, given a phrase and a number of letters guessed,\n",
    "returns a string with hyphens - for every letter of the phrase not guessed, and\n",
    "each letter guessed in place.\n",
    "Examples\n",
    "hangman(\"helicopter\", [\"o\", \"e\", \"s\"]) ➞ \"-e---o--e-\"\n",
    "hangman(\"tree\", [\"r\", \"t\", \"e\"]) ➞ \"tree\"\n",
    "hangman(\"Python rules\", [\"a\", \"n\", \"p\", \"r\", \"z\"]) ➞ \"P----n r----\"\n",
    "hangman(\"He\"s a very naughty boy!\", [\"e\", \"a\", \"y\"]) ➞ \"-e\"- a -e-y -a----y –y!\"\n",
    "'''\n",
    "\n",
    "def hangman(string, char_list):\n",
    "    for i in string:\n",
    "        if i not in char_list:\n",
    "            string = string.replace(i,\"-\")\n",
    "    return string\n",
    "    \n",
    "string = input(\"Enter the string: \")\n",
    "length = int(input(\"Enter the number of characters: \"))\n",
    "char_list = []\n",
    "for i in range(length):\n",
    "    char_list.append(input(\"Enter the character: \"))\n",
    "    \n",
    "hangman(string, char_list)"
   ]
  },
  {
   "cell_type": "code",
   "execution_count": 27,
   "metadata": {},
   "outputs": [
    {
     "name": "stdout",
     "output_type": "stream",
     "text": [
      "Enter the number: 5678\n"
     ]
    },
    {
     "data": {
      "text/plain": [
       "19168"
      ]
     },
     "execution_count": 27,
     "metadata": {},
     "output_type": "execute_result"
    }
   ],
   "source": [
    "'''\n",
    "Q4. The Collatz sequence is as follows:\n",
    "- Start with some given integer n.\n",
    "- If it is even, the next number will be n divided by 2.\n",
    "- If it is odd, multiply it by 3 and add 1 to make the next number.\n",
    "- The sequence stops when it reaches 1.\n",
    "According to the Collatz conjecture, it will always reach 1. If that's true, you\n",
    "can construct a finite sequence following the aforementioned method for any\n",
    "given integer.\n",
    "Write a function that takes in an integer n and returns the highest integer in\n",
    "the corresponding Collatz sequence.\n",
    "Examples\n",
    "max_collatz(10) ➞ 16\n",
    "# Collatz sequence: 10, 5, 16, 8, 4, 2, 1\n",
    "max_collatz(32) ➞ 32\n",
    "# Collatz sequence: 32, 16, 8, 4, 2, 1\n",
    "max_collatz(85) ➞ 256\n",
    "# Collatz sequence: 85, 256, 128, 64, 32, 16, 8, 4, 2, 1\n",
    "'''\n",
    "\n",
    "def max_collatz(number):\n",
    "    collatz_sequence = []\n",
    "    collatz_sequence.append(number)\n",
    "    while(number != 1):\n",
    "        if number % 2 == 0:\n",
    "            next_val = number // 2\n",
    "            number = next_val\n",
    "            collatz_sequence.append(next_val)\n",
    "        else:\n",
    "            next_val = number * 3 + 1\n",
    "            number = next_val\n",
    "            collatz_sequence.append(next_val)\n",
    "            \n",
    "    max_num = max(collatz_sequence)\n",
    "    return max_num\n",
    "    \n",
    "number = int(input(\"Enter the number: \"))\n",
    "max_collatz(number)"
   ]
  },
  {
   "cell_type": "code",
   "execution_count": 52,
   "metadata": {},
   "outputs": [
    {
     "name": "stdout",
     "output_type": "stream",
     "text": [
      "Enter the number of numerical values: 7\n",
      "Enter the number: 1\n",
      "Enter the number: 5\n",
      "Enter the number: 9\n",
      "Enter the number: 2\n",
      "Enter the number: 789\n",
      "Enter the number: 563\n",
      "Enter the number: 444\n"
     ]
    },
    {
     "data": {
      "text/plain": [
       "[444, 563, 789, 1, 2, 5, 9]"
      ]
     },
     "execution_count": 52,
     "metadata": {},
     "output_type": "execute_result"
    }
   ],
   "source": [
    "'''\n",
    "Q5. Write a function that sorts a list of integers by their digit length in\n",
    "descending order, then settles ties by sorting numbers with the same digit\n",
    "length in ascending order.\n",
    "Examples\n",
    "digit_sort([77, 23, 5, 7, 101])\n",
    "➞ [101, 23, 77, 5, 7]\n",
    "digit_sort([1, 5, 9, 2, 789, 563, 444])\n",
    "➞ [444, 563, 789, 1, 2, 5, 9]\n",
    "digit_sort([53219, 3772, 564, 32, 1])\n",
    "\n",
    "➞ [53219, 3772, 564, 32, 1]\n",
    "'''\n",
    "\n",
    "def digit_sort(num_list):\n",
    "    sorted_num = sorted(num_list, reverse = True)\n",
    "    for i in range(len(sorted_num)):\n",
    "        for j in range(len(sorted_num)):\n",
    "            if (len(str(sorted_num[i])) == len(str(sorted_num[j]))) and i != j:\n",
    "                if sorted_num[i] < sorted_num[j]:\n",
    "                    temp = sorted_num[i]\n",
    "                    sorted_num[i] = sorted_num[j]\n",
    "                    sorted_num[j] = temp\n",
    "    return sorted_num\n",
    "    \n",
    "length = int(input(\"Enter the number of numerical values: \"))\n",
    "num_list = []\n",
    "for i in range(length):\n",
    "    num_list.append(int(input(\"Enter the number: \")))\n",
    "    \n",
    "digit_sort(num_list)"
   ]
  }
 ],
 "metadata": {
  "kernelspec": {
   "display_name": "Python 3",
   "language": "python",
   "name": "python3"
  },
  "language_info": {
   "codemirror_mode": {
    "name": "ipython",
    "version": 3
   },
   "file_extension": ".py",
   "mimetype": "text/x-python",
   "name": "python",
   "nbconvert_exporter": "python",
   "pygments_lexer": "ipython3",
   "version": "3.8.5"
  }
 },
 "nbformat": 4,
 "nbformat_minor": 4
}
