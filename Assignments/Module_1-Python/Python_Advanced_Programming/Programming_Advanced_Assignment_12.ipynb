{
 "cells": [
  {
   "cell_type": "code",
   "execution_count": 10,
   "metadata": {},
   "outputs": [
    {
     "name": "stdout",
     "output_type": "stream",
     "text": [
      "Enter the first number: 33546\n",
      "Enter the second number: 1443265\n"
     ]
    },
    {
     "data": {
      "text/plain": [
       "'147671011'"
      ]
     },
     "execution_count": 10,
     "metadata": {},
     "output_type": "execute_result"
    }
   ],
   "source": [
    "'''\n",
    "Q1. For this challenge, forget how to add two numbers together. The best\n",
    "explanation on what to do for this function is this meme:\n",
    "\n",
    "Examples\n",
    "meme_sum(26, 39) ➞ 515\n",
    "# 2+3 = 5, 6+9 = 15\n",
    "# 26 + 39 = 515\n",
    "meme_sum(122, 81) ➞ 1103\n",
    "# 1+0 = 1, 2+8 = 10, 2+1 = 3\n",
    "# 122 + 81 = 1103\n",
    "meme_sum(1222, 30277) ➞ 31499\n",
    "'''\n",
    "\n",
    "def meme_sum(num1,num2):\n",
    "    num1 = str(num1)\n",
    "    num2 = str(num2)\n",
    "    sum = \"\"\n",
    "    len1 = len(num1)\n",
    "    len2 = len(num2)\n",
    "    \n",
    "    if len1 < len2:\n",
    "        diff = len2 - len1\n",
    "        num1 = diff*'0' + num1\n",
    "    else:\n",
    "        diff = len1 - len2\n",
    "        num2 = diff*'0' + num2\n",
    "        \n",
    "    len1 = len(num1)\n",
    "    len2 = len(num2)\n",
    "    for i in range(len1-1,-1,-1):\n",
    "        place_sum = int(num1[i]) + int(num2[i])\n",
    "        sum = str(place_sum) + sum\n",
    "    \n",
    "    return sum\n",
    "    \n",
    "num1 = int(input(\"Enter the first number: \"))\n",
    "num2 = int(input(\"Enter the second number: \"))\n",
    "\n",
    "meme_sum(num1,num2)"
   ]
  },
  {
   "cell_type": "code",
   "execution_count": 44,
   "metadata": {},
   "outputs": [
    {
     "name": "stdout",
     "output_type": "stream",
     "text": [
      "Enter the value of number: 5678\n"
     ]
    },
    {
     "data": {
      "text/plain": [
       "5683"
      ]
     },
     "execution_count": 44,
     "metadata": {},
     "output_type": "execute_result"
    }
   ],
   "source": [
    "'''\n",
    "Q2. Given an integer, create a function that returns the next prime. If the\n",
    "number is prime, return the number itself.\n",
    "Examples\n",
    "\n",
    "next_prime(12) ➞ 13\n",
    "next_prime(24) ➞ 29\n",
    "next_prime(11) ➞ 11\n",
    "# 11 is a prime, so we return the number itself.\n",
    "'''\n",
    "\n",
    "def next_prime(number):\n",
    "    i = number\n",
    "    while(True):\n",
    "        if is_Prime(i):\n",
    "            return i\n",
    "        elif is_Prime(i+1):\n",
    "            return i+1\n",
    "        else:\n",
    "            i += 1\n",
    "            \n",
    "def is_Prime(number):\n",
    "    flag = True\n",
    "    for i in range(2,number):\n",
    "        if number == 2:\n",
    "            return True\n",
    "        if number % i == 0:\n",
    "            flag = False\n",
    "    return flag\n",
    "    \n",
    "number = int(input(\"Enter the value of number: \"))\n",
    "next_prime(number)"
   ]
  },
  {
   "cell_type": "code",
   "execution_count": 26,
   "metadata": {},
   "outputs": [
    {
     "name": "stdout",
     "output_type": "stream",
     "text": [
      "Enter the uphill time in minutes: 34\n",
      "Enter the uphill speed in miles per hour: 12\n",
      "Enter the downhill speed in miles per hour: 30\n"
     ]
    },
    {
     "data": {
      "text/plain": [
       "17.142857142857142"
      ]
     },
     "execution_count": 26,
     "metadata": {},
     "output_type": "execute_result"
    }
   ],
   "source": [
    "'''\n",
    "Q3. If a person traveled up a hill for 18mins at 20mph and then traveled back\n",
    "down the same path at 60mph then their average speed traveled was 30mph.\n",
    "Write a function that returns the average speed traveled given an uphill time,\n",
    "uphill rate and a downhill rate. Uphill time is given in minutes. Return the rate\n",
    "as an integer (mph). No rounding is necessary.\n",
    "Examples\n",
    "ave_spd(18, 20, 60) ➞ 30\n",
    "ave_spd(30, 10, 30) ➞ 15\n",
    "ave_spd(30, 8, 24) ➞ 12\n",
    "'''\n",
    "\n",
    "def avg_speed(uphill_time, uphill_speed, downhill_speed):\n",
    "    distance = uphill_time * uphill_speed\n",
    "    downhill_time = distance / downhill_speed\n",
    "    average_speed = (2 * distance) / (uphill_time + downhill_time)\n",
    "    return average_speed\n",
    "    \n",
    "uphill_time = float(input(\"Enter the uphill time in minutes: \"))\n",
    "uphill_speed = float(input(\"Enter the uphill speed in miles per hour: \"))\n",
    "downhill_speed = float(input(\"Enter the downhill speed in miles per hour: \"))\n",
    "\n",
    "avg_speed(uphill_time,uphill_speed,downhill_speed)"
   ]
  },
  {
   "cell_type": "code",
   "execution_count": 51,
   "metadata": {},
   "outputs": [
    {
     "name": "stdout",
     "output_type": "stream",
     "text": [
      "Enter the value of number: 45679\n"
     ]
    },
    {
     "data": {
      "text/plain": [
       "2687"
      ]
     },
     "execution_count": 51,
     "metadata": {},
     "output_type": "execute_result"
    }
   ],
   "source": [
    "'''\n",
    "4. The Kempner Function, applied to a composite number, permits to find the\n",
    "smallest integer greater than zero whose factorial is exactly divided by the\n",
    "number.\n",
    "kempner(6) ➞ 3\n",
    "1! = 1 % 6 > 0\n",
    "2! = 2 % 6 > 0\n",
    "3! = 6 % 6 === 0\n",
    "kempner(10) ➞ 5\n",
    "1! = 1 % 10 > 0\n",
    "2! = 2 % 10 > 0\n",
    "3! = 6 % 10 > 0\n",
    "4! = 24 % 10 > 0\n",
    "5! = 120 % 10 === 0\n",
    "A Kempner Function applied to a prime will always return the prime itself.\n",
    "kempner(2) ➞ 2\n",
    "kempner(5) ➞ 5\n",
    "\n",
    "Given an integer n, implement a Kempner Function.\n",
    "Examples\n",
    "kempner(6) ➞ 3\n",
    "kempner(10) ➞ 5\n",
    "kempner(2) ➞ 2\n",
    "'''\n",
    "\n",
    "def kempner(number):\n",
    "    if is_Prime(number):\n",
    "        return number\n",
    "    else:\n",
    "        i = 1\n",
    "        while(True):\n",
    "            if factorial(i) % number == 0:\n",
    "                return i\n",
    "            else:\n",
    "                i += 1\n",
    "\n",
    "def is_Prime(number):\n",
    "    flag = True\n",
    "    for i in range(2,number):\n",
    "        if number == 2:\n",
    "            return True\n",
    "        if number % i == 0:\n",
    "            flag = False\n",
    "    return flag\n",
    "\n",
    "def factorial(number):\n",
    "    fact = 1\n",
    "    for i in range(1,number+1):\n",
    "        fact *= i\n",
    "    return fact\n",
    "\n",
    "number = int(input(\"Enter the value of number: \"))\n",
    "kempner(number)"
   ]
  },
  {
   "cell_type": "code",
   "execution_count": 19,
   "metadata": {},
   "outputs": [
    {
     "name": "stdout",
     "output_type": "stream",
     "text": [
      "Enter the length of the weight list: 15\n",
      "Enter the weight: 2\n",
      "Enter the weight: 1\n",
      "Enter the weight: 2\n",
      "Enter the weight: 5\n",
      "Enter the weight: 4\n",
      "Enter the weight: 3\n",
      "Enter the weight: 6\n",
      "Enter the weight: 1\n",
      "Enter the weight: 1\n",
      "Enter the weight: 9\n",
      "Enter the weight: 3\n",
      "Enter the weight: 2\n",
      "Enter the weight: 7\n",
      "Enter the weight: 4\n",
      "Enter the weight: 6\n"
     ]
    },
    {
     "data": {
      "text/plain": [
       "7"
      ]
     },
     "execution_count": 19,
     "metadata": {},
     "output_type": "execute_result"
    }
   ],
   "source": [
    "'''\n",
    "5. You work in a factory, and your job is to take items from a conveyor belt\n",
    "and pack them into boxes. Each box can hold a maximum of 10 kgs. Given a\n",
    "list containing the weight (in kg) of each item, how many boxes would you\n",
    "need to pack all of the items?\n",
    "Example\n",
    "boxes([2, 1, 2, 5, 4, 3, 6, 1, 1, 9, 3, 2]) ➞ 5\n",
    "# Box 1 = [2, 1, 2, 5] (10kg)\n",
    "# Box 2 = [4, 3] (7kg)\n",
    "# Box 3 = [6, 1, 1] (8kg)\n",
    "# Box 4 = [9] (9kg)\n",
    "# Box 5 = [3, 2] (5kg)\n",
    "'''\n",
    "\n",
    "def boxes(weight_list):\n",
    "    count_boxes = 0\n",
    "    length = len(weight_list)\n",
    "    i = 0\n",
    "    while(i < len(weight_list)):\n",
    "        weight_sum = 0\n",
    "        j = i+1\n",
    "        \n",
    "        #checking 4 conditions:\n",
    "        # calculated weight_sum < 10 \n",
    "        # counter i < length of the weight_list\n",
    "        # sum of current weight_sum and the next element is less than or equal to 10\n",
    "        # counter j < length of the weight)list\n",
    "        \n",
    "        while(weight_sum < 10 and i < length and weight_sum + weight_list[j] <= 10 and j < length):\n",
    "            weight_sum += weight_list[i]\n",
    "            i,j = i+1,i+1\n",
    "        count_boxes += 1\n",
    "    return count_boxes       \n",
    "    \n",
    "length = int(input(\"Enter the length of the weight list: \"))\n",
    "weight_list = []\n",
    "for i in range(length):\n",
    "    weight_list.append(int(input(\"Enter the weight: \")))\n",
    "boxes(weight_list)"
   ]
  }
 ],
 "metadata": {
  "kernelspec": {
   "display_name": "Python 3",
   "language": "python",
   "name": "python3"
  },
  "language_info": {
   "codemirror_mode": {
    "name": "ipython",
    "version": 3
   },
   "file_extension": ".py",
   "mimetype": "text/x-python",
   "name": "python",
   "nbconvert_exporter": "python",
   "pygments_lexer": "ipython3",
   "version": "3.8.5"
  }
 },
 "nbformat": 4,
 "nbformat_minor": 4
}
