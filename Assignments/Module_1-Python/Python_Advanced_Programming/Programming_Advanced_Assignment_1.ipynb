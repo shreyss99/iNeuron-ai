{
 "cells": [
  {
   "cell_type": "code",
   "execution_count": 84,
   "metadata": {},
   "outputs": [
    {
     "name": "stdout",
     "output_type": "stream",
     "text": [
      "([['#', '!'], ['!!', 'X']],)\n",
      "The score for list is: 2\n",
      "([['!!!', 'O', '!'], ['X', '#', '!!!'], ['!!', 'X', 'O']],)\n",
      "The score for list is: 0\n",
      "([['!!!', '#', '!', 'O'], ['X', '#'], ['!!', 'X', 'O', '!', '!!!']],)\n",
      "The score for list is: 3\n"
     ]
    }
   ],
   "source": [
    "'''\n",
    "Q1. Write a function that takes a list of lists and returns the value of all of the\n",
    "symbols in it, where each symbol adds or takes something from the total\n",
    "score. Symbol values:\n",
    "# = 5\n",
    "O = 3\n",
    "X = 1           \n",
    "! = -1\n",
    "!! = -3\n",
    "!!! = -5\n",
    "A list of lists containing 2 #s, a O, and a !!! would equal (0 + 5 + 5 + 3 - 5) 8.\n",
    "If the final score is negative, return 0 (e.g. 3 #s, 3 !!s, 2 !!!s and a X would be\n",
    "(0 + 5 + 5 + 5 - 3 - 3 - 3 - 5 - 5 + 1) -3, so return 0.\n",
    "'''\n",
    "\n",
    "def calculate(*args):\n",
    "    symbol_mapping = {\"#\":5, \"O\":3, \"X\":1, \"!\":-1, \"!!\":-3, \"!!!\":-5}\n",
    "    sum = 0\n",
    "    print(args)\n",
    "    for i in args:\n",
    "        for j in i:\n",
    "            for k in j:\n",
    "                sum = sum + symbol_mapping[k]\n",
    "    \n",
    "    if sum < 0:\n",
    "        return 0\n",
    "    else:\n",
    "        return sum\n",
    "\n",
    "print(\"The score for list is: {}\".format(calculate([[\"#\",\"!\"],[\"!!\",\"X\"]])))\n",
    "print(\"The score for list is: {}\".format(calculate([[\"!!!\",\"O\",\"!\"],[\"X\",\"#\",\"!!!\"],[\"!!\",\"X\",\"O\"]])))\n",
    "print(\"The score for list is: {}\".format(calculate([[\"!!!\",\"#\",\"!\",\"O\"],[\"X\",\"#\"],[\"!!\",\"X\",\"O\",\"!\",\"!!!\"]])))"
   ]
  },
  {
   "cell_type": "code",
   "execution_count": 80,
   "metadata": {},
   "outputs": [
    {
     "name": "stdout",
     "output_type": "stream",
     "text": [
      "Enter the number of arguments: 4\n",
      "Enter the number of items in group 1: 2\n",
      "Enter the number of items in group 2: 5\n",
      "Enter the number of items in group 3: 7\n",
      "Enter the number of items in group 4: 8\n",
      "The number of combinations is: 560\n"
     ]
    }
   ],
   "source": [
    "'''\n",
    "Q2. Create a function that takes a variable number of arguments, each\n",
    "argument representing the number of items in a group, and returns the\n",
    "number of permutations (combinations) of items that you could get by taking\n",
    "one item from each group.\n",
    "Examples\n",
    "combinations(2, 3) ➞ 6\n",
    "combinations(3, 7, 4) ➞ 84\n",
    "combinations(2, 3, 4, 5) ➞ 120\n",
    "'''\n",
    "\n",
    "def combinations(*args):\n",
    "    prod = 1\n",
    "    for i in args[0]:\n",
    "        prod = prod * i\n",
    "    return prod\n",
    "    \n",
    "number = int(input(\"Enter the number of arguments: \"))\n",
    "list = []\n",
    "for i in range(number):\n",
    "    x = int(input(\"Enter the number of items in group \"+str(i+1)+\": \"))\n",
    "    list.append(x)\n",
    "\n",
    "print(\"The number of combinations is: {}\".format(combinations(list)))"
   ]
  },
  {
   "cell_type": "code",
   "execution_count": 81,
   "metadata": {},
   "outputs": [
    {
     "name": "stdout",
     "output_type": "stream",
     "text": [
      "Enter a string: hello world\n",
      "The entered string must contain capital letters as there is no key for small case letters\n",
      "Enter a string: FULL STACK DATA SCIENCE\n",
      "..-...-.-...-.. ...-.--.-.-.- -...--.- ...-.-....-.-.-..\n"
     ]
    }
   ],
   "source": [
    "'''\n",
    "Q3. Create a function that takes a string as an argument and returns the Morse\n",
    "code equivalent.\n",
    "Examples\n",
    "encode_morse(\"EDABBIT CHALLENGE\") ➞ \". -.. .- -... -... .. - -.-. .... .- .-.. .-..\n",
    ". -. --. .\"\n",
    "encode_morse(\"HELP ME !\") ➞ \".... . .-.. .--. -- . -.-.--\"\n",
    "This dictionary can be used for coding:\n",
    "char_to_dots = {\n",
    "'A': '.-', 'B': '-...', 'C': '-.-.', 'D': '-..', 'E': '.', 'F': '..-.',\n",
    "'G': '--.', 'H': '....', 'I': '..', 'J': '.---', 'K': '-.-', 'L': '.-..',\n",
    "'M': '--', 'N': '-.', 'O': '---', 'P': '.--.', 'Q': '--.-', 'R': '.-.',\n",
    "'S': '...', 'T': '-', 'U': '..-', 'V': '...-', 'W': '.--', 'X': '-..-',\n",
    "'Y': '-.--', 'Z': '--..', ' ': ' ', '0': '-----',\n",
    "'1': '.----', '2': '..---', '3': '...--', '4': '....-', '5': '.....',\n",
    "'6': '-....', '7': '--...', '8': '---..', '9': '----.',\n",
    "'&': '.-...', \"'\": '.----.', '@': '.--.-.', ')': '-.--.-', '(': '-.--.',\n",
    "':': '---...', ',': '--..--', '=': '-...-', '!': '-.-.--', '.': '.-.-.-',\n",
    "'-': '-....-', '+': '.-.-.', '\"': '.-..-.', '?': '..--..', '/': '-..-.'\n",
    "}\n",
    "'''\n",
    "\n",
    "def encode_morse(string):\n",
    "    char_to_dots = {\n",
    "        'A': '.-', 'B': '-...', 'C': '-.-.', 'D': '-..', 'E': '.', 'F': '..-.',\n",
    "        'G': '--.', 'H': '....', 'I': '..', 'J': '.---', 'K': '-.-', 'L': '.-..',\n",
    "        'M': '--', 'N': '-.', 'O': '---', 'P': '.--.', 'Q': '--.-', 'R': '.-.',\n",
    "        'S': '...', 'T': '-', 'U': '..-', 'V': '...-', 'W': '.--', 'X': '-..-',\n",
    "        'Y': '-.--', 'Z': '--..', ' ': ' ', '0': '-----',\n",
    "        '1': '.----', '2': '..---', '3': '...--', '4': '....-', '5': '.....',\n",
    "        '6': '-....', '7': '--...', '8': '---..', '9': '----.',\n",
    "        '&': '.-...', \"'\": '.----.', '@': '.--.-.', ')': '-.--.-', '(': '-.--.',\n",
    "        ':': '---...', ',': '--..--', '=': '-...-', '!': '-.-.--', '.': '.-.-.-',\n",
    "        '-': '-....-', '+': '.-.-.', '\"': '.-..-.', '?': '..--..', '/': '-..-.'\n",
    "        }\n",
    "    \n",
    "    converted_string = \"\"\n",
    "    for i in string:\n",
    "        converted_string = converted_string + char_to_dots[i]\n",
    "    return converted_string\n",
    "    \n",
    "issmall = True\n",
    "while issmall:\n",
    "    issmall = False\n",
    "    string = input(\"Enter a string: \")\n",
    "    if string.islower():\n",
    "        issmall = True\n",
    "        print(\"The entered string must contain capital letters as there is no key for small case letters\")\n",
    "    else:\n",
    "        print(encode_morse(string))"
   ]
  },
  {
   "cell_type": "code",
   "execution_count": 57,
   "metadata": {},
   "outputs": [
    {
     "name": "stdout",
     "output_type": "stream",
     "text": [
      "Enter a number which is to be determined of prime or not: 18446744073709551615\n",
      "False\n"
     ]
    }
   ],
   "source": [
    "'''\n",
    "Q4. Write a function that takes a number and returns True if it&#39;s a prime; False\n",
    "otherwise. The number can be 2^64-1 (2 to the power of 63, not XOR). With\n",
    "the standard technique it would be O(2^64-1), which is much too large for the\n",
    "10 second time limit.\n",
    "Examples\n",
    "prime(7) ➞ True\n",
    "prime(56963) ➞ True\n",
    "prime(5151512515524) ➞ False\n",
    "'''\n",
    "\n",
    "import math\n",
    "\n",
    "def isPrime(number):\n",
    "    prime = True\n",
    "    if number == 1:\n",
    "            prime = False\n",
    "            return prime\n",
    "    for i in range(2,math.floor(math.sqrt(number))+1):\n",
    "        if number == 2:\n",
    "            prime = True\n",
    "        if number % i == 0:\n",
    "            prime = False\n",
    "            break   \n",
    "    return prime\n",
    "   \n",
    "number = int(input(\"Enter a number which is to be determined of prime or not: \"))\n",
    "print(isPrime(number))"
   ]
  },
  {
   "cell_type": "code",
   "execution_count": 58,
   "metadata": {},
   "outputs": [
    {
     "name": "stdout",
     "output_type": "stream",
     "text": [
      "Enter a string:BaNoFfEe\n",
      "Bit String: 01010011\n",
      "The boolean list for string BaNoFfEe is [False, True, False, True, False, False, True, True]\n"
     ]
    }
   ],
   "source": [
    "'''\n",
    "Q5. Create a function that converts a word to a bitstring and then to a boolean\n",
    "list based on the following criteria:\n",
    "1. Locate the position of the letter in the English alphabet (from 1 to 26).\n",
    "2. Odd positions will be represented as 1 and 0 otherwise.\n",
    "3. Convert the represented positions to boolean values, 1 for True and 0\n",
    "for False.\n",
    "4. Store the conversions into an array.\n",
    "Examples\n",
    "to_boolean_list(\"deep\") ➞ [False, True, True, False]\n",
    "# deep converts to 0110\n",
    "# d is the 4th alphabet - 0\n",
    "# e is the 5th alphabet - 1\n",
    "# e is the 5th alphabet - 1\n",
    "# p is the 16th alphabet - 0\n",
    "to_boolean_list(\"loves\") ➞ [False, True, False, True, True]\n",
    "to_boolean_list(\"tesh\") ➞ [False, True, True, False]\n",
    "'''\n",
    "\n",
    "def to_boolean_list(string):\n",
    "    # storing position for letters\n",
    "    position = 1\n",
    "    position_mapping = {}\n",
    "    for i in range(97,123):    # ascii value for small case letters\n",
    "        position_mapping[chr(i)] = position\n",
    "        position += 1\n",
    "    position = 1\n",
    "    for i in range(65,91):    # ascii value for capital case letters\n",
    "        position_mapping[chr(i)] = position\n",
    "        position += 1\n",
    "    \n",
    "    # converting string to bit_string based on position rules\n",
    "    bit_string = \"\"\n",
    "    boolean_list = []\n",
    "    for i in string:\n",
    "        if position_mapping[i] % 2 != 0:\n",
    "            bit_string += str(1)\n",
    "        else:\n",
    "            bit_string += str(0)\n",
    "    print(\"Bit String:\", bit_string)\n",
    "            \n",
    "    # converting to boolean list from bit_string\n",
    "    for i in bit_string:\n",
    "        if i == str(1):\n",
    "            boolean_list.append(True)\n",
    "        else:\n",
    "            boolean_list.append(False)        \n",
    "    return boolean_list\n",
    "        \n",
    "string = input(\"Enter a string:\")\n",
    "print(\"The boolean list for string {} is {}\".format(string,to_boolean_list(string)))"
   ]
  }
 ],
 "metadata": {
  "kernelspec": {
   "display_name": "Python 3",
   "language": "python",
   "name": "python3"
  },
  "language_info": {
   "codemirror_mode": {
    "name": "ipython",
    "version": 3
   },
   "file_extension": ".py",
   "mimetype": "text/x-python",
   "name": "python",
   "nbconvert_exporter": "python",
   "pygments_lexer": "ipython3",
   "version": "3.8.5"
  }
 },
 "nbformat": 4,
 "nbformat_minor": 4
}
