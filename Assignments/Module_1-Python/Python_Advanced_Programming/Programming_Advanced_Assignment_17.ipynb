{
 "cells": [
  {
   "cell_type": "code",
   "execution_count": 1,
   "metadata": {},
   "outputs": [],
   "source": [
    "import numpy as np"
   ]
  },
  {
   "cell_type": "code",
   "execution_count": 2,
   "metadata": {},
   "outputs": [
    {
     "name": "stdout",
     "output_type": "stream",
     "text": [
      "Enter the number of rows of matrix: 3\n",
      "Enter the number of columns of matrix: 5\n",
      "Enter the entries in a single line (separated by space): \n",
      "Enter the values of matrix: 1 2 3 4 5 6 7 8 9 10 11 12 13 14 15\n"
     ]
    },
    {
     "data": {
      "text/plain": [
       "array([[ 1,  2,  3],\n",
       "       [ 4,  5,  6],\n",
       "       [ 7,  8,  9],\n",
       "       [10, 11, 12],\n",
       "       [13, 14, 15]])"
      ]
     },
     "execution_count": 2,
     "metadata": {},
     "output_type": "execute_result"
    }
   ],
   "source": [
    "'''\n",
    "Q1. Create a function that transposes a 2D matrix.\n",
    "Examples\n",
    "transpose_matrix([\n",
    "[1, 1, 1],\n",
    "[2, 2, 2],\n",
    "[3, 3, 3]\n",
    "]) ➞ [\n",
    "[1, 2, 3],\n",
    "[1, 2, 3],\n",
    "[1, 2, 3]\n",
    "]\n",
    "transpose_matrix([\n",
    "[5, 5],\n",
    "[6, 7],\n",
    "[9, 1]\n",
    "]) ➞ [\n",
    "[5, 6, 9],\n",
    "[5, 7, 1]\n",
    "]\n",
    "'''\n",
    "\n",
    "def transpose_matrix(matrix):\n",
    "    n_rows, n_cols = matrix.shape\n",
    "    return matrix.reshape(n_cols, n_rows)\n",
    "    \n",
    "rows = int(input(\"Enter the number of rows of matrix: \"))\n",
    "columns = int(input(\"Enter the number of columns of matrix: \"))\n",
    "\n",
    "print(\"Enter the entries in a single line (separated by space): \")\n",
    "entries = list(map(int, input(\"Enter the values of matrix: \").split(\" \")))\n",
    "\n",
    "matrix = np.array(entries).reshape(rows, columns)\n",
    "transpose_matrix(matrix)"
   ]
  },
  {
   "cell_type": "code",
   "execution_count": 14,
   "metadata": {},
   "outputs": [
    {
     "name": "stdout",
     "output_type": "stream",
     "text": [
      "Enter the hex code to be validated: #cd4ef2\n"
     ]
    },
    {
     "data": {
      "text/plain": [
       "True"
      ]
     },
     "execution_count": 14,
     "metadata": {},
     "output_type": "execute_result"
    }
   ],
   "source": [
    "'''\n",
    "Q2. Create a function that determines whether a string is a valid hex code.\n",
    "A hex code must begin with a pound key # and is exactly 6 characters in\n",
    "length. Each character must be a digit from 0-9 or an alphabetic character\n",
    "from A-F. All alphabetic characters may be uppercase or lowercase.\n",
    "Examples\n",
    "is_valid_hex_code(\"#CD5C5C\") ➞ True\n",
    "is_valid_hex_code(\"#EAECEE\") ➞ True\n",
    "is_valid_hex_code(\"#eaecee\") ➞ True\n",
    "is_valid_hex_code(\"#CD5C58C\") ➞ False\n",
    "# Length exceeds 6\n",
    "is_valid_hex_code(\"#CD5C5Z\") ➞ False\n",
    "# Not all alphabetic characters in A-F\n",
    "is_valid_hex_code(\"#CD5C&C\") ➞ False\n",
    "# Contains unacceptable character\n",
    "is_valid_hex_code(\"CD5C5C\") ➞ False\n",
    "# Missing #\n",
    "'''\n",
    "\n",
    "import re\n",
    "\n",
    "def is_valid_hex_code(hex_code_input):\n",
    "    regex = \"^#([A-Fa-f0-9]{6})$\"\n",
    "    p = re.compile(regex)\n",
    "\n",
    "    if(re.search(p, hex_code_input)):\n",
    "        return True\n",
    "    else:\n",
    "        return False\n",
    "\n",
    "hex_code_input = input(\"Enter the hex code to be validated: \")\n",
    "is_valid_hex_code(hex_code_input)"
   ]
  },
  {
   "cell_type": "code",
   "execution_count": 5,
   "metadata": {},
   "outputs": [
    {
     "name": "stdout",
     "output_type": "stream",
     "text": [
      "Enter the number of math equations: 4\n",
      "Enter the equation: 2+3=5\n",
      "Enter the equation: 4-6=3\n",
      "Enter the equation: 6*2=12\n",
      "Enter the equation: 12/4=3\n",
      "75%\n"
     ]
    }
   ],
   "source": [
    "'''\n",
    "Q3. Given a list of math equations (given as strings), return the percentage of\n",
    "correct answers as a string. Round to the nearest whole number.\n",
    "Examples\n",
    "mark_maths([\"2+2=4\", \"3+2=5\", \"10-3=3\", \"5+5=10\"]) ➞ \"75%\"\n",
    "mark_maths([\"1-2=-2\"]), \"0%\"\n",
    "mark_maths([\"2+3=5\", \"4+4=9\", \"3-1=2\"]) ➞ \"67%\"\n",
    "'''\n",
    "\n",
    "def mark_math(equation_list):\n",
    "    is_correct_equation = []\n",
    "    for i in equation_list:\n",
    "        if evaluate_equation(i):\n",
    "            is_correct_equation.append(1)\n",
    "        else:\n",
    "            is_correct_equation.append(0)\n",
    "        \n",
    "    sum = 0\n",
    "    for i in is_correct_equation:\n",
    "        if i == 1:\n",
    "            sum += i\n",
    "    percentage = sum / len(is_correct_equation) * 100\n",
    "    return int(percentage)\n",
    "    \n",
    "def evaluate_equation(equation):\n",
    "    x = equation.partition(\"=\")\n",
    "    result = eval(x[0])\n",
    "    if result == int(x[2]):\n",
    "        return True\n",
    "    else:\n",
    "        return False\n",
    "    \n",
    "length = int(input(\"Enter the number of math equations: \"))\n",
    "equation_list = []\n",
    "for i in range(length):\n",
    "    equation_list.append(input(\"Enter the equation: \"))\n",
    "\n",
    "percent = mark_math(equation_list)\n",
    "print(str(percent)+'%')"
   ]
  },
  {
   "cell_type": "code",
   "execution_count": 30,
   "metadata": {},
   "outputs": [
    {
     "name": "stdout",
     "output_type": "stream",
     "text": [
      "Enter the row number for Alice: 1\n",
      "Enter the row grid values for Alice: 010\n",
      "Enter the column number for Bob: 3\n",
      "Enter the column grid values for Bob: 101\n"
     ]
    },
    {
     "data": {
      "text/plain": [
       "False"
      ]
     },
     "execution_count": 30,
     "metadata": {},
     "output_type": "execute_result"
    }
   ],
   "source": [
    "'''\n",
    "Q4. There are two players, Alice and Bob, each with a 3-by-3 grid. A referee\n",
    "tells Alice to fill out one particular row in the grid (say the second row) by\n",
    "putting either a 1 or a 0 in each box, such that the sum of the numbers in that\n",
    "row is odd. The referee tells Bob to fill out one column in the grid (say the first\n",
    "column) by putting either a 1 or a 0 in each box, such that the sum of the\n",
    "numbers in that column is even.\n",
    "Alice and Bob win the game if Alice’s numbers give an odd sum, Bob’s give\n",
    "an even sum, and (most important) they’ve each written down the same\n",
    "number in the one square where their row and column intersect.\n",
    "Examples\n",
    "magic_square_game([2, \"100\"], [1, \"101\"]) ➞ False\n",
    "magic_square_game([2, \"001\"], [1, \"101\"]) ➞ True\n",
    "magic_square_game([3, \"111\"], [2, \"011\"]) ➞ True\n",
    "magic_square_game([1, \"010\"], [3, \"101\"]) ➞ False\n",
    "# Two lists, Alice [row, \"her choice\"], Bob [column, \"his choice\"]\n",
    "'''\n",
    "\n",
    "def magic_square_game(list_Alice, list_Bob):\n",
    "    sum_Alice = 0\n",
    "    sum_Bob = 0\n",
    "    for i in range(len(list_Alice[1])):\n",
    "        sum_Alice += int(list_Alice[1][i])\n",
    "        sum_Bob += int(list_Bob[1][i])\n",
    "    \n",
    "    common_element_Alice = list_Alice[1][list_Bob[0]-1]\n",
    "    common_element_Bob = list_Bob[1][list_Alice[0]-1]\n",
    "    \n",
    "    if (sum_Alice % 2 != 0) and (sum_Bob % 2 == 0) and (common_element_Alice == common_element_Bob):\n",
    "        return True\n",
    "    else:\n",
    "        return False\n",
    "    \n",
    "row_Alice = int(input(\"Enter the row number for Alice: \"))\n",
    "grid_Alice = input(\"Enter the row grid values for Alice: \")\n",
    "col_Bob = int(input(\"Enter the column number for Bob: \"))\n",
    "grid_Bob = input(\"Enter the column grid values for Bob: \")\n",
    "magic_square_game([row_Alice,grid_Alice],[col_Bob,grid_Bob])"
   ]
  },
  {
   "cell_type": "code",
   "execution_count": 22,
   "metadata": {},
   "outputs": [
    {
     "name": "stdout",
     "output_type": "stream",
     "text": [
      "Enter the distance between A and B: 210\n",
      "Enter the speed of object A: 47\n",
      "Enter the speed of object B: 92\n"
     ]
    },
    {
     "data": {
      "text/plain": [
       "'1h 30min 38s'"
      ]
     },
     "execution_count": 22,
     "metadata": {},
     "output_type": "execute_result"
    }
   ],
   "source": [
    "'''\n",
    "Q5. From point A, an object is moving towards point B at constant velocity va\n",
    "(in km/hr). From point B, another object is moving towards point A at constant\n",
    "velocity vb (in km/hr). Knowing this and the distance between point A and B\n",
    "(in km), write a function that returns how much time passes until both objects\n",
    "meet.\n",
    "Format the output like this:\n",
    "\n",
    "\"2h 23min 34s\"\n",
    "Examples\n",
    "lets_meet(100, 10, 30) ➞ \"2h 30min 0s\"\n",
    "lets_meet(280, 70, 80) ➞ \"1h 52min 0s\"\n",
    "lets_meet(90, 75, 65) ➞ \"0h 38min 34s\"\n",
    "'''\n",
    "\n",
    "def lets_meet(distance,speed_A,speed_B):\n",
    "    relative_speed = speed_A + speed_B\n",
    "    time_hours = int(distance / relative_speed)\n",
    "    time_min = distance / relative_speed - time_hours\n",
    "    time_min *= 60\n",
    "    time_sec = (time_min - int(time_min)) * 60\n",
    "    return str(time_hours)+\"h\" + \" \" + str(int(time_min))+\"min\" +\" \"+ str(int(time_sec))+\"s\"\n",
    "\n",
    "distance = int(input(\"Enter the distance between A and B: \"))\n",
    "speed_A = int(input(\"Enter the speed of object A: \"))\n",
    "speed_B = int(input(\"Enter the speed of object B: \"))\n",
    "lets_meet(distance,speed_A,speed_B)"
   ]
  }
 ],
 "metadata": {
  "kernelspec": {
   "display_name": "Python 3",
   "language": "python",
   "name": "python3"
  },
  "language_info": {
   "codemirror_mode": {
    "name": "ipython",
    "version": 3
   },
   "file_extension": ".py",
   "mimetype": "text/x-python",
   "name": "python",
   "nbconvert_exporter": "python",
   "pygments_lexer": "ipython3",
   "version": "3.8.5"
  }
 },
 "nbformat": 4,
 "nbformat_minor": 4
}
