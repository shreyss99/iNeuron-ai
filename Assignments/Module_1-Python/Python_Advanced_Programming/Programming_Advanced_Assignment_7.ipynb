{
 "cells": [
  {
   "cell_type": "code",
   "execution_count": 12,
   "metadata": {},
   "outputs": [
    {
     "data": {
      "text/plain": [
       "5"
      ]
     },
     "execution_count": 12,
     "metadata": {},
     "output_type": "execute_result"
    }
   ],
   "source": [
    "'''\n",
    "Q1. Write a function that counts how many concentric layers a rug.\n",
    "Examples\n",
    "count_layers([\n",
    "\"AAAA\",\n",
    "\"ABBA\",\n",
    "\"AAAA\"\n",
    "]) ➞ 2\n",
    "count_layers([\n",
    "\"AAAAAAAAA\",\n",
    "\"ABBBBBBBA\",\n",
    "\"ABBAAABBA\",\n",
    "\"ABBBBBBBA\",\n",
    "\"AAAAAAAAA\"\n",
    "]) ➞ 3\n",
    "count_layers([\n",
    "\"AAAAAAAAAAA\",\n",
    "\"AABBBBBBBAA\",\n",
    "\"AABCCCCCBAA\",\n",
    "\"AABCAAACBAA\",\n",
    "\"AABCADACBAA\",\n",
    "\"AABCAAACBAA\",\n",
    "\"AABCCCCCBAA\",\n",
    "\"AABBBBBBBAA\",\n",
    "\"AAAAAAAAAAA\"\n",
    "]) ➞ 5\n",
    "'''\n",
    "\n",
    "def count_layers(rug_pattern):\n",
    "    count = 0\n",
    "    cols = len(rug_pattern[0])\n",
    "    rows = len(rug_pattern)\n",
    "    limit = (cols // 2) + 1\n",
    "    count = 0\n",
    "    \n",
    "    for i in range(0, limit):\n",
    "        if rug_pattern[i][i] != rug_pattern[i+1][i+1]:\n",
    "            count += 1\n",
    "    \n",
    "    return count\n",
    "    \n",
    "rug_pattern = [\n",
    "\"AAAAAAAAA\",\n",
    "\"ABBBBBBBA\",\n",
    "\"ABCCCCCBA\",\n",
    "\"ABCAAACBA\",\n",
    "\"ABCADACBA\",\n",
    "\"ABCAAACBA\",\n",
    "\"ABCCCCCBA\",\n",
    "\"ABBBBBBBA\",\n",
    "\"AAAAAAAAA\"\n",
    "]\n",
    "\n",
    "count_layers(rug_pattern)"
   ]
  },
  {
   "cell_type": "code",
   "execution_count": 19,
   "metadata": {},
   "outputs": [
    {
     "name": "stdout",
     "output_type": "stream",
     "text": [
      "Enter the musical style or 0 to terminate: \n",
      "soul\n",
      "house\n",
      "folk\n",
      "tempo\n",
      "trance\n",
      "house\n",
      "big beat\n",
      "folk\n",
      "soul\n",
      "tempo\n",
      "0\n",
      "The number of unique music styles is: 6\n"
     ]
    }
   ],
   "source": [
    "'''\n",
    "Q2. There are many different styles of music and many albums exhibit multiple\n",
    "styles. Create a function that takes a list of musical styles from albums and\n",
    "returns how many styles are unique.\n",
    "Examples\n",
    "unique_styles([\n",
    "\"Dub,Dancehall\",\n",
    "\"Industrial,Heavy Metal\",\n",
    "\"Techno,Dubstep\",\n",
    "\"Synth-pop,Euro-Disco\",\n",
    "\"Industrial,Techno,Minimal\"\n",
    "]) ➞ 9\n",
    "unique_styles([\n",
    "\n",
    "\"Soul\",\n",
    "\"House,Folk\",\n",
    "\"Trance,Downtempo,Big Beat,House\",\n",
    "\"Deep House\",\n",
    "\"Soul\"\n",
    "]) ➞ 7\n",
    "'''\n",
    "\n",
    "def unique_styles(music_styles):\n",
    "    unique_music_styles = set(music_styles)\n",
    "    return len(unique_music_styles)\n",
    "\n",
    "music_styles = []\n",
    "print(\"Enter the musical style or 0 to terminate: \")\n",
    "while(True):\n",
    "    x = input()\n",
    "    if x == '0':\n",
    "        break\n",
    "    else:\n",
    "        music_styles.append(x)\n",
    "\n",
    "print(\"The number of unique music styles is: {}\".format(unique_styles(music_styles)))"
   ]
  },
  {
   "cell_type": "code",
   "execution_count": 11,
   "metadata": {},
   "outputs": [
    {
     "name": "stdout",
     "output_type": "stream",
     "text": [
      "Enter a number between 2 and 97: 67\n"
     ]
    },
    {
     "data": {
      "text/plain": [
       "'yes'"
      ]
     },
     "execution_count": 11,
     "metadata": {},
     "output_type": "execute_result"
    }
   ],
   "source": [
    "'''\n",
    "Q3. Create a function that finds a target number in a list of prime numbers.\n",
    "Implement a binary search algorithm in your function. The target number will\n",
    "be from 2 through 97. If the target is prime then return \"yes\" else return \"no\".\n",
    "Examples\n",
    "primes = [2, 3, 5, 7, 11, 13, 17, 19, 23, 29, 31, 37, 41, 43, 47, 53, 59, 61, 67,\n",
    "71, 73, 79, 83, 89, 97]\n",
    "\n",
    "is_prime(primes, 3) ➞ \"yes\"\n",
    "is_prime(primes, 4) ➞ \"no\"\n",
    "is_prime(primes, 67) ➞ \"yes\"\n",
    "is_prime(primes, 36) ➞ \"no\"\n",
    "'''\n",
    "\n",
    "def is_primes(primes, number):\n",
    "    low = 0\n",
    "    high = len(primes) - 1\n",
    "    while(low != high):\n",
    "        mid = (low + high) // 2\n",
    "        if number <= primes[mid]:\n",
    "            high = mid\n",
    "        else:\n",
    "            low = mid + 1         \n",
    "    \n",
    "    if number == primes[low]:\n",
    "        return \"yes\"\n",
    "    else:\n",
    "        return \"no\"\n",
    "    \n",
    "primes = [2, 3, 5, 7, 11, 13, 17, 19, 23, 29, 31, 37, 41, 43, 47, 53, 59, 61, 67, 71, 73, 79, 83, 89, 97]\n",
    "number = int(input(\"Enter a number between 2 and 97: \"))\n",
    "\n",
    "is_primes(primes, number)"
   ]
  },
  {
   "cell_type": "code",
   "execution_count": 6,
   "metadata": {},
   "outputs": [
    {
     "name": "stdout",
     "output_type": "stream",
     "text": [
      "Enter the number for which powers need to be calculated: 6\n",
      "Enter the lower limit: 10\n",
      "Enter the upper limit: 50000\n",
      "The number of positive values are 5\n"
     ]
    }
   ],
   "source": [
    "'''\n",
    "Q4. Create a function that takes in n, a, b and returns the number of positive\n",
    "values raised to the nth power that lie in the range [a, b], inclusive.\n",
    "Examples\n",
    "power_ranger(2, 49, 65) ➞ 2\n",
    "# 2 squares (n^2) lie between 49 and 65, 49 (7^2) and 64 (8^2)\n",
    "power_ranger(3, 1, 27) ➞ 3\n",
    "# 3 cubes (n^3) lie between 1 and 27, 1 (1^3), 8 (2^3) and 27 (3^3)\n",
    "power_ranger(10, 1, 5) ➞ 1\n",
    "# 1 value raised to the 10th power lies between 1 and 5, 1 (1^10)\n",
    "power_ranger(5, 31, 33) ➞ 1\n",
    "power_ranger(4, 250, 1300) ➞ 3\n",
    "'''\n",
    "\n",
    "import math\n",
    "\n",
    "def power_rangers(n,a,b):\n",
    "    count = 0\n",
    "    for i in range(0,50000):\n",
    "        x = int(math.pow(i,n))\n",
    "        if (a <= x and x <= b):\n",
    "            count += 1\n",
    "    return count\n",
    "\n",
    "n = int(input(\"Enter the number for which powers need to be calculated: \"))\n",
    "a = int(input(\"Enter the lower limit: \"))\n",
    "b = int(input(\"Enter the upper limit: \"))\n",
    "print(\"The number of positive values are {}\".format(power_rangers(n,a,b)))"
   ]
  },
  {
   "cell_type": "code",
   "execution_count": 7,
   "metadata": {},
   "outputs": [
    {
     "name": "stdout",
     "output_type": "stream",
     "text": [
      "Enter the number: 3320707\n",
      "The difference between max and min numbers after rearranging is 7709823\n"
     ]
    }
   ],
   "source": [
    "'''\n",
    "5. Given a number, return the difference between the maximum and minimum\n",
    "numbers that can be formed when the digits are rearranged.\n",
    "Examples\n",
    "rearranged_difference(972882) ➞ 760833\n",
    "# 988722 - 227889 = 760833\n",
    "rearranged_difference(3320707) ➞ 7709823\n",
    "# 7733200 - 23377 = 7709823\n",
    "rearranged_difference(90010) ➞ 90981\n",
    "# 91000 - 19 = 90981\n",
    "'''\n",
    "\n",
    "def rearranged_difference(number):\n",
    "    min_list = []\n",
    "    max_list = []\n",
    "    while(number>0):\n",
    "        temp = number % 10\n",
    "        min_list.append(temp)\n",
    "        max_list.append(temp)\n",
    "        number //= 10\n",
    "    \n",
    "    for i in min_list:\n",
    "        min_list.sort()\n",
    "    for i in max_list:\n",
    "        max_list.sort(reverse = True)\n",
    "    \n",
    "    min = ''\n",
    "    max = ''\n",
    "    for i in min_list:\n",
    "        min += str(i)\n",
    "    for i in max_list:\n",
    "        max += str(i)\n",
    "    \n",
    "    difference = int(max) - int(min)\n",
    "    return difference\n",
    "    \n",
    "number = int(input(\"Enter the number: \"))\n",
    "print(\"The difference between max and min numbers after rearranging is {}\".format(rearranged_difference(number)))"
   ]
  }
 ],
 "metadata": {
  "kernelspec": {
   "display_name": "Python 3",
   "language": "python",
   "name": "python3"
  },
  "language_info": {
   "codemirror_mode": {
    "name": "ipython",
    "version": 3
   },
   "file_extension": ".py",
   "mimetype": "text/x-python",
   "name": "python",
   "nbconvert_exporter": "python",
   "pygments_lexer": "ipython3",
   "version": "3.8.5"
  }
 },
 "nbformat": 4,
 "nbformat_minor": 4
}
