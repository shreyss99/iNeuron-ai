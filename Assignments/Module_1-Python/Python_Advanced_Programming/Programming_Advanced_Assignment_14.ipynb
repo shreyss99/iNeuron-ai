{
 "cells": [
  {
   "cell_type": "code",
   "execution_count": 3,
   "metadata": {},
   "outputs": [
    {
     "name": "stdout",
     "output_type": "stream",
     "text": [
      "Enter the number of elements: 3\n",
      "Enter the number: 16\n",
      "Enter the number: 8\n",
      "Enter the number: 10\n"
     ]
    },
    {
     "data": {
      "text/plain": [
       "[12.0, 14.5, 7.5]"
      ]
     },
     "execution_count": 3,
     "metadata": {},
     "output_type": "execute_result"
    }
   ],
   "source": [
    "'''\n",
    "Q1. Given a list of numbers, create a function that removes 25% from every\n",
    "number in the list except the smallest number, and adds the total amount\n",
    "removed to the smallest number.\n",
    "Examples\n",
    "show_the_love([4, 1, 4]) ➞ [3, 3, 3]\n",
    "show_the_love([16, 10, 8]) ➞ [12, 7.5, 14.5]\n",
    "show_the_love([2, 100]) ➞ [27, 75]\n",
    "'''\n",
    "\n",
    "def show_love(list):\n",
    "    love = 0\n",
    "    min_index = list.index(min(list))\n",
    "    for i in range(len(list)):\n",
    "        if i != min_index:\n",
    "            portion_25 = 0.25 * list[i]\n",
    "            list[i] -= portion_25\n",
    "            love += portion_25\n",
    "    list[min_index] += love\n",
    "    return list\n",
    "    \n",
    "length = int(input(\"Enter the number of elements: \"))\n",
    "list = []\n",
    "for i in range(length):\n",
    "    list.append(int(input(\"Enter the number: \")))\n",
    "show_love(list)"
   ]
  },
  {
   "cell_type": "code",
   "execution_count": 6,
   "metadata": {},
   "outputs": [
    {
     "name": "stdout",
     "output_type": "stream",
     "text": [
      "Enter the first word: kerfuffle\n",
      "Enter the second word: fluffy\n"
     ]
    },
    {
     "data": {
      "text/plain": [
       "['flu', 'rke', 'y']"
      ]
     },
     "execution_count": 6,
     "metadata": {},
     "output_type": "execute_result"
    }
   ],
   "source": [
    "'''\n",
    "Q2. Create a function that takes in two words as input and returns a list of three\n",
    "elements, in the following order:\n",
    "1.Shared letters between two words.\n",
    "2.Letters unique to word 1.\n",
    "3.Letters unique to word 2.\n",
    "Each element should have unique letters, and have each letter be\n",
    "alphabetically sorted.\n",
    "Examples\n",
    "letters(\"sharp\", \"soap\") ➞ [\"aps\", \"hr\", \"o\"]\n",
    "letters(\"board\", \"bored\") ➞ [\"bdor\", \"a\", \"e\"]\n",
    "letters(\"happiness\", \"envelope\") ➞ [\"enp\", \"ahis\", \"lov\"]\n",
    "letters(\"kerfuffle\", \"fluffy\") ➞ [\"flu\", \"ekr\", \"y\"]\n",
    "# Even with multiple matching letters (e.g. 3 f's), there should\n",
    "# only exist a single \"f\" in your first element.\n",
    "letters(\"match\", \"ham\") ➞ [\"ahm\", \"ct\", \"\"]\n",
    "# \"ham\" does not contain any letters that are not found already\n",
    "# in \"match\".\n",
    "'''\n",
    "\n",
    "def letters(first, second):\n",
    "    result = []\n",
    "    set_first = set()\n",
    "    set_second = set()\n",
    "    for i in first:\n",
    "        set_first.update(i)\n",
    "    for i in second:\n",
    "        set_second.update(i)\n",
    "        \n",
    "    common = set_first.intersection(set_second)\n",
    "    unique_first = set_first.difference(set_second)\n",
    "    unique_second = set_second.difference(set_first)\n",
    "    \n",
    "    str_c = \"\"\n",
    "    str_uf = \"\"\n",
    "    str_us = \"\"\n",
    "    \n",
    "    for i in common:\n",
    "        str_c += i\n",
    "    for i in unique_first:\n",
    "        str_uf += i\n",
    "    for i in unique_second:\n",
    "        str_us += i\n",
    "\n",
    "    result.append(str_c)\n",
    "    result.append(str_uf)\n",
    "    result.append(str_us)\n",
    "    \n",
    "    return result\n",
    "    \n",
    "first = input(\"Enter the first word: \")\n",
    "second = input(\"Enter the second word: \")\n",
    "letters(first,second)"
   ]
  },
  {
   "cell_type": "code",
   "execution_count": 13,
   "metadata": {},
   "outputs": [
    {
     "name": "stdout",
     "output_type": "stream",
     "text": [
      "Enter the length of the list: 9\n",
      "Enter the number: 1\n",
      "Enter the number: 3\n",
      "Enter the number: 5\n",
      "Enter the number: 7\n",
      "Enter the number: 9\n",
      "Enter the number: 2\n",
      "Enter the number: 4\n",
      "Enter the number: 6\n",
      "Enter the number: 8\n"
     ]
    },
    {
     "data": {
      "text/plain": [
       "[[1, 8], [3, 6], [5, 4], [7, 2], [9, 9]]"
      ]
     },
     "execution_count": 13,
     "metadata": {},
     "output_type": "execute_result"
    }
   ],
   "source": [
    "'''\n",
    "Q3. Write a function that pairs the first number in an array with the last, the\n",
    "second number with the second to last, etc.\n",
    "Examples\n",
    "pairs([1, 2, 3, 4, 5, 6, 7]) ➞ [[1, 7], [2, 6], [3, 5], [4, 4]]\n",
    "\n",
    "pairs([1, 2, 3, 4, 5, 6]) ➞ [[1, 6], [2, 5], [3, 4]]\n",
    "pairs([5, 9, 8, 1, 2]) ➞ [[5, 2], [9, 1], [8, 8]]\n",
    "pairs([]) ➞ []\n",
    "'''\n",
    "\n",
    "def pairs(list):\n",
    "    pair_list = []\n",
    "    for i in range(int(len(list) / 2)+1):\n",
    "        pair_list.append([list[i], list[len(list) - 1 - i]])\n",
    "    return pair_list\n",
    "\n",
    "length = int(input(\"Enter the length of the list: \"))\n",
    "list = []\n",
    "for i in range(length):\n",
    "    list.append(int(input(\"Enter the number: \")))\n",
    "    \n",
    "pairs(list)"
   ]
  },
  {
   "cell_type": "code",
   "execution_count": 29,
   "metadata": {},
   "outputs": [
    {
     "name": "stdout",
     "output_type": "stream",
     "text": [
      "CASE 1:\n",
      "Enter the first number: 53\n",
      "Enter the second number: gdfdf\n",
      "-1\n",
      "CASE 2:\n",
      "Enter the first number: rhgr\n",
      "Enter the second number: 13132\n",
      "-1\n",
      "CASE 3:\n",
      "Enter the first number: 574365436598274897329487219038748\n",
      "Enter the second number: 1903742198468326548712364712698376198739182\n",
      "1903742199042691985310639610027863417777930\n",
      "CASE 4:\n",
      "Enter the first number: \n",
      "Enter the second number: 677\n",
      "677\n",
      "CASE 5:\n",
      "Enter the first number: 231\n",
      "Enter the second number: \n",
      "231\n"
     ]
    }
   ],
   "source": [
    "'''\n",
    "Q4. Write a function that adds two numbers. The catch, however, is that the\n",
    "numbers will be strings.\n",
    "Examples\n",
    "add_str_nums(\"4\", \"5\") ➞ \"9\"\n",
    "add_str_nums(\"abcdefg\", \"3\") ➞ \"-1\"\n",
    "add_str_nums(\"1\", \"\") ➞ \"1\"\n",
    "add_str_nums(\"1874682736267235927359283579235789257\",\"32652983572985729\") ➞ \"1874682736267235927391936562808774986\"\n",
    "'''\n",
    "\n",
    "def add_str_names(str1,str2):\n",
    "    sum = 0\n",
    "    for i in str1:\n",
    "        if i.isalpha():\n",
    "            return -1\n",
    "    for j in str2:\n",
    "        if j.isalpha():\n",
    "            return -1\n",
    "            \n",
    "    if str1 == \"\":\n",
    "        sum += int(str2)\n",
    "    elif str2 == \"\":\n",
    "        sum += int(str1)\n",
    "    else:\n",
    "        sum += int(str1) + int(str2)\n",
    "    return sum\n",
    "\n",
    "print(\"CASE 1:\")    \n",
    "str1 = input(\"Enter the first number: \")\n",
    "str2 = input(\"Enter the second number: \")\n",
    "print(add_str_names(str1,str2), sep = \" \")\n",
    "print(\"CASE 2:\")    \n",
    "str1 = input(\"Enter the first number: \")\n",
    "str2 = input(\"Enter the second number: \")\n",
    "print(add_str_names(str1,str2), sep = \" \")\n",
    "print(\"CASE 3:\")    \n",
    "str1 = input(\"Enter the first number: \")\n",
    "str2 = input(\"Enter the second number: \")\n",
    "print(add_str_names(str1,str2), sep = \" \")\n",
    "print(\"CASE 4:\")    \n",
    "str1 = input(\"Enter the first number: \")\n",
    "str2 = input(\"Enter the second number: \")\n",
    "print(add_str_names(str1,str2), sep = \" \")\n",
    "print(\"CASE 5:\")    \n",
    "str1 = input(\"Enter the first number: \")\n",
    "str2 = input(\"Enter the second number: \")\n",
    "print(add_str_names(str1,str2), sep = \" \")"
   ]
  },
  {
   "cell_type": "markdown",
   "metadata": {},
   "source": [
    "# This question seems very absurd because it is very difficult to unmix a string without any specified rules.After unmixing a string characters can be arranged in many permutations and finding out a single string which makes sense while reading cannot be done without ML Algos.\n",
    "\n",
    "\n",
    "Q5. lPaeesh le pemu mnxit ehess rtnisg! Oh, sorry, that was supposed to say:\n",
    "Please help me unmix these strings!\n",
    "Somehow my strings have all become mixed up; every pair of characters has\n",
    "been swapped. Help me undo this so I can understand my strings again.\n",
    "Examples\n",
    "unmix(\"123456\") ➞ \"214365\"\n",
    "unmix(\"hTsii s aimex dpus rtni.g\") ➞ \"This is a mixed up string.\"\n",
    "unmix(\"badce\") ➞ \"abcde\"\n",
    "'''"
   ]
  }
 ],
 "metadata": {
  "kernelspec": {
   "display_name": "Python 3",
   "language": "python",
   "name": "python3"
  },
  "language_info": {
   "codemirror_mode": {
    "name": "ipython",
    "version": 3
   },
   "file_extension": ".py",
   "mimetype": "text/x-python",
   "name": "python",
   "nbconvert_exporter": "python",
   "pygments_lexer": "ipython3",
   "version": "3.8.5"
  }
 },
 "nbformat": 4,
 "nbformat_minor": 4
}
