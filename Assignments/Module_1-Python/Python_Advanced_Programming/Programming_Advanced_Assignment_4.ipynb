{
 "cells": [
  {
   "cell_type": "code",
   "execution_count": 28,
   "metadata": {},
   "outputs": [
    {
     "name": "stdout",
     "output_type": "stream",
     "text": [
      "Enter the value of n for which you need the Fibonacci Number: 50\n",
      "The 50th Fibonacci term is 12586269025\n"
     ]
    }
   ],
   "source": [
    "'''\n",
    "Q1. In mathematics, the Fibonacci numbers, commonly denoted Fn, form a\n",
    "sequence, called the Fibonacci sequence, such that each number is the sum\n",
    "of the two preceding ones, starting from 0 and 1:\n",
    "\n",
    "The beginning of the sequence is this:\n",
    "0, 1, 1, 2, 3, 5, 8, 13, 21, 34, 55, 89, 144, ...\n",
    "The function fastFib(num) returns the fibonacci number Fn, of the given num\n",
    "as an argument.\n",
    "Examples\n",
    "fib_fast(5) ➞ 5\n",
    "fib_fast(10) ➞ 55\n",
    "fib_fast(20) ➞ 6765\n",
    "fib_fast(50) ➞ 12586269025\n",
    "'''\n",
    "\n",
    "def fastFib(n, a = 0, b = 1): \n",
    "    if n == 0:\n",
    "        yield a\n",
    "    if n == 1: \n",
    "        yield b\n",
    "    yield from fastFib(n - 1, b, a + b)\n",
    "    \n",
    "num = int(input(\"Enter the value of n for which you need the Fibonacci Number: \"))\n",
    "print(\"The {}th Fibonacci term is {}\".format(num,next(fastFib(num))))"
   ]
  },
  {
   "cell_type": "code",
   "execution_count": 50,
   "metadata": {},
   "outputs": [
    {
     "name": "stdout",
     "output_type": "stream",
     "text": [
      "Enter the string to be converted to hexadecimal value: This is a full stack assignment\n"
     ]
    },
    {
     "data": {
      "text/plain": [
       "'54 68 69 73 20 69 73 20 61 20 66 75 6c 6c 20 73 74 61 63 6b 20 61 73 73 69 67 6e 6d 65 6e 74'"
      ]
     },
     "execution_count": 50,
     "metadata": {},
     "output_type": "execute_result"
    }
   ],
   "source": [
    "'''\n",
    "Q2. Create a function that takes a strings characters as ASCII and returns each\n",
    "characters hexadecimal value as a string.\n",
    "Examples\n",
    "convert_to_hex(\"hello world\") ➞ \"68 65 6c 6c 6f 20 77 6f 72 6c 64\"\n",
    "convert_to_hex(\"Big Boi\") ➞ \"42 69 67 20 42 6f 69\"\n",
    "convert_to_hex(\"Marty Poppinson\") ➞ \"4d 61 72 74 79 20 50 6f 70 70 69 6e\n",
    "73 6f 6e\"\n",
    "'''\n",
    "\n",
    "\n",
    "def convert_to_hex(string):\n",
    "    hex_string = \"\"\n",
    "    for i in string:\n",
    "        ordinal = ord(i)\n",
    "        hex_string += (hex(ordinal)[2:]) + \" \"\n",
    "    hex_string_final = hex_string.strip(\" \")\n",
    "    return hex_string_final\n",
    "\n",
    "string = input(\"Enter the string to be converted to hexadecimal value: \")\n",
    "convert_to_hex(string)"
   ]
  },
  {
   "cell_type": "code",
   "execution_count": 61,
   "metadata": {},
   "outputs": [
    {
     "name": "stdout",
     "output_type": "stream",
     "text": [
      "Enter the censored string: Wh*r* d*d my v*w*ls g*?\n",
      "Enter the vowel string to be replaced: eeioeo\n"
     ]
    },
    {
     "data": {
      "text/plain": [
       "'Where did my vowels go?'"
      ]
     },
     "execution_count": 61,
     "metadata": {},
     "output_type": "execute_result"
    }
   ],
   "source": [
    "'''\n",
    "Q3. Someone has attempted to censor my strings by replacing every vowel\n",
    "with a *, l*k* th*s. Luckily, I've been able to find the vowels that were\n",
    "removed.\n",
    "Given a censored string and a string of the censored vowels, return the\n",
    "original uncensored string.\n",
    "Example\n",
    "uncensor(\"Wh*r* d*d my v*w*ls g*?\", \"eeioeo\") ➞ \"Where did my vowels go?\"\n",
    "uncensor(\"abcd\", \"\") ➞ \"abcd\"\n",
    "uncensor(\"*PP*RC*S*\", \"UEAE\") ➞ \"UPPERCASE\"\n",
    "'''\n",
    "\n",
    "def uncensor(censored_string, replacement_vowels):\n",
    "    censored_string_list = []\n",
    "    replacement_vowels_list = []\n",
    "    uncensored_string = \"\"\n",
    "    k = 0\n",
    "    \n",
    "    for i in censored_string:\n",
    "        censored_string_list.append(i)\n",
    "    for i in replacement_vowels:\n",
    "        replacement_vowels_list.append(i)\n",
    "    for i in range(len(censored_string_list)):\n",
    "        if censored_string_list[i] == '*':\n",
    "            censored_string_list[i] = replacement_vowels_list[k]\n",
    "            k += 1\n",
    "    for i in censored_string_list:\n",
    "        uncensored_string += i\n",
    "    return uncensored_string\n",
    "\n",
    "censored_string = input(\"Enter the censored string: \")\n",
    "replacement_vowels = input(\"Enter the vowel string to be replaced: \")\n",
    "uncensor(censored_string, replacement_vowels)\n"
   ]
  },
  {
   "cell_type": "code",
   "execution_count": 95,
   "metadata": {},
   "outputs": [
    {
     "name": "stdout",
     "output_type": "stream",
     "text": [
      "Enter the IP Adress in proper format: 205.251.242.103\n"
     ]
    },
    {
     "data": {
      "text/plain": [
       "'s3-console-us-standard.console.aws.amazon.com'"
      ]
     },
     "execution_count": 95,
     "metadata": {},
     "output_type": "execute_result"
    }
   ],
   "source": [
    "'''\n",
    "Q4. Write a function that takes an IP address and returns the domain name\n",
    "using PTR DNS records.\n",
    "Example\n",
    "get_domain(\"8.8.8.8\") ➞ \"dns.google\"\n",
    "get_domain(\"8.8.4.4\") ➞ \"dns.google\"\n",
    "'''\n",
    "\n",
    "import socket\n",
    "\n",
    "def get_domain(ip_address):\n",
    "    domain_name = socket.gethostbyaddr(ip_address)[0]\n",
    "    return domain_name\n",
    "    \n",
    "ip_address = input(\"Enter the IP Adress in proper format: \")\n",
    "get_domain(ip_address)"
   ]
  },
  {
   "cell_type": "code",
   "execution_count": 83,
   "metadata": {},
   "outputs": [
    {
     "name": "stdout",
     "output_type": "stream",
     "text": [
      "Enter a number to calculate factorial of factorials: 10\n",
      "The factorial of factorials of 10 is 6658606584104736522240000000\n"
     ]
    }
   ],
   "source": [
    "'''\n",
    "Q5. Create a function that takes an integer n and returns the factorial of\n",
    "factorials. See below examples for a better understanding:\n",
    "Examples\n",
    "fact_of_fact(4) ➞ 288\n",
    "# 4! * 3! * 2! * 1! = 288\n",
    "fact_of_fact(5) ➞ 34560\n",
    "fact_of_fact(6) ➞ 24883200\n",
    "'''\n",
    "\n",
    "def fact_of_fact(number):\n",
    "    result = 1\n",
    "    for i in range(1,number+1):\n",
    "        result *= factorial(i)\n",
    "    return result\n",
    "    \n",
    "def factorial(number):\n",
    "    fact = 1\n",
    "    for i in range(1,number+1):\n",
    "        fact *= i\n",
    "    return fact    \n",
    "    \n",
    "number = int(input(\"Enter a number to calculate factorial of factorials: \"))\n",
    "print(\"The factorial of factorials of {} is {}\".format(number,fact_of_fact(number)))"
   ]
  }
 ],
 "metadata": {
  "kernelspec": {
   "display_name": "Python 3",
   "language": "python",
   "name": "python3"
  },
  "language_info": {
   "codemirror_mode": {
    "name": "ipython",
    "version": 3
   },
   "file_extension": ".py",
   "mimetype": "text/x-python",
   "name": "python",
   "nbconvert_exporter": "python",
   "pygments_lexer": "ipython3",
   "version": "3.8.5"
  }
 },
 "nbformat": 4,
 "nbformat_minor": 4
}
