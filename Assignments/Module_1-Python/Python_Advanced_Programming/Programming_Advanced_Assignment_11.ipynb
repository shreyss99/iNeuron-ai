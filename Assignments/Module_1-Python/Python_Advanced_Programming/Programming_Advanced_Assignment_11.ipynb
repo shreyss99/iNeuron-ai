{
 "cells": [
  {
   "cell_type": "code",
   "execution_count": 14,
   "metadata": {},
   "outputs": [
    {
     "name": "stdout",
     "output_type": "stream",
     "text": [
      "Enter the length of the list of numbers: 10\n",
      "Enter the number: 2\n",
      "Enter the number: 3\n",
      "Enter the number: 7\n",
      "Enter the number: 8\n",
      "Enter the number: 12\n",
      "Enter the number: 34\n",
      "Enter the number: 47\n",
      "Enter the number: 1093\n",
      "Enter the number: 10007\n",
      "Enter the number: 3\n"
     ]
    },
    {
     "data": {
      "text/plain": [
       "[2, 3, 7, 47, 1093, 10007, 3]"
      ]
     },
     "execution_count": 14,
     "metadata": {},
     "output_type": "execute_result"
    }
   ],
   "source": [
    "'''\n",
    "Q1. Create a function that takes a list and returns a new list containing only\n",
    "prime numbers.\n",
    "Examples\n",
    "filter_primes([7, 9, 3, 9, 10, 11, 27]) ➞ [7, 3, 11]\n",
    "filter_primes([10007, 1009, 1007, 27, 147, 77, 1001, 70]) ➞ [10007, 1009]\n",
    "filter_primes([1009, 10, 10, 10, 3, 33, 9, 4, 1, 61, 63, 69, 1087, 1091, 1093,\n",
    "1097]) ➞ [1009, 3, 61, 1087, 1091, 1093, 1097]\n",
    "'''\n",
    "\n",
    "def filter_primes(primes_list):\n",
    "    final_primes = []\n",
    "    for i in primes_list:\n",
    "        if is_Prime(i):\n",
    "            final_primes.append(i)\n",
    "    return final_primes\n",
    "\n",
    "def is_Prime(number):\n",
    "    flag = True\n",
    "    for i in range(2,number):\n",
    "        if number == 2:\n",
    "            return True\n",
    "        if number % i == 0:\n",
    "            flag = False\n",
    "            break\n",
    "    return flag\n",
    "    \n",
    "length = int(input(\"Enter the length of the list of numbers: \"))\n",
    "prime_list = []\n",
    "for i in range(length):\n",
    "    prime_list.append(int(input(\"Enter the number: \")))\n",
    "filter_primes(prime_list)"
   ]
  },
  {
   "cell_type": "code",
   "execution_count": 30,
   "metadata": {},
   "outputs": [
    {
     "name": "stdout",
     "output_type": "stream",
     "text": [
      "Enter the value of the water drop: 10\n",
      "[0, 0, 0, 0, 0, 0, 0, 0, 0, 0, 10, 0, 0, 0, 0, 0, 0, 0, 0, 0, 0]\n"
     ]
    },
    {
     "data": {
      "text/plain": [
       "[0, 1, 2, 3, 4, 5, 6, 7, 8, 9, 10, 9, 8, 7, 6, 5, 4, 3, 2, 1, 0]"
      ]
     },
     "execution_count": 30,
     "metadata": {},
     "output_type": "execute_result"
    }
   ],
   "source": [
    "'''\n",
    "Q2. Once a water balloon pops, is soaks the area around it. The ground gets\n",
    "drier the further away you travel from the balloon.\n",
    "The effect of a water balloon popping can be modeled using a list. Create a\n",
    "function that takes a list which takes the pre-pop state and returns the state\n",
    "after the balloon is popped. The pre-pop state will contain at most a single\n",
    "balloon, whose size is represented by the only non-zero element.\n",
    "Examples\n",
    "pop([0, 0, 0, 0, 4, 0, 0, 0, 0]) ➞ [0, 1, 2, 3, 4, 3, 2, 1, 0]\n",
    "pop([0, 0, 0, 3, 0, 0, 0]) ➞ [0, 1, 2, 3, 2, 1, 0]\n",
    "pop([0, 0, 2, 0, 0]) ➞ [0, 1, 2, 1, 0]\n",
    "pop([0]) ➞ [0]\n",
    "'''\n",
    "\n",
    "def pop(water_drop_list):\n",
    "    max_drop = max(water_drop_list)\n",
    "    max_drop_index = water_drop_list.index(max_drop)\n",
    "    \n",
    "    for i in range(max_drop_index):\n",
    "        water_drop_list[i] = i\n",
    "        water_drop_list[len(water_drop_list)-1-i] = i\n",
    "    \n",
    "    return water_drop_list\n",
    "\n",
    "drop_value = int(input(\"Enter the value of the water drop: \"))\n",
    "water_drop_list = []\n",
    "for i in range(2*drop_value + 1):\n",
    "    if i == drop_value:\n",
    "        water_drop_list.insert(i,drop_value)\n",
    "    else:\n",
    "        water_drop_list.insert(i,0)\n",
    "        \n",
    "print(water_drop_list)\n",
    "pop(water_drop_list)"
   ]
  },
  {
   "cell_type": "code",
   "execution_count": 40,
   "metadata": {},
   "outputs": [
    {
     "name": "stdout",
     "output_type": "stream",
     "text": [
      "Enter the number of flower petals: 15\n"
     ]
    },
    {
     "data": {
      "text/plain": [
       "'Loves me, Loves me not, Loves me, Loves me not, Loves me, Loves me not, Loves me, Loves me not, Loves me, Loves me not, Loves me, Loves me not, Loves me, Loves me not, LOVES ME'"
      ]
     },
     "execution_count": 40,
     "metadata": {},
     "output_type": "execute_result"
    }
   ],
   "source": [
    "'''\n",
    "Q3. \"Loves me, loves me not\" is a traditional game in which a person plucks off\n",
    "all the petals of a flower one by one, saying the phrase \"Loves me\" and\n",
    "\"Loves me not\" when determining whether the one that they love, loves them\n",
    "back.\n",
    "Given a number of petals, return a string which repeats the phrases \"Loves\n",
    "me\" and \"Loves me not\" for every alternating petal, and return the last phrase\n",
    "in all caps. Remember to put a comma and space between phrases.\n",
    "Examples\n",
    "loves_me(3) ➞ \"Loves me, Loves me not, LOVES ME\"\n",
    "loves_me(6) ➞ \"Loves me, Loves me not, Loves me, Loves me not, Loves\n",
    "me, LOVES ME NOT\"\n",
    "\n",
    "loves_me(1) ➞ \"LOVES ME\"\n",
    "'''\n",
    "\n",
    "def loves_me(petals):\n",
    "    love_string = \"\"\n",
    "    for i in range(1,petals+1):\n",
    "        if i % 2 != 0 and i != petals:\n",
    "            love_string += \"Loves me, \"\n",
    "        elif i % 2 == 0 and i != petals:\n",
    "            love_string += \"Loves me not, \"\n",
    "        elif i % 2 != 0 and i == petals:\n",
    "            love_string += \"LOVES ME\"\n",
    "        elif i % 2 == 0 and i == petals:\n",
    "            love_string += \"LOVES ME NOT\"\n",
    "            \n",
    "    return love_string\n",
    "\n",
    "petals = int(input(\"Enter the number of flower petals: \"))\n",
    "loves_me(petals)"
   ]
  },
  {
   "cell_type": "code",
   "execution_count": 63,
   "metadata": {},
   "outputs": [
    {
     "name": "stdout",
     "output_type": "stream",
     "text": [
      "Enter the length of the strings list: 5\n",
      "Enter the string: 4423f2\n",
      "Enter the string: 080s\n",
      "Enter the string: e7\n",
      "Enter the string: 809q99\n",
      "Enter the string: 21x\n"
     ]
    },
    {
     "data": {
      "text/plain": [
       "['e7', '4423f2', '809q99', '080s', '21x']"
      ]
     },
     "execution_count": 63,
     "metadata": {},
     "output_type": "execute_result"
    }
   ],
   "source": [
    "'''\n",
    "Q4. Write a function that sorts each string in a list by the letter in alphabetic\n",
    "ascending order (a-z).\n",
    "Examples\n",
    "sort_by_letter([\"932c\", \"832u32\", \"2344b\"])\n",
    "➞ [\"2344b\", \"932c\", \"832u32\"]\n",
    "sort_by_letter([\"99a\", \"78b\", \"c2345\", \"11d\"])\n",
    "➞ [\"99a\", \"78b\", \"c2345\", \"11d\"]\n",
    "sort_by_letter([\"572z\", \"5y5\", \"304q2\"])\n",
    "➞ [\"304q2\", \"5y5\", \"572z\"]\n",
    "sort_by_letter([])\n",
    "➞ []\n",
    "'''\n",
    "\n",
    "def sort_by_letter(strings_list):\n",
    "    temp_list = []\n",
    "    sorted_list = []\n",
    "    for i in strings_list:\n",
    "        for j in range(len(i)):\n",
    "            if i[j].isalpha():\n",
    "                temp_list.append([i[j],i])\n",
    "    temp_list.sort()\n",
    "    for i in temp_list:\n",
    "        sorted_list.append(i[1])\n",
    "    return sorted_list\n",
    "    \n",
    "length = int(input(\"Enter the length of the strings list: \"))\n",
    "strings_list = []\n",
    "for i in range(length):\n",
    "    strings_list.append(input(\"Enter the string: \"))\n",
    "sort_by_letter(strings_list)"
   ]
  },
  {
   "cell_type": "code",
   "execution_count": 79,
   "metadata": {},
   "outputs": [
    {
     "name": "stdout",
     "output_type": "stream",
     "text": [
      "Enter the number of position swaps for the ball: 10\n",
      "Enter the swap in XY format: AC\n",
      "Enter the swap in XY format: CA\n",
      "Enter the swap in XY format: CB\n",
      "Enter the swap in XY format: AB\n",
      "Enter the swap in XY format: AC\n",
      "Enter the swap in XY format: BA\n",
      "Enter the swap in XY format: AB\n",
      "Enter the swap in XY format: BC\n",
      "Enter the swap in XY format: CA\n",
      "Enter the swap in XY format: AB\n",
      "B-B-B-C-C-A-B-A-A-C-C\n"
     ]
    },
    {
     "data": {
      "text/plain": [
       "'C'"
      ]
     },
     "execution_count": 79,
     "metadata": {},
     "output_type": "execute_result"
    }
   ],
   "source": [
    "'''\n",
    "Q5. There are three cups on a table, at positions A, B, and C. At the start, there\n",
    "is a ball hidden under the cup at position B.\n",
    "\n",
    "However, I perform several swaps on the cups, which is notated as two\n",
    "letters. For example, if I swap the cups at positions A and B, I could notate\n",
    "this as AB or BA.\n",
    "Create a function that returns the letter position that the ball is at, once I finish\n",
    "swapping the cups. The swaps will be given to you as a list.\n",
    "\n",
    "Example\n",
    "cup_swapping([\"AB\", \"CA\", \"AB\"]) ➞ \"C\"\n",
    "# Ball begins at position B.\n",
    "# Cups A and B swap, so the ball is at position A.\n",
    "# Cups C and A swap, so the ball is at position C.\n",
    "# Cups A and B swap, but the ball is at position C, so it doesn't move.\n",
    "'''\n",
    "\n",
    "def cup_swapping(swap_list):\n",
    "    ball_position = []\n",
    "    ball_position.insert(0,\"B\")\n",
    "    for i in range(len(swap_list)):\n",
    "        \n",
    "        if swap_list[i] == \"AB\" or swap_list[i] == \"BA\":\n",
    "            #check previous ball_position \n",
    "            if ball_position[i] == \"B\":\n",
    "                ball_position.insert(i+1,\"A\")\n",
    "            elif ball_position[i] == \"A\":\n",
    "                ball_position.insert(i+1,\"B\")\n",
    "            else:\n",
    "                ball_position.insert(i+1,ball_position[i])\n",
    "            current_ball_pos = i+1\n",
    "            continue\n",
    "        \n",
    "        if swap_list[i] == \"AC\" or swap_list[i] == \"CA\":\n",
    "            #check previous ball_position \n",
    "            if ball_position[i] == \"C\":\n",
    "                ball_position.insert(i+1,\"A\")\n",
    "            elif ball_position[i] == \"A\":\n",
    "                ball_position.insert(i+1,\"C\")\n",
    "            else:\n",
    "                ball_position.insert(i+1,ball_position[i])\n",
    "            current_ball_pos = i+1\n",
    "            continue\n",
    "        \n",
    "        if swap_list[i] == \"BC\" or swap_list[i] == \"CB\":\n",
    "            #check previous ball_position \n",
    "            if ball_position[i] == \"B\":\n",
    "                ball_position.insert(i+1,\"C\")\n",
    "            elif ball_position[i] == \"C\":\n",
    "                ball_position.insert(i+1,\"B\")\n",
    "            else:\n",
    "                ball_position.insert(i+1,ball_position[i])\n",
    "            current_ball_pos = i+1\n",
    "            continue\n",
    "    print(\"-\".join(ball_position))\n",
    "    return ball_position[i+1]\n",
    "    \n",
    "length = int(input(\"Enter the number of position swaps for the ball: \"))\n",
    "swap_list = []\n",
    "for i in range(length):\n",
    "    swap_list.append(input(\"Enter the swap in XY format: \"))\n",
    "cup_swapping(swap_list)"
   ]
  }
 ],
 "metadata": {
  "kernelspec": {
   "display_name": "Python 3",
   "language": "python",
   "name": "python3"
  },
  "language_info": {
   "codemirror_mode": {
    "name": "ipython",
    "version": 3
   },
   "file_extension": ".py",
   "mimetype": "text/x-python",
   "name": "python",
   "nbconvert_exporter": "python",
   "pygments_lexer": "ipython3",
   "version": "3.8.5"
  }
 },
 "nbformat": 4,
 "nbformat_minor": 4
}
