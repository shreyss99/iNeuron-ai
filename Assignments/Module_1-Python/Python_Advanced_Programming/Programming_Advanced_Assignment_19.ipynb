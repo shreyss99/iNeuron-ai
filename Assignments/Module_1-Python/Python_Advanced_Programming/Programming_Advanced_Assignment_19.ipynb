{
 "cells": [
  {
   "cell_type": "code",
   "execution_count": 1,
   "metadata": {},
   "outputs": [],
   "source": [
    "import numpy as np"
   ]
  },
  {
   "cell_type": "code",
   "execution_count": 9,
   "metadata": {},
   "outputs": [
    {
     "name": "stdout",
     "output_type": "stream",
     "text": [
      "Enter the size of checkerboard: 5\n",
      "Enter the first character of checkerboard: 2\n",
      "Enter the second character of checkerboard: 3\n"
     ]
    },
    {
     "data": {
      "text/plain": [
       "array([['2', '3', '2', '3', '2'],\n",
       "       ['3', '2', '3', '2', '3'],\n",
       "       ['2', '3', '2', '3', '2'],\n",
       "       ['3', '2', '3', '2', '3'],\n",
       "       ['2', '3', '2', '3', '2']], dtype='<U1')"
      ]
     },
     "execution_count": 9,
     "metadata": {},
     "output_type": "execute_result"
    }
   ],
   "source": [
    "'''\n",
    "Q1. Create a checker board generator, which takes as inputs n and 2 elements\n",
    "to generate an n x n checkerboard with those two elements as alternating\n",
    "squares.\n",
    "Examples\n",
    "checker_board(2, 7, 6) ➞ [\n",
    "[7, 6],\n",
    "[6, 7]\n",
    "]\n",
    "checker_board(3, \"A\", \"B\") ➞ [\n",
    "[\"A\", \"B\", \"A\"],\n",
    "[\"B\", \"A\", \"B\"],\n",
    "[\"A\", \"B\", \"A\"]\n",
    "]\n",
    "checker_board(4, \"c\", \"d\") ➞ [\n",
    "[\"c\", \"d\", \"c\", \"d\"],\n",
    "[\"d\", \"c\", \"d\", \"c\"],\n",
    "[\"c\", \"d\", \"c\", \"d\"],\n",
    "[\"d\", \"c\", \"d\", \"c\"]\n",
    "]\n",
    "checker_board(4, \"c\", \"c\") ➞ \"invalid\"\n",
    "'''\n",
    "\n",
    "def checker_board(n,first,second):\n",
    "    if first == second:\n",
    "        return \"invalid\"\n",
    "    board = np.zeros([n,n], dtype = str)\n",
    "    for i in range(n):\n",
    "        for j in range(n):\n",
    "            if (i + j) % 2 == 0:\n",
    "                board[i][j] = first\n",
    "            elif (i + j) % 2 != 0:\n",
    "                board[i][j] = second\n",
    "    return board\n",
    "\n",
    "n = int(input(\"Enter the size of checkerboard: \"))\n",
    "first = input(\"Enter the first character of checkerboard: \")\n",
    "second = input(\"Enter the second character of checkerboard: \")\n",
    "checker_board(n,first,second)"
   ]
  },
  {
   "cell_type": "code",
   "execution_count": 23,
   "metadata": {},
   "outputs": [
    {
     "name": "stdout",
     "output_type": "stream",
     "text": [
      "Enter the string: abccis\n"
     ]
    },
    {
     "data": {
      "text/plain": [
       "False"
      ]
     },
     "execution_count": 23,
     "metadata": {},
     "output_type": "execute_result"
    }
   ],
   "source": [
    "'''\n",
    "Q2. A string is an almost-palindrome if, by changing only one character, you\n",
    "can make it a palindrome. Create a function that returns True if a string is an\n",
    "almost-palindrome and False otherwise.\n",
    "Examples\n",
    "almost_palindrome(\"abcdcbg\") ➞ True\n",
    "# Transformed to \"abcdcba\" by changing \"g\" to \"a\".\n",
    "almost_palindrome(\"abccia\") ➞ True\n",
    "# Transformed to \"abccba\" by changing \"i\" to \"b\".\n",
    "almost_palindrome(\"abcdaaa\") ➞ False\n",
    "# Can't be transformed to a palindrome in exactly 1 turn.\n",
    "almost_palindrome(\"1234312\") ➞ False\n",
    "'''\n",
    "\n",
    "def almost_palindrome(string):\n",
    "    length = len(string)\n",
    "    if length % 2 == 0:\n",
    "        first = string[0:length//2]\n",
    "        second = string[(length//2):length]\n",
    "    else:\n",
    "        first = string[0:length//2]\n",
    "        second = string[(length//2)+1:length]\n",
    "    \n",
    "    first_l = []\n",
    "    second_l = []\n",
    "    for i in range(len(first)):\n",
    "        first_l.append(first[i])\n",
    "        second_l.append(second[i])\n",
    "    \n",
    "    second_l.sort(reverse = True)\n",
    "    count_diff = 0\n",
    "    for i in first_l:\n",
    "        if i not in second_l or first_l.index(i) == second_l.index(i):\n",
    "            count_diff += 1\n",
    "        else:\n",
    "            continue\n",
    "    \n",
    "    if count_diff > 1:\n",
    "        return False\n",
    "    else:\n",
    "        return True\n",
    "    \n",
    "string = input(\"Enter the string: \")\n",
    "almost_palindrome(string)"
   ]
  },
  {
   "cell_type": "code",
   "execution_count": 40,
   "metadata": {},
   "outputs": [
    {
     "name": "stdout",
     "output_type": "stream",
     "text": [
      "Enter the number till where prime numbers are to be generated: 45\n"
     ]
    },
    {
     "data": {
      "text/plain": [
       "14"
      ]
     },
     "execution_count": 40,
     "metadata": {},
     "output_type": "execute_result"
    }
   ],
   "source": [
    "'''\n",
    "Q3. Create a function that finds how many prime numbers there are, up to the\n",
    "given integer.\n",
    "\n",
    "Examples\n",
    "prime_numbers(10) ➞ 4\n",
    "# 2, 3, 5 and 7\n",
    "prime_numbers(20) ➞ 8\n",
    "# 2, 3, 5, 7, 11, 13, 17 and 19\n",
    "prime_numbers(30) ➞ 10\n",
    "# 2, 3, 5, 7, 11, 13, 17, 19, 23 and 29\n",
    "'''\n",
    "\n",
    "def is_Prime(number):\n",
    "    flag = True\n",
    "    if number == 2:\n",
    "        return True\n",
    "    for i in range(2,number):\n",
    "        if number % i == 0:\n",
    "            flag = False\n",
    "            break\n",
    "       \n",
    "    if flag == True:\n",
    "        return True\n",
    "    elif flag == False:\n",
    "        return False\n",
    "    \n",
    "def prime_numbers(number):\n",
    "    count = 0\n",
    "    for i in range(2,number):\n",
    "        if is_Prime(i):\n",
    "            count += 1\n",
    "    return count\n",
    "\n",
    "number = int(input(\"Enter the number till where prime numbers are to be generated: \"))\n",
    "prime_numbers(number)"
   ]
  },
  {
   "cell_type": "code",
   "execution_count": 45,
   "metadata": {},
   "outputs": [
    {
     "name": "stdout",
     "output_type": "stream",
     "text": [
      "Enter the number of days: 3\n",
      "Enter the day name: Wednesday\n",
      "Enter the day name: Friday\n",
      "Enter the day name: Saturday\n",
      "Enter the number of days of increment: 15\n"
     ]
    },
    {
     "data": {
      "text/plain": [
       "['Tuesday', 'Thursday', 'Friday']"
      ]
     },
     "execution_count": 45,
     "metadata": {},
     "output_type": "execute_result"
    }
   ],
   "source": [
    "'''\n",
    "Q4. If today was Monday, in two days, it would be Wednesday.\n",
    "Create a function that takes in a list of days as input and the number of days\n",
    "to increment by. Return a list of days after n number of days has passed.\n",
    "Examples\n",
    "after_n_days([\"Thursday\", \"Monday\"], 4) ➞ [\"Monday\", \"Friday\"]\n",
    "after_n_days([\"Sunday\", \"Sunday\", \"Sunday\"], 1) ➞ [\"Monday\", \"Monday\",\n",
    "\"Monday\"]\n",
    "after_n_days([\"Monday\", \"Tuesday\", \"Friday\"], 1) ➞ [\"Tuesday\", \"Wednesday\",\n",
    "\"Saturday\"]\n",
    "'''\n",
    "\n",
    "def after_n_days(days_list,increment):\n",
    "    after_n_days_list = []\n",
    "    days_dict = {\"Monday\":1,\"Tuesday\":2,\"Wednesday\":3,\"Thursday\":4,\"Friday\":5,\"Saturday\":6,\"Sunday\":7}\n",
    "    for i in days_list:\n",
    "        if i in days_dict:\n",
    "            new_day_code = (days_dict[i] + increment) % 8\n",
    "            final_day = get_key_from_val(days_dict, new_day_code)\n",
    "            after_n_days_list.append(final_day)\n",
    "    return after_n_days_list\n",
    "            \n",
    "def get_key_from_val(days_dict, new_day_code):\n",
    "    for key, value in days_dict.items():\n",
    "        if new_day_code == value:\n",
    "            return key\n",
    "    \n",
    "length = int(input(\"Enter the number of days: \"))\n",
    "days_list = []\n",
    "for i in range(length):\n",
    "    days_list.append(input(\"Enter the day name: \"))\n",
    "increment = int(input(\"Enter the number of days of increment: \"))\n",
    "after_n_days(days_list,increment)"
   ]
  },
  {
   "cell_type": "code",
   "execution_count": 8,
   "metadata": {},
   "outputs": [
    {
     "name": "stdout",
     "output_type": "stream",
     "text": [
      "Enter the number of names: 3\n",
      "Enter the name: Mary Holt\n",
      "Enter the corresponding alias: Maverick Monster\n",
      "Enter the name: Sally Duncan\n",
      "Enter the corresponding alias: Sleek Hawk\n",
      "Enter the name: John Trent\n",
      "Enter the corresponding alias: Jubilant Joker\n"
     ]
    },
    {
     "data": {
      "text/plain": [
       "False"
      ]
     },
     "execution_count": 8,
     "metadata": {},
     "output_type": "execute_result"
    }
   ],
   "source": [
    "'''\n",
    "Q5. You are in the process of creating a chat application and want to add an\n",
    "anonymous name feature. This anonymous name feature will create an alias\n",
    "that consists of two capitalized words beginning with the same letter as the\n",
    "users first name.\n",
    "Create a function that determines if the list of users is mapped to a list of\n",
    "anonymous names correctly.\n",
    "Examples\n",
    "is_correct_aliases([\"Adrian M.\", \"Harriet S.\", \"Mandy T.\"], [\"Amazing\n",
    "Artichoke\", \"Hopeful Hedgehog\", \"Marvelous Mouse\"]) ➞ True\n",
    "is_correct_aliases([\"Rachel F.\", \"Pam G.\", \"Fred Z.\", \"Nancy K.\"],\n",
    "[\"Reassuring Rat\", \"Peaceful Panda\", \"Fantastic Frog\", \"Notable Nickel\"]) ➞\n",
    "True\n",
    "is_correct_aliases([\"Beth T.\"], [\"Brandishing Mimosa\"]) ➞ False\n",
    "# Both words in \"Brandishing Mimosa\" should begin with a \"B\" - \"Brandishing\n",
    "Beaver\" would do the trick.\n",
    "'''\n",
    "\n",
    "def is_correct_aliases(name_list, alias_list):\n",
    "    flag = True\n",
    "    for i in range(len(name_list)):\n",
    "        initial = name_list[i][0]\n",
    "        first_name, last_name = alias_list[i].split(\" \")\n",
    "        first_name_initial = first_name[0]\n",
    "        last_name_initial = last_name[0]\n",
    "        if initial == first_name_initial == last_name_initial and i < len(name_list):\n",
    "            continue\n",
    "        else:\n",
    "            flag = False\n",
    "            \n",
    "    if flag == True:\n",
    "        return True\n",
    "    elif flag == False:\n",
    "        return False\n",
    "\n",
    "length = int(input(\"Enter the number of names: \"))\n",
    "name_list = []\n",
    "alias_list = []\n",
    "for i in range(length):\n",
    "    name_list.append(input(\"Enter the name: \"))\n",
    "    alias_list.append(input(\"Enter the corresponding alias: \"))\n",
    "is_correct_aliases(name_list,alias_list)"
   ]
  }
 ],
 "metadata": {
  "kernelspec": {
   "display_name": "Python 3",
   "language": "python",
   "name": "python3"
  },
  "language_info": {
   "codemirror_mode": {
    "name": "ipython",
    "version": 3
   },
   "file_extension": ".py",
   "mimetype": "text/x-python",
   "name": "python",
   "nbconvert_exporter": "python",
   "pygments_lexer": "ipython3",
   "version": "3.8.5"
  }
 },
 "nbformat": 4,
 "nbformat_minor": 4
}
