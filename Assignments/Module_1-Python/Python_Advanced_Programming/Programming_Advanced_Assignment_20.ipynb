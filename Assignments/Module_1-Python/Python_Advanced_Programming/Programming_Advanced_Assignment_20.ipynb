{
 "cells": [
  {
   "cell_type": "code",
   "execution_count": 2,
   "metadata": {},
   "outputs": [],
   "source": [
    "import numpy as np"
   ]
  },
  {
   "cell_type": "code",
   "execution_count": 1,
   "metadata": {},
   "outputs": [
    {
     "name": "stdout",
     "output_type": "stream",
     "text": [
      "Enter the string for the pattern: p.one.two.three\n"
     ]
    },
    {
     "data": {
      "text/plain": [
       "\"<p class='one two three'></p>\""
      ]
     },
     "execution_count": 1,
     "metadata": {},
     "output_type": "execute_result"
    }
   ],
   "source": [
    "'''\n",
    "Q1. Create a function based on the input and output. Look at the examples,\n",
    "there is a pattern.\n",
    "Examples\n",
    "secret(\"p.one.two.three\") ➞ \"<p class='one two three'></p>\"\n",
    "secret(\"p.one\") ➞ \"<p class='one'></p>\"\n",
    "secret(\"p.four.five\") ➞ \"<p class='four five'></p>\"\n",
    "'''\n",
    "\n",
    "def secret(string):\n",
    "    list = string.split(\".\")\n",
    "    pattern = \"\"\n",
    "    for i in range(1,len(list)):\n",
    "        pattern += list[i]+\" \"\n",
    "    pattern = pattern.strip()\n",
    "    return \"<p class='{}'></p>\".format(pattern)\n",
    "    \n",
    "string = input(\"Enter the string for the pattern: \")\n",
    "secret(string)"
   ]
  },
  {
   "cell_type": "code",
   "execution_count": 51,
   "metadata": {},
   "outputs": [
    {
     "name": "stdout",
     "output_type": "stream",
     "text": [
      "Enter the number: 1011010101022101\n"
     ]
    },
    {
     "data": {
      "text/plain": [
       "6"
      ]
     },
     "execution_count": 51,
     "metadata": {},
     "output_type": "execute_result"
    }
   ],
   "source": [
    "'''\n",
    "Q2. Create a function which counts how many lone 1s appear in a given\n",
    "number. Lone means the number doesn't appear twice or more in a row.\n",
    "Examples\n",
    "count_lone_ones(101) ➞ 2\n",
    "count_lone_ones(1191) ➞ 1\n",
    "count_lone_ones(1111) ➞ 0\n",
    "count_lone_ones(462) ➞ 0\n",
    "'''\n",
    "\n",
    "def count_lone_ones(number):\n",
    "    num_list = []\n",
    "    for i in str(number):\n",
    "        num_list.append(int(i))\n",
    "    count = 0\n",
    "    for i in range(len(num_list)):\n",
    "        if i == 0 and num_list[i] == 1 and num_list[i+1] != 1:\n",
    "            count += 1\n",
    "        elif i == len(num_list)-1 and num_list[i] == 1 and num_list[i-1] != 1:\n",
    "            count += 1\n",
    "        elif num_list[i] == 1 and num_list[i-1] != 1 and num_list[i+1] != 1:\n",
    "            count += 1\n",
    "    return count\n",
    "    \n",
    "number = int(input(\"Enter the number: \"))\n",
    "count_lone_ones(number)"
   ]
  },
  {
   "cell_type": "code",
   "execution_count": 54,
   "metadata": {},
   "outputs": [
    {
     "name": "stdout",
     "output_type": "stream",
     "text": [
      "Enter the number of rows: 4\n",
      "Enter the number of columns: 7\n"
     ]
    },
    {
     "data": {
      "text/plain": [
       "array([[ 1,  5,  9, 13, 17, 21, 25],\n",
       "       [ 2,  6, 10, 14, 18, 22, 26],\n",
       "       [ 3,  7, 11, 15, 19, 23, 27],\n",
       "       [ 4,  8, 12, 16, 20, 24, 28]])"
      ]
     },
     "execution_count": 54,
     "metadata": {},
     "output_type": "execute_result"
    }
   ],
   "source": [
    "'''\n",
    "Q3. Write a method that accepts two integer parameters rows and cols. The\n",
    "output is a 2d array of numbers displayed in column-major order, meaning the\n",
    "numbers shown increase sequentially down each column and wrap to the top\n",
    "of the next column to the right once the bottom of the current column is\n",
    "reached.\n",
    "Examples\n",
    "printGrid(3, 6) ➞ [\n",
    "[1, 4, 7, 10, 13, 16],\n",
    "[2, 5, 8, 11, 14, 17],\n",
    "[3, 6, 9, 12, 15, 18]\n",
    "]\n",
    "printGrid(5, 3) ➞ [\n",
    "[1, 6, 11],\n",
    "[2, 7, 12],\n",
    "[3, 8, 13],\n",
    "[4, 9, 14],\n",
    "[5, 10, 15]\n",
    "]\n",
    "\n",
    "printGrid(4, 1) ➞ [\n",
    "[1],\n",
    "[2],\n",
    "[3],\n",
    "[4]\n",
    "]\n",
    "'''\n",
    "\n",
    "def printGrid(row, col):\n",
    "    matrix = np.zeros([row,col], dtype=int)\n",
    "    \n",
    "    start = 1\n",
    "    for i in range(col):\n",
    "        for j in range(row):\n",
    "            matrix[j][i] = start\n",
    "            start += 1\n",
    "    return matrix\n",
    "\n",
    "row = int(input(\"Enter the number of rows: \"))\n",
    "col = int(input(\"Enter the number of columns: \"))\n",
    "printGrid(row,col)"
   ]
  },
  {
   "cell_type": "code",
   "execution_count": 14,
   "metadata": {},
   "outputs": [
    {
     "name": "stdout",
     "output_type": "stream",
     "text": [
      "Enter the count of numnbers: 10\n",
      "Enter the number: 3\n",
      "Enter the number: -5\n",
      "Enter the number: 2\n",
      "Enter the number: 0\n",
      "Enter the number: -1\n",
      "Enter the number: 4\n",
      "Enter the number: -9\n",
      "Enter the number: 5\n",
      "Enter the number: 13\n",
      "Enter the number: 7\n"
     ]
    },
    {
     "data": {
      "text/plain": [
       "6"
      ]
     },
     "execution_count": 14,
     "metadata": {},
     "output_type": "execute_result"
    }
   ],
   "source": [
    "'''\n",
    "Q4. Given a list of integers, return the smallest positive integer not present in\n",
    "the list.\n",
    "Here is a representative example. Consider the list:\n",
    "[-2, 6, 4, 5, 7, -1, 7, 1, 3, 6, 6, -2, 9, 10, 2, 2]\n",
    "After reordering, the list becomes:\n",
    "[-2, -2, -1, 1, 2, 2, 3, 4, 5, 6, 6, 6, 7, 7, 9, 10]\n",
    "from which we see that the smallest missing positive integer is 8.\n",
    "Examples\n",
    "min_miss_pos([-2, 6, 4, 5, 7, -1, 1, 3, 6, -2, 9, 10, 2, 2]) ➞ 8\n",
    "# After sorting, list becomes [-2, -2, -1, 1, 2, 2, 3, 4, 5, 6, 6, 7, 9, 10]\n",
    "# So the smallest missing positive integer is 8\n",
    "min_miss_pos([5, 9, -2, 0, 1, 3, 9, 3, 8, 9]) ➞ 2\n",
    "# After sorting, list becomes [-2, 0, 1, 3, 3, 5, 8, 9, 9, 9]\n",
    "# So the smallest missing positive integer is 2\n",
    "min_miss_pos([0, 4, 4, -1, 9, 4, 5, 2, 10, 7, 6, 3, 10, 9]) ➞ 1\n",
    "# After sorting, list becomes [-1, 0, 2, 3, 4, 4, 4, 5, 6, 7, 9, 9, 10, 10]\n",
    "# So the smallest missing positive integer is 1\n",
    "'''\n",
    "\n",
    "def min_miss_pos(num_list):\n",
    "    num_list.sort()\n",
    "    for i in range(len(num_list)):\n",
    "        if num_list[i+1] - num_list[i] > 1 and num_list[i] > 0 and num_list[i+1] > 0 and i+1 < len(num_list):\n",
    "            missed = num_list[i] + 1\n",
    "            break\n",
    "    return missed\n",
    "\n",
    "length = int(input(\"Enter the count of numnbers: \"))\n",
    "num_list = []\n",
    "for i in range(length):\n",
    "    num_list.append(int(input(\"Enter the number: \")))\n",
    "min_miss_pos(num_list)"
   ]
  },
  {
   "cell_type": "code",
   "execution_count": 21,
   "metadata": {},
   "outputs": [
    {
     "data": {
      "text/plain": [
       "['Batman', 'Superman']"
      ]
     },
     "execution_count": 21,
     "metadata": {},
     "output_type": "execute_result"
    }
   ],
   "source": [
    "'''\n",
    "Q5. Google is launching a network of autonomous pizza delivery drones and\n",
    "wants you to create a flexible rewards system (Pizza Points™) that can be\n",
    "tweaked in the future. The rules are simple: if a customer has made at least N\n",
    "orders of at least Y price, they get a FREE pizza!\n",
    "Create a function that takes a dictionary of customers, a minimum number of\n",
    "orders and a minimum order price. Return a list of customers that are eligible\n",
    "for a free pizza.\n",
    "Examples\n",
    "\n",
    "customers = {\n",
    "\"Batman\": [22, 30, 11, 17, 15, 52, 27, 12],\n",
    "\"Spider-Man\": [5, 17, 30, 33, 40, 22, 26, 10, 11, 45]\n",
    "}\n",
    "pizza_points(customers, 5, 20) ➞ [\"Spider-Man\"]\n",
    "pizza_points(customers, 3, 10) ➞ [\"Batman\", \"Spider-Man\"]\n",
    "pizza_points(customers, 5, 100) ➞ []\n",
    "'''\n",
    "\n",
    "def pizza_points(cust_dict, min_num_order, min_order_price):\n",
    "    count_list = []\n",
    "    count = 0\n",
    "    for key,value in cust_dict.items():\n",
    "        for i in value:\n",
    "            if i > min_order_price:\n",
    "                count += 1\n",
    "        count_list.append([key,count])\n",
    "        count = 0\n",
    "    \n",
    "    winners = []\n",
    "    for i in count_list:\n",
    "        if i[1] >= min_num_order:\n",
    "            winners.append(i[0])\n",
    "    return winners\n",
    "    \n",
    "customers = {\n",
    "\"Batman\": [52, 30, 11, 57, 55, 52, 27, 62],\n",
    "\"Spiderman\": [75, 17, 30, 53, 40, 22, 26, 50, 11, 45],\n",
    "\"Superman\": [52, 7, 12, 23, 67, 44, 92, 70]\n",
    "}\n",
    "pizza_points(customers, 4, 50)"
   ]
  }
 ],
 "metadata": {
  "kernelspec": {
   "display_name": "Python 3",
   "language": "python",
   "name": "python3"
  },
  "language_info": {
   "codemirror_mode": {
    "name": "ipython",
    "version": 3
   },
   "file_extension": ".py",
   "mimetype": "text/x-python",
   "name": "python",
   "nbconvert_exporter": "python",
   "pygments_lexer": "ipython3",
   "version": "3.8.5"
  }
 },
 "nbformat": 4,
 "nbformat_minor": 4
}
