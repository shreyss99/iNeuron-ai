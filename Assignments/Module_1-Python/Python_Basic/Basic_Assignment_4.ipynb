{
 "cells": [
  {
   "cell_type": "code",
   "execution_count": 2,
   "metadata": {},
   "outputs": [
    {
     "name": "stdout",
     "output_type": "stream",
     "text": [
      "[2, 3, 'abc,True', 67.9]\n"
     ]
    }
   ],
   "source": [
    "# Q1. What exactly is []?\n",
    "\n",
    "# Ans) [] is the way by which we define lists in Python.\n",
    "# Example        \n",
    "list_1 = [2,3,'abc,True',67.9]\n",
    "print(list_1)"
   ]
  },
  {
   "cell_type": "code",
   "execution_count": 3,
   "metadata": {},
   "outputs": [
    {
     "name": "stdout",
     "output_type": "stream",
     "text": [
      "[2, 4, 'hello', 8, 10]\n"
     ]
    }
   ],
   "source": [
    "'''\n",
    "Q2. In a list of values stored in a variable called spam, how would you assign the value 'hello' as the\n",
    "third value? (Assume [2, 4, 6, 8, 10] are in spam.)\n",
    "'''\n",
    "spam = [2,4,6,8,10]\n",
    "spam[2] = 'hello'  # Assigning index 2 value as 'hello' so that the third value is list will be 'hello'\n",
    "print(spam)"
   ]
  },
  {
   "cell_type": "code",
   "execution_count": 6,
   "metadata": {},
   "outputs": [
    {
     "data": {
      "text/plain": [
       "'d'"
      ]
     },
     "execution_count": 6,
     "metadata": {},
     "output_type": "execute_result"
    }
   ],
   "source": [
    "'''\n",
    "Let's pretend the spam includes the list ['a', 'b', 'c', 'd'] for the next three queries.\n",
    "\n",
    "Q3. What is the value of spam[int(int('3' * 2) / 11)]?\n",
    "'''\n",
    "\n",
    "spam = ['a', 'b', 'c', 'd']\n",
    "spam[int(int('3' * 2 )/ 11)]   \n",
    "\n",
    "# The * (replication operator) will convert the string '3' into '33'.\n",
    "# The string '33' will be converted to integer by the int() function.\n",
    "# The integer 33 will be divided by integer 11 to give result as 3.\n",
    "# The result 3 is converted to integer by int() function.\n",
    "# spam[3] returns the element at index 3 = 'd'"
   ]
  },
  {
   "cell_type": "code",
   "execution_count": 7,
   "metadata": {},
   "outputs": [
    {
     "data": {
      "text/plain": [
       "'d'"
      ]
     },
     "execution_count": 7,
     "metadata": {},
     "output_type": "execute_result"
    }
   ],
   "source": [
    "'''\n",
    "Q4. What is the value of spam[-1]?\n",
    "'''\n",
    "\n",
    "spam[-1]\n",
    "\n",
    "# Index -1 indicates that the list will be traversed from backwards direction. So spam[-1] = 'd'"
   ]
  },
  {
   "cell_type": "code",
   "execution_count": 8,
   "metadata": {},
   "outputs": [
    {
     "data": {
      "text/plain": [
       "['a', 'b']"
      ]
     },
     "execution_count": 8,
     "metadata": {},
     "output_type": "execute_result"
    }
   ],
   "source": [
    "'''\n",
    "Q5. What is the value of spam[:2]?\n",
    "'''\n",
    "\n",
    "spam[:2]\n",
    "\n",
    "# [:2] indicates that the list will be travelled from index 0 to 2 and exclude the last index (2). So spam[0:2] = ['a','b']"
   ]
  },
  {
   "cell_type": "code",
   "execution_count": 23,
   "metadata": {},
   "outputs": [
    {
     "data": {
      "text/plain": [
       "1"
      ]
     },
     "execution_count": 23,
     "metadata": {},
     "output_type": "execute_result"
    }
   ],
   "source": [
    "'''\n",
    "Let's pretend bacon has the list [3.14, 'cat' 11, 'cat' True] for the next three questions.\n",
    "\n",
    "Q6. What is the value of bacon.index('cat')?\n",
    "'''\n",
    "\n",
    "bacon = [3.14, 'cat', 11, 'cat', True]\n",
    "bacon.index('cat')\n",
    "\n",
    "# index() function finds the index of the first occurrence of the value specified in the parenthesis. Since there are \n",
    "# 2 'cat' elements in the list, bacon.index('cat') returns the index of first occurrence of 'cat' which is index 1. "
   ]
  },
  {
   "cell_type": "code",
   "execution_count": 24,
   "metadata": {},
   "outputs": [
    {
     "data": {
      "text/plain": [
       "[3.14, 'cat', 11, 'cat', True, 99]"
      ]
     },
     "execution_count": 24,
     "metadata": {},
     "output_type": "execute_result"
    }
   ],
   "source": [
    "'''\n",
    "Q7. How does bacon.append(99) change the look of the list value in bacon?\n",
    "'''\n",
    "\n",
    "bacon.append(99)\n",
    "bacon\n",
    "\n",
    "# append() function adds the value specified in the parenthesis at the end of the list."
   ]
  },
  {
   "cell_type": "code",
   "execution_count": 25,
   "metadata": {},
   "outputs": [
    {
     "data": {
      "text/plain": [
       "[3.14, 11, 'cat', True, 99]"
      ]
     },
     "execution_count": 25,
     "metadata": {},
     "output_type": "execute_result"
    }
   ],
   "source": [
    "'''\n",
    "Q8. How does bacon.remove('cat') change the look of the list in bacon?\n",
    "'''\n",
    "\n",
    "bacon.remove('cat')\n",
    "bacon\n",
    "\n",
    "# remove( ) function removes the first occurrence of the value specified in the parenthesis and shifts every element in the list"
   ]
  },
  {
   "cell_type": "code",
   "execution_count": 29,
   "metadata": {},
   "outputs": [
    {
     "name": "stdout",
     "output_type": "stream",
     "text": [
      "List Concatenation\n",
      "['a', 'b', 3, 9, False, (-9+3j), 'f', 'z', 0, -23, True, 45.7]\n",
      "List Replication\n",
      "['f', 'z', 0, -23, True, 45.7, 'f', 'z', 0, -23, True, 45.7, 'f', 'z', 0, -23, True, 45.7]\n"
     ]
    }
   ],
   "source": [
    "'''\n",
    "Q9. What are the list concatenation and list replication operators?\n",
    "\n",
    "Ans) The list concatenation operator is + and it will add 2 lists together \n",
    "     The list replication operator is * and it replicates or copies the list that many times.\n",
    "'''\n",
    "#Example\n",
    "\n",
    "list_1 = ['a', 'b', 3, 9, False, -9+3j]\n",
    "list_2 = ['f', 'z', 0, -23, True, 45.7]\n",
    "\n",
    "# List Concatenation\n",
    "print(\"List Concatenation\")\n",
    "print(list_1 + list_2)\n",
    "\n",
    "# List Replication\n",
    "print(\"List Replication\")\n",
    "print(list_2 * 3)"
   ]
  },
  {
   "cell_type": "code",
   "execution_count": 39,
   "metadata": {},
   "outputs": [
    {
     "name": "stdout",
     "output_type": "stream",
     "text": [
      "Original list:\n",
      "[0, 1, 2, 3, 4]\n",
      "Inserting using append():\n",
      "[0, 1, 2, 3, 4, 'abc']\n",
      "Inserting 'ghb' using insert() at start:\n",
      "['ghb', 0, 1, 2, 3, 4, 'abc']\n"
     ]
    }
   ],
   "source": [
    "'''\n",
    "Q10. What is difference between the list methods append() and insert()?\n",
    "\n",
    "Ans) The append() method will add the data only at the end of the list whereas the insert() method can add the data \n",
    "     at desired location in the list.\n",
    "     The append() takes 1 argument - the element to be added whereas \n",
    "     the insert() takes 2 arguments - the element to be added and the position where it is to be added.\n",
    "\n",
    "'''\n",
    "\n",
    "list = []\n",
    "for i in range(5):\n",
    "    list.append(i)\n",
    "    \n",
    "print(\"Original list:\")\n",
    "print(list)\n",
    "print(\"Inserting using append():\")\n",
    "list.append('abc')\n",
    "print(list)\n",
    "print(\"Inserting 'ghb' using insert() at start:\")\n",
    "list.insert(0,'ghb')\n",
    "print(list)\n"
   ]
  },
  {
   "cell_type": "code",
   "execution_count": 33,
   "metadata": {},
   "outputs": [
    {
     "name": "stdout",
     "output_type": "stream",
     "text": [
      "Original list:\n",
      "[0, 1, 2, 3, 4, 5, 6, 7, 8, 9]\n",
      "Removing using pop():\n",
      "[0, 1, 2, 3, 4, 5, 6, 7, 8]\n",
      "Removing 3 using remove():\n",
      "[0, 1, 2, 4, 5, 6, 7, 8]\n"
     ]
    }
   ],
   "source": [
    "'''\n",
    "Q11. What are the two methods for removing items from a list?\n",
    "\n",
    "Ans) The 2 methods to remove items from list are:\n",
    "\n",
    "     1) pop() - This function will always remove the last element from the list\n",
    "     2) remove() - This function will remove the first occurrence of the value provided in parenthesis.\n",
    "'''\n",
    "\n",
    "list = []\n",
    "for i in range(10):\n",
    "    list.append(i)\n",
    "    \n",
    "print(\"Original list:\")\n",
    "print(list)\n",
    "print(\"Removing using pop():\")\n",
    "list.pop()\n",
    "print(list)\n",
    "print(\"Removing 3 using remove():\")\n",
    "list.remove(3)\n",
    "print(list)"
   ]
  },
  {
   "cell_type": "code",
   "execution_count": 59,
   "metadata": {},
   "outputs": [
    {
     "name": "stdout",
     "output_type": "stream",
     "text": [
      "list_1[0]: 1\n",
      "string[0]: M\n",
      "\n",
      "list_1[3:6]: [4, 5, 6]\n",
      "string[3:6]: nam\n",
      "\n",
      "list_1[-4]: 7\n",
      "string[-4]: h\n",
      "\n",
      "list_1[::-1]: [10, 9, 8, 7, 6, 5, 4, 3, 2, 1]\n",
      "string[::-1]: yerhS si eman yM\n",
      "\n",
      "len(list_1): 10\n",
      "len(string): 16\n",
      "\n",
      "list_1.index(6): 5\n",
      "string.index('h'): 12\n"
     ]
    }
   ],
   "source": [
    "'''\n",
    "Q12. Describe how list values and string values are identical.\n",
    "\n",
    "Ans) Lists and strings are identical in many ways:\n",
    "    \n",
    "     1) We can access lists and strings using index values, slicing operators.\n",
    "     2) Many methods for list and string manipulation are common.\n",
    "'''\n",
    "\n",
    "list_1 = [1,2,3,4,5,6,7,8,9,10]\n",
    "string = \"My name is Shrey\"\n",
    "\n",
    "print(\"list_1[0]:\",list_1[0])\n",
    "print(\"string[0]:\",string[0])\n",
    "print()\n",
    "print(\"list_1[3:6]:\",list_1[3:6])\n",
    "print(\"string[3:6]:\",string[3:6])\n",
    "print()\n",
    "print(\"list_1[-4]:\",list_1[-4])\n",
    "print(\"string[-4]:\",string[-4])\n",
    "print()\n",
    "print(\"list_1[::-1]:\",list_1[::-1])\n",
    "print(\"string[::-1]:\",string[::-1])\n",
    "print()\n",
    "print(\"len(list_1):\",len(list_1))\n",
    "print(\"len(string):\",len(string))\n",
    "print()\n",
    "print(\"list_1.index(6):\",list_1.index(6))\n",
    "print(\"string.index('h'):\",string.index('h'))\n"
   ]
  },
  {
   "cell_type": "code",
   "execution_count": 62,
   "metadata": {},
   "outputs": [
    {
     "name": "stdout",
     "output_type": "stream",
     "text": [
      "[1, 2, 'hello', 4, 5]\n"
     ]
    },
    {
     "ename": "TypeError",
     "evalue": "'tuple' object does not support item assignment",
     "output_type": "error",
     "traceback": [
      "\u001b[1;31m---------------------------------------------------------------------------\u001b[0m",
      "\u001b[1;31mTypeError\u001b[0m                                 Traceback (most recent call last)",
      "\u001b[1;32m<ipython-input-62-6909b6828da0>\u001b[0m in \u001b[0;36m<module>\u001b[1;34m\u001b[0m\n\u001b[0;32m     10\u001b[0m \u001b[0mprint\u001b[0m\u001b[1;33m(\u001b[0m\u001b[0mlist\u001b[0m\u001b[1;33m)\u001b[0m\u001b[1;33m\u001b[0m\u001b[1;33m\u001b[0m\u001b[0m\n\u001b[0;32m     11\u001b[0m \u001b[1;33m\u001b[0m\u001b[0m\n\u001b[1;32m---> 12\u001b[1;33m \u001b[0mtuple\u001b[0m\u001b[1;33m[\u001b[0m\u001b[1;36m2\u001b[0m\u001b[1;33m]\u001b[0m \u001b[1;33m=\u001b[0m \u001b[1;34m'hello'\u001b[0m      \u001b[1;31m# Tuple is mutable and can support item assignment\u001b[0m\u001b[1;33m\u001b[0m\u001b[1;33m\u001b[0m\u001b[0m\n\u001b[0m\u001b[0;32m     13\u001b[0m \u001b[0mprint\u001b[0m\u001b[1;33m(\u001b[0m\u001b[0mtuple\u001b[0m\u001b[1;33m)\u001b[0m\u001b[1;33m\u001b[0m\u001b[1;33m\u001b[0m\u001b[0m\n",
      "\u001b[1;31mTypeError\u001b[0m: 'tuple' object does not support item assignment"
     ]
    }
   ],
   "source": [
    "'''\n",
    "Q13. What's the difference between tuples and lists?\n",
    "\n",
    "Ans) Difference between tuples and lists is that list is mutable whereas tuple is immutable.\n",
    "'''\n",
    "list = [1,2,3,4,5]\n",
    "tuple = (1,2,3,4,5)\n",
    "\n",
    "list[2] = 'hello'       # List is mutable and can support item assignment\n",
    "print(list)             \n",
    "\n",
    "tuple[2] = 'hello'      # Tuple is immutable and cannot support item assignment\n",
    "print(tuple)"
   ]
  },
  {
   "cell_type": "code",
   "execution_count": 60,
   "metadata": {},
   "outputs": [
    {
     "name": "stdout",
     "output_type": "stream",
     "text": [
      "(42, 'p')\n"
     ]
    }
   ],
   "source": [
    "'''\n",
    "Q14. How do you type a tuple value that only contains the integer 42?\n",
    "'''\n",
    "t = (42,)\n",
    "print(t)\n",
    "\n",
    "# To create a tupe with one item, we need to specify by adding a comma (,) after the value enclosed in parenthesis ()."
   ]
  },
  {
   "cell_type": "code",
   "execution_count": 1,
   "metadata": {},
   "outputs": [
    {
     "name": "stdout",
     "output_type": "stream",
     "text": [
      "List to tuple:\n",
      "(1, 2, 3, 4, 5)\n",
      "Tuple to list:\n",
      "['a', 'b', 'c', 'd', 'e']\n"
     ]
    }
   ],
   "source": [
    "'''\n",
    "Q15. How do you get a list value's tuple form? How do you get a tuple value's list form?\n",
    "\n",
    "Ans) We can get list value's tuple form by passing the list as argument to the tuple() function.\n",
    "     We can get tuple value's list form by passing the tuple as argument to the list() function.\n",
    "'''\n",
    "\n",
    "list_1 = [1,2,3,4,5]\n",
    "tuple_1 = ('a','b','c','d','e')\n",
    "\n",
    "print(\"List to tuple:\")\n",
    "print(tuple(list_1))\n",
    "print(\"Tuple to list:\")\n",
    "print(list(tuple_1))"
   ]
  },
  {
   "cell_type": "code",
   "execution_count": null,
   "metadata": {},
   "outputs": [],
   "source": [
    "'''\n",
    "Q16. Variables that \"contain\" list values are not necessarily lists themselves. Instead, what do they\n",
    "contain?\n",
    "\n",
    "Ans) It is a normal variable that is a kind of reference to a storage in your system.\n",
    "     e.g. a = 5, creates a space in memory having the name as 'a' and storing the value 5 \n",
    "'''"
   ]
  },
  {
   "cell_type": "code",
   "execution_count": null,
   "metadata": {},
   "outputs": [],
   "source": [
    "'''\n",
    "Q17. How do you distinguish between copy.copy() and copy.deepcopy()?\n",
    "\n",
    "'''\n",
    "\n"
   ]
  }
 ],
 "metadata": {
  "kernelspec": {
   "display_name": "Python 3",
   "language": "python",
   "name": "python3"
  },
  "language_info": {
   "codemirror_mode": {
    "name": "ipython",
    "version": 3
   },
   "file_extension": ".py",
   "mimetype": "text/x-python",
   "name": "python",
   "nbconvert_exporter": "python",
   "pygments_lexer": "ipython3",
   "version": "3.8.5"
  }
 },
 "nbformat": 4,
 "nbformat_minor": 4
}
