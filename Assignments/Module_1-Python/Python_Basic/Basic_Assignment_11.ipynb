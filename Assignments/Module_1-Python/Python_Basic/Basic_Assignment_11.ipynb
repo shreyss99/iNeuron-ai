{
 "cells": [
  {
   "cell_type": "markdown",
   "id": "350e0b26",
   "metadata": {},
   "source": [
    "1. Create an assert statement that throws an AssertionError if the variable spam is a negative integer.\n",
    "\n",
    "Ans) assert(spam < 0, 'The spam variable is negative.')"
   ]
  },
  {
   "cell_type": "markdown",
   "id": "5b760597",
   "metadata": {},
   "source": [
    "2. Write an assert statement that triggers an AssertionError if the variables eggs and bacon contain\n",
    "   strings that are the same as each other, even if their cases are different (that is, 'hello' and 'hello' are\n",
    "   considered the same, and 'goodbye' and 'GOODbye' are also considered the same).\n",
    "\n",
    "Ans) \n",
    "\n",
    "assert(eggs.lower() != bacon.lower(), 'The eggs and bacon variables contain same string') or assert(eggs.upper() != bacon.upper(), 'The eggs and bacon variables contain same string')"
   ]
  },
  {
   "cell_type": "markdown",
   "id": "7ddcfca4",
   "metadata": {},
   "source": [
    "3. Write an assert statement that always triggers an AssertionError. \n",
    "\n",
    "Ans) assert(False, 'This assertion always triggers.')"
   ]
  },
  {
   "cell_type": "markdown",
   "id": "1db80211",
   "metadata": {},
   "source": [
    "4. What are the two lines that your program must have in order to be able to call logging.debug()? Answer: To be able to call logging.debug()?\n",
    "\n",
    "Ans)  You must have these two lines at the start of your program: <br><br>\n",
    "import logging<br>\n",
    "logging.basicConfig(level=logging.DEBUG, format=' %(asctime)s - %(levelname)s - %(message)s')"
   ]
  },
  {
   "cell_type": "markdown",
   "id": "307ee9b0",
   "metadata": {},
   "source": [
    "5. What are the two lines that your program must have in order to have logging.debug() send a logging message to a file named programLog.txt?\n",
    "\n",
    "Ans) \n",
    "import logging \n",
    "logging.basicConfig(filename='programLog.txt', level=logging.DEBUG, format=' %(asctime)s - %(levelname)s - %(message)s')"
   ]
  },
  {
   "cell_type": "markdown",
   "id": "712461aa",
   "metadata": {},
   "source": [
    "6. What are the ﬁve logging levels?\n",
    "\n",
    "Ans) DEBUG, INFO, WARNING, ERROR, and CRITICAL"
   ]
  },
  {
   "cell_type": "markdown",
   "id": "c40b2f6e",
   "metadata": {},
   "source": [
    "7. What line of code can you add to disable all logging messages in your program?\n",
    "\n",
    "Ans) logging.disable(logging.CRITICAL)"
   ]
  },
  {
   "cell_type": "markdown",
   "id": "0e4d58be",
   "metadata": {},
   "source": [
    "8. Why is using logging messages better than using print() to display the same message? \n",
    "\n",
    "Ans) \n",
    "\n",
    "You can disable lower-level logging messages. \n",
    "You can create logging messages. \n",
    "Logging messages provides a timestamp."
   ]
  },
  {
   "cell_type": "markdown",
   "id": "ff0fa3b1",
   "metadata": {},
   "source": [
    "9. What are the differences between the Step, Over, and Out buttons in the Debug Control window? \n",
    "\n",
    "Ans)\n",
    "\n",
    "The Step button will move the debugger into a function call. \n",
    "The Over button will quickly execute the function call without stepping into it. \n",
    "The Out button will quickly execute the rest of the code until it steps out of the function it currently is in."
   ]
  },
  {
   "cell_type": "markdown",
   "id": "1b7a6466",
   "metadata": {},
   "source": [
    "10. After you click Go in the Debug Control window, when will the debugger stop?\n",
    "\n",
    "Ans)It will stop when it has reached the end of the program or a line with a breakpoint."
   ]
  },
  {
   "cell_type": "markdown",
   "id": "f6256d03",
   "metadata": {},
   "source": [
    "11. What is a breakpoint? \n",
    "\n",
    "Ans) Breakpoint is an indication on a line of code in the program that causes the debugger to pause when the program execution reaches the line."
   ]
  }
 ],
 "metadata": {
  "kernelspec": {
   "display_name": "Python 3",
   "language": "python",
   "name": "python3"
  },
  "language_info": {
   "codemirror_mode": {
    "name": "ipython",
    "version": 3
   },
   "file_extension": ".py",
   "mimetype": "text/x-python",
   "name": "python",
   "nbconvert_exporter": "python",
   "pygments_lexer": "ipython3",
   "version": "3.8.8"
  }
 },
 "nbformat": 4,
 "nbformat_minor": 5
}
