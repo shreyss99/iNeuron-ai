{
 "cells": [
  {
   "cell_type": "markdown",
   "metadata": {},
   "source": [
    "Q1. How do you distinguish between shutil.copy() and shutil.copytree()?\n",
    "\n",
    "Ans) \n",
    "\n",
    "The shutil.copy() is used to copy a specific file from one location to another.\n",
    "\n",
    "The shutil.copytree() recursively copy an entire directory tree rooted from source to destination.\n"
   ]
  },
  {
   "cell_type": "markdown",
   "metadata": {},
   "source": [
    "Q2. What function is used to rename files??\n",
    "\n",
    "Ans) os.rename(old_name, new_name)\n"
   ]
  },
  {
   "cell_type": "markdown",
   "metadata": {},
   "source": [
    "Q3. What is the difference between the delete functions in the send2trash and shutil modules?\n",
    "\n",
    "Ans) \n",
    "\n",
    "We can delete files and directories through the os.unlink() function (for files), the os.rmdir() function (for empty directories), and the shutil.rmtree() for directories. However, these methods permanently delete files once the deletion occurs and cannot be undone.\n",
    "\n",
    "Instead of deleting permanantly, send2trash module will send it to the trash of the operating system. Therefore, if any mistakes were made in the deletion process, they can be undone by using restore in the recycle bin."
   ]
  },
  {
   "cell_type": "markdown",
   "metadata": {},
   "source": [
    "Q4. ZipFile objects have a close() method just like File objects close() method. What ZipFile method is\n",
    "equivalent to File objects’ open() method?\n",
    "\n",
    "Ans) ZipFile.OpenRead(String)"
   ]
  },
  {
   "cell_type": "code",
   "execution_count": 15,
   "metadata": {},
   "outputs": [
    {
     "name": "stdout",
     "output_type": "stream",
     "text": [
      "Looking in C:\\Users\\PFSL\\OneDrive\\Desktop\\Shrey\\iNeuron-ai\\Assignments\\Module_1-Python\\Python_Basic for files with extensions of .pdf, .jpg, .png\n",
      "\n",
      "Copying C:\\Users\\PFSL\\OneDrive\\Desktop\\Shrey\\iNeuron-ai\\Assignments\\Module_1-Python\\Python_Basic\\Application Start.png to C:\\Users\\PFSL\\OneDrive\\Desktop\\Shrey\\iNeuron-ai\\Assignments\\Module_1-Python\\Python_Basic\\Copy_Folder\n",
      "\n",
      "Copying C:\\Users\\PFSL\\OneDrive\\Desktop\\Shrey\\iNeuron-ai\\Assignments\\Module_1-Python\\Python_Basic\\Decrypted video snapshot.png to C:\\Users\\PFSL\\OneDrive\\Desktop\\Shrey\\iNeuron-ai\\Assignments\\Module_1-Python\\Python_Basic\\Copy_Folder\n",
      "\n",
      "Copying C:\\Users\\PFSL\\OneDrive\\Desktop\\Shrey\\iNeuron-ai\\Assignments\\Module_1-Python\\Python_Basic\\Encrypted video image.png to C:\\Users\\PFSL\\OneDrive\\Desktop\\Shrey\\iNeuron-ai\\Assignments\\Module_1-Python\\Python_Basic\\Copy_Folder\n",
      "\n",
      "Copying C:\\Users\\PFSL\\OneDrive\\Desktop\\Shrey\\iNeuron-ai\\Assignments\\Module_1-Python\\Python_Basic\\Exit application.png to C:\\Users\\PFSL\\OneDrive\\Desktop\\Shrey\\iNeuron-ai\\Assignments\\Module_1-Python\\Python_Basic\\Copy_Folder\n",
      "\n",
      "Copying C:\\Users\\PFSL\\OneDrive\\Desktop\\Shrey\\iNeuron-ai\\Assignments\\Module_1-Python\\Python_Basic\\Original video.png to C:\\Users\\PFSL\\OneDrive\\Desktop\\Shrey\\iNeuron-ai\\Assignments\\Module_1-Python\\Python_Basic\\Copy_Folder\n",
      "\n",
      "Copying C:\\Users\\PFSL\\OneDrive\\Desktop\\Shrey\\iNeuron-ai\\Assignments\\Module_1-Python\\Python_Basic\\Sample Input displayed.png to C:\\Users\\PFSL\\OneDrive\\Desktop\\Shrey\\iNeuron-ai\\Assignments\\Module_1-Python\\Python_Basic\\Copy_Folder\n",
      "\n",
      "Copying C:\\Users\\PFSL\\OneDrive\\Desktop\\Shrey\\iNeuron-ai\\Assignments\\Module_1-Python\\Python_Basic\\Second Screen.png to C:\\Users\\PFSL\\OneDrive\\Desktop\\Shrey\\iNeuron-ai\\Assignments\\Module_1-Python\\Python_Basic\\Copy_Folder\n",
      "\n",
      "Copying C:\\Users\\PFSL\\OneDrive\\Desktop\\Shrey\\iNeuron-ai\\Assignments\\Module_1-Python\\Python_Basic\\Selecting sample input video.png to C:\\Users\\PFSL\\OneDrive\\Desktop\\Shrey\\iNeuron-ai\\Assignments\\Module_1-Python\\Python_Basic\\Copy_Folder\n",
      "\n"
     ]
    }
   ],
   "source": [
    "'''\n",
    "Q5. Create a programme that searches a folder tree for files with a certain file extension (such as .pdf\n",
    "or .jpg). Copy these files from whatever location they are in to a new folder.\n",
    "'''\n",
    "\n",
    "import os, shutil\n",
    "\n",
    "def selectiveCopy(folder, extensions, destFolder):\n",
    "    folder = os.path.abspath(folder)\n",
    "    destFolder = os.path.abspath(destFolder)\n",
    "    print('Looking in', folder, 'for files with extensions of', ', '.join(extensions))\n",
    "    print()\n",
    "    for foldername, subfolders, filenames in os.walk(folder):\n",
    "        for filename in filenames:\n",
    "            name, extension = os.path.splitext(filename)\n",
    "            if extension in extensions:\n",
    "                fileAbsPath = foldername + os.path.sep + filename\n",
    "                print('Copying', fileAbsPath, 'to', destFolder)\n",
    "                print()\n",
    "                shutil.copy(fileAbsPath, destFolder)\n",
    "\n",
    "extensions = ['.pdf, .jpg', '.png']\n",
    "folder = ''\n",
    "destFolder = 'Copy_Folder'\n",
    "selectiveCopy(folder, extensions, destFolder)"
   ]
  },
  {
   "cell_type": "code",
   "execution_count": null,
   "metadata": {},
   "outputs": [],
   "source": []
  }
 ],
 "metadata": {
  "kernelspec": {
   "display_name": "Python 3",
   "language": "python",
   "name": "python3"
  },
  "language_info": {
   "codemirror_mode": {
    "name": "ipython",
    "version": 3
   },
   "file_extension": ".py",
   "mimetype": "text/x-python",
   "name": "python",
   "nbconvert_exporter": "python",
   "pygments_lexer": "ipython3",
   "version": "3.8.8"
  }
 },
 "nbformat": 4,
 "nbformat_minor": 4
}
