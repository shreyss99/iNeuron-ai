{
 "cells": [
  {
   "cell_type": "code",
   "execution_count": null,
   "metadata": {},
   "outputs": [],
   "source": [
    "\"\"\"\n",
    "Q1. What are the differences between operators and values in the following?\n",
    "*\n",
    "'hello'\n",
    "-87.8\n",
    "-\n",
    "/\n",
    "+\n",
    "6\n",
    "\n",
    "Ans)\n",
    "\n",
    "* --> Multiplication operator\n",
    "-87.8 --> Float value\n",
    "- --> Subtraction operator / Unary minus sign (for negative numbers)\n",
    "/ --> Division operator\n",
    "+ --> Addition operator (for numbers) / concatenation (for string)\n",
    "6 --> Integer value\n",
    "\"\"\""
   ]
  },
  {
   "cell_type": "code",
   "execution_count": null,
   "metadata": {},
   "outputs": [],
   "source": [
    "'''\n",
    "Q2. What is the difference between string and variable?\n",
    "spam\n",
    "'spam'\n",
    "\n",
    "Ans)\n",
    "\n",
    "spam - This a variable defined in Python\n",
    "'spam' - This is a string with value as spam\n",
    "'''"
   ]
  },
  {
   "cell_type": "code",
   "execution_count": null,
   "metadata": {},
   "outputs": [],
   "source": [
    "''' \n",
    "Q3. Describe three different data forms.\n",
    "\n",
    "Ans)\n",
    "\n",
    "1) int - This data type is used to store any integer values.\n",
    "e.g. a = 10\n",
    "     type(a) \n",
    "     int\n",
    "2) float - This data type is used to store floating-point or fractional values.\n",
    "e.g. b = 10.5\n",
    "     type(b) \n",
    "     float\n",
    "3) bool - Thes data type can be used to store logical values either True or False.\n",
    "e.g. c = False\n",
    "     type(c) \n",
    "     bool\n",
    "4) complex - This data type is used to store complex numbers. eg. 2 + 3j\n",
    "e.g. d = 2+3j\n",
    "     type(d) \n",
    "     complex \n",
    "\n",
    "'''"
   ]
  },
  {
   "cell_type": "code",
   "execution_count": null,
   "metadata": {},
   "outputs": [],
   "source": [
    "'''\n",
    "Q4. What makes up an expression? What are the functions of all expressions?\n",
    "\n",
    "Ans)\n",
    "\n",
    "Expressions are made up of literals, variables, operands and operators.\n",
    "Expressions gives single output after operating upon the values / operands.\n",
    "'''"
   ]
  },
  {
   "cell_type": "code",
   "execution_count": null,
   "metadata": {},
   "outputs": [],
   "source": [
    "'''\n",
    "Q5. In this chapter, assignment statements such as spam = 10 were added. \n",
    "What's the difference between a declaration and an expression?\n",
    "\n",
    "Ans) \n",
    "\n",
    "A declaration is just a statement which performs some action but an expression operates upon values and generates a result.\n",
    "'''"
   ]
  },
  {
   "cell_type": "code",
   "execution_count": 6,
   "metadata": {},
   "outputs": [
    {
     "data": {
      "text/plain": [
       "23"
      ]
     },
     "execution_count": 6,
     "metadata": {},
     "output_type": "execute_result"
    }
   ],
   "source": [
    "#Q6. After running the following code, what does the variable bacon contain?\n",
    "\n",
    "bacon = 22\n",
    "bacon + 1\n",
    "\n",
    "# The original value of bacon = 22. In the 2nd instruction we are adding 1 to the value of bacon and it gets incremented by 1. \n",
    "# So bacon has value = 23.\n"
   ]
  },
  {
   "cell_type": "code",
   "execution_count": 8,
   "metadata": {},
   "outputs": [
    {
     "name": "stdout",
     "output_type": "stream",
     "text": [
      "spamspamspam\n",
      "spamspamspam\n"
     ]
    }
   ],
   "source": [
    "# Q7. What should the values of the following two terms be?\n",
    "\n",
    "print('spam' + 'spamspam')\n",
    "print('spam' * 3)"
   ]
  },
  {
   "cell_type": "code",
   "execution_count": null,
   "metadata": {},
   "outputs": [],
   "source": [
    "'''\n",
    "Q8. Why is it that eggs is a true variable name but 100 is not?\n",
    "\n",
    "Ans)\n",
    "\n",
    "As per the naming conventions of variables, the variable name can start with alphabets but not with numbers. \n",
    "So eggs is a valid variable but 100 is not.\n",
    "'''"
   ]
  },
  {
   "cell_type": "code",
   "execution_count": null,
   "metadata": {},
   "outputs": [],
   "source": [
    "'''\n",
    "Q9. Which of the following three functions may be used to convert a value to an integer, a floating-point number, or a string?\n",
    "\n",
    "Ans)\n",
    "\n",
    "We can use the int() funtion to convert a value to integer number.\n",
    "We can use the float() funtion to convert a value to floating-point number.\n",
    "We can use the str() funtion to convert a value to string.\n",
    "'''"
   ]
  },
  {
   "cell_type": "code",
   "execution_count": 9,
   "metadata": {},
   "outputs": [
    {
     "ename": "TypeError",
     "evalue": "can only concatenate str (not \"int\") to str",
     "output_type": "error",
     "traceback": [
      "\u001b[1;31m---------------------------------------------------------------------------\u001b[0m",
      "\u001b[1;31mTypeError\u001b[0m                                 Traceback (most recent call last)",
      "\u001b[1;32m<ipython-input-9-69163239816e>\u001b[0m in \u001b[0;36m<module>\u001b[1;34m\u001b[0m\n\u001b[0;32m      1\u001b[0m \u001b[1;31m# Q10. What is the error caused by this expression? What would you do about it?\u001b[0m\u001b[1;33m\u001b[0m\u001b[1;33m\u001b[0m\u001b[1;33m\u001b[0m\u001b[0m\n\u001b[0;32m      2\u001b[0m \u001b[1;33m\u001b[0m\u001b[0m\n\u001b[1;32m----> 3\u001b[1;33m \u001b[1;34m'I have eaten '\u001b[0m\u001b[1;33m+\u001b[0m\u001b[1;36m99\u001b[0m\u001b[1;33m+\u001b[0m\u001b[1;34m' burritos'\u001b[0m\u001b[1;33m\u001b[0m\u001b[1;33m\u001b[0m\u001b[0m\n\u001b[0m\u001b[0;32m      4\u001b[0m \u001b[1;33m\u001b[0m\u001b[0m\n\u001b[0;32m      5\u001b[0m \u001b[1;31m# When we run the below expression we get a TypeError because there are 2 different types. 99 is an integer and 'I have eaten' and 'burritos' are strings. Since they are different types thet will result in a conflict and give us error.,\u001b[0m\u001b[1;33m\u001b[0m\u001b[1;33m\u001b[0m\u001b[1;33m\u001b[0m\u001b[0m\n",
      "\u001b[1;31mTypeError\u001b[0m: can only concatenate str (not \"int\") to str"
     ]
    }
   ],
   "source": [
    "# Q10. What is the error caused by this expression? What would you do about it?\n",
    "\n",
    "'I have eaten '+99+' burritos'\n",
    "\n",
    "# When we run the below expression we get a TypeError because there are 2 different types. \n",
    "# 99 is an integer and 'I have eaten' and 'burritos' are strings. \n",
    "# Since they are different types thet will result in a conflict and give us error.\n",
    "\n",
    "# To handle this we need to convert 99 (an intgeer) into string type by typecasting. \n",
    "# We can use str() to typecast it as follows:'I have eaten '+str(99)+' burritos'\n"
   ]
  }
 ],
 "metadata": {
  "kernelspec": {
   "display_name": "Python 3",
   "language": "python",
   "name": "python3"
  },
  "language_info": {
   "codemirror_mode": {
    "name": "ipython",
    "version": 3
   },
   "file_extension": ".py",
   "mimetype": "text/x-python",
   "name": "python",
   "nbconvert_exporter": "python",
   "pygments_lexer": "ipython3",
   "version": "3.8.5"
  }
 },
 "nbformat": 4,
 "nbformat_minor": 4
}
