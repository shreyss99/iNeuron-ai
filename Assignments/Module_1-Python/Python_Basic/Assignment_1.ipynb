{
 "cells": [
  {
   "cell_type": "raw",
   "metadata": {},
   "source": [
    "1. What are the differences between operators and values in the following?\n",
    "*\n",
    "'hello'\n",
    "-87.8\n",
    "-\n",
    "/\n",
    "+\n",
    "6\n",
    "\n",
    "Ans)\n",
    "\n",
    "* --> Multiplication operator\n",
    "-87.8 --> Float value\n",
    "- --> Subtraction operator / Unary minus sign (for negative numbers)\n",
    "/ --> Division operator\n",
    "+ --> Addition operator (for numbers) / concatenation (for string)\n",
    "6 --> Integer value"
   ]
  },
  {
   "cell_type": "raw",
   "metadata": {},
   "source": [
    "2. What is the difference between string and variable?\n",
    "spam\n",
    "'spam'\n",
    "\n",
    "Ans)\n",
    "\n",
    "spam - This a variable defined in Python\n",
    "'spam' - This is a string with value as spam"
   ]
  },
  {
   "cell_type": "raw",
   "metadata": {},
   "source": [
    "3. Describe three different data forms.\n",
    "\n",
    "Ans)\n",
    "\n",
    "1) int - This data type is used to store any integer values.\n",
    "e.g. a = 10\n",
    "     type(a) \n",
    "     int\n",
    "2) float - This data type is used to store floating-point or fractional values.\n",
    "e.g. b = 10.5\n",
    "     type(b) \n",
    "     float\n",
    "3) bool - Thes data type can be used to store logical values either True or False.\n",
    "e.g. c = False\n",
    "     type(c) \n",
    "     bool\n",
    "4) complex - This data type is used to store complex numbers. eg. 2 + 3j\n",
    "e.g. d = 2+3j\n",
    "     type(d) \n",
    "     complex"
   ]
  },
  {
   "cell_type": "raw",
   "metadata": {},
   "source": [
    "4. What makes up an expression? What are the functions of all expressions?\n",
    "\n",
    "Ans)\n",
    "\n",
    "Expressions are made up of literals, variables, operands and operators.\n",
    "Expressions gives single output after operating upon the values / operands."
   ]
  },
  {
   "cell_type": "raw",
   "metadata": {},
   "source": [
    "5. In this chapter, assignment statements such as spam = 10 were added. What's the difference between a declaration and an expression?\n",
    "\n",
    "Ans) \n",
    "\n",
    "A declaration is just a statement which performs some action but an expression operates upon values and generates a result."
   ]
  },
  {
   "cell_type": "raw",
   "metadata": {},
   "source": [
    "6. After running the following code, what does the variable bacon contain?\n",
    "bacon = 22\n",
    "bacon + 1\n",
    "\n",
    "Ans)\n",
    "\n",
    "The original value of bacon = 22. In the 2nd instruction we are adding 1 to the value of bacon and it gets incremented by 1\n",
    "So bacon has value = 23."
   ]
  },
  {
   "cell_type": "raw",
   "metadata": {},
   "source": [
    "7. What should the values of the following two terms be?\n",
    "\n",
    "'spam' + 'spamspam'\n",
    "'spam' * 3\n",
    "\n",
    "Ans) \n",
    "\n",
    "The 1st instruction has value --> 'spamspamspam'\n",
    "The 2nd instruction has value --> 'spamspamspam'"
   ]
  },
  {
   "cell_type": "raw",
   "metadata": {},
   "source": [
    "8. Why is it that eggs is a true variable name but 100 is not?\n",
    "\n",
    "Ans)\n",
    "\n",
    "As per the naming conventions of variables, the variable name can start with alphabets but not with numbers. So eggs is a valid variable but 100 is not."
   ]
  },
  {
   "cell_type": "raw",
   "metadata": {},
   "source": [
    "9. Which of the following three functions may be used to convert a value to an integer, a floating-point number, or a string?\n",
    "\n",
    "Ans)\n",
    "\n",
    "We can use the int() funtion to convert a value to integer number.\n",
    "We can use the float() funtion to convert a value to floating-point number.\n",
    "We can use the str() funtion to convert a value to string."
   ]
  },
  {
   "cell_type": "raw",
   "metadata": {},
   "source": [
    "10. What is the error caused by this expression? What would you do about it?\n",
    "\n",
    "'I have eaten '+99+' burritos'\n",
    "\n",
    "Ans)\n",
    "\n",
    "When we run the below expression we get a TypeError because there are 2 different types. 99 is an integer and 'I have eaten' and 'burritos' are strings. Since they are different types thet will result in a conflict and give us error.,\n",
    "\n",
    "To handle this we need to convert 99 (an intgeer) into string type by typecasting. We can use str() to typecast it as follows:\n",
    "'I have eaten '+str(99)+' burritos'\n"
   ]
  }
 ],
 "metadata": {
  "kernelspec": {
   "display_name": "Python 3",
   "language": "python",
   "name": "python3"
  },
  "language_info": {
   "codemirror_mode": {
    "name": "ipython",
    "version": 3
   },
   "file_extension": ".py",
   "mimetype": "text/x-python",
   "name": "python",
   "nbconvert_exporter": "python",
   "pygments_lexer": "ipython3",
   "version": "3.8.5"
  }
 },
 "nbformat": 4,
 "nbformat_minor": 4
}
