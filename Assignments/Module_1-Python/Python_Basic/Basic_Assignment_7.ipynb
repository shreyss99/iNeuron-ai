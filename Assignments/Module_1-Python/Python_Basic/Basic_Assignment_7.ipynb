{
 "cells": [
  {
   "cell_type": "markdown",
   "id": "f5527887",
   "metadata": {},
   "source": [
    "1. What is the name of the feature responsible for generating Regex objects? \n",
    "\n",
    "Ans) re.compile()"
   ]
  },
  {
   "cell_type": "markdown",
   "id": "82cb2dd3",
   "metadata": {},
   "source": [
    "2. Why do raw strings often appear in Regex objects?\n",
    "\n",
    "Ans) Because backslashes do not have to be escaped."
   ]
  },
  {
   "cell_type": "markdown",
   "id": "e80b2136",
   "metadata": {},
   "source": [
    "3. What is the return value of the search() method?\n",
    "\n",
    "Ans) re.search() function will search the regular expression pattern and return the first occurrence."
   ]
  },
  {
   "cell_type": "markdown",
   "id": "b0bbc156",
   "metadata": {},
   "source": [
    "4. From a Match item, how do you get the actual strings that match the pattern?\n",
    "\n",
    "Ans) group() returns strings of the matched text"
   ]
  },
  {
   "cell_type": "markdown",
   "id": "de10221d",
   "metadata": {},
   "source": [
    "5. In the regex which created from the (\\d\\d\\d)-(\\d\\d\\d-\\d\\d\\d\\d)&#39;, what does group zero cover? Group 2? Group 1?\n",
    "\n",
    "Ans) \n",
    "Group 0 covers the entire match, \n",
    "Group 1 covers the ﬁrst set of parentheses\n",
    "Group 2 covers the second set of parentheses"
   ]
  },
  {
   "cell_type": "code",
   "execution_count": null,
   "id": "119f5252",
   "metadata": {},
   "outputs": [],
   "source": [
    "'''6. In standard expression syntax, parentheses and intervals have distinct meanings.\n",
    "How can you tell a regex that you want it to fit real parentheses and periods?\n",
    "\n",
    "Ans) . & () can be escaped with a backslash: \n",
    "\\.\n",
    "\\(\n",
    "\\)\n",
    "\n",
    "'''"
   ]
  },
  {
   "cell_type": "markdown",
   "id": "746b9c27",
   "metadata": {},
   "source": [
    "7. The findall() method returns a string list or a list of string tuples. What causes it to return one of\n",
    "the two options?\n",
    "\n",
    "Ans) <br>\n",
    "If regex has no groups so a list of strings is returned <br>\n",
    "If regex has groups so a list of tuples is returned."
   ]
  },
  {
   "cell_type": "markdown",
   "id": "34476bf0",
   "metadata": {},
   "source": [
    "8. In standard expressions, what does the | character mean?\n",
    "\n",
    "Ans) It checks matching 'either, or' between two groups."
   ]
  },
  {
   "cell_type": "markdown",
   "id": "ad6d4dd3",
   "metadata": {},
   "source": [
    "9. In regular expressions, what does | the character stand for?\n",
    "\n",
    "Ans) It checks matching 'either, or' between two groups."
   ]
  },
  {
   "cell_type": "markdown",
   "id": "1c7021f2",
   "metadata": {},
   "source": [
    "10. In regular expressions, what is the difference between the + and * characters?\n",
    "\n",
    "Ans) + matches one or more. <br> * matches zero or more"
   ]
  },
  {
   "cell_type": "markdown",
   "id": "03d31a34",
   "metadata": {},
   "source": [
    "11. What is the difference between {4} and {4,5} in regular expression?\n",
    "\n",
    "Ans) {4} matches exactly four instances of the preceding group.  {4,5} matches between four and ﬁve instances."
   ]
  },
  {
   "cell_type": "markdown",
   "id": "fd84fe9d",
   "metadata": {},
   "source": [
    "12. What do you mean by the \\d, \\w, and \\s shorthand character classes signify in regular expressions?\n",
    "\n",
    "Ans) <br>\n",
    "\\\\d represents single digit <br>\n",
    "\\\\w represents word <br>\n",
    "\\\\s represents space character"
   ]
  },
  {
   "cell_type": "markdown",
   "id": "977da924",
   "metadata": {},
   "source": [
    "13. What do means by \\D, \\W, and \\S shorthand character classes signify in regular expressions?\n",
    "\n",
    "Ans) character classes match a single character that is not a digit, word, or space character, respectively"
   ]
  },
  {
   "cell_type": "markdown",
   "id": "1dc5bf4a",
   "metadata": {},
   "source": [
    "14. What is the difference between .*? and .*?\n",
    "\n",
    "Ans) Wrong question"
   ]
  },
  {
   "cell_type": "markdown",
   "id": "41644d36",
   "metadata": {},
   "source": [
    "15. What is the syntax for matching both numbers and lowercase letters with a character class?\n",
    "\n",
    "Ans) [0-9a-z] or [a-z0-9]"
   ]
  },
  {
   "cell_type": "markdown",
   "id": "f373b541",
   "metadata": {},
   "source": [
    "16.  What is the procedure for making a normal expression in regax case insensitive?\n",
    "\n",
    "Ans) re.IGNORECASE as the second argument to re.compile()"
   ]
  },
  {
   "cell_type": "markdown",
   "id": "8b766c84",
   "metadata": {},
   "source": [
    "17. What does the . character normally match? What does it match if re.DOTALL is passed as 2nd argument in re.compile()?\n",
    "\n",
    "Ans) \n",
    ". character matches any character except the newline character. <br>\n",
    "re.DOTALL is passed as the second argument to re.compile(), the dot will also match newline characters."
   ]
  },
  {
   "cell_type": "markdown",
   "id": "5545bd03",
   "metadata": {},
   "source": [
    "18. If numReg = re.compile(r'\\d+'), what will numRegex.sub('X', '11 drummers, 10 pipers, five rings, 4 hens') return?\n",
    "\n",
    "Ans) 'X drummers, X pipers, five rings, X hens'"
   ]
  },
  {
   "cell_type": "markdown",
   "id": "7e997159",
   "metadata": {},
   "source": [
    "19. What does passing re.VERBOSE as the 2nd argument to re.compile() allow to do?\n",
    "\n",
    "Ans) re.VERBOSE argument allows you to add whitespace and comments to the string passed to re.compile()"
   ]
  },
  {
   "cell_type": "markdown",
   "id": "2297c0be",
   "metadata": {},
   "source": [
    "20. How would you write a regex that match a number with comma for every three digits? It must match the given following:<br>\n",
    "'42'<br>\n",
    "'1,234'<br>\n",
    "'6,368,745'<br>\n",
    "\n",
    "but not the following:<br>\n",
    "'12,34,567' (which has only two digits between the commas)<br>\n",
    "'1234' (which lacks commas)\n",
    "\n",
    "Ans) re.compile(r'^\\d{1,3}(,{3})*$')"
   ]
  },
  {
   "cell_type": "markdown",
   "id": "8fd0c95a",
   "metadata": {},
   "source": [
    "21. How would you write a regex that matches the full name of someone whose last name is Watanabe? You can assume that the first name that comes before it will always be one word that begins with a capital letter. The regex must match the following:<br>\n",
    "'Haruto Watanabe'<br>\n",
    "'Alice Watanabe'<br>\n",
    "'RoboCop Watanabe'<br>\n",
    "but not the following:<br>\n",
    "'haruto Watanabe' (where the first name is not capitalized)<br>\n",
    "'Mr. Watanabe' (where the preceding word has a nonletter character)<br>\n",
    "'Watanabe' (which has no first name)<br>\n",
    "'Haruto watanabe' (where Watanabe is not capitalized)\n",
    "\n",
    "\n",
    "Ans) re.compile(r'[A-Z][a-z]*\\sWatanabe')"
   ]
  },
  {
   "cell_type": "markdown",
   "id": "dabc194d",
   "metadata": {},
   "source": [
    "22. How would you write a regex that matches a sentence where the ﬁrst word is either Alice, Bob, or Carol; the second word is either eats, pets, or throws; the third word is apples, cats, or baseballs; and the sentence ends with a period? This regex should be case-insensitive. It must match the following:\n",
    "•\t'Alice eats apples.'\n",
    "•\t'Bob pets cats.'  \n",
    "•\t'Carol throws baseballs.' \n",
    "•\t'Alice throws Apples.'\n",
    "•\t'BOB EATS CATS.' \n",
    "but not the following:  \n",
    "•\t'Robo?op eats apples.'\n",
    "•\t'ALICE THROWS FOOTBALLS.'\n",
    "•\t'Carol eats 7 cats.'\n",
    "\n",
    "\n",
    "Ans) re.compile(r'(Alice|Bob|Carol)\\s(eats|pets|throws)\\ s(apples|cats|baseballs)\\.', re.IGNORECASE)"
   ]
  }
 ],
 "metadata": {
  "kernelspec": {
   "display_name": "Python 3",
   "language": "python",
   "name": "python3"
  },
  "language_info": {
   "codemirror_mode": {
    "name": "ipython",
    "version": 3
   },
   "file_extension": ".py",
   "mimetype": "text/x-python",
   "name": "python",
   "nbconvert_exporter": "python",
   "pygments_lexer": "ipython3",
   "version": "3.8.8"
  }
 },
 "nbformat": 4,
 "nbformat_minor": 5
}
