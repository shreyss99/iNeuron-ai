{
 "cells": [
  {
   "cell_type": "code",
   "execution_count": 1,
   "metadata": {},
   "outputs": [
    {
     "name": "stdout",
     "output_type": "stream",
     "text": [
      "Enter the length of the list: 6\n",
      "0\n",
      "2\n",
      "4\n",
      "6\n",
      "8\n",
      "10\n",
      "Enter the value to be added: 3\n"
     ]
    },
    {
     "data": {
      "text/plain": [
       "[2, 4, 6, 8, 10, 3]"
      ]
     },
     "execution_count": 1,
     "metadata": {},
     "output_type": "execute_result"
    }
   ],
   "source": [
    "'''\n",
    "Question1\n",
    "Write a function that takes a list and a number as arguments. Add the number to the end of\n",
    "the list, then remove the first element of the list. The function should then return the updated\n",
    "list.\n",
    "Examples\n",
    "next_in_line([5, 6, 7, 8, 9], 1) ➞ [6, 7, 8, 9, 1]\n",
    "next_in_line([7, 6, 3, 23, 17], 10) ➞ [6, 3, 23, 17, 10]\n",
    "next_in_line([1, 10, 20, 42 ], 6) ➞ [10, 20, 42, 6]\n",
    "next_in_line([], 6) ➞ \"No list has been selected\"\n",
    "'''\n",
    "\n",
    "def next_in_line(list,value):\n",
    "    list.append(value)\n",
    "    list.remove(list[0])\n",
    "    return list\n",
    "\n",
    "length = int(input(\"Enter the length of the list: \"))\n",
    "list = []\n",
    "for i in range(length):\n",
    "    list.append(int(input()))\n",
    "value = int(input(\"Enter the value to be added: \"))\n",
    "next_in_line(list,value)"
   ]
  },
  {
   "cell_type": "code",
   "execution_count": 6,
   "metadata": {},
   "outputs": [
    {
     "data": {
      "text/plain": [
       "69000"
      ]
     },
     "execution_count": 6,
     "metadata": {},
     "output_type": "execute_result"
    }
   ],
   "source": [
    "'''\n",
    "Question2\n",
    "Create the function that takes a list of dictionaries and returns the sum of people's budgets.\n",
    "Examples\n",
    "get_budgets([\n",
    "{ \"name\": \"John\", \"age\": 21, \"budget\": 23000 },\n",
    "{ \"name\": \"Steve\", \"age\": 32, \"budget\": 40000 },\n",
    "{ \"name\": \"Martin\", \"age\": 16, \"budget\": 2700 }\n",
    "]) ➞ 65700\n",
    "get_budgets([\n",
    "{ \"name\": \"John\", \"age\": 21, \"budget\": 29000 },\n",
    "{ \"name\": \"Steve\", \"age\": 32, \"budget\": 32000 },\n",
    "{ \"name\": \"Martin\", \"age\": 16, \"budget\": 1600 }\n",
    "]) ➞ 62600\n",
    "'''\n",
    "\n",
    "def get_budgets(budget_list):\n",
    "    budget = 0\n",
    "    for i in budget_list:\n",
    "        budget += i[\"budget\"]\n",
    "    return budget\n",
    "\n",
    "get_budgets([\n",
    "{ \"name\": \"John\", \"age\": 21, \"budget\": 23000 },\n",
    "{ \"name\": \"Steve\", \"age\": 32, \"budget\": 23000 },\n",
    "{ \"name\": \"Martin\", \"age\": 16, \"budget\": 23000 }\n",
    "])"
   ]
  },
  {
   "cell_type": "code",
   "execution_count": 9,
   "metadata": {},
   "outputs": [
    {
     "name": "stdout",
     "output_type": "stream",
     "text": [
      "Enter the string: data scientist\n",
      "The alphabet soup of data scientist is  aacdeiinssttt\n"
     ]
    }
   ],
   "source": [
    "'''\n",
    "Question3\n",
    "Create a function that takes a string and returns a string with its letters in alphabetical order.\n",
    "Examples\n",
    "alphabet_soup(\"hello\") ➞ \"ehllo\"\n",
    "alphabet_soup(\"edabit\") ➞ \"abdeit\"\n",
    "alphabet_soup(\"hacker\") ➞ \"acehkr\"\n",
    "alphabet_soup(\"geek\") ➞ \"eegk\"\n",
    "alphabet_soup(\"javascript\") ➞ \"aacijprstv\"\n",
    "'''\n",
    "\n",
    "def alphabet_soup(string):\n",
    "    list = []\n",
    "    for i in string:\n",
    "        list.append(i)\n",
    "    list.sort()\n",
    "    soup = \"\"\n",
    "    for i in list:\n",
    "        soup += i\n",
    "    return soup\n",
    "        \n",
    "string = input(\"Enter the string: \")\n",
    "print(\"The alphabet soup of {} is {}\".format(string,alphabet_soup(string)))"
   ]
  },
  {
   "cell_type": "code",
   "execution_count": 15,
   "metadata": {},
   "outputs": [
    {
     "name": "stdout",
     "output_type": "stream",
     "text": [
      "Enter the principal: 100000\n",
      "Enter the time: 20\n",
      "Enter the rate: 0.15\n",
      "Enter the compounding period: 365\n",
      "The compound interest is 2007316.26\n"
     ]
    }
   ],
   "source": [
    "'''\n",
    "Question4\n",
    "Suppose that you invest $10,000 for 10 years at an interest rate of 6% compounded monthly.\n",
    "What will be the value of your investment at the end of the 10 year period?\n",
    "Create a function that accepts the principal p, the term in years t, the interest rate r, and the\n",
    "number of compounding periods per year n. The function returns the value at the end of term\n",
    "rounded to the nearest cent.\n",
    "For the example above:\n",
    "compound_interest(10000, 10, 0.06, 12) ➞ 18193.97\n",
    "Note that the interest rate is given as a decimal and n=12 because with monthly compounding\n",
    "there are 12 periods per year. Compounding can also be done annually, quarterly, weekly, or\n",
    "daily.\n",
    "Examples\n",
    "compound_interest(100, 1, 0.05, 1) ➞ 105.0\n",
    "compound_interest(3500, 15, 0.1, 4) ➞ 15399.26\n",
    "compound_interest(100000, 20, 0.15, 365) ➞ 2007316.26\n",
    "'''\n",
    "\n",
    "import math\n",
    "\n",
    "def compound_interest(principal,time,rate,comp_period):\n",
    "    amount = principal * math.pow((1 + rate/comp_period),(time * comp_period))\n",
    "    return round(amount,2)\n",
    "\n",
    "principal = float(input(\"Enter the principal: \"))\n",
    "time = float(input(\"Enter the time: \"))\n",
    "rate = float(input(\"Enter the rate: \"))\n",
    "comp_period = float(input(\"Enter the compounding period: \"))\n",
    "print(\"The compound interest is {}\".format(compound_interest(principal,time,rate,comp_period)))"
   ]
  },
  {
   "cell_type": "code",
   "execution_count": 22,
   "metadata": {},
   "outputs": [
    {
     "data": {
      "text/plain": [
       "[10, 56, 20, 3]"
      ]
     },
     "execution_count": 22,
     "metadata": {},
     "output_type": "execute_result"
    }
   ],
   "source": [
    "'''\n",
    "Question5\n",
    "Write a function that takes a list of elements and returns only the integers.\n",
    "Examples\n",
    "return_only_integer([9, 2, \"space\", \"car\", \"lion\", 16]) ➞ [9, 2, 16]\n",
    "return_only_integer([\"hello\", 81, \"basketball\", 123, \"fox\"]) ➞ [81, 123]\n",
    "return_only_integer([10, \"121\", 56, 20, \"car\", 3, \"lion\"]) ➞ [10, 56, 20,\n",
    "3]\n",
    "return_only_integer([\"String\", True, 3.3, 1]) ➞ [1]\n",
    "'''\n",
    "\n",
    "def return_only_integer(list):\n",
    "    for i in range(len(list)-1,-1,-1):\n",
    "        if type(list[i]) != int:\n",
    "            list.remove(list[i])\n",
    "    return list\n",
    "            \n",
    "return_only_integer([10, \"121\", 56, 20, \"car\", 3, \"lion\"])"
   ]
  }
 ],
 "metadata": {
  "kernelspec": {
   "display_name": "Python 3",
   "language": "python",
   "name": "python3"
  },
  "language_info": {
   "codemirror_mode": {
    "name": "ipython",
    "version": 3
   },
   "file_extension": ".py",
   "mimetype": "text/x-python",
   "name": "python",
   "nbconvert_exporter": "python",
   "pygments_lexer": "ipython3",
   "version": "3.8.5"
  }
 },
 "nbformat": 4,
 "nbformat_minor": 4
}
