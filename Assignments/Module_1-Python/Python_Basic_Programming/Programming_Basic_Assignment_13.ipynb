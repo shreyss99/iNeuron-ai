{
 "cells": [
  {
   "cell_type": "code",
   "execution_count": 7,
   "metadata": {},
   "outputs": [
    {
     "name": "stdout",
     "output_type": "stream",
     "text": [
      "Enter the value of variable D: 200\n",
      "The value of Q is 25 for given D = 200.\n"
     ]
    }
   ],
   "source": [
    "'''\n",
    "Question 1:\n",
    "Write a program that calculates and prints the value according to the given formula:\n",
    "Q = Square root of [(2 * C * D)/H]\n",
    "Following are the fixed values of C and H:\n",
    "C is 50. H is 30.\n",
    "D is the variable whose values should be input to your program in a comma-separated\n",
    "sequence.\n",
    "Example\n",
    "Let us assume the following comma separated input sequence is given to the program:\n",
    "100,150,180\n",
    "The output of the program should be:\n",
    "18,22,24\n",
    "'''\n",
    "\n",
    "import math\n",
    "\n",
    "def square_root(D):\n",
    "    C = 50\n",
    "    H = 30\n",
    "    Q = math.pow((2*C*D)/H, 0.5)\n",
    "    return int(Q)\n",
    "    \n",
    "D = int(input(\"Enter the value of variable D: \"))\n",
    "print(\"The value of Q is {} for given D = {}.\".format(square_root(D), D))"
   ]
  },
  {
   "cell_type": "code",
   "execution_count": 11,
   "metadata": {},
   "outputs": [
    {
     "name": "stdout",
     "output_type": "stream",
     "text": [
      "Enter the number of rows: 5\n",
      "Enter the number of columns: 5\n",
      "The generated matrix is: \n"
     ]
    },
    {
     "data": {
      "text/plain": [
       "[[0, 0, 0, 0, 0],\n",
       " [0, 1, 2, 3, 4],\n",
       " [0, 2, 4, 6, 8],\n",
       " [0, 3, 6, 9, 12],\n",
       " [0, 4, 8, 12, 16]]"
      ]
     },
     "execution_count": 11,
     "metadata": {},
     "output_type": "execute_result"
    }
   ],
   "source": [
    "'''\n",
    "Question 2:\n",
    "Write a program which takes 2 digits, X,Y as input and generates a 2-dimensional array. The\n",
    "element value in the i-th row and j-th column of the array should be i*j.\n",
    "Note: i=0,1.., X-1; j=0,1,¡Y-1.\n",
    "Example\n",
    "Suppose the following inputs are given to the program:\n",
    "3,5\n",
    "Then, the output of the program should be:\n",
    "[[0, 0, 0, 0, 0], [0, 1, 2, 3, 4], [0, 2, 4, 6, 8]]\n",
    "'''\n",
    "\n",
    "import array as arr\n",
    "\n",
    "def generate_matrix(row,col):\n",
    "    matrix = [[0 for y in range(col)] for x in range(row)]\n",
    "    for i in range(row):\n",
    "        for j in range(col):\n",
    "            matrix[i][j] = i*j\n",
    "    return matrix\n",
    "    \n",
    "row = int(input(\"Enter the number of rows: \"))\n",
    "col = int(input(\"Enter the number of columns: \"))\n",
    "\n",
    "print(\"The generated matrix is: \")\n",
    "generate_matrix(row,col)"
   ]
  },
  {
   "cell_type": "code",
   "execution_count": 26,
   "metadata": {},
   "outputs": [
    {
     "name": "stdout",
     "output_type": "stream",
     "text": [
      "Enter the comma separated list of words: \n",
      "without,hello,bag,world\n",
      "The alphabetically sorted words are: \n",
      "bag,hello,without,world,"
     ]
    }
   ],
   "source": [
    "'''\n",
    "Question 3:\n",
    "Write a program that accepts a comma separated sequence of words as input and prints the\n",
    "words in a comma-separated sequence after sorting them alphabetically.\n",
    "Suppose the following input is supplied to the program:\n",
    "without,hello,bag,world\n",
    "Then, the output should be:\n",
    "bag,hello,without,world\n",
    "'''\n",
    "\n",
    "def sort(list):\n",
    "    list.sort()\n",
    "    return list\n",
    "    \n",
    "print(\"Enter the comma separated list of words: \")\n",
    "list = input().split(\",\")\n",
    "print(\"The alphabetically sorted words are: \")\n",
    "sorted = sort(list)\n",
    "for i in sorted:\n",
    "    print(i,end=\",\")"
   ]
  },
  {
   "cell_type": "code",
   "execution_count": 49,
   "metadata": {},
   "outputs": [
    {
     "name": "stdout",
     "output_type": "stream",
     "text": [
      "Enter the space separated list of words: \n",
      "write a program that accepts a sentence and calculate the number of letters and digits\n",
      "The alphabetically sorted words are: \n",
      "a accepts and calculate digits letters number of program sentence that the write "
     ]
    }
   ],
   "source": [
    "'''\n",
    "Question 4:\n",
    "Write a program that accepts a sequence of whitespace separated words as input and prints\n",
    "the words after removing all duplicate words and sorting them alphanumerically.\n",
    "Suppose the following input is supplied to the program:\n",
    "hello world and practice makes perfect and hello world again\n",
    "Then, the output should be:\n",
    "again and hello makes perfect practice world\n",
    "'''\n",
    "\n",
    "def sort_new(list_of_words):\n",
    "    list_words = []\n",
    "    set_words = set(list_of_words)\n",
    "    for i in set_words:\n",
    "        list_words.append(i)\n",
    "    list_words.sort()\n",
    "    return list_words\n",
    "    \n",
    "print(\"Enter the space separated list of words: \")\n",
    "list = input().split(\" \")\n",
    "sorted_final = sort_new(list)\n",
    "print(\"The alphabetically sorted words are: \")\n",
    "for i in sorted_final:\n",
    "    print(i,end=\" \")"
   ]
  },
  {
   "cell_type": "code",
   "execution_count": 51,
   "metadata": {},
   "outputs": [
    {
     "name": "stdout",
     "output_type": "stream",
     "text": [
      "Enter the string: hello 23 world! 123 * Nice place\n",
      "LETTERS  19\n",
      "\n",
      "DIGITS  5\n"
     ]
    }
   ],
   "source": [
    "'''\n",
    "Question 5:\n",
    "Write a program that accepts a sentence and calculate the number of letters and digits.\n",
    "Suppose the following input is supplied to the program:\n",
    "hello world! 123 \n",
    "Then, the output should be:\n",
    "LETTERS 10\n",
    "\n",
    "DIGITS 3\n",
    "'''\n",
    "\n",
    "string = input(\"Enter the string: \")\n",
    "\n",
    "alpha = 0\n",
    "num = 0\n",
    "\n",
    "for i in string:\n",
    "    if i.isalpha():\n",
    "        alpha += 1\n",
    "    elif i.isdigit():\n",
    "        num += 1\n",
    "\n",
    "print(\"LETTERS \",alpha)\n",
    "print()\n",
    "print(\"DIGITS \",num)"
   ]
  },
  {
   "cell_type": "code",
   "execution_count": 61,
   "metadata": {},
   "outputs": [
    {
     "name": "stdout",
     "output_type": "stream",
     "text": [
      "Enter the comma separated list of passwords: \n",
      "ABd1234@1,a F1#,2w3E*,2We3345#,iNeuron@23\n",
      "The acceptable passwords are: \n",
      "ABd1234@1, 2We3345#, iNeuron@23, "
     ]
    }
   ],
   "source": [
    "'''\n",
    "Question 6:\n",
    "A website requires the users to input username and password to register. Write a program to\n",
    "check the validity of password input by users.\n",
    "Following are the criteria for checking the password:\n",
    "1. At least 1 letter between [a-z]\n",
    "2. At least 1 number between [0-9]\n",
    "1. At least 1 letter between [A-Z]\n",
    "3. At least 1 character from [$#@]\n",
    "4. Minimum length of transaction password: 6\n",
    "5. Maximum length of transaction password: 12\n",
    "Your program should accept a sequence of comma separated passwords and will check them\n",
    "according to the above criteria. Passwords that match the criteria are to be printed, each\n",
    "separated by a comma.\n",
    "Example\n",
    "If the following passwords are given as input to the program:\n",
    "ABd1234@1,a F1#,2w3E*,2We3345\n",
    "Then, the output of the program should be:\n",
    "ABd1234@1\n",
    "'''\n",
    "\n",
    "def valid_Password(password):\n",
    "    is_Valid = True\n",
    "    symbols = ['$','#','@']\n",
    "    \n",
    "    length = len(password)\n",
    "    if length < 6 or length > 12:\n",
    "        is_Valid = False\n",
    "    else:\n",
    "        if not any(char.islower() for char in password): \n",
    "            is_Valid = False\n",
    "          \n",
    "        if not any(char.isupper() for char in password): \n",
    "            is_Valid = False\n",
    " \n",
    "        if not any(char.isdigit() for char in password): \n",
    "            is_Valid = False\n",
    "            \n",
    "        if not any(char in symbols for char in password): \n",
    "            is_Valid = False\n",
    "\n",
    "    return is_Valid\n",
    "\n",
    "print(\"Enter the comma separated list of passwords: \")\n",
    "list = input().split(\",\")\n",
    "print(\"The acceptable passwords are: \")\n",
    "for i in list:\n",
    "    if valid_Password(i):\n",
    "        print(i,end=\", \")"
   ]
  }
 ],
 "metadata": {
  "kernelspec": {
   "display_name": "Python 3",
   "language": "python",
   "name": "python3"
  },
  "language_info": {
   "codemirror_mode": {
    "name": "ipython",
    "version": 3
   },
   "file_extension": ".py",
   "mimetype": "text/x-python",
   "name": "python",
   "nbconvert_exporter": "python",
   "pygments_lexer": "ipython3",
   "version": "3.8.5"
  }
 },
 "nbformat": 4,
 "nbformat_minor": 4
}
