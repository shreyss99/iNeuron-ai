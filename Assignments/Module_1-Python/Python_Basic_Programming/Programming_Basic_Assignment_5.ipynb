{
 "cells": [
  {
   "cell_type": "code",
   "execution_count": 13,
   "metadata": {},
   "outputs": [
    {
     "name": "stdout",
     "output_type": "stream",
     "text": [
      "Enter the first number: 3224\n",
      "Enter the second number: 3556\n",
      "The LCM of 3224 and 3556 is 2866136\n"
     ]
    }
   ],
   "source": [
    "'''\n",
    "Q1. Write a Python Program to Find LCM?\n",
    "'''\n",
    "def LCM(a,b):\n",
    "    if a < b:\n",
    "        temp = a\n",
    "        a = b\n",
    "        b = temp\n",
    "        \n",
    "    first = a\n",
    "    second = b\n",
    "    \n",
    "    r = a % b\n",
    "    while(r != 0):\n",
    "        q = a // b\n",
    "        r = a % b\n",
    "        if (r != 0):\n",
    "            a = b\n",
    "            b = r\n",
    "        else:\n",
    "            break\n",
    "            \n",
    "    lcm = (first * second ) // b\n",
    "    return lcm\n",
    "\n",
    "a = int(input(\"Enter the first number: \"))\n",
    "b = int(input(\"Enter the second number: \"))\n",
    "print(\"The LCM of {} and {} is {}\".format(a,b,LCM(a,b)))"
   ]
  },
  {
   "cell_type": "code",
   "execution_count": 12,
   "metadata": {},
   "outputs": [
    {
     "name": "stdout",
     "output_type": "stream",
     "text": [
      "Enter the first number: 3224\n",
      "Enter the second number: 3556\n",
      "The HCF of 3224 and 3556 is 4\n"
     ]
    }
   ],
   "source": [
    "'''\n",
    "Q1. Write a Python Program to Find HCF?\n",
    "'''\n",
    "\n",
    "def HCF(a,b):\n",
    "    if a < b:\n",
    "        temp = a\n",
    "        a = b\n",
    "        b = temp\n",
    "        \n",
    "    r = a % b\n",
    "    while(r != 0):\n",
    "        q = a // b\n",
    "        r = a % b\n",
    "        if (r != 0):\n",
    "            a = b\n",
    "            b = r\n",
    "        else:\n",
    "            break\n",
    "    return b\n",
    "        \n",
    "a = int(input(\"Enter the first number: \"))\n",
    "b = int(input(\"Enter the second number: \"))\n",
    "print(\"The HCF of {} and {} is {}\".format(a,b,HCF(a,b)))"
   ]
  },
  {
   "cell_type": "code",
   "execution_count": 24,
   "metadata": {},
   "outputs": [
    {
     "name": "stdout",
     "output_type": "stream",
     "text": [
      "Enter the number to be converted: 230797\n",
      "Binary: 111000010110001101\n",
      "Octal: 702615\n",
      "Hexadecimal: 3858D"
     ]
    }
   ],
   "source": [
    "'''\n",
    "Q3. Write a Python Program to Convert Decimal to Binary, Octal and Hexadecimal?\n",
    "'''\n",
    "\n",
    "# Generic funtion to convert\n",
    "def convert(a, base):\n",
    "    hex_mapping = {10:'A', 11:'B', 12:'C', 13:'D', 14:'E', 15:'F'}\n",
    "    list = []\n",
    "    while a >= 1:\n",
    "        remainder = a % base\n",
    "        if remainder in hex_mapping:\n",
    "            list.append(hex_mapping[remainder])\n",
    "        else:\n",
    "            list.append(remainder)\n",
    "        a = a // base\n",
    "    return list[::-1]\n",
    "\n",
    "a = int(input(\"Enter the number to be converted: \"))\n",
    "converted_value = convert(a,2)\n",
    "print(\"Binary: \",end=\"\")\n",
    "for i in converted_value:\n",
    "    print(i,end=\"\")\n",
    "print()\n",
    "print(\"Octal: \",end=\"\")\n",
    "converted_value = convert(a,8)\n",
    "for i in converted_value:\n",
    "    print(i,end=\"\")\n",
    "print()\n",
    "print(\"Hexadecimal: \",end=\"\")\n",
    "converted_value = convert(a,16)\n",
    "for i in converted_value:\n",
    "    print(i,end=\"\")"
   ]
  },
  {
   "cell_type": "code",
   "execution_count": 4,
   "metadata": {},
   "outputs": [
    {
     "name": "stdout",
     "output_type": "stream",
     "text": [
      "Enter a character: y\n",
      "The ASCII value of y is 121.\n"
     ]
    }
   ],
   "source": [
    "'''\n",
    "Q4. Write a Python Program To Find ASCII value of a character?\n",
    "'''\n",
    "\n",
    "a = input(\"Enter a character: \")\n",
    "ascii = ord(a)\n",
    "print(\"The ASCII value of {} is {}.\".format(a,ascii))"
   ]
  },
  {
   "cell_type": "code",
   "execution_count": 8,
   "metadata": {},
   "outputs": [
    {
     "name": "stdout",
     "output_type": "stream",
     "text": [
      "Enter the first number: 22\n",
      "Enter the second number: 7\n",
      "LIST OF OPERATIONS:\n",
      "1 - Addition\n",
      "2 - Subtraction\n",
      "3 - Multiplication\n",
      "4 - Division\n",
      "Enter the number corresponding to the operation to be performed:4\n",
      "The result of operation is:  3.142857142857143\n"
     ]
    }
   ],
   "source": [
    "'''\n",
    "Q5. Write a Python Program to Make a Simple Calculator with 4 basic mathematical operations?\n",
    "'''\n",
    "\n",
    "def calculate(a,b,operator):\n",
    "    operator_mapping = {\"+\":1, \"-\":2, \"*\":3, \"/\":4}\n",
    "    \n",
    "    if operator == operator_mapping[\"+\"]:\n",
    "        return a + b\n",
    "    elif operator == operator_mapping[\"-\"]:\n",
    "        return a - b\n",
    "    if operator == operator_mapping[\"*\"]:\n",
    "        return a * b\n",
    "    if operator == operator_mapping[\"/\"]:\n",
    "        if b == 0:\n",
    "            print(\"Division by zero not possible\")\n",
    "        else:\n",
    "            return a / b\n",
    "\n",
    "a = float(input(\"Enter the first number: \"))\n",
    "b = float(input(\"Enter the second number: \"))\n",
    "print(\"LIST OF OPERATIONS:\")\n",
    "print(\"1 - Addition\")\n",
    "print(\"2 - Subtraction\")\n",
    "print(\"3 - Multiplication\")\n",
    "print(\"4 - Division\")\n",
    "operator = int(input(\"Enter the number corresponding to the operation to be performed:\"))\n",
    "\n",
    "result = calculate(a,b,operator)\n",
    "print(\"The result of operation is: \",result)"
   ]
  }
 ],
 "metadata": {
  "kernelspec": {
   "display_name": "Python 3",
   "language": "python",
   "name": "python3"
  },
  "language_info": {
   "codemirror_mode": {
    "name": "ipython",
    "version": 3
   },
   "file_extension": ".py",
   "mimetype": "text/x-python",
   "name": "python",
   "nbconvert_exporter": "python",
   "pygments_lexer": "ipython3",
   "version": "3.8.5"
  }
 },
 "nbformat": 4,
 "nbformat_minor": 4
}
