{
 "cells": [
  {
   "cell_type": "code",
   "execution_count": 1,
   "metadata": {},
   "outputs": [
    {
     "name": "stdout",
     "output_type": "stream",
     "text": [
      "Enter the number of kilometers: 500\n",
      "The corresponding miles are:  310.6855\n"
     ]
    }
   ],
   "source": [
    "'''\n",
    "Q1. Write a Python program to convert kilometers to miles?\n",
    "'''\n",
    "\n",
    "kilo = int(input(\"Enter the number of kilometers: \"))\n",
    "miles = kilo * 0.621371\n",
    "print(\"The corresponding miles are: \",miles)"
   ]
  },
  {
   "cell_type": "code",
   "execution_count": 5,
   "metadata": {},
   "outputs": [
    {
     "name": "stdout",
     "output_type": "stream",
     "text": [
      "Enter the temperature in fahrenheit: 98.6\n",
      "The corresponding temperature in celsius:  37.0\n"
     ]
    }
   ],
   "source": [
    "'''\n",
    "Q2. Write a Python program to convert Celsius to Fahrenheit?\n",
    "'''\n",
    "\n",
    "fahrenheit = float(input(\"Enter the temperature in fahrenheit: \"))\n",
    "celsius = (fahrenheit - 32) * 5 / 9                                  # cel = (fah-32)*5/9 formula\n",
    "print(\"The corresponding temperature in celsius: \",celsius)"
   ]
  },
  {
   "cell_type": "code",
   "execution_count": 13,
   "metadata": {},
   "outputs": [
    {
     "name": "stdout",
     "output_type": "stream",
     "text": [
      "Enter the year number:1997\n",
      "Enter the month number:7\n",
      "     July 1997\n",
      "Mo Tu We Th Fr Sa Su\n",
      "    1  2  3  4  5  6\n",
      " 7  8  9 10 11 12 13\n",
      "14 15 16 17 18 19 20\n",
      "21 22 23 24 25 26 27\n",
      "28 29 30 31\n",
      "\n"
     ]
    }
   ],
   "source": [
    "'''\n",
    "Q3. Write a Python program to display calendar?\n",
    "'''\n",
    "\n",
    "import calendar\n",
    "\n",
    "year = int(input(\"Enter the year number:\"))\n",
    "month = int(input(\"Enter the month number:\"))\n",
    "\n",
    "print(calendar.month(year,month))"
   ]
  },
  {
   "cell_type": "code",
   "execution_count": 7,
   "metadata": {},
   "outputs": [
    {
     "name": "stdout",
     "output_type": "stream",
     "text": [
      "Consider the quadratic equation of the form ax^2 + bx + c\n",
      "Enter the value of coeeficient 'a': 6\n",
      "Enter the value of coeeficient 'b': -17\n",
      "Enter the value of coeeficient 'c': 12\n",
      "The quadratic equation has real roots\n",
      "The real roots are 1.5 and 1.3333333333333333\n"
     ]
    }
   ],
   "source": [
    "'''\n",
    "Q4. Write a Python program to solve quadratic equation?\n",
    "'''\n",
    "import math\n",
    "\n",
    "print(\"Consider the quadratic equation of the form ax^2 + bx + c\")\n",
    "a = float(input(\"Enter the value of coeeficient 'a': \"))\n",
    "b = float(input(\"Enter the value of coeeficient 'b': \"))\n",
    "c = float(input(\"Enter the value of coeeficient 'c': \"))\n",
    "\n",
    "discriminant = b * b - 4 * a * c\n",
    "\n",
    "if discriminant == 0:\n",
    "    print(\"The quadratic equation has equal roots:\")\n",
    "    root = -b / (2 * a)\n",
    "    print(\"The roots are: \",root)\n",
    "elif discriminant < 0:\n",
    "    print(\"The quadratic equation has complex roots:\")\n",
    "    root1 = (-b + math.sqrt(discriminant)) / (2 * a)\n",
    "    root2 = (-b - math.sqrt(discriminant)) / (2 * a)\n",
    "    print(\"The complex roots are {} and {}\".format(root1,root2))\n",
    "else:\n",
    "    print(\"The quadratic equation has real roots\")\n",
    "    root1 = (-b + math.sqrt(discriminant)) / (2 * a)\n",
    "    root2 = (-b - math.sqrt(discriminant)) / (2 * a)\n",
    "    print(\"The real roots are {} and {}\".format(root1,root2))"
   ]
  },
  {
   "cell_type": "code",
   "execution_count": 8,
   "metadata": {},
   "outputs": [
    {
     "name": "stdout",
     "output_type": "stream",
     "text": [
      "Enter first number: 5\n",
      "Enter second number: -9\n",
      "Numbers before swapping are 5 and -9\n",
      "Numbers after swapping are -9 and 5\n"
     ]
    }
   ],
   "source": [
    "'''\n",
    "Q5. Write a Python program to swap two variables without temp variable?\n",
    "'''\n",
    "\n",
    "a = int(input(\"Enter first number: \"))\n",
    "b = int(input(\"Enter second number: \"))\n",
    "print(\"Numbers before swapping are {} and {}\".format(a,b))\n",
    "a, b = b, a\n",
    "print(\"Numbers after swapping are {} and {}\".format(a,b))"
   ]
  }
 ],
 "metadata": {
  "kernelspec": {
   "display_name": "Python 3",
   "language": "python",
   "name": "python3"
  },
  "language_info": {
   "codemirror_mode": {
    "name": "ipython",
    "version": 3
   },
   "file_extension": ".py",
   "mimetype": "text/x-python",
   "name": "python",
   "nbconvert_exporter": "python",
   "pygments_lexer": "ipython3",
   "version": "3.8.5"
  }
 },
 "nbformat": 4,
 "nbformat_minor": 4
}
