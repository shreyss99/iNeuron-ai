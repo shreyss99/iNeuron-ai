{
 "cells": [
  {
   "cell_type": "code",
   "execution_count": 1,
   "metadata": {},
   "outputs": [
    {
     "name": "stdout",
     "output_type": "stream",
     "text": [
      "Enter the number to be checked for Disarium: 518\n"
     ]
    },
    {
     "data": {
      "text/plain": [
       "True"
      ]
     },
     "execution_count": 1,
     "metadata": {},
     "output_type": "execute_result"
    }
   ],
   "source": [
    "'''\n",
    "Q1. Write a Python program to check if the given number is a Disarium Number?\n",
    "'''\n",
    "\n",
    "def is_disarium(number):\n",
    "    length = len(number)\n",
    "    number = int(number)\n",
    "    temp = number\n",
    "    sum = 0 \n",
    "    while(number > 0):\n",
    "        digit = number % 10\n",
    "        sum += digit ** length\n",
    "        length -= 1\n",
    "        number //= 10\n",
    "    \n",
    "    if sum == temp:\n",
    "        return True\n",
    "    else:\n",
    "        return False\n",
    "    \n",
    "number = input(\"Enter the number to be checked for Disarium: \")\n",
    "is_disarium(number)"
   ]
  },
  {
   "cell_type": "code",
   "execution_count": 5,
   "metadata": {},
   "outputs": [
    {
     "name": "stdout",
     "output_type": "stream",
     "text": [
      "The Disarium numbers between 1 and 100 are: \n",
      "1 2 3 4 5 6 7 8 9 89 "
     ]
    }
   ],
   "source": [
    "'''\n",
    "Q2. Write a Python program to print all disarium numbers between 1 to 100?\n",
    "'''\n",
    "\n",
    "def is_Disarium(number):\n",
    "    length = len(number)\n",
    "    number = int(number)\n",
    "    temp = number\n",
    "    sum = 0 \n",
    "    while(number > 0):\n",
    "        digit = number % 10\n",
    "        sum += digit ** length\n",
    "        length -= 1\n",
    "        number //= 10\n",
    "    \n",
    "    if sum == temp:\n",
    "        return True\n",
    "    else:\n",
    "        return False\n",
    "    \n",
    "print(\"The Disarium numbers between 1 and 100 are: \")\n",
    "for i in range(1,101):\n",
    "    if(is_Disarium(str(i))):\n",
    "        print(i,end=\" \")"
   ]
  },
  {
   "cell_type": "code",
   "execution_count": 34,
   "metadata": {},
   "outputs": [
    {
     "name": "stdout",
     "output_type": "stream",
     "text": [
      "Enter the number to be checked for Happy: 145\n",
      "The number 145 is Unhappy Number\n"
     ]
    }
   ],
   "source": [
    "'''\n",
    "Q3. Write a Python program to check if the given number is Happy Number?\n",
    "'''\n",
    "\n",
    "def is_Happy(number):\n",
    "    length = len(number)\n",
    "    while(length != 1):\n",
    "        sum = 0\n",
    "        for i in number:\n",
    "            sum += int(i)**2\n",
    "        number = str(sum)\n",
    "        length = len(str(number))\n",
    "    if sum == 1:\n",
    "        return \"Happy Number\"\n",
    "    elif sum == 4:\n",
    "        return \"Unhappy Number\"\n",
    "    \n",
    "number = input(\"Enter the number to be checked for Happy: \")\n",
    "result = is_Happy(number)\n",
    "print(\"The number {} is {}\".format(number,result))"
   ]
  },
  {
   "cell_type": "code",
   "execution_count": 40,
   "metadata": {},
   "outputs": [
    {
     "name": "stdout",
     "output_type": "stream",
     "text": [
      "The Happy numbers between 1 and 100 are: \n",
      "1 2 3 4 5 6 7 8 9 10 13 19 23 28 31 32 44 49 68 70 79 82 86 91 94 97 100 "
     ]
    }
   ],
   "source": [
    "'''\n",
    "Q4. Write a Python program to print all happy numbers between 1 and 100?\n",
    "'''\n",
    "\n",
    "def is_Happy(number):\n",
    "    length = len(number)\n",
    "    if length == 1:\n",
    "        return True\n",
    "    while(length != 1):\n",
    "        sum = 0\n",
    "        for i in number:\n",
    "            sum += int(i)**2\n",
    "        number = str(sum)\n",
    "        length = len(str(number))\n",
    "    if sum == 1:\n",
    "        return True\n",
    "    elif sum == 4:\n",
    "        return False\n",
    "\n",
    "print(\"The Happy numbers between 1 and 100 are: \")\n",
    "for i in range(1,101):\n",
    "    if(is_Happy(str(i))):\n",
    "        print(i,end=\" \")"
   ]
  },
  {
   "cell_type": "code",
   "execution_count": 46,
   "metadata": {},
   "outputs": [
    {
     "name": "stdout",
     "output_type": "stream",
     "text": [
      "Enter the number to be checked for Harshad: 6804\n",
      "The number 6804 is Harshad Number\n"
     ]
    }
   ],
   "source": [
    "'''\n",
    "Q5. Write a Python program to determine whether the given number is a Harshad Number?\n",
    "'''\n",
    "\n",
    "def is_Harshad(number):\n",
    "    sum = 0\n",
    "    copy = number\n",
    "    while(number > 0):\n",
    "        digit = number % 10\n",
    "        sum = sum + digit\n",
    "        number = number // 10\n",
    "    if copy % sum == 0:\n",
    "        return \"Harshad Number\"\n",
    "    else:\n",
    "        return \"not a Harshad Number\"\n",
    "    \n",
    "number = int(input(\"Enter the number to be checked for Harshad: \"))\n",
    "result = is_Harshad(number)\n",
    "print(\"The number {} is {}\".format(number,result))"
   ]
  },
  {
   "cell_type": "code",
   "execution_count": 50,
   "metadata": {},
   "outputs": [
    {
     "name": "stdout",
     "output_type": "stream",
     "text": [
      "The Pronic numbers between 1 and 200 are: \n",
      "2 6 12 20 30 42 56 72 90 110 132 156 182 "
     ]
    }
   ],
   "source": [
    "'''\n",
    "Q6. Write a Python program to print all pronic numbers between 1 and 100?\n",
    "'''\n",
    "\n",
    "def is_Pronic(number):\n",
    "    for i in range(1,number+1):\n",
    "        if (number == i * (i+1)):\n",
    "            return True\n",
    "        else:\n",
    "            continue\n",
    "    \n",
    "print(\"The Pronic numbers between 1 and 200 are: \")\n",
    "for i in range(1,201):\n",
    "    if(is_Pronic(i)):\n",
    "        print(i,end=\" \")"
   ]
  }
 ],
 "metadata": {
  "kernelspec": {
   "display_name": "Python 3",
   "language": "python",
   "name": "python3"
  },
  "language_info": {
   "codemirror_mode": {
    "name": "ipython",
    "version": 3
   },
   "file_extension": ".py",
   "mimetype": "text/x-python",
   "name": "python",
   "nbconvert_exporter": "python",
   "pygments_lexer": "ipython3",
   "version": "3.8.5"
  }
 },
 "nbformat": 4,
 "nbformat_minor": 4
}
