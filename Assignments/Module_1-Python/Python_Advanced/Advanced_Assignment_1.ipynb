{
 "cells": [
  {
   "cell_type": "code",
   "execution_count": null,
   "metadata": {},
   "outputs": [],
   "source": [
    "'''\n",
    "Q1. What is the purpose of Python's OOP?\n",
    "\n",
    "Ans) OOP in Python provides the following advantages:\n",
    "\n",
    "     1) Using the inheritance concept, the code which has been defined in the parentclass can be re-used in the child class\n",
    "        implementation.\n",
    "     2) Using abstraction, the user knows just the required amount of details of the code - what it does. How the \n",
    "        system functions internally is hidden from the user.\n",
    "     3) Using encapsulation, the members can be declared public, private or protected which limits the access to them.\n",
    "        It prevents unwanted access to members from outside world.\n",
    "     4) OOPs provides a logical structure to the code.\n",
    "     5) It allows easy maintenance of code.\n",
    "\n",
    "'''"
   ]
  },
  {
   "cell_type": "code",
   "execution_count": 6,
   "metadata": {},
   "outputs": [
    {
     "name": "stdout",
     "output_type": "stream",
     "text": [
      "[<class '__main__.C'>, <class '__main__.B'>, <class '__main__.A'>, <class 'object'>]\n"
     ]
    }
   ],
   "source": [
    "'''\n",
    "Q2. Where does an inheritance search look for an attribute?\n",
    "\n",
    "Ans) An inheritance search firstly looks for the attribute in the child class where it has been defined. \n",
    "     If it does not find in the child class, then it looks up in the order in which the child class has inherited the parents.\n",
    "     \n",
    "     As seen in the below example, in case of multiple classes, the search happens in case of the first class which has \n",
    "     been invoked and follows a order in which it checks in the child class. If not found, it check then in the parent class\n",
    "     in the order B. If the attribute is not found in B, then it searches in the class A. If still not found, then finally \n",
    "     it looks up in the Object class which is the supercalss of every class. \n",
    "'''\n",
    "\n",
    "class A():\n",
    "    pass\n",
    "\n",
    "class B():\n",
    "    pass\n",
    "\n",
    "class C(B,A):\n",
    "    pass\n",
    "\n",
    "r = C()\n",
    "print(C.mro())"
   ]
  },
  {
   "cell_type": "code",
   "execution_count": null,
   "metadata": {},
   "outputs": [],
   "source": [
    "'''\n",
    "Q3. How do you distinguish between a class object and an instance object?\n",
    "\n",
    "Ans) Class is a skeleton for creating the objects and an object is the instance / representation of the class.\n",
    "     Class does not have a physical existence and it is a logical structure whereas objects have physical existence.\n",
    "     \n",
    "'''"
   ]
  },
  {
   "cell_type": "code",
   "execution_count": null,
   "metadata": {},
   "outputs": [],
   "source": [
    "'''\n",
    "Q4. What makes the first argument in a class’s method function special?\n",
    "\n",
    "Ans) The first argument in a class's method function is 'self'.\n",
    "     Self is necessary because it is a kind of pointer which indicates that the instance belongs to the current class.\n",
    "     It allows the objects to have its own attributes and methods.\n",
    "\n",
    "'''"
   ]
  },
  {
   "cell_type": "code",
   "execution_count": null,
   "metadata": {},
   "outputs": [],
   "source": [
    "'''\n",
    "Q5. What is the purpose of the __init__ method?\n",
    "\n",
    "Ans) The __init__ method acts like a constructor.\n",
    "     When we create multiple objects of the same class having many attributes, it becomes tedious to instantiate each \n",
    "     and every object manually.\n",
    "     So the __init__ method, helps us in  initialising the object with the attributes with initial values \n",
    "     as soon as it is created.\n",
    "     \n",
    "'''"
   ]
  },
  {
   "cell_type": "code",
   "execution_count": 19,
   "metadata": {},
   "outputs": [
    {
     "name": "stdout",
     "output_type": "stream",
     "text": [
      "This is my new car with automated,german,hyundai,2012\n",
      "hyundai\n"
     ]
    }
   ],
   "source": [
    "'''\n",
    "Q6. What is the process for creating a class instance?\n",
    "\n",
    "Ans) Once the class has been defined, we can create an instacne of the class by calling the class name and passing the \n",
    "     parameters.\n",
    "\n",
    "'''\n",
    "\n",
    "class Car:\n",
    "    \n",
    "    def __init__(self, engine, make, model, year):\n",
    "        self.engine = engine\n",
    "        self.make = make\n",
    "        self.model = model\n",
    "        self.year = year\n",
    "        \n",
    "    def __str__(self):\n",
    "        return (\"This is my new car with {},{},{},{}\".format(self.engine,self.make,self.model,self.year))\n",
    "        \n",
    "car1 = Car('automated','german','hyundai','2012')\n",
    "print(car1)\n",
    "print(car1.model)"
   ]
  },
  {
   "cell_type": "code",
   "execution_count": 20,
   "metadata": {},
   "outputs": [
    {
     "name": "stdout",
     "output_type": "stream",
     "text": [
      "This is my new car with manual,german,toyota,2021\n",
      "german\n"
     ]
    }
   ],
   "source": [
    "'''\n",
    "Q7. What is the process for creating a class?\n",
    "\n",
    "Ans) For creating a class you need to define the keyword 'class' followed by the class name. \n",
    "     Inside the class definition you can define the __init__ method and other functions.\n",
    "'''\n",
    "\n",
    "class Car:\n",
    "    \n",
    "    def __init__(self, engine, make, model, year):\n",
    "        self.engine = engine\n",
    "        self.make = make\n",
    "        self.model = model\n",
    "        self.year = year\n",
    "        \n",
    "    def __str__(self):\n",
    "        return (\"This is my new car with {},{},{},{}\".format(self.engine,self.make,self.model,self.year))\n",
    "        \n",
    "car1 = Car('manual','german','toyota','2021')\n",
    "print(car1)\n",
    "print(car1.make)"
   ]
  },
  {
   "cell_type": "code",
   "execution_count": 21,
   "metadata": {},
   "outputs": [],
   "source": [
    "'''\n",
    "Q8. How would you define the superclasses of a class?\n",
    "\n",
    "Ans) You can spcify the superclass of a class by placing them in a paranthesis after the class name.\n",
    "     \n",
    "     In the below example the subclass C has the class A as its superclass and subclass D has B as its superclass.\n",
    "'''\n",
    "\n",
    "class A:\n",
    "    pass\n",
    "\n",
    "class B:\n",
    "    pass\n",
    "\n",
    "class C(A):\n",
    "    pass\n",
    "\n",
    "class D(B):\n",
    "    pass"
   ]
  }
 ],
 "metadata": {
  "kernelspec": {
   "display_name": "Python 3",
   "language": "python",
   "name": "python3"
  },
  "language_info": {
   "codemirror_mode": {
    "name": "ipython",
    "version": 3
   },
   "file_extension": ".py",
   "mimetype": "text/x-python",
   "name": "python",
   "nbconvert_exporter": "python",
   "pygments_lexer": "ipython3",
   "version": "3.8.5"
  }
 },
 "nbformat": 4,
 "nbformat_minor": 4
}
