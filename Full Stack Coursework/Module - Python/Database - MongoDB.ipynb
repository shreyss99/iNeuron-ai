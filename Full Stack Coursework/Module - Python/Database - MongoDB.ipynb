{
 "cells": [
  {
   "cell_type": "code",
   "execution_count": 1,
   "metadata": {},
   "outputs": [
    {
     "name": "stdout",
     "output_type": "stream",
     "text": [
      "Collecting pymongo\n",
      "  Downloading pymongo-3.11.4-cp38-cp38-win_amd64.whl (383 kB)\n",
      "Installing collected packages: pymongo\n",
      "Successfully installed pymongo-3.11.4\n"
     ]
    }
   ],
   "source": [
    "!pip install pymongo"
   ]
  },
  {
   "cell_type": "code",
   "execution_count": 2,
   "metadata": {},
   "outputs": [
    {
     "name": "stdout",
     "output_type": "stream",
     "text": [
      "Requirement already satisfied: pymongo[srv] in c:\\users\\dell\\anaconda3\\lib\\site-packages (3.11.4)\n",
      "Collecting dnspython<2.0.0,>=1.16.0; extra == \"srv\"\n",
      "  Downloading dnspython-1.16.0-py2.py3-none-any.whl (188 kB)\n",
      "Installing collected packages: dnspython\n",
      "Successfully installed dnspython-1.16.0\n"
     ]
    }
   ],
   "source": [
    "!pip install pymongo[srv]"
   ]
  },
  {
   "cell_type": "code",
   "execution_count": 3,
   "metadata": {},
   "outputs": [
    {
     "data": {
      "text/plain": [
       "MongoClient(host=['localhost:27017'], document_class=dict, tz_aware=False, connect=True)"
      ]
     },
     "execution_count": 3,
     "metadata": {},
     "output_type": "execute_result"
    }
   ],
   "source": [
    "import pymongo\n",
    "client = pymongo.MongoClient(\"mongodb://localhost:27017/\")   # local URL is always same\n",
    "client                                                       # connect = True means connected to the localhost port 27017"
   ]
  },
  {
   "cell_type": "code",
   "execution_count": 5,
   "metadata": {},
   "outputs": [],
   "source": [
    "db_name = client[\"temp_db\"]        # Creating the database with name temp_db using the client, \n",
    "                                   # but unless you add data in the db it will not be visible in the MongoDB compass"
   ]
  },
  {
   "cell_type": "code",
   "execution_count": 6,
   "metadata": {},
   "outputs": [
    {
     "data": {
      "text/plain": [
       "['admin', 'config', 'local']"
      ]
     },
     "execution_count": 6,
     "metadata": {},
     "output_type": "execute_result"
    }
   ],
   "source": [
    "client.list_database_names()"
   ]
  },
  {
   "cell_type": "code",
   "execution_count": 7,
   "metadata": {},
   "outputs": [
    {
     "data": {
      "text/plain": [
       "Database(MongoClient(host=['localhost:27017'], document_class=dict, tz_aware=False, connect=True), 'temp_db')"
      ]
     },
     "execution_count": 7,
     "metadata": {},
     "output_type": "execute_result"
    }
   ],
   "source": [
    "db_name"
   ]
  },
  {
   "cell_type": "code",
   "execution_count": 10,
   "metadata": {},
   "outputs": [],
   "source": [
    "collection = db_name[\"collection_1\"]   # creating a collection named collection_1. It is analogous to table in MySQL"
   ]
  },
  {
   "cell_type": "code",
   "execution_count": 12,
   "metadata": {},
   "outputs": [
    {
     "data": {
      "text/plain": [
       "<pymongo.results.InsertOneResult at 0x25d74878d40>"
      ]
     },
     "execution_count": 12,
     "metadata": {},
     "output_type": "execute_result"
    }
   ],
   "source": [
    "record = {\"name\":\"shrey\",                 # creating 1 record in key-value (JSON) format                  \n",
    "          \"class\":\"BE\",\n",
    "          \"cgpi\":9.72,\n",
    "          \"course\":[\"DBMS\",\"OS\",\"BDA\"],\n",
    "          \"gender\":\"M\"}\n",
    "\n",
    "collection.insert_one(record)             # inserting 1 single record in the collection_1    "
   ]
  },
  {
   "cell_type": "code",
   "execution_count": 14,
   "metadata": {},
   "outputs": [
    {
     "data": {
      "text/plain": [
       "<pymongo.results.InsertManyResult at 0x25d7597ccc0>"
      ]
     },
     "execution_count": 14,
     "metadata": {},
     "output_type": "execute_result"
    }
   ],
   "source": [
    "list_of_records = [                       # adding multiple records stored in a list\n",
    "                    {\n",
    "                        \"name\":\"shailesh\",\n",
    "                        \"class\":\"BSc grad\",\n",
    "                        \"gender\":\"M\",\n",
    "                        \"mob_no\":9821625606\n",
    "                    },\n",
    "                    {\n",
    "                        \"name\":\"dipti\",\n",
    "                        \"class\":\"BCom grad\",\n",
    "                        \"gender\":\"F\",\n",
    "                        \"mob_no\":9870739440\n",
    "                    },\n",
    "]\n",
    "\n",
    "collection.insert_many(list_of_records)"
   ]
  },
  {
   "cell_type": "code",
   "execution_count": 17,
   "metadata": {},
   "outputs": [],
   "source": [
    "collection = db_name[\"collection_2\"]"
   ]
  },
  {
   "cell_type": "code",
   "execution_count": 18,
   "metadata": {},
   "outputs": [
    {
     "data": {
      "text/plain": [
       "<pymongo.results.InsertManyResult at 0x25d74bfa580>"
      ]
     },
     "execution_count": 18,
     "metadata": {},
     "output_type": "execute_result"
    }
   ],
   "source": [
    "record = {\"name\":\"shrey\",                 # creating 1 record in key-value (JSON) format                  \n",
    "          \"class\":\"BE\",\n",
    "          \"cgpi\":9.72,\n",
    "          \"course\":[\"DBMS\",\"OS\",\"BDA\"],\n",
    "          \"mob_no\":9022693765,\n",
    "          \"gender\":\"M\"}\n",
    "\n",
    "collection.insert_one(record)       \n",
    "\n",
    "list_of_records = [                       # adding multiple records stored in a list\n",
    "                    {\n",
    "                        \"name\":\"shailesh\",\n",
    "                        \"class\":\"BSc grad\",\n",
    "                        \"gender\":\"M\",\n",
    "                        \"reln\": \"father\",\n",
    "                        \"mob_no\":9821625606\n",
    "                    },\n",
    "                    {\n",
    "                        \"name\":\"dipti\",\n",
    "                        \"class\":\"BCom grad\",\n",
    "                        \"reln\":\"mother\",\n",
    "                        \"gender\":\"F\",\n",
    "                        \"mob_no\":9870739440\n",
    "                    },\n",
    "]\n",
    "\n",
    "collection.insert_many(list_of_records)"
   ]
  },
  {
   "cell_type": "code",
   "execution_count": 19,
   "metadata": {},
   "outputs": [
    {
     "data": {
      "text/plain": [
       "<pymongo.results.InsertManyResult at 0x25d74c2dfc0>"
      ]
     },
     "execution_count": 19,
     "metadata": {},
     "output_type": "execute_result"
    }
   ],
   "source": [
    "list_of_records_user_defined_id = [\n",
    "    {\"_id\": \"1\",\n",
    "    \"companyName\": \"iNeuron\",\n",
    "    \"Faculty\": \"Sudhanshu Kumar\"},\n",
    "    {\"_id\": \"2\",\n",
    "    \"companyName\": \"iNeuron\",\n",
    "    \"Faculty\": \"Virat Sagar\"},\n",
    "]\n",
    "\n",
    "collection.insert_many(list_of_records_user_defined_id)"
   ]
  },
  {
   "cell_type": "code",
   "execution_count": 54,
   "metadata": {},
   "outputs": [],
   "source": [
    "collection = db_name[\"collection_1\"]"
   ]
  },
  {
   "cell_type": "code",
   "execution_count": 55,
   "metadata": {},
   "outputs": [
    {
     "data": {
      "text/plain": [
       "{'_id': ObjectId('60a109b51a0b3c4f6ec7989f'),\n",
       " 'name': 'shrey',\n",
       " 'class': 'BE',\n",
       " 'cgpi': 9.72,\n",
       " 'course': ['DBMS', 'OS', 'BDA'],\n",
       " 'gender': 'M'}"
      ]
     },
     "execution_count": 55,
     "metadata": {},
     "output_type": "execute_result"
    }
   ],
   "source": [
    "collection.find_one()"
   ]
  },
  {
   "cell_type": "code",
   "execution_count": 56,
   "metadata": {},
   "outputs": [
    {
     "name": "stdout",
     "output_type": "stream",
     "text": [
      "{'_id': ObjectId('60a109b51a0b3c4f6ec7989f'), 'name': 'shrey', 'class': 'BE', 'cgpi': 9.72, 'course': ['DBMS', 'OS', 'BDA'], 'gender': 'M'}\n",
      "{'_id': ObjectId('60a10b541a0b3c4f6ec798a0'), 'name': 'shailesh', 'class': 'BSc grad', 'gender': 'M'}\n",
      "{'_id': ObjectId('60a10b541a0b3c4f6ec798a1'), 'name': 'dipti', 'class': 'BCom grad', 'gender': 'F'}\n",
      "{'_id': ObjectId('60a10b841a0b3c4f6ec798a2'), 'name': 'shailesh', 'class': 'BSc grad', 'gender': 'M', 'mob_no': 9821625606}\n",
      "{'_id': ObjectId('60a10b841a0b3c4f6ec798a3'), 'name': 'dipti', 'class': 'BCom grad', 'gender': 'F', 'mob_no': 9870739440}\n"
     ]
    }
   ],
   "source": [
    "all_rec = collection.find()\n",
    "for i in all_rec:\n",
    "    print(i)"
   ]
  },
  {
   "cell_type": "code",
   "execution_count": 68,
   "metadata": {},
   "outputs": [
    {
     "name": "stdout",
     "output_type": "stream",
     "text": [
      "{'_id': '1', 'companyName': 'iNeuron', 'Faculty': 'Sudhanshu Kumar'}\n"
     ]
    }
   ],
   "source": [
    "collection = db_name[\"collection_2\"]\n",
    "for i in collection.find({\"_id\":\"1\"}):\n",
    "    print(i)"
   ]
  },
  {
   "cell_type": "code",
   "execution_count": null,
   "metadata": {},
   "outputs": [],
   "source": [
    "collection = db_name[\"collection_2\"]\n",
    "for i in collection.find({\"_id\":}):\n",
    "    print(i)"
   ]
  },
  {
   "cell_type": "code",
   "execution_count": 73,
   "metadata": {},
   "outputs": [
    {
     "name": "stdout",
     "output_type": "stream",
     "text": [
      "<pymongo.results.UpdateResult object at 0x0000025D74C4DE00>\n"
     ]
    }
   ],
   "source": [
    "update_1 = collection.update_one({'reln':'father'},{\"$set\":{'title':'fat'}})\n",
    "for i in update_1:\n",
    "    print(i)"
   ]
  },
  {
   "cell_type": "code",
   "execution_count": null,
   "metadata": {},
   "outputs": [],
   "source": []
  }
 ],
 "metadata": {
  "kernelspec": {
   "display_name": "Python 3",
   "language": "python",
   "name": "python3"
  },
  "language_info": {
   "codemirror_mode": {
    "name": "ipython",
    "version": 3
   },
   "file_extension": ".py",
   "mimetype": "text/x-python",
   "name": "python",
   "nbconvert_exporter": "python",
   "pygments_lexer": "ipython3",
   "version": "3.8.5"
  }
 },
 "nbformat": 4,
 "nbformat_minor": 4
}
