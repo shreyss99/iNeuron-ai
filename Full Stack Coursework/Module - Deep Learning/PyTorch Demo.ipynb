{
  "nbformat": 4,
  "nbformat_minor": 0,
  "metadata": {
    "colab": {
      "name": "PyTorch.ipynb",
      "provenance": [],
      "collapsed_sections": []
    },
    "kernelspec": {
      "name": "python3",
      "display_name": "Python 3"
    },
    "language_info": {
      "name": "python"
    },
    "accelerator": "GPU"
  },
  "cells": [
    {
      "cell_type": "code",
      "execution_count": null,
      "metadata": {
        "id": "jtCqdx7zkOpu"
      },
      "outputs": [],
      "source": [
        "import torch"
      ]
    },
    {
      "cell_type": "markdown",
      "source": [
        "# Tensors"
      ],
      "metadata": {
        "id": "YEQnMg7Sknr4"
      }
    },
    {
      "cell_type": "code",
      "source": [
        "t1 = torch.tensor(4.)\n",
        "t1\n",
        "\n",
        "# we need to pass 4. instead of 4 because AutoGrad (gradient calculation) works\n",
        "# with float values and not integer\n",
        "\n",
        "# we are converting everything to tensors because in GPU we can make use of\n",
        "# around 4000 cores for faster computation"
      ],
      "metadata": {
        "colab": {
          "base_uri": "https://localhost:8080/"
        },
        "id": "sf-7LQACkfuw",
        "outputId": "8bd10a87-75db-4f3c-a60d-68980f76b2da"
      },
      "execution_count": null,
      "outputs": [
        {
          "output_type": "execute_result",
          "data": {
            "text/plain": [
              "tensor(4.)"
            ]
          },
          "metadata": {},
          "execution_count": 2
        }
      ]
    },
    {
      "cell_type": "code",
      "source": [
        "type(t1)"
      ],
      "metadata": {
        "id": "c3MCpEc7lc2a",
        "outputId": "00dd32ad-ae6e-4449-9482-07788fe9df37",
        "colab": {
          "base_uri": "https://localhost:8080/"
        }
      },
      "execution_count": null,
      "outputs": [
        {
          "output_type": "execute_result",
          "data": {
            "text/plain": [
              "torch.Tensor"
            ]
          },
          "metadata": {},
          "execution_count": 3
        }
      ]
    },
    {
      "cell_type": "code",
      "source": [
        "t1.dtype"
      ],
      "metadata": {
        "id": "yM5kXQrmlefH",
        "colab": {
          "base_uri": "https://localhost:8080/"
        },
        "outputId": "977b241c-7873-44c1-a097-bea4a84f739c"
      },
      "execution_count": null,
      "outputs": [
        {
          "output_type": "execute_result",
          "data": {
            "text/plain": [
              "torch.float32"
            ]
          },
          "metadata": {},
          "execution_count": 4
        }
      ]
    },
    {
      "cell_type": "markdown",
      "source": [
        "# Vectors"
      ],
      "metadata": {
        "id": "DlwDnhC8_SF0"
      }
    },
    {
      "cell_type": "code",
      "source": [
        "t2 = torch.tensor([1.,2.,3.,4.])"
      ],
      "metadata": {
        "id": "tpS2FCjX-PZC"
      },
      "execution_count": null,
      "outputs": []
    },
    {
      "cell_type": "code",
      "source": [
        "t2"
      ],
      "metadata": {
        "colab": {
          "base_uri": "https://localhost:8080/"
        },
        "id": "X0P_BtIO_bja",
        "outputId": "9f1a4675-a6e3-407b-9062-132e80fc64bf"
      },
      "execution_count": null,
      "outputs": [
        {
          "output_type": "execute_result",
          "data": {
            "text/plain": [
              "tensor([1., 2., 3., 4.])"
            ]
          },
          "metadata": {},
          "execution_count": 6
        }
      ]
    },
    {
      "cell_type": "code",
      "source": [
        "t2.dtype"
      ],
      "metadata": {
        "colab": {
          "base_uri": "https://localhost:8080/"
        },
        "id": "LYtNsclu_cb0",
        "outputId": "76ea8de6-469e-49ef-b5f9-0dffd858fc10"
      },
      "execution_count": null,
      "outputs": [
        {
          "output_type": "execute_result",
          "data": {
            "text/plain": [
              "torch.float32"
            ]
          },
          "metadata": {},
          "execution_count": 7
        }
      ]
    },
    {
      "cell_type": "markdown",
      "source": [
        "# Matrix"
      ],
      "metadata": {
        "id": "WvH3Da5zAdNb"
      }
    },
    {
      "cell_type": "code",
      "source": [
        "t3 = torch.tensor(\n",
        "    [\n",
        "      [4.,5,6,9],\n",
        "      [10,11,12,13]\n",
        "    ]\n",
        ")\n",
        "\n",
        "# Tensors are like arrays. Can store only homogeneous data"
      ],
      "metadata": {
        "id": "WVzXaMsq_eOH"
      },
      "execution_count": null,
      "outputs": []
    },
    {
      "cell_type": "code",
      "source": [
        "t3"
      ],
      "metadata": {
        "colab": {
          "base_uri": "https://localhost:8080/"
        },
        "id": "OqdfWAhVA1pO",
        "outputId": "7d32eea1-816b-4ef6-9097-0df6b63b721f"
      },
      "execution_count": null,
      "outputs": [
        {
          "output_type": "execute_result",
          "data": {
            "text/plain": [
              "tensor([[ 4.,  5.,  6.,  9.],\n",
              "        [10., 11., 12., 13.]])"
            ]
          },
          "metadata": {},
          "execution_count": 11
        }
      ]
    },
    {
      "cell_type": "code",
      "source": [
        "t3.dtype"
      ],
      "metadata": {
        "colab": {
          "base_uri": "https://localhost:8080/"
        },
        "id": "vIZbQ-F0Arbc",
        "outputId": "7a627a61-ccbe-4c32-e514-ad12814aaba9"
      },
      "execution_count": null,
      "outputs": [
        {
          "output_type": "execute_result",
          "data": {
            "text/plain": [
              "torch.float32"
            ]
          },
          "metadata": {},
          "execution_count": 10
        }
      ]
    },
    {
      "cell_type": "code",
      "source": [
        "# 3-D Tensor\n",
        "\n",
        "t4 = torch.tensor(\n",
        "    [\n",
        "     [\n",
        "      [11.,12,13],\n",
        "      [14,15,16],\n",
        "     ],\n",
        "     [\n",
        "      [22.,23,24],\n",
        "      [25,26,27],\n",
        "     ]\n",
        "    ]\n",
        ")"
      ],
      "metadata": {
        "id": "D28gtohhA0G2"
      },
      "execution_count": null,
      "outputs": []
    },
    {
      "cell_type": "code",
      "source": [
        "t4"
      ],
      "metadata": {
        "colab": {
          "base_uri": "https://localhost:8080/"
        },
        "id": "QKh7BFj6B4Rn",
        "outputId": "205d5a85-7f76-4483-b237-1cb42119ce59"
      },
      "execution_count": null,
      "outputs": [
        {
          "output_type": "execute_result",
          "data": {
            "text/plain": [
              "tensor([[[11., 12., 13.],\n",
              "         [14., 15., 16.]],\n",
              "\n",
              "        [[22., 23., 24.],\n",
              "         [25., 26., 27.]]])"
            ]
          },
          "metadata": {},
          "execution_count": 16
        }
      ]
    },
    {
      "cell_type": "code",
      "source": [
        "print(t1)\n",
        "t1.shape"
      ],
      "metadata": {
        "colab": {
          "base_uri": "https://localhost:8080/"
        },
        "id": "OqG8VmeIB5kV",
        "outputId": "14461e4d-ffbb-406c-d1fe-3cb418c0d47f"
      },
      "execution_count": null,
      "outputs": [
        {
          "output_type": "stream",
          "name": "stdout",
          "text": [
            "tensor(4.)\n"
          ]
        },
        {
          "output_type": "execute_result",
          "data": {
            "text/plain": [
              "torch.Size([])"
            ]
          },
          "metadata": {},
          "execution_count": 19
        }
      ]
    },
    {
      "cell_type": "code",
      "source": [
        "print(t2)\n",
        "t2.shape"
      ],
      "metadata": {
        "colab": {
          "base_uri": "https://localhost:8080/"
        },
        "id": "ga9em9LHCigS",
        "outputId": "bec757c7-9ef1-4d01-eb51-7d59127d7874"
      },
      "execution_count": null,
      "outputs": [
        {
          "output_type": "stream",
          "name": "stdout",
          "text": [
            "tensor([1., 2., 3., 4.])\n"
          ]
        },
        {
          "output_type": "execute_result",
          "data": {
            "text/plain": [
              "torch.Size([4])"
            ]
          },
          "metadata": {},
          "execution_count": 20
        }
      ]
    },
    {
      "cell_type": "code",
      "source": [
        "print(t3)\n",
        "t3.shape"
      ],
      "metadata": {
        "colab": {
          "base_uri": "https://localhost:8080/"
        },
        "id": "MCj2LpX8Cjby",
        "outputId": "4fc2c347-a4e0-4899-fbec-46abe1b08e49"
      },
      "execution_count": null,
      "outputs": [
        {
          "output_type": "stream",
          "name": "stdout",
          "text": [
            "tensor([[ 4.,  5.,  6.,  9.],\n",
            "        [10., 11., 12., 13.]])\n"
          ]
        },
        {
          "output_type": "execute_result",
          "data": {
            "text/plain": [
              "torch.Size([2, 4])"
            ]
          },
          "metadata": {},
          "execution_count": 21
        }
      ]
    },
    {
      "cell_type": "code",
      "source": [
        "print(t4)\n",
        "t4.shape"
      ],
      "metadata": {
        "colab": {
          "base_uri": "https://localhost:8080/"
        },
        "id": "I2Zyn7_9Cr_z",
        "outputId": "51ac4d49-c16c-4115-a08b-3b84a6193527"
      },
      "execution_count": null,
      "outputs": [
        {
          "output_type": "stream",
          "name": "stdout",
          "text": [
            "tensor([[[11., 12., 13.],\n",
            "         [14., 15., 16.]],\n",
            "\n",
            "        [[22., 23., 24.],\n",
            "         [25., 26., 27.]]])\n"
          ]
        },
        {
          "output_type": "execute_result",
          "data": {
            "text/plain": [
              "torch.Size([2, 2, 3])"
            ]
          },
          "metadata": {},
          "execution_count": 22
        }
      ]
    },
    {
      "cell_type": "markdown",
      "source": [
        "# Tensors Operations"
      ],
      "metadata": {
        "id": "TctzyHq2D1LM"
      }
    },
    {
      "cell_type": "code",
      "source": [
        "x = torch.tensor(3.)\n",
        "w = torch.tensor(4., requires_grad=True)\n",
        "b = torch.tensor(5., requires_grad=True)\n",
        "\n",
        "# PyTorch calculates gradients automatically and so we specify the \n",
        "# requires_grad=True for those parameters where gradient \n",
        "# calculation is required. So during training PyTorch will know that \n",
        "# only w and b need to be trained and not x."
      ],
      "metadata": {
        "id": "OwtA7aWYCwUZ"
      },
      "execution_count": null,
      "outputs": []
    },
    {
      "cell_type": "code",
      "source": [
        "x, w, b"
      ],
      "metadata": {
        "colab": {
          "base_uri": "https://localhost:8080/"
        },
        "id": "jQ5-lA3yEsP5",
        "outputId": "c91edb73-372b-469f-a5cf-818f175c5a33"
      },
      "execution_count": null,
      "outputs": [
        {
          "output_type": "execute_result",
          "data": {
            "text/plain": [
              "(tensor(3.), tensor(4., requires_grad=True), tensor(5., requires_grad=True))"
            ]
          },
          "metadata": {},
          "execution_count": 24
        }
      ]
    },
    {
      "cell_type": "code",
      "source": [
        "y = w * x + b\n",
        "y"
      ],
      "metadata": {
        "colab": {
          "base_uri": "https://localhost:8080/"
        },
        "id": "TXEIGxMNEuB_",
        "outputId": "f495da3f-05e3-4357-8dea-abe8d2b1b979"
      },
      "execution_count": null,
      "outputs": [
        {
          "output_type": "execute_result",
          "data": {
            "text/plain": [
              "tensor(17., grad_fn=<AddBackward0>)"
            ]
          },
          "metadata": {},
          "execution_count": 25
        }
      ]
    },
    {
      "cell_type": "code",
      "source": [
        "y.backward()"
      ],
      "metadata": {
        "id": "CjqKkUf8E1Oe"
      },
      "execution_count": null,
      "outputs": []
    },
    {
      "cell_type": "code",
      "source": [
        "print(\"dy/dx: \", x.grad)\n",
        "print(\"dy/dw: \", w.grad)\n",
        "print(\"dy/db: \", b.grad)"
      ],
      "metadata": {
        "colab": {
          "base_uri": "https://localhost:8080/"
        },
        "id": "dEofzB6QE8q6",
        "outputId": "d40cf0fb-aa26-428b-d531-0ac9740fb2ee"
      },
      "execution_count": null,
      "outputs": [
        {
          "output_type": "stream",
          "name": "stdout",
          "text": [
            "dy/dx:  None\n",
            "dy/dw:  tensor(3.)\n",
            "dy/db:  tensor(1.)\n"
          ]
        }
      ]
    },
    {
      "cell_type": "code",
      "source": [
        "t5 = torch.full((3,2), 23)\n",
        "\n",
        "# similar ro numpy.zeros and numpy.ones\n",
        "# set all elements to same value for given shape"
      ],
      "metadata": {
        "id": "B4G2hR-GFPL8"
      },
      "execution_count": null,
      "outputs": []
    },
    {
      "cell_type": "code",
      "source": [
        "t5"
      ],
      "metadata": {
        "colab": {
          "base_uri": "https://localhost:8080/"
        },
        "id": "hc8paUqJGVvP",
        "outputId": "488d29be-1374-451e-a30c-8ed6f318b4dd"
      },
      "execution_count": null,
      "outputs": [
        {
          "output_type": "execute_result",
          "data": {
            "text/plain": [
              "tensor([[23, 23],\n",
              "        [23, 23],\n",
              "        [23, 23]])"
            ]
          },
          "metadata": {},
          "execution_count": 31
        }
      ]
    },
    {
      "cell_type": "code",
      "source": [
        "t6 = torch.full((5,2), 99)"
      ],
      "metadata": {
        "id": "AntWjM30GWbv"
      },
      "execution_count": null,
      "outputs": []
    },
    {
      "cell_type": "code",
      "source": [
        "t6"
      ],
      "metadata": {
        "colab": {
          "base_uri": "https://localhost:8080/"
        },
        "id": "semBZa7vGlOc",
        "outputId": "1cfcd04d-2fe5-4d09-c15f-3296a5e0c25d"
      },
      "execution_count": null,
      "outputs": [
        {
          "output_type": "execute_result",
          "data": {
            "text/plain": [
              "tensor([[99, 99],\n",
              "        [99, 99],\n",
              "        [99, 99],\n",
              "        [99, 99],\n",
              "        [99, 99]])"
            ]
          },
          "metadata": {},
          "execution_count": 38
        }
      ]
    },
    {
      "cell_type": "code",
      "source": [
        "t7 = torch.cat((t5,t6))"
      ],
      "metadata": {
        "id": "ISpcywMlGzJn"
      },
      "execution_count": null,
      "outputs": []
    },
    {
      "cell_type": "code",
      "source": [
        "t7"
      ],
      "metadata": {
        "colab": {
          "base_uri": "https://localhost:8080/"
        },
        "id": "Q9yWehkCG6kY",
        "outputId": "419f08aa-82a8-4101-d37c-cd92e7f4aebd"
      },
      "execution_count": null,
      "outputs": [
        {
          "output_type": "execute_result",
          "data": {
            "text/plain": [
              "tensor([[23, 23],\n",
              "        [23, 23],\n",
              "        [23, 23],\n",
              "        [99, 99],\n",
              "        [99, 99],\n",
              "        [99, 99],\n",
              "        [99, 99],\n",
              "        [99, 99]])"
            ]
          },
          "metadata": {},
          "execution_count": 40
        }
      ]
    },
    {
      "cell_type": "code",
      "source": [
        "t8 = torch.sin(t5)"
      ],
      "metadata": {
        "id": "KMWogIfLG7JN"
      },
      "execution_count": null,
      "outputs": []
    },
    {
      "cell_type": "code",
      "source": [
        "t8"
      ],
      "metadata": {
        "colab": {
          "base_uri": "https://localhost:8080/"
        },
        "id": "I7yKjJz_HAE6",
        "outputId": "782fbdc7-6d0d-4f3f-a98c-4470e6f56ca8"
      },
      "execution_count": null,
      "outputs": [
        {
          "output_type": "execute_result",
          "data": {
            "text/plain": [
              "tensor([[-0.8462, -0.8462],\n",
              "        [-0.8462, -0.8462],\n",
              "        [-0.8462, -0.8462]])"
            ]
          },
          "metadata": {},
          "execution_count": 42
        }
      ]
    },
    {
      "cell_type": "code",
      "source": [
        "t9 = t7.reshape(2,8)"
      ],
      "metadata": {
        "id": "XK_kSEsyHAoT"
      },
      "execution_count": null,
      "outputs": []
    },
    {
      "cell_type": "code",
      "source": [
        "t9"
      ],
      "metadata": {
        "colab": {
          "base_uri": "https://localhost:8080/"
        },
        "id": "BWhvk7h5HLHM",
        "outputId": "f462d9bf-e9cd-4a85-cecd-870109d126f5"
      },
      "execution_count": null,
      "outputs": [
        {
          "output_type": "execute_result",
          "data": {
            "text/plain": [
              "tensor([[23, 23, 23, 23, 23, 23, 99, 99],\n",
              "        [99, 99, 99, 99, 99, 99, 99, 99]])"
            ]
          },
          "metadata": {},
          "execution_count": 44
        }
      ]
    },
    {
      "cell_type": "markdown",
      "source": [
        "# Interoperability with NumPy"
      ],
      "metadata": {
        "id": "2DPXYm5VHfez"
      }
    },
    {
      "cell_type": "code",
      "source": [
        "import numpy as np"
      ],
      "metadata": {
        "id": "DY9PNpi2HMAM"
      },
      "execution_count": null,
      "outputs": []
    },
    {
      "cell_type": "code",
      "source": [
        "a = np.array([[1,2], [7,8]])"
      ],
      "metadata": {
        "id": "hueNgg05HlGv"
      },
      "execution_count": null,
      "outputs": []
    },
    {
      "cell_type": "code",
      "source": [
        "a"
      ],
      "metadata": {
        "colab": {
          "base_uri": "https://localhost:8080/"
        },
        "id": "kgYlboSlHoOn",
        "outputId": "02d3e62f-8ae1-4bbd-8093-a0e4c9087d01"
      },
      "execution_count": null,
      "outputs": [
        {
          "output_type": "execute_result",
          "data": {
            "text/plain": [
              "array([[1, 2],\n",
              "       [7, 8]])"
            ]
          },
          "metadata": {},
          "execution_count": 48
        }
      ]
    },
    {
      "cell_type": "code",
      "source": [
        "# convert numpy array to tensor\n",
        "y = torch.from_numpy(a)"
      ],
      "metadata": {
        "id": "kbk5e6pvITVw"
      },
      "execution_count": null,
      "outputs": []
    },
    {
      "cell_type": "code",
      "source": [
        "y"
      ],
      "metadata": {
        "colab": {
          "base_uri": "https://localhost:8080/"
        },
        "id": "iXaV9K9QIcx2",
        "outputId": "726d1132-18cd-463e-eaa2-607a504e293b"
      },
      "execution_count": null,
      "outputs": [
        {
          "output_type": "execute_result",
          "data": {
            "text/plain": [
              "tensor([[1, 2],\n",
              "        [7, 8]])"
            ]
          },
          "metadata": {},
          "execution_count": 50
        }
      ]
    },
    {
      "cell_type": "code",
      "source": [
        "# convert tensor to numpy array\n",
        "z = y.numpy()"
      ],
      "metadata": {
        "id": "S9tbH90OIdXs"
      },
      "execution_count": null,
      "outputs": []
    },
    {
      "cell_type": "code",
      "source": [
        "z"
      ],
      "metadata": {
        "colab": {
          "base_uri": "https://localhost:8080/"
        },
        "id": "3st6Y9eZIowQ",
        "outputId": "cba37c62-5d0d-4452-aa77-e75c9615b227"
      },
      "execution_count": null,
      "outputs": [
        {
          "output_type": "execute_result",
          "data": {
            "text/plain": [
              "array([[1, 2],\n",
              "       [7, 8]])"
            ]
          },
          "metadata": {},
          "execution_count": 52
        }
      ]
    },
    {
      "cell_type": "code",
      "source": [
        ""
      ],
      "metadata": {
        "id": "S52o3hyjIpgy"
      },
      "execution_count": null,
      "outputs": []
    }
  ]
}