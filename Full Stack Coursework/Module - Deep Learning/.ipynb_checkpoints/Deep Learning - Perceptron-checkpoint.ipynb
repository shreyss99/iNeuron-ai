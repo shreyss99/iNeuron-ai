{
 "cells": [
  {
   "cell_type": "code",
   "execution_count": 2,
   "id": "49e4fdff",
   "metadata": {},
   "outputs": [],
   "source": [
    "import os\n",
    "import matplotlib.pyplot as plt\n",
    "import numpy as np\n",
    "\n",
    "plt.style.use(\"fivethirtyeight\")"
   ]
  },
  {
   "cell_type": "code",
   "execution_count": 3,
   "id": "a7fd508f",
   "metadata": {},
   "outputs": [
    {
     "name": "stdout",
     "output_type": "stream",
     "text": [
      "Requirement already satisfied: joblib in c:\\programdata\\anaconda3\\lib\\site-packages (1.0.1)\n"
     ]
    }
   ],
   "source": [
    "!pip install joblib"
   ]
  },
  {
   "cell_type": "code",
   "execution_count": 17,
   "id": "8f7f3e0c",
   "metadata": {},
   "outputs": [],
   "source": [
    "class Perceptron:\n",
    "    def __init__(self, eta: float=None, epochs: int=None):\n",
    "        self.weights = np.random.randn(3) * 1e-4     # multiply by 0.0001 to keep them small\n",
    "        self. eta = eta\n",
    "        self.epochs = epochs\n",
    "        \n",
    "    def _z_outcome(self, X, weights):\n",
    "        return np.dot(weights, X)                    # np.dot() helps in dot product of vectors \n",
    "                                                     # reducing the need to transpose and then multiply\n",
    "    \n",
    "    def activation_function(z):                      # defining step activation function\n",
    "        return np.where(z >= 0, 1, 0)\n",
    "    \n",
    "    def fit(self, X, y):                             # fit() function to do the forward pass and backward propagation\n",
    "        self.X = X\n",
    "        self.y = y\n",
    "        \n",
    "        X_with_bias = np.c_(self.X, -np.ones(len(self.X), 1))\n",
    "        print(\"X with bias: {}\", X_with_bias)\n",
    "        \n",
    "        for(i in self.epochs):\n",
    "            z = self._z_outcome(X_with_bias, weights)                              # forward pass\n",
    "            y_hat = activation_function(z)                                       \n",
    "            \n",
    "            self.error = y - y_hat                                                 # error calculation\n",
    "            self.weights = self.weights + eta * np.dot(self.X * self.error)        # backward propgation - weights updation\n",
    "            \n",
    "    def predict(self, X, y):\n",
    "        X_with_bias = np.c(self.X, -np.ones(len(self.X), 1))\n",
    "        \n",
    "        "
   ]
  },
  {
   "cell_type": "code",
   "execution_count": 18,
   "id": "44d86ce3",
   "metadata": {},
   "outputs": [],
   "source": [
    "obj = Perceptron()"
   ]
  },
  {
   "cell_type": "code",
   "execution_count": 19,
   "id": "0f300278",
   "metadata": {},
   "outputs": [],
   "source": [
    "obj.eta"
   ]
  },
  {
   "cell_type": "code",
   "execution_count": 20,
   "id": "89503d73",
   "metadata": {},
   "outputs": [],
   "source": [
    "obj.epochs"
   ]
  },
  {
   "cell_type": "code",
   "execution_count": 21,
   "id": "bac8e09b",
   "metadata": {},
   "outputs": [],
   "source": [
    "obj = Perceptron(0.5, 10)"
   ]
  },
  {
   "cell_type": "code",
   "execution_count": 22,
   "id": "8c029357",
   "metadata": {},
   "outputs": [
    {
     "data": {
      "text/plain": [
       "0.5"
      ]
     },
     "execution_count": 22,
     "metadata": {},
     "output_type": "execute_result"
    }
   ],
   "source": [
    "obj.eta"
   ]
  },
  {
   "cell_type": "code",
   "execution_count": 23,
   "id": "33484183",
   "metadata": {},
   "outputs": [
    {
     "data": {
      "text/plain": [
       "10"
      ]
     },
     "execution_count": 23,
     "metadata": {},
     "output_type": "execute_result"
    }
   ],
   "source": [
    "obj.epochs"
   ]
  },
  {
   "cell_type": "code",
   "execution_count": 24,
   "id": "ef32a9d5",
   "metadata": {},
   "outputs": [
    {
     "data": {
      "text/plain": [
       "array([-1.84194189e-06, -1.00999708e-04, -7.36355187e-05])"
      ]
     },
     "execution_count": 24,
     "metadata": {},
     "output_type": "execute_result"
    }
   ],
   "source": [
    "obj.weights"
   ]
  },
  {
   "cell_type": "code",
   "execution_count": null,
   "id": "f4f8d8de",
   "metadata": {},
   "outputs": [],
   "source": []
  }
 ],
 "metadata": {
  "kernelspec": {
   "display_name": "Python 3",
   "language": "python",
   "name": "python3"
  },
  "language_info": {
   "codemirror_mode": {
    "name": "ipython",
    "version": 3
   },
   "file_extension": ".py",
   "mimetype": "text/x-python",
   "name": "python",
   "nbconvert_exporter": "python",
   "pygments_lexer": "ipython3",
   "version": "3.8.8"
  }
 },
 "nbformat": 4,
 "nbformat_minor": 5
}
