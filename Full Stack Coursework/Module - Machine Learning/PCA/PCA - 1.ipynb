{
 "cells": [
  {
   "cell_type": "code",
   "execution_count": 1,
   "id": "138adbd2",
   "metadata": {},
   "outputs": [],
   "source": [
    "import numpy as np\n",
    "import pandas as pd"
   ]
  },
  {
   "cell_type": "code",
   "execution_count": 2,
   "id": "8640f2c9",
   "metadata": {},
   "outputs": [],
   "source": [
    "A = np.array([[3, 7],\n",
    "              [-4, -6],\n",
    "              [7, 8],\n",
    "              [1, -1],\n",
    "              [-4, -1],\n",
    "              [-3, -7]]) "
   ]
  },
  {
   "cell_type": "code",
   "execution_count": 3,
   "id": "89991335",
   "metadata": {},
   "outputs": [
    {
     "data": {
      "text/plain": [
       "array([[ 3,  7],\n",
       "       [-4, -6],\n",
       "       [ 7,  8],\n",
       "       [ 1, -1],\n",
       "       [-4, -1],\n",
       "       [-3, -7]])"
      ]
     },
     "execution_count": 3,
     "metadata": {},
     "output_type": "execute_result"
    }
   ],
   "source": [
    "A"
   ]
  },
  {
   "cell_type": "code",
   "execution_count": 4,
   "id": "3fae413c",
   "metadata": {},
   "outputs": [
    {
     "data": {
      "text/plain": [
       "(6, 2)"
      ]
     },
     "execution_count": 4,
     "metadata": {},
     "output_type": "execute_result"
    }
   ],
   "source": [
    "A.shape"
   ]
  },
  {
   "cell_type": "code",
   "execution_count": 5,
   "id": "4b3ecd64",
   "metadata": {},
   "outputs": [],
   "source": [
    "df = pd.DataFrame(A, columns=['A0', 'A1'])"
   ]
  },
  {
   "cell_type": "code",
   "execution_count": 6,
   "id": "0110c52a",
   "metadata": {},
   "outputs": [
    {
     "data": {
      "text/html": [
       "<div>\n",
       "<style scoped>\n",
       "    .dataframe tbody tr th:only-of-type {\n",
       "        vertical-align: middle;\n",
       "    }\n",
       "\n",
       "    .dataframe tbody tr th {\n",
       "        vertical-align: top;\n",
       "    }\n",
       "\n",
       "    .dataframe thead th {\n",
       "        text-align: right;\n",
       "    }\n",
       "</style>\n",
       "<table border=\"1\" class=\"dataframe\">\n",
       "  <thead>\n",
       "    <tr style=\"text-align: right;\">\n",
       "      <th></th>\n",
       "      <th>A0</th>\n",
       "      <th>A1</th>\n",
       "    </tr>\n",
       "  </thead>\n",
       "  <tbody>\n",
       "    <tr>\n",
       "      <th>0</th>\n",
       "      <td>3</td>\n",
       "      <td>7</td>\n",
       "    </tr>\n",
       "    <tr>\n",
       "      <th>1</th>\n",
       "      <td>-4</td>\n",
       "      <td>-6</td>\n",
       "    </tr>\n",
       "    <tr>\n",
       "      <th>2</th>\n",
       "      <td>7</td>\n",
       "      <td>8</td>\n",
       "    </tr>\n",
       "    <tr>\n",
       "      <th>3</th>\n",
       "      <td>1</td>\n",
       "      <td>-1</td>\n",
       "    </tr>\n",
       "    <tr>\n",
       "      <th>4</th>\n",
       "      <td>-4</td>\n",
       "      <td>-1</td>\n",
       "    </tr>\n",
       "    <tr>\n",
       "      <th>5</th>\n",
       "      <td>-3</td>\n",
       "      <td>-7</td>\n",
       "    </tr>\n",
       "  </tbody>\n",
       "</table>\n",
       "</div>"
      ],
      "text/plain": [
       "   A0  A1\n",
       "0   3   7\n",
       "1  -4  -6\n",
       "2   7   8\n",
       "3   1  -1\n",
       "4  -4  -1\n",
       "5  -3  -7"
      ]
     },
     "execution_count": 6,
     "metadata": {},
     "output_type": "execute_result"
    }
   ],
   "source": [
    "df"
   ]
  },
  {
   "cell_type": "code",
   "execution_count": 7,
   "id": "9dc4cb7b",
   "metadata": {},
   "outputs": [
    {
     "data": {
      "text/plain": [
       "A0    0.0\n",
       "A1    0.0\n",
       "dtype: float64"
      ]
     },
     "execution_count": 7,
     "metadata": {},
     "output_type": "execute_result"
    }
   ],
   "source": [
    "df.mean()"
   ]
  },
  {
   "cell_type": "code",
   "execution_count": 8,
   "id": "0b72a3f7",
   "metadata": {},
   "outputs": [
    {
     "data": {
      "text/plain": [
       "A0    4.472136\n",
       "A1    6.324555\n",
       "dtype: float64"
      ]
     },
     "execution_count": 8,
     "metadata": {},
     "output_type": "execute_result"
    }
   ],
   "source": [
    "df.std()"
   ]
  },
  {
   "cell_type": "code",
   "execution_count": 9,
   "id": "ce09b508",
   "metadata": {},
   "outputs": [
    {
     "data": {
      "text/html": [
       "<div>\n",
       "<style scoped>\n",
       "    .dataframe tbody tr th:only-of-type {\n",
       "        vertical-align: middle;\n",
       "    }\n",
       "\n",
       "    .dataframe tbody tr th {\n",
       "        vertical-align: top;\n",
       "    }\n",
       "\n",
       "    .dataframe thead th {\n",
       "        text-align: right;\n",
       "    }\n",
       "</style>\n",
       "<table border=\"1\" class=\"dataframe\">\n",
       "  <thead>\n",
       "    <tr style=\"text-align: right;\">\n",
       "      <th></th>\n",
       "      <th>A0</th>\n",
       "      <th>A1</th>\n",
       "    </tr>\n",
       "  </thead>\n",
       "  <tbody>\n",
       "    <tr>\n",
       "      <th>0</th>\n",
       "      <td>3</td>\n",
       "      <td>7</td>\n",
       "    </tr>\n",
       "    <tr>\n",
       "      <th>1</th>\n",
       "      <td>-4</td>\n",
       "      <td>-6</td>\n",
       "    </tr>\n",
       "    <tr>\n",
       "      <th>2</th>\n",
       "      <td>7</td>\n",
       "      <td>8</td>\n",
       "    </tr>\n",
       "    <tr>\n",
       "      <th>3</th>\n",
       "      <td>1</td>\n",
       "      <td>-1</td>\n",
       "    </tr>\n",
       "    <tr>\n",
       "      <th>4</th>\n",
       "      <td>-4</td>\n",
       "      <td>-1</td>\n",
       "    </tr>\n",
       "    <tr>\n",
       "      <th>5</th>\n",
       "      <td>-3</td>\n",
       "      <td>-7</td>\n",
       "    </tr>\n",
       "  </tbody>\n",
       "</table>\n",
       "</div>"
      ],
      "text/plain": [
       "   A0  A1\n",
       "0   3   7\n",
       "1  -4  -6\n",
       "2   7   8\n",
       "3   1  -1\n",
       "4  -4  -1\n",
       "5  -3  -7"
      ]
     },
     "execution_count": 9,
     "metadata": {},
     "output_type": "execute_result"
    }
   ],
   "source": [
    "df"
   ]
  },
  {
   "cell_type": "code",
   "execution_count": 10,
   "id": "788c0e44",
   "metadata": {},
   "outputs": [],
   "source": [
    "a0 = df.A0"
   ]
  },
  {
   "cell_type": "code",
   "execution_count": 11,
   "id": "60011d83",
   "metadata": {},
   "outputs": [
    {
     "data": {
      "text/plain": [
       "0    3\n",
       "1   -4\n",
       "2    7\n",
       "3    1\n",
       "4   -4\n",
       "5   -3\n",
       "Name: A0, dtype: int32"
      ]
     },
     "execution_count": 11,
     "metadata": {},
     "output_type": "execute_result"
    }
   ],
   "source": [
    "a0"
   ]
  },
  {
   "cell_type": "code",
   "execution_count": 12,
   "id": "fb134545",
   "metadata": {},
   "outputs": [],
   "source": [
    "a1=df.A1"
   ]
  },
  {
   "cell_type": "code",
   "execution_count": 13,
   "id": "6ef7b844",
   "metadata": {},
   "outputs": [
    {
     "data": {
      "text/plain": [
       "0    7\n",
       "1   -6\n",
       "2    8\n",
       "3   -1\n",
       "4   -1\n",
       "5   -7\n",
       "Name: A1, dtype: int32"
      ]
     },
     "execution_count": 13,
     "metadata": {},
     "output_type": "execute_result"
    }
   ],
   "source": [
    "a1"
   ]
  },
  {
   "cell_type": "code",
   "execution_count": 14,
   "id": "0c6f85ef",
   "metadata": {},
   "outputs": [
    {
     "data": {
      "text/plain": [
       "array([[20., 25.],\n",
       "       [25., 40.]])"
      ]
     },
     "execution_count": 14,
     "metadata": {},
     "output_type": "execute_result"
    }
   ],
   "source": [
    "# Finding covariences between the data set columns\n",
    "# First method\n",
    "\n",
    "np.cov(a0,a1)"
   ]
  },
  {
   "cell_type": "code",
   "execution_count": 15,
   "id": "b37d45ab",
   "metadata": {},
   "outputs": [
    {
     "data": {
      "text/plain": [
       "25.0"
      ]
     },
     "execution_count": 15,
     "metadata": {},
     "output_type": "execute_result"
    }
   ],
   "source": [
    "# Second method\n",
    "\n",
    "np.sum(a0*a1)/5"
   ]
  },
  {
   "cell_type": "code",
   "execution_count": 16,
   "id": "3b6f7806",
   "metadata": {},
   "outputs": [
    {
     "data": {
      "text/plain": [
       "array([[20., 25.],\n",
       "       [25., 40.]])"
      ]
     },
     "execution_count": 16,
     "metadata": {},
     "output_type": "execute_result"
    }
   ],
   "source": [
    "# Third method\n",
    "# Matrix transpose * matrix / (n-1)\n",
    "\n",
    "A.T @ A / 5"
   ]
  },
  {
   "cell_type": "code",
   "execution_count": 17,
   "id": "5ff76899",
   "metadata": {},
   "outputs": [],
   "source": [
    "# Eigen value and eigen vector - there is a possibility of showing data using some constant\n",
    "# It is possible to represent a column in form of another column if we are able t find the value of constant\n",
    "# T(v) = lambda * v"
   ]
  },
  {
   "cell_type": "code",
   "execution_count": 18,
   "id": "b192fd96",
   "metadata": {},
   "outputs": [],
   "source": [
    "sigma = A.T @ A / 5\n",
    "\n",
    "# This is the covarience matrix between a0 and a1"
   ]
  },
  {
   "cell_type": "code",
   "execution_count": 19,
   "id": "525f2624",
   "metadata": {},
   "outputs": [
    {
     "data": {
      "text/plain": [
       "array([[20., 25.],\n",
       "       [25., 40.]])"
      ]
     },
     "execution_count": 19,
     "metadata": {},
     "output_type": "execute_result"
    }
   ],
   "source": [
    "sigma"
   ]
  },
  {
   "cell_type": "code",
   "execution_count": 20,
   "id": "aa8db482",
   "metadata": {},
   "outputs": [
    {
     "data": {
      "text/plain": [
       "(array([ 3.07417596, 56.92582404]),\n",
       " array([[-0.82806723, -0.56062881],\n",
       "        [ 0.56062881, -0.82806723]]))"
      ]
     },
     "execution_count": 20,
     "metadata": {},
     "output_type": "execute_result"
    }
   ],
   "source": [
    "np.linalg.eig(sigma)\n",
    "\n",
    "# This function will try and give us the eigen values and eigen vectors for the square matrix input.\n",
    "# we are trying to get 2 values - PC1 and PC2\n"
   ]
  },
  {
   "cell_type": "code",
   "execution_count": 21,
   "id": "83d48e5f",
   "metadata": {},
   "outputs": [],
   "source": [
    "# In the above output, the first array represents the eigen values. Since we have 2 columns and are using them we\n",
    "# will be having 2 values - PC1 and PC2. Out of them, the higher magnitude value will be the PC1.\n",
    "# So the value of lambda will be from the eigen values.\n",
    "\n",
    "eigen_values,  eigen_vectors = np.linalg.eig(sigma)"
   ]
  },
  {
   "cell_type": "code",
   "execution_count": 22,
   "id": "309ed823",
   "metadata": {},
   "outputs": [
    {
     "data": {
      "text/plain": [
       "array([ 3.07417596, 56.92582404])"
      ]
     },
     "execution_count": 22,
     "metadata": {},
     "output_type": "execute_result"
    }
   ],
   "source": [
    "eigen_values"
   ]
  },
  {
   "cell_type": "code",
   "execution_count": 23,
   "id": "c975848c",
   "metadata": {},
   "outputs": [
    {
     "data": {
      "text/plain": [
       "array([[-0.82806723, -0.56062881],\n",
       "       [ 0.56062881, -0.82806723]])"
      ]
     },
     "execution_count": 23,
     "metadata": {},
     "output_type": "execute_result"
    }
   ],
   "source": [
    "eigen_vectors"
   ]
  },
  {
   "cell_type": "code",
   "execution_count": 24,
   "id": "58cd8a19",
   "metadata": {},
   "outputs": [
    {
     "data": {
      "text/plain": [
       "array([[20., 25.],\n",
       "       [25., 40.]])"
      ]
     },
     "execution_count": 24,
     "metadata": {},
     "output_type": "execute_result"
    }
   ],
   "source": [
    "sigma"
   ]
  },
  {
   "cell_type": "code",
   "execution_count": 25,
   "id": "b2b3248f",
   "metadata": {},
   "outputs": [
    {
     "name": "stdout",
     "output_type": "stream",
     "text": [
      "First Principal component: \n",
      "[-0.56062881 -0.82806723]\n"
     ]
    }
   ],
   "source": [
    "# Based on the value of the eigen_values, the higher eigen value corresponds to PC1 and the corresponding \n",
    "# column values inside the eigen_vectors represent the PC1 compoments\n",
    "\n",
    "print(\"First Principal component: \")\n",
    "print(eigen_vectors[:,1])"
   ]
  },
  {
   "cell_type": "code",
   "execution_count": 26,
   "id": "b89704e4",
   "metadata": {},
   "outputs": [
    {
     "name": "stdout",
     "output_type": "stream",
     "text": [
      "Second Principal component: \n",
      "[-0.82806723  0.56062881]\n"
     ]
    }
   ],
   "source": [
    "print(\"Second Principal component: \")\n",
    "print(eigen_vectors[:,0])"
   ]
  },
  {
   "cell_type": "code",
   "execution_count": 27,
   "id": "11f4a60c",
   "metadata": {},
   "outputs": [
    {
     "data": {
      "text/plain": [
       "array([-2.54562438,  1.72347161])"
      ]
     },
     "execution_count": 27,
     "metadata": {},
     "output_type": "execute_result"
    }
   ],
   "source": [
    "# Lets calculate sigma * eigen vector 1\n",
    "\n",
    "sigma @ eigen_vectors[:,0]"
   ]
  },
  {
   "cell_type": "code",
   "execution_count": 28,
   "id": "8ba3ab75",
   "metadata": {},
   "outputs": [
    {
     "data": {
      "text/plain": [
       "array([-31.91425695, -47.13840945])"
      ]
     },
     "execution_count": 28,
     "metadata": {},
     "output_type": "execute_result"
    }
   ],
   "source": [
    "# Lets calculate sigma * eigen vector 2\n",
    "\n",
    "sigma @ eigen_vectors[:,1]"
   ]
  },
  {
   "cell_type": "code",
   "execution_count": 29,
   "id": "7fee6b7f",
   "metadata": {},
   "outputs": [
    {
     "data": {
      "text/plain": [
       "array([ -7.47835704,   7.21091862, -10.54893951,   0.26743842,\n",
       "         3.07058247,   7.47835704])"
      ]
     },
     "execution_count": 29,
     "metadata": {},
     "output_type": "execute_result"
    }
   ],
   "source": [
    "# Transformed data after multiplying the original data with PC1\n",
    "\n",
    "PC1_arr = A @ eigen_vectors[:,1]\n",
    "PC1_arr"
   ]
  },
  {
   "cell_type": "code",
   "execution_count": 30,
   "id": "e0cedb3e",
   "metadata": {},
   "outputs": [
    {
     "data": {
      "text/plain": [
       "array([ 1.44019997, -0.05150393, -1.31144014, -1.38869604,  2.75164011,\n",
       "       -1.44019997])"
      ]
     },
     "execution_count": 30,
     "metadata": {},
     "output_type": "execute_result"
    }
   ],
   "source": [
    "# Transformed data after multiplying the original data with PC2\n",
    "\n",
    "PC2_arr = A @ eigen_vectors[:,0]\n",
    "PC2_arr"
   ]
  },
  {
   "cell_type": "code",
   "execution_count": null,
   "id": "798a79da",
   "metadata": {},
   "outputs": [],
   "source": []
  },
  {
   "cell_type": "markdown",
   "id": "f9f05aa4",
   "metadata": {},
   "source": [
    "# Let's perform the PCA on the larger dataset"
   ]
  },
  {
   "cell_type": "code",
   "execution_count": 31,
   "id": "eda26500",
   "metadata": {},
   "outputs": [],
   "source": [
    "glass = pd.read_csv(\"glass_csv.csv\", sep=\",\")"
   ]
  },
  {
   "cell_type": "code",
   "execution_count": 32,
   "id": "a3ff5934",
   "metadata": {},
   "outputs": [
    {
     "data": {
      "text/html": [
       "<div>\n",
       "<style scoped>\n",
       "    .dataframe tbody tr th:only-of-type {\n",
       "        vertical-align: middle;\n",
       "    }\n",
       "\n",
       "    .dataframe tbody tr th {\n",
       "        vertical-align: top;\n",
       "    }\n",
       "\n",
       "    .dataframe thead th {\n",
       "        text-align: right;\n",
       "    }\n",
       "</style>\n",
       "<table border=\"1\" class=\"dataframe\">\n",
       "  <thead>\n",
       "    <tr style=\"text-align: right;\">\n",
       "      <th></th>\n",
       "      <th>RI</th>\n",
       "      <th>Na</th>\n",
       "      <th>Mg</th>\n",
       "      <th>Al</th>\n",
       "      <th>Si</th>\n",
       "      <th>K</th>\n",
       "      <th>Ca</th>\n",
       "      <th>Ba</th>\n",
       "      <th>Fe</th>\n",
       "      <th>Type</th>\n",
       "    </tr>\n",
       "  </thead>\n",
       "  <tbody>\n",
       "    <tr>\n",
       "      <th>0</th>\n",
       "      <td>1.51793</td>\n",
       "      <td>12.79</td>\n",
       "      <td>3.50</td>\n",
       "      <td>1.12</td>\n",
       "      <td>73.03</td>\n",
       "      <td>0.64</td>\n",
       "      <td>8.77</td>\n",
       "      <td>0.0</td>\n",
       "      <td>0.00</td>\n",
       "      <td>'build wind float'</td>\n",
       "    </tr>\n",
       "    <tr>\n",
       "      <th>1</th>\n",
       "      <td>1.51643</td>\n",
       "      <td>12.16</td>\n",
       "      <td>3.52</td>\n",
       "      <td>1.35</td>\n",
       "      <td>72.89</td>\n",
       "      <td>0.57</td>\n",
       "      <td>8.53</td>\n",
       "      <td>0.0</td>\n",
       "      <td>0.00</td>\n",
       "      <td>'vehic wind float'</td>\n",
       "    </tr>\n",
       "    <tr>\n",
       "      <th>2</th>\n",
       "      <td>1.51793</td>\n",
       "      <td>13.21</td>\n",
       "      <td>3.48</td>\n",
       "      <td>1.41</td>\n",
       "      <td>72.64</td>\n",
       "      <td>0.59</td>\n",
       "      <td>8.43</td>\n",
       "      <td>0.0</td>\n",
       "      <td>0.00</td>\n",
       "      <td>'build wind float'</td>\n",
       "    </tr>\n",
       "    <tr>\n",
       "      <th>3</th>\n",
       "      <td>1.51299</td>\n",
       "      <td>14.40</td>\n",
       "      <td>1.74</td>\n",
       "      <td>1.54</td>\n",
       "      <td>74.55</td>\n",
       "      <td>0.00</td>\n",
       "      <td>7.59</td>\n",
       "      <td>0.0</td>\n",
       "      <td>0.00</td>\n",
       "      <td>tableware</td>\n",
       "    </tr>\n",
       "    <tr>\n",
       "      <th>4</th>\n",
       "      <td>1.53393</td>\n",
       "      <td>12.30</td>\n",
       "      <td>0.00</td>\n",
       "      <td>1.00</td>\n",
       "      <td>70.16</td>\n",
       "      <td>0.12</td>\n",
       "      <td>16.19</td>\n",
       "      <td>0.0</td>\n",
       "      <td>0.24</td>\n",
       "      <td>'build wind non-float'</td>\n",
       "    </tr>\n",
       "    <tr>\n",
       "      <th>...</th>\n",
       "      <td>...</td>\n",
       "      <td>...</td>\n",
       "      <td>...</td>\n",
       "      <td>...</td>\n",
       "      <td>...</td>\n",
       "      <td>...</td>\n",
       "      <td>...</td>\n",
       "      <td>...</td>\n",
       "      <td>...</td>\n",
       "      <td>...</td>\n",
       "    </tr>\n",
       "    <tr>\n",
       "      <th>209</th>\n",
       "      <td>1.51610</td>\n",
       "      <td>13.42</td>\n",
       "      <td>3.40</td>\n",
       "      <td>1.22</td>\n",
       "      <td>72.69</td>\n",
       "      <td>0.59</td>\n",
       "      <td>8.32</td>\n",
       "      <td>0.0</td>\n",
       "      <td>0.00</td>\n",
       "      <td>'vehic wind float'</td>\n",
       "    </tr>\n",
       "    <tr>\n",
       "      <th>210</th>\n",
       "      <td>1.51592</td>\n",
       "      <td>12.86</td>\n",
       "      <td>3.52</td>\n",
       "      <td>2.12</td>\n",
       "      <td>72.66</td>\n",
       "      <td>0.69</td>\n",
       "      <td>7.97</td>\n",
       "      <td>0.0</td>\n",
       "      <td>0.00</td>\n",
       "      <td>'build wind non-float'</td>\n",
       "    </tr>\n",
       "    <tr>\n",
       "      <th>211</th>\n",
       "      <td>1.51613</td>\n",
       "      <td>13.92</td>\n",
       "      <td>3.52</td>\n",
       "      <td>1.25</td>\n",
       "      <td>72.88</td>\n",
       "      <td>0.37</td>\n",
       "      <td>7.94</td>\n",
       "      <td>0.0</td>\n",
       "      <td>0.14</td>\n",
       "      <td>'build wind non-float'</td>\n",
       "    </tr>\n",
       "    <tr>\n",
       "      <th>212</th>\n",
       "      <td>1.51689</td>\n",
       "      <td>12.67</td>\n",
       "      <td>2.88</td>\n",
       "      <td>1.71</td>\n",
       "      <td>73.21</td>\n",
       "      <td>0.73</td>\n",
       "      <td>8.54</td>\n",
       "      <td>0.0</td>\n",
       "      <td>0.00</td>\n",
       "      <td>'build wind non-float'</td>\n",
       "    </tr>\n",
       "    <tr>\n",
       "      <th>213</th>\n",
       "      <td>1.51852</td>\n",
       "      <td>14.09</td>\n",
       "      <td>2.19</td>\n",
       "      <td>1.66</td>\n",
       "      <td>72.67</td>\n",
       "      <td>0.00</td>\n",
       "      <td>9.32</td>\n",
       "      <td>0.0</td>\n",
       "      <td>0.00</td>\n",
       "      <td>tableware</td>\n",
       "    </tr>\n",
       "  </tbody>\n",
       "</table>\n",
       "<p>214 rows × 10 columns</p>\n",
       "</div>"
      ],
      "text/plain": [
       "          RI     Na    Mg    Al     Si     K     Ca   Ba    Fe  \\\n",
       "0    1.51793  12.79  3.50  1.12  73.03  0.64   8.77  0.0  0.00   \n",
       "1    1.51643  12.16  3.52  1.35  72.89  0.57   8.53  0.0  0.00   \n",
       "2    1.51793  13.21  3.48  1.41  72.64  0.59   8.43  0.0  0.00   \n",
       "3    1.51299  14.40  1.74  1.54  74.55  0.00   7.59  0.0  0.00   \n",
       "4    1.53393  12.30  0.00  1.00  70.16  0.12  16.19  0.0  0.24   \n",
       "..       ...    ...   ...   ...    ...   ...    ...  ...   ...   \n",
       "209  1.51610  13.42  3.40  1.22  72.69  0.59   8.32  0.0  0.00   \n",
       "210  1.51592  12.86  3.52  2.12  72.66  0.69   7.97  0.0  0.00   \n",
       "211  1.51613  13.92  3.52  1.25  72.88  0.37   7.94  0.0  0.14   \n",
       "212  1.51689  12.67  2.88  1.71  73.21  0.73   8.54  0.0  0.00   \n",
       "213  1.51852  14.09  2.19  1.66  72.67  0.00   9.32  0.0  0.00   \n",
       "\n",
       "                       Type  \n",
       "0        'build wind float'  \n",
       "1        'vehic wind float'  \n",
       "2        'build wind float'  \n",
       "3                 tableware  \n",
       "4    'build wind non-float'  \n",
       "..                      ...  \n",
       "209      'vehic wind float'  \n",
       "210  'build wind non-float'  \n",
       "211  'build wind non-float'  \n",
       "212  'build wind non-float'  \n",
       "213               tableware  \n",
       "\n",
       "[214 rows x 10 columns]"
      ]
     },
     "execution_count": 32,
     "metadata": {},
     "output_type": "execute_result"
    }
   ],
   "source": [
    "glass"
   ]
  },
  {
   "cell_type": "code",
   "execution_count": 33,
   "id": "7fd968b9",
   "metadata": {},
   "outputs": [],
   "source": [
    "x = glass.drop(columns = ['Type'])"
   ]
  },
  {
   "cell_type": "code",
   "execution_count": 34,
   "id": "40a86512",
   "metadata": {},
   "outputs": [
    {
     "data": {
      "text/html": [
       "<div>\n",
       "<style scoped>\n",
       "    .dataframe tbody tr th:only-of-type {\n",
       "        vertical-align: middle;\n",
       "    }\n",
       "\n",
       "    .dataframe tbody tr th {\n",
       "        vertical-align: top;\n",
       "    }\n",
       "\n",
       "    .dataframe thead th {\n",
       "        text-align: right;\n",
       "    }\n",
       "</style>\n",
       "<table border=\"1\" class=\"dataframe\">\n",
       "  <thead>\n",
       "    <tr style=\"text-align: right;\">\n",
       "      <th></th>\n",
       "      <th>RI</th>\n",
       "      <th>Na</th>\n",
       "      <th>Mg</th>\n",
       "      <th>Al</th>\n",
       "      <th>Si</th>\n",
       "      <th>K</th>\n",
       "      <th>Ca</th>\n",
       "      <th>Ba</th>\n",
       "      <th>Fe</th>\n",
       "    </tr>\n",
       "  </thead>\n",
       "  <tbody>\n",
       "    <tr>\n",
       "      <th>0</th>\n",
       "      <td>1.51793</td>\n",
       "      <td>12.79</td>\n",
       "      <td>3.50</td>\n",
       "      <td>1.12</td>\n",
       "      <td>73.03</td>\n",
       "      <td>0.64</td>\n",
       "      <td>8.77</td>\n",
       "      <td>0.0</td>\n",
       "      <td>0.00</td>\n",
       "    </tr>\n",
       "    <tr>\n",
       "      <th>1</th>\n",
       "      <td>1.51643</td>\n",
       "      <td>12.16</td>\n",
       "      <td>3.52</td>\n",
       "      <td>1.35</td>\n",
       "      <td>72.89</td>\n",
       "      <td>0.57</td>\n",
       "      <td>8.53</td>\n",
       "      <td>0.0</td>\n",
       "      <td>0.00</td>\n",
       "    </tr>\n",
       "    <tr>\n",
       "      <th>2</th>\n",
       "      <td>1.51793</td>\n",
       "      <td>13.21</td>\n",
       "      <td>3.48</td>\n",
       "      <td>1.41</td>\n",
       "      <td>72.64</td>\n",
       "      <td>0.59</td>\n",
       "      <td>8.43</td>\n",
       "      <td>0.0</td>\n",
       "      <td>0.00</td>\n",
       "    </tr>\n",
       "    <tr>\n",
       "      <th>3</th>\n",
       "      <td>1.51299</td>\n",
       "      <td>14.40</td>\n",
       "      <td>1.74</td>\n",
       "      <td>1.54</td>\n",
       "      <td>74.55</td>\n",
       "      <td>0.00</td>\n",
       "      <td>7.59</td>\n",
       "      <td>0.0</td>\n",
       "      <td>0.00</td>\n",
       "    </tr>\n",
       "    <tr>\n",
       "      <th>4</th>\n",
       "      <td>1.53393</td>\n",
       "      <td>12.30</td>\n",
       "      <td>0.00</td>\n",
       "      <td>1.00</td>\n",
       "      <td>70.16</td>\n",
       "      <td>0.12</td>\n",
       "      <td>16.19</td>\n",
       "      <td>0.0</td>\n",
       "      <td>0.24</td>\n",
       "    </tr>\n",
       "    <tr>\n",
       "      <th>...</th>\n",
       "      <td>...</td>\n",
       "      <td>...</td>\n",
       "      <td>...</td>\n",
       "      <td>...</td>\n",
       "      <td>...</td>\n",
       "      <td>...</td>\n",
       "      <td>...</td>\n",
       "      <td>...</td>\n",
       "      <td>...</td>\n",
       "    </tr>\n",
       "    <tr>\n",
       "      <th>209</th>\n",
       "      <td>1.51610</td>\n",
       "      <td>13.42</td>\n",
       "      <td>3.40</td>\n",
       "      <td>1.22</td>\n",
       "      <td>72.69</td>\n",
       "      <td>0.59</td>\n",
       "      <td>8.32</td>\n",
       "      <td>0.0</td>\n",
       "      <td>0.00</td>\n",
       "    </tr>\n",
       "    <tr>\n",
       "      <th>210</th>\n",
       "      <td>1.51592</td>\n",
       "      <td>12.86</td>\n",
       "      <td>3.52</td>\n",
       "      <td>2.12</td>\n",
       "      <td>72.66</td>\n",
       "      <td>0.69</td>\n",
       "      <td>7.97</td>\n",
       "      <td>0.0</td>\n",
       "      <td>0.00</td>\n",
       "    </tr>\n",
       "    <tr>\n",
       "      <th>211</th>\n",
       "      <td>1.51613</td>\n",
       "      <td>13.92</td>\n",
       "      <td>3.52</td>\n",
       "      <td>1.25</td>\n",
       "      <td>72.88</td>\n",
       "      <td>0.37</td>\n",
       "      <td>7.94</td>\n",
       "      <td>0.0</td>\n",
       "      <td>0.14</td>\n",
       "    </tr>\n",
       "    <tr>\n",
       "      <th>212</th>\n",
       "      <td>1.51689</td>\n",
       "      <td>12.67</td>\n",
       "      <td>2.88</td>\n",
       "      <td>1.71</td>\n",
       "      <td>73.21</td>\n",
       "      <td>0.73</td>\n",
       "      <td>8.54</td>\n",
       "      <td>0.0</td>\n",
       "      <td>0.00</td>\n",
       "    </tr>\n",
       "    <tr>\n",
       "      <th>213</th>\n",
       "      <td>1.51852</td>\n",
       "      <td>14.09</td>\n",
       "      <td>2.19</td>\n",
       "      <td>1.66</td>\n",
       "      <td>72.67</td>\n",
       "      <td>0.00</td>\n",
       "      <td>9.32</td>\n",
       "      <td>0.0</td>\n",
       "      <td>0.00</td>\n",
       "    </tr>\n",
       "  </tbody>\n",
       "</table>\n",
       "<p>214 rows × 9 columns</p>\n",
       "</div>"
      ],
      "text/plain": [
       "          RI     Na    Mg    Al     Si     K     Ca   Ba    Fe\n",
       "0    1.51793  12.79  3.50  1.12  73.03  0.64   8.77  0.0  0.00\n",
       "1    1.51643  12.16  3.52  1.35  72.89  0.57   8.53  0.0  0.00\n",
       "2    1.51793  13.21  3.48  1.41  72.64  0.59   8.43  0.0  0.00\n",
       "3    1.51299  14.40  1.74  1.54  74.55  0.00   7.59  0.0  0.00\n",
       "4    1.53393  12.30  0.00  1.00  70.16  0.12  16.19  0.0  0.24\n",
       "..       ...    ...   ...   ...    ...   ...    ...  ...   ...\n",
       "209  1.51610  13.42  3.40  1.22  72.69  0.59   8.32  0.0  0.00\n",
       "210  1.51592  12.86  3.52  2.12  72.66  0.69   7.97  0.0  0.00\n",
       "211  1.51613  13.92  3.52  1.25  72.88  0.37   7.94  0.0  0.14\n",
       "212  1.51689  12.67  2.88  1.71  73.21  0.73   8.54  0.0  0.00\n",
       "213  1.51852  14.09  2.19  1.66  72.67  0.00   9.32  0.0  0.00\n",
       "\n",
       "[214 rows x 9 columns]"
      ]
     },
     "execution_count": 34,
     "metadata": {},
     "output_type": "execute_result"
    }
   ],
   "source": [
    "x"
   ]
  },
  {
   "cell_type": "code",
   "execution_count": 35,
   "id": "de5bd914",
   "metadata": {},
   "outputs": [],
   "source": [
    "y = glass[['Type']]"
   ]
  },
  {
   "cell_type": "code",
   "execution_count": 36,
   "id": "3052c302",
   "metadata": {},
   "outputs": [
    {
     "data": {
      "text/html": [
       "<div>\n",
       "<style scoped>\n",
       "    .dataframe tbody tr th:only-of-type {\n",
       "        vertical-align: middle;\n",
       "    }\n",
       "\n",
       "    .dataframe tbody tr th {\n",
       "        vertical-align: top;\n",
       "    }\n",
       "\n",
       "    .dataframe thead th {\n",
       "        text-align: right;\n",
       "    }\n",
       "</style>\n",
       "<table border=\"1\" class=\"dataframe\">\n",
       "  <thead>\n",
       "    <tr style=\"text-align: right;\">\n",
       "      <th></th>\n",
       "      <th>Type</th>\n",
       "    </tr>\n",
       "  </thead>\n",
       "  <tbody>\n",
       "    <tr>\n",
       "      <th>0</th>\n",
       "      <td>'build wind float'</td>\n",
       "    </tr>\n",
       "    <tr>\n",
       "      <th>1</th>\n",
       "      <td>'vehic wind float'</td>\n",
       "    </tr>\n",
       "    <tr>\n",
       "      <th>2</th>\n",
       "      <td>'build wind float'</td>\n",
       "    </tr>\n",
       "    <tr>\n",
       "      <th>3</th>\n",
       "      <td>tableware</td>\n",
       "    </tr>\n",
       "    <tr>\n",
       "      <th>4</th>\n",
       "      <td>'build wind non-float'</td>\n",
       "    </tr>\n",
       "    <tr>\n",
       "      <th>...</th>\n",
       "      <td>...</td>\n",
       "    </tr>\n",
       "    <tr>\n",
       "      <th>209</th>\n",
       "      <td>'vehic wind float'</td>\n",
       "    </tr>\n",
       "    <tr>\n",
       "      <th>210</th>\n",
       "      <td>'build wind non-float'</td>\n",
       "    </tr>\n",
       "    <tr>\n",
       "      <th>211</th>\n",
       "      <td>'build wind non-float'</td>\n",
       "    </tr>\n",
       "    <tr>\n",
       "      <th>212</th>\n",
       "      <td>'build wind non-float'</td>\n",
       "    </tr>\n",
       "    <tr>\n",
       "      <th>213</th>\n",
       "      <td>tableware</td>\n",
       "    </tr>\n",
       "  </tbody>\n",
       "</table>\n",
       "<p>214 rows × 1 columns</p>\n",
       "</div>"
      ],
      "text/plain": [
       "                       Type\n",
       "0        'build wind float'\n",
       "1        'vehic wind float'\n",
       "2        'build wind float'\n",
       "3                 tableware\n",
       "4    'build wind non-float'\n",
       "..                      ...\n",
       "209      'vehic wind float'\n",
       "210  'build wind non-float'\n",
       "211  'build wind non-float'\n",
       "212  'build wind non-float'\n",
       "213               tableware\n",
       "\n",
       "[214 rows x 1 columns]"
      ]
     },
     "execution_count": 36,
     "metadata": {},
     "output_type": "execute_result"
    }
   ],
   "source": [
    "y"
   ]
  },
  {
   "cell_type": "code",
   "execution_count": 37,
   "id": "6cbcc2ac",
   "metadata": {},
   "outputs": [
    {
     "data": {
      "text/html": [
       "<div>\n",
       "<style scoped>\n",
       "    .dataframe tbody tr th:only-of-type {\n",
       "        vertical-align: middle;\n",
       "    }\n",
       "\n",
       "    .dataframe tbody tr th {\n",
       "        vertical-align: top;\n",
       "    }\n",
       "\n",
       "    .dataframe thead th {\n",
       "        text-align: right;\n",
       "    }\n",
       "</style>\n",
       "<table border=\"1\" class=\"dataframe\">\n",
       "  <thead>\n",
       "    <tr style=\"text-align: right;\">\n",
       "      <th></th>\n",
       "      <th>RI</th>\n",
       "      <th>Na</th>\n",
       "      <th>Mg</th>\n",
       "      <th>Al</th>\n",
       "      <th>Si</th>\n",
       "      <th>K</th>\n",
       "      <th>Ca</th>\n",
       "      <th>Ba</th>\n",
       "      <th>Fe</th>\n",
       "    </tr>\n",
       "  </thead>\n",
       "  <tbody>\n",
       "    <tr>\n",
       "      <th>count</th>\n",
       "      <td>214.000000</td>\n",
       "      <td>214.000000</td>\n",
       "      <td>214.000000</td>\n",
       "      <td>214.000000</td>\n",
       "      <td>214.000000</td>\n",
       "      <td>214.000000</td>\n",
       "      <td>214.000000</td>\n",
       "      <td>214.000000</td>\n",
       "      <td>214.000000</td>\n",
       "    </tr>\n",
       "    <tr>\n",
       "      <th>mean</th>\n",
       "      <td>1.518365</td>\n",
       "      <td>13.407850</td>\n",
       "      <td>2.684533</td>\n",
       "      <td>1.444907</td>\n",
       "      <td>72.650935</td>\n",
       "      <td>0.497056</td>\n",
       "      <td>8.956963</td>\n",
       "      <td>0.175047</td>\n",
       "      <td>0.057009</td>\n",
       "    </tr>\n",
       "    <tr>\n",
       "      <th>std</th>\n",
       "      <td>0.003037</td>\n",
       "      <td>0.816604</td>\n",
       "      <td>1.442408</td>\n",
       "      <td>0.499270</td>\n",
       "      <td>0.774546</td>\n",
       "      <td>0.652192</td>\n",
       "      <td>1.423153</td>\n",
       "      <td>0.497219</td>\n",
       "      <td>0.097439</td>\n",
       "    </tr>\n",
       "    <tr>\n",
       "      <th>min</th>\n",
       "      <td>1.511150</td>\n",
       "      <td>10.730000</td>\n",
       "      <td>0.000000</td>\n",
       "      <td>0.290000</td>\n",
       "      <td>69.810000</td>\n",
       "      <td>0.000000</td>\n",
       "      <td>5.430000</td>\n",
       "      <td>0.000000</td>\n",
       "      <td>0.000000</td>\n",
       "    </tr>\n",
       "    <tr>\n",
       "      <th>25%</th>\n",
       "      <td>1.516522</td>\n",
       "      <td>12.907500</td>\n",
       "      <td>2.115000</td>\n",
       "      <td>1.190000</td>\n",
       "      <td>72.280000</td>\n",
       "      <td>0.122500</td>\n",
       "      <td>8.240000</td>\n",
       "      <td>0.000000</td>\n",
       "      <td>0.000000</td>\n",
       "    </tr>\n",
       "    <tr>\n",
       "      <th>50%</th>\n",
       "      <td>1.517680</td>\n",
       "      <td>13.300000</td>\n",
       "      <td>3.480000</td>\n",
       "      <td>1.360000</td>\n",
       "      <td>72.790000</td>\n",
       "      <td>0.555000</td>\n",
       "      <td>8.600000</td>\n",
       "      <td>0.000000</td>\n",
       "      <td>0.000000</td>\n",
       "    </tr>\n",
       "    <tr>\n",
       "      <th>75%</th>\n",
       "      <td>1.519157</td>\n",
       "      <td>13.825000</td>\n",
       "      <td>3.600000</td>\n",
       "      <td>1.630000</td>\n",
       "      <td>73.087500</td>\n",
       "      <td>0.610000</td>\n",
       "      <td>9.172500</td>\n",
       "      <td>0.000000</td>\n",
       "      <td>0.100000</td>\n",
       "    </tr>\n",
       "    <tr>\n",
       "      <th>max</th>\n",
       "      <td>1.533930</td>\n",
       "      <td>17.380000</td>\n",
       "      <td>4.490000</td>\n",
       "      <td>3.500000</td>\n",
       "      <td>75.410000</td>\n",
       "      <td>6.210000</td>\n",
       "      <td>16.190000</td>\n",
       "      <td>3.150000</td>\n",
       "      <td>0.510000</td>\n",
       "    </tr>\n",
       "  </tbody>\n",
       "</table>\n",
       "</div>"
      ],
      "text/plain": [
       "               RI          Na          Mg          Al          Si           K  \\\n",
       "count  214.000000  214.000000  214.000000  214.000000  214.000000  214.000000   \n",
       "mean     1.518365   13.407850    2.684533    1.444907   72.650935    0.497056   \n",
       "std      0.003037    0.816604    1.442408    0.499270    0.774546    0.652192   \n",
       "min      1.511150   10.730000    0.000000    0.290000   69.810000    0.000000   \n",
       "25%      1.516522   12.907500    2.115000    1.190000   72.280000    0.122500   \n",
       "50%      1.517680   13.300000    3.480000    1.360000   72.790000    0.555000   \n",
       "75%      1.519157   13.825000    3.600000    1.630000   73.087500    0.610000   \n",
       "max      1.533930   17.380000    4.490000    3.500000   75.410000    6.210000   \n",
       "\n",
       "               Ca          Ba          Fe  \n",
       "count  214.000000  214.000000  214.000000  \n",
       "mean     8.956963    0.175047    0.057009  \n",
       "std      1.423153    0.497219    0.097439  \n",
       "min      5.430000    0.000000    0.000000  \n",
       "25%      8.240000    0.000000    0.000000  \n",
       "50%      8.600000    0.000000    0.000000  \n",
       "75%      9.172500    0.000000    0.100000  \n",
       "max     16.190000    3.150000    0.510000  "
      ]
     },
     "execution_count": 37,
     "metadata": {},
     "output_type": "execute_result"
    }
   ],
   "source": [
    "x.describe()\n",
    "\n",
    "# As we see that the mean of all columns is not 0 and also sd is not 1\n",
    "# We will standardise using StandardScaler"
   ]
  },
  {
   "cell_type": "code",
   "execution_count": 38,
   "id": "1d7b981d",
   "metadata": {},
   "outputs": [],
   "source": [
    "from sklearn.preprocessing import StandardScaler"
   ]
  },
  {
   "cell_type": "code",
   "execution_count": 39,
   "id": "4d776df8",
   "metadata": {},
   "outputs": [],
   "source": [
    "scaler = StandardScaler()\n",
    "scaled_x_arr = scaler.fit_transform(x)"
   ]
  },
  {
   "cell_type": "code",
   "execution_count": 40,
   "id": "2253ae8d",
   "metadata": {},
   "outputs": [
    {
     "data": {
      "text/html": [
       "<div>\n",
       "<style scoped>\n",
       "    .dataframe tbody tr th:only-of-type {\n",
       "        vertical-align: middle;\n",
       "    }\n",
       "\n",
       "    .dataframe tbody tr th {\n",
       "        vertical-align: top;\n",
       "    }\n",
       "\n",
       "    .dataframe thead th {\n",
       "        text-align: right;\n",
       "    }\n",
       "</style>\n",
       "<table border=\"1\" class=\"dataframe\">\n",
       "  <thead>\n",
       "    <tr style=\"text-align: right;\">\n",
       "      <th></th>\n",
       "      <th>0</th>\n",
       "      <th>1</th>\n",
       "      <th>2</th>\n",
       "      <th>3</th>\n",
       "      <th>4</th>\n",
       "      <th>5</th>\n",
       "      <th>6</th>\n",
       "      <th>7</th>\n",
       "      <th>8</th>\n",
       "    </tr>\n",
       "  </thead>\n",
       "  <tbody>\n",
       "    <tr>\n",
       "      <th>0</th>\n",
       "      <td>-0.143715</td>\n",
       "      <td>-0.758384</td>\n",
       "      <td>0.566677</td>\n",
       "      <td>-0.652289</td>\n",
       "      <td>0.490551</td>\n",
       "      <td>0.219689</td>\n",
       "      <td>-0.131680</td>\n",
       "      <td>-0.352877</td>\n",
       "      <td>-0.586451</td>\n",
       "    </tr>\n",
       "    <tr>\n",
       "      <th>1</th>\n",
       "      <td>-0.638803</td>\n",
       "      <td>-1.531681</td>\n",
       "      <td>0.580575</td>\n",
       "      <td>-0.190536</td>\n",
       "      <td>0.309376</td>\n",
       "      <td>0.112107</td>\n",
       "      <td>-0.300715</td>\n",
       "      <td>-0.352877</td>\n",
       "      <td>-0.586451</td>\n",
       "    </tr>\n",
       "    <tr>\n",
       "      <th>2</th>\n",
       "      <td>-0.143715</td>\n",
       "      <td>-0.242853</td>\n",
       "      <td>0.552779</td>\n",
       "      <td>-0.070079</td>\n",
       "      <td>-0.014151</td>\n",
       "      <td>0.142844</td>\n",
       "      <td>-0.371146</td>\n",
       "      <td>-0.352877</td>\n",
       "      <td>-0.586451</td>\n",
       "    </tr>\n",
       "    <tr>\n",
       "      <th>3</th>\n",
       "      <td>-1.774207</td>\n",
       "      <td>1.217820</td>\n",
       "      <td>-0.656366</td>\n",
       "      <td>0.190912</td>\n",
       "      <td>2.457593</td>\n",
       "      <td>-0.763919</td>\n",
       "      <td>-0.962769</td>\n",
       "      <td>-0.352877</td>\n",
       "      <td>-0.586451</td>\n",
       "    </tr>\n",
       "    <tr>\n",
       "      <th>4</th>\n",
       "      <td>5.137232</td>\n",
       "      <td>-1.359837</td>\n",
       "      <td>-1.865511</td>\n",
       "      <td>-0.893204</td>\n",
       "      <td>-3.223534</td>\n",
       "      <td>-0.579492</td>\n",
       "      <td>5.094318</td>\n",
       "      <td>-0.352877</td>\n",
       "      <td>1.882411</td>\n",
       "    </tr>\n",
       "    <tr>\n",
       "      <th>...</th>\n",
       "      <td>...</td>\n",
       "      <td>...</td>\n",
       "      <td>...</td>\n",
       "      <td>...</td>\n",
       "      <td>...</td>\n",
       "      <td>...</td>\n",
       "      <td>...</td>\n",
       "      <td>...</td>\n",
       "      <td>...</td>\n",
       "    </tr>\n",
       "    <tr>\n",
       "      <th>209</th>\n",
       "      <td>-0.747723</td>\n",
       "      <td>0.014913</td>\n",
       "      <td>0.497186</td>\n",
       "      <td>-0.451527</td>\n",
       "      <td>0.050555</td>\n",
       "      <td>0.142844</td>\n",
       "      <td>-0.448621</td>\n",
       "      <td>-0.352877</td>\n",
       "      <td>-0.586451</td>\n",
       "    </tr>\n",
       "    <tr>\n",
       "      <th>210</th>\n",
       "      <td>-0.807133</td>\n",
       "      <td>-0.672462</td>\n",
       "      <td>0.580575</td>\n",
       "      <td>1.355332</td>\n",
       "      <td>0.011732</td>\n",
       "      <td>0.296533</td>\n",
       "      <td>-0.695130</td>\n",
       "      <td>-0.352877</td>\n",
       "      <td>-0.586451</td>\n",
       "    </tr>\n",
       "    <tr>\n",
       "      <th>211</th>\n",
       "      <td>-0.737821</td>\n",
       "      <td>0.628641</td>\n",
       "      <td>0.580575</td>\n",
       "      <td>-0.391299</td>\n",
       "      <td>0.296435</td>\n",
       "      <td>-0.195271</td>\n",
       "      <td>-0.716259</td>\n",
       "      <td>-0.352877</td>\n",
       "      <td>0.853719</td>\n",
       "    </tr>\n",
       "    <tr>\n",
       "      <th>212</th>\n",
       "      <td>-0.486976</td>\n",
       "      <td>-0.905679</td>\n",
       "      <td>0.135832</td>\n",
       "      <td>0.532207</td>\n",
       "      <td>0.723490</td>\n",
       "      <td>0.358008</td>\n",
       "      <td>-0.293672</td>\n",
       "      <td>-0.352877</td>\n",
       "      <td>-0.586451</td>\n",
       "    </tr>\n",
       "    <tr>\n",
       "      <th>213</th>\n",
       "      <td>0.051020</td>\n",
       "      <td>0.837308</td>\n",
       "      <td>-0.343656</td>\n",
       "      <td>0.431826</td>\n",
       "      <td>0.024673</td>\n",
       "      <td>-0.763919</td>\n",
       "      <td>0.255692</td>\n",
       "      <td>-0.352877</td>\n",
       "      <td>-0.586451</td>\n",
       "    </tr>\n",
       "  </tbody>\n",
       "</table>\n",
       "<p>214 rows × 9 columns</p>\n",
       "</div>"
      ],
      "text/plain": [
       "            0         1         2         3         4         5         6  \\\n",
       "0   -0.143715 -0.758384  0.566677 -0.652289  0.490551  0.219689 -0.131680   \n",
       "1   -0.638803 -1.531681  0.580575 -0.190536  0.309376  0.112107 -0.300715   \n",
       "2   -0.143715 -0.242853  0.552779 -0.070079 -0.014151  0.142844 -0.371146   \n",
       "3   -1.774207  1.217820 -0.656366  0.190912  2.457593 -0.763919 -0.962769   \n",
       "4    5.137232 -1.359837 -1.865511 -0.893204 -3.223534 -0.579492  5.094318   \n",
       "..        ...       ...       ...       ...       ...       ...       ...   \n",
       "209 -0.747723  0.014913  0.497186 -0.451527  0.050555  0.142844 -0.448621   \n",
       "210 -0.807133 -0.672462  0.580575  1.355332  0.011732  0.296533 -0.695130   \n",
       "211 -0.737821  0.628641  0.580575 -0.391299  0.296435 -0.195271 -0.716259   \n",
       "212 -0.486976 -0.905679  0.135832  0.532207  0.723490  0.358008 -0.293672   \n",
       "213  0.051020  0.837308 -0.343656  0.431826  0.024673 -0.763919  0.255692   \n",
       "\n",
       "            7         8  \n",
       "0   -0.352877 -0.586451  \n",
       "1   -0.352877 -0.586451  \n",
       "2   -0.352877 -0.586451  \n",
       "3   -0.352877 -0.586451  \n",
       "4   -0.352877  1.882411  \n",
       "..        ...       ...  \n",
       "209 -0.352877 -0.586451  \n",
       "210 -0.352877 -0.586451  \n",
       "211 -0.352877  0.853719  \n",
       "212 -0.352877 -0.586451  \n",
       "213 -0.352877 -0.586451  \n",
       "\n",
       "[214 rows x 9 columns]"
      ]
     },
     "execution_count": 40,
     "metadata": {},
     "output_type": "execute_result"
    }
   ],
   "source": [
    "scaled_x_df = pd.DataFrame(scaled_x_arr)\n",
    "scaled_x_df"
   ]
  },
  {
   "cell_type": "code",
   "execution_count": 41,
   "id": "a9d1ecb3",
   "metadata": {},
   "outputs": [
    {
     "data": {
      "text/html": [
       "<div>\n",
       "<style scoped>\n",
       "    .dataframe tbody tr th:only-of-type {\n",
       "        vertical-align: middle;\n",
       "    }\n",
       "\n",
       "    .dataframe tbody tr th {\n",
       "        vertical-align: top;\n",
       "    }\n",
       "\n",
       "    .dataframe thead th {\n",
       "        text-align: right;\n",
       "    }\n",
       "</style>\n",
       "<table border=\"1\" class=\"dataframe\">\n",
       "  <thead>\n",
       "    <tr style=\"text-align: right;\">\n",
       "      <th></th>\n",
       "      <th>0</th>\n",
       "      <th>1</th>\n",
       "      <th>2</th>\n",
       "      <th>3</th>\n",
       "      <th>4</th>\n",
       "      <th>5</th>\n",
       "      <th>6</th>\n",
       "      <th>7</th>\n",
       "      <th>8</th>\n",
       "    </tr>\n",
       "  </thead>\n",
       "  <tbody>\n",
       "    <tr>\n",
       "      <th>count</th>\n",
       "      <td>2.140000e+02</td>\n",
       "      <td>2.140000e+02</td>\n",
       "      <td>2.140000e+02</td>\n",
       "      <td>2.140000e+02</td>\n",
       "      <td>2.140000e+02</td>\n",
       "      <td>2.140000e+02</td>\n",
       "      <td>2.140000e+02</td>\n",
       "      <td>2.140000e+02</td>\n",
       "      <td>2.140000e+02</td>\n",
       "    </tr>\n",
       "    <tr>\n",
       "      <th>mean</th>\n",
       "      <td>-2.876301e-14</td>\n",
       "      <td>2.201769e-15</td>\n",
       "      <td>2.233416e-16</td>\n",
       "      <td>-3.130933e-16</td>\n",
       "      <td>9.635335e-16</td>\n",
       "      <td>-1.867665e-17</td>\n",
       "      <td>-3.265820e-16</td>\n",
       "      <td>-4.617283e-17</td>\n",
       "      <td>-3.320293e-17</td>\n",
       "    </tr>\n",
       "    <tr>\n",
       "      <th>std</th>\n",
       "      <td>1.002345e+00</td>\n",
       "      <td>1.002345e+00</td>\n",
       "      <td>1.002345e+00</td>\n",
       "      <td>1.002345e+00</td>\n",
       "      <td>1.002345e+00</td>\n",
       "      <td>1.002345e+00</td>\n",
       "      <td>1.002345e+00</td>\n",
       "      <td>1.002345e+00</td>\n",
       "      <td>1.002345e+00</td>\n",
       "    </tr>\n",
       "    <tr>\n",
       "      <th>min</th>\n",
       "      <td>-2.381516e+00</td>\n",
       "      <td>-3.286943e+00</td>\n",
       "      <td>-1.865511e+00</td>\n",
       "      <td>-2.318616e+00</td>\n",
       "      <td>-3.676472e+00</td>\n",
       "      <td>-7.639186e-01</td>\n",
       "      <td>-2.484084e+00</td>\n",
       "      <td>-3.528768e-01</td>\n",
       "      <td>-5.864509e-01</td>\n",
       "    </tr>\n",
       "    <tr>\n",
       "      <th>25%</th>\n",
       "      <td>-6.082728e-01</td>\n",
       "      <td>-6.141580e-01</td>\n",
       "      <td>-3.957744e-01</td>\n",
       "      <td>-5.117560e-01</td>\n",
       "      <td>-4.800288e-01</td>\n",
       "      <td>-5.756501e-01</td>\n",
       "      <td>-5.049657e-01</td>\n",
       "      <td>-3.528768e-01</td>\n",
       "      <td>-5.864509e-01</td>\n",
       "    </tr>\n",
       "    <tr>\n",
       "      <th>50%</th>\n",
       "      <td>-2.262293e-01</td>\n",
       "      <td>-1.323817e-01</td>\n",
       "      <td>5.527787e-01</td>\n",
       "      <td>-1.704602e-01</td>\n",
       "      <td>1.799655e-01</td>\n",
       "      <td>8.905322e-02</td>\n",
       "      <td>-2.514132e-01</td>\n",
       "      <td>-3.528768e-01</td>\n",
       "      <td>-5.864509e-01</td>\n",
       "    </tr>\n",
       "    <tr>\n",
       "      <th>75%</th>\n",
       "      <td>2.614331e-01</td>\n",
       "      <td>5.120326e-01</td>\n",
       "      <td>6.361680e-01</td>\n",
       "      <td>3.715977e-01</td>\n",
       "      <td>5.649621e-01</td>\n",
       "      <td>1.735820e-01</td>\n",
       "      <td>1.518057e-01</td>\n",
       "      <td>-3.528768e-01</td>\n",
       "      <td>4.422417e-01</td>\n",
       "    </tr>\n",
       "    <tr>\n",
       "      <th>max</th>\n",
       "      <td>5.137232e+00</td>\n",
       "      <td>4.875637e+00</td>\n",
       "      <td>1.254639e+00</td>\n",
       "      <td>4.125851e+00</td>\n",
       "      <td>3.570524e+00</td>\n",
       "      <td>8.780145e+00</td>\n",
       "      <td>5.094318e+00</td>\n",
       "      <td>5.997210e+00</td>\n",
       "      <td>4.659881e+00</td>\n",
       "    </tr>\n",
       "  </tbody>\n",
       "</table>\n",
       "</div>"
      ],
      "text/plain": [
       "                  0             1             2             3             4  \\\n",
       "count  2.140000e+02  2.140000e+02  2.140000e+02  2.140000e+02  2.140000e+02   \n",
       "mean  -2.876301e-14  2.201769e-15  2.233416e-16 -3.130933e-16  9.635335e-16   \n",
       "std    1.002345e+00  1.002345e+00  1.002345e+00  1.002345e+00  1.002345e+00   \n",
       "min   -2.381516e+00 -3.286943e+00 -1.865511e+00 -2.318616e+00 -3.676472e+00   \n",
       "25%   -6.082728e-01 -6.141580e-01 -3.957744e-01 -5.117560e-01 -4.800288e-01   \n",
       "50%   -2.262293e-01 -1.323817e-01  5.527787e-01 -1.704602e-01  1.799655e-01   \n",
       "75%    2.614331e-01  5.120326e-01  6.361680e-01  3.715977e-01  5.649621e-01   \n",
       "max    5.137232e+00  4.875637e+00  1.254639e+00  4.125851e+00  3.570524e+00   \n",
       "\n",
       "                  5             6             7             8  \n",
       "count  2.140000e+02  2.140000e+02  2.140000e+02  2.140000e+02  \n",
       "mean  -1.867665e-17 -3.265820e-16 -4.617283e-17 -3.320293e-17  \n",
       "std    1.002345e+00  1.002345e+00  1.002345e+00  1.002345e+00  \n",
       "min   -7.639186e-01 -2.484084e+00 -3.528768e-01 -5.864509e-01  \n",
       "25%   -5.756501e-01 -5.049657e-01 -3.528768e-01 -5.864509e-01  \n",
       "50%    8.905322e-02 -2.514132e-01 -3.528768e-01 -5.864509e-01  \n",
       "75%    1.735820e-01  1.518057e-01 -3.528768e-01  4.422417e-01  \n",
       "max    8.780145e+00  5.094318e+00  5.997210e+00  4.659881e+00  "
      ]
     },
     "execution_count": 41,
     "metadata": {},
     "output_type": "execute_result"
    }
   ],
   "source": [
    "scaled_x_df.describe()"
   ]
  },
  {
   "cell_type": "code",
   "execution_count": 42,
   "id": "be8c873f",
   "metadata": {},
   "outputs": [],
   "source": [
    "sigma = (scaled_x_df.T @ scaled_x_df) / (scaled_x_df.shape[0] - 1)"
   ]
  },
  {
   "cell_type": "code",
   "execution_count": 43,
   "id": "4363a6af",
   "metadata": {},
   "outputs": [
    {
     "data": {
      "text/html": [
       "<div>\n",
       "<style scoped>\n",
       "    .dataframe tbody tr th:only-of-type {\n",
       "        vertical-align: middle;\n",
       "    }\n",
       "\n",
       "    .dataframe tbody tr th {\n",
       "        vertical-align: top;\n",
       "    }\n",
       "\n",
       "    .dataframe thead th {\n",
       "        text-align: right;\n",
       "    }\n",
       "</style>\n",
       "<table border=\"1\" class=\"dataframe\">\n",
       "  <thead>\n",
       "    <tr style=\"text-align: right;\">\n",
       "      <th></th>\n",
       "      <th>0</th>\n",
       "      <th>1</th>\n",
       "      <th>2</th>\n",
       "      <th>3</th>\n",
       "      <th>4</th>\n",
       "      <th>5</th>\n",
       "      <th>6</th>\n",
       "      <th>7</th>\n",
       "      <th>8</th>\n",
       "    </tr>\n",
       "  </thead>\n",
       "  <tbody>\n",
       "    <tr>\n",
       "      <th>0</th>\n",
       "      <td>1.004695</td>\n",
       "      <td>-0.192786</td>\n",
       "      <td>-0.122848</td>\n",
       "      <td>-0.409238</td>\n",
       "      <td>-0.544597</td>\n",
       "      <td>-0.291193</td>\n",
       "      <td>0.814207</td>\n",
       "      <td>-0.000388</td>\n",
       "      <td>0.143681</td>\n",
       "    </tr>\n",
       "    <tr>\n",
       "      <th>1</th>\n",
       "      <td>-0.192786</td>\n",
       "      <td>1.004695</td>\n",
       "      <td>-0.275017</td>\n",
       "      <td>0.157530</td>\n",
       "      <td>-0.070137</td>\n",
       "      <td>-0.267336</td>\n",
       "      <td>-0.276736</td>\n",
       "      <td>0.328136</td>\n",
       "      <td>-0.242479</td>\n",
       "    </tr>\n",
       "    <tr>\n",
       "      <th>2</th>\n",
       "      <td>-0.122848</td>\n",
       "      <td>-0.275017</td>\n",
       "      <td>1.004695</td>\n",
       "      <td>-0.484060</td>\n",
       "      <td>-0.166706</td>\n",
       "      <td>0.005421</td>\n",
       "      <td>-0.445833</td>\n",
       "      <td>-0.494573</td>\n",
       "      <td>0.083449</td>\n",
       "    </tr>\n",
       "    <tr>\n",
       "      <th>3</th>\n",
       "      <td>-0.409238</td>\n",
       "      <td>0.157530</td>\n",
       "      <td>-0.484060</td>\n",
       "      <td>1.004695</td>\n",
       "      <td>-0.005550</td>\n",
       "      <td>0.327489</td>\n",
       "      <td>-0.260811</td>\n",
       "      <td>0.481655</td>\n",
       "      <td>-0.074751</td>\n",
       "    </tr>\n",
       "    <tr>\n",
       "      <th>4</th>\n",
       "      <td>-0.544597</td>\n",
       "      <td>-0.070137</td>\n",
       "      <td>-0.166706</td>\n",
       "      <td>-0.005550</td>\n",
       "      <td>1.004695</td>\n",
       "      <td>-0.194239</td>\n",
       "      <td>-0.209712</td>\n",
       "      <td>-0.102631</td>\n",
       "      <td>-0.094643</td>\n",
       "    </tr>\n",
       "    <tr>\n",
       "      <th>5</th>\n",
       "      <td>-0.291193</td>\n",
       "      <td>-0.267336</td>\n",
       "      <td>0.005421</td>\n",
       "      <td>0.327489</td>\n",
       "      <td>-0.194239</td>\n",
       "      <td>1.004695</td>\n",
       "      <td>-0.319328</td>\n",
       "      <td>-0.042818</td>\n",
       "      <td>-0.007755</td>\n",
       "    </tr>\n",
       "    <tr>\n",
       "      <th>6</th>\n",
       "      <td>0.814207</td>\n",
       "      <td>-0.276736</td>\n",
       "      <td>-0.445833</td>\n",
       "      <td>-0.260811</td>\n",
       "      <td>-0.209712</td>\n",
       "      <td>-0.319328</td>\n",
       "      <td>1.004695</td>\n",
       "      <td>-0.113371</td>\n",
       "      <td>0.125555</td>\n",
       "    </tr>\n",
       "    <tr>\n",
       "      <th>7</th>\n",
       "      <td>-0.000388</td>\n",
       "      <td>0.328136</td>\n",
       "      <td>-0.494573</td>\n",
       "      <td>0.481655</td>\n",
       "      <td>-0.102631</td>\n",
       "      <td>-0.042818</td>\n",
       "      <td>-0.113371</td>\n",
       "      <td>1.004695</td>\n",
       "      <td>-0.058967</td>\n",
       "    </tr>\n",
       "    <tr>\n",
       "      <th>8</th>\n",
       "      <td>0.143681</td>\n",
       "      <td>-0.242479</td>\n",
       "      <td>0.083449</td>\n",
       "      <td>-0.074751</td>\n",
       "      <td>-0.094643</td>\n",
       "      <td>-0.007755</td>\n",
       "      <td>0.125555</td>\n",
       "      <td>-0.058967</td>\n",
       "      <td>1.004695</td>\n",
       "    </tr>\n",
       "  </tbody>\n",
       "</table>\n",
       "</div>"
      ],
      "text/plain": [
       "          0         1         2         3         4         5         6  \\\n",
       "0  1.004695 -0.192786 -0.122848 -0.409238 -0.544597 -0.291193  0.814207   \n",
       "1 -0.192786  1.004695 -0.275017  0.157530 -0.070137 -0.267336 -0.276736   \n",
       "2 -0.122848 -0.275017  1.004695 -0.484060 -0.166706  0.005421 -0.445833   \n",
       "3 -0.409238  0.157530 -0.484060  1.004695 -0.005550  0.327489 -0.260811   \n",
       "4 -0.544597 -0.070137 -0.166706 -0.005550  1.004695 -0.194239 -0.209712   \n",
       "5 -0.291193 -0.267336  0.005421  0.327489 -0.194239  1.004695 -0.319328   \n",
       "6  0.814207 -0.276736 -0.445833 -0.260811 -0.209712 -0.319328  1.004695   \n",
       "7 -0.000388  0.328136 -0.494573  0.481655 -0.102631 -0.042818 -0.113371   \n",
       "8  0.143681 -0.242479  0.083449 -0.074751 -0.094643 -0.007755  0.125555   \n",
       "\n",
       "          7         8  \n",
       "0 -0.000388  0.143681  \n",
       "1  0.328136 -0.242479  \n",
       "2 -0.494573  0.083449  \n",
       "3  0.481655 -0.074751  \n",
       "4 -0.102631 -0.094643  \n",
       "5 -0.042818 -0.007755  \n",
       "6 -0.113371  0.125555  \n",
       "7  1.004695 -0.058967  \n",
       "8 -0.058967  1.004695  "
      ]
     },
     "execution_count": 43,
     "metadata": {},
     "output_type": "execute_result"
    }
   ],
   "source": [
    "sigma\n",
    "\n",
    "# sigma is the covarience matrix"
   ]
  },
  {
   "cell_type": "code",
   "execution_count": 44,
   "id": "e5a504dc",
   "metadata": {},
   "outputs": [],
   "source": [
    "eigen_values_new, eigen_vectors_new = np.linalg.eig(sigma)"
   ]
  },
  {
   "cell_type": "code",
   "execution_count": 45,
   "id": "9309e68e",
   "metadata": {},
   "outputs": [
    {
     "data": {
      "text/plain": [
       "array([2.52295323e+00, 2.05969694e+00, 1.41143951e+00, 1.16329842e+00,\n",
       "       9.18293337e-01, 5.30112353e-01, 3.70690643e-01, 6.41527269e-02,\n",
       "       1.61637096e-03])"
      ]
     },
     "execution_count": 45,
     "metadata": {},
     "output_type": "execute_result"
    }
   ],
   "source": [
    "eigen_values_new\n",
    "\n",
    "# Eigen values must be equal to the number of columns used"
   ]
  },
  {
   "cell_type": "code",
   "execution_count": 46,
   "id": "805ac607",
   "metadata": {},
   "outputs": [
    {
     "data": {
      "text/plain": [
       "array([[-0.54517662,  0.28568318,  0.08691083, -0.14738099,  0.0735427 ,\n",
       "        -0.11528772, -0.08186724, -0.7522159 ,  0.02573194],\n",
       "       [ 0.2581256 ,  0.27035007, -0.38491962, -0.49124204, -0.1536833 ,\n",
       "         0.55811757, -0.14858006, -0.12769315, -0.31193718],\n",
       "       [-0.11088095, -0.59355826,  0.00841796, -0.37878577, -0.12350912,\n",
       "        -0.30818598,  0.20604537, -0.07689061, -0.57727335],\n",
       "       [ 0.42870863,  0.29521154,  0.32923712,  0.13750592, -0.01410888,\n",
       "         0.01885731,  0.69923557, -0.27444105, -0.19222686],\n",
       "       [ 0.22883635, -0.15509891, -0.45870884,  0.65253771, -0.00850012,\n",
       "        -0.08609797, -0.21606658, -0.37992298, -0.29807321],\n",
       "       [ 0.21934405, -0.15397013,  0.66257412,  0.03853544,  0.30703984,\n",
       "         0.24363237, -0.50412141, -0.10981168, -0.26050863],\n",
       "       [-0.49230609,  0.3453798 , -0.00098473,  0.27644322,  0.18818774,\n",
       "         0.14866937,  0.09913463,  0.39870468, -0.57932321],\n",
       "       [ 0.25037512,  0.48470218,  0.07405473, -0.13317545, -0.25133426,\n",
       "        -0.65721884, -0.35178255,  0.14493235, -0.1982282 ],\n",
       "       [-0.18584154, -0.06203879,  0.28445055,  0.23049202, -0.87326405,\n",
       "         0.24304431, -0.07372136, -0.01627141, -0.01466944]])"
      ]
     },
     "execution_count": 46,
     "metadata": {},
     "output_type": "execute_result"
    }
   ],
   "source": [
    "eigen_vectors_new"
   ]
  },
  {
   "cell_type": "code",
   "execution_count": 47,
   "id": "9b21bff2",
   "metadata": {},
   "outputs": [
    {
     "data": {
      "text/html": [
       "<div>\n",
       "<style scoped>\n",
       "    .dataframe tbody tr th:only-of-type {\n",
       "        vertical-align: middle;\n",
       "    }\n",
       "\n",
       "    .dataframe tbody tr th {\n",
       "        vertical-align: top;\n",
       "    }\n",
       "\n",
       "    .dataframe thead th {\n",
       "        text-align: right;\n",
       "    }\n",
       "</style>\n",
       "<table border=\"1\" class=\"dataframe\">\n",
       "  <thead>\n",
       "    <tr style=\"text-align: right;\">\n",
       "      <th></th>\n",
       "      <th>0</th>\n",
       "      <th>1</th>\n",
       "      <th>2</th>\n",
       "      <th>3</th>\n",
       "      <th>4</th>\n",
       "      <th>5</th>\n",
       "      <th>6</th>\n",
       "      <th>7</th>\n",
       "      <th>8</th>\n",
       "    </tr>\n",
       "  </thead>\n",
       "  <tbody>\n",
       "    <tr>\n",
       "      <th>0</th>\n",
       "      <td>-0.545177</td>\n",
       "      <td>0.285683</td>\n",
       "      <td>0.086911</td>\n",
       "      <td>-0.147381</td>\n",
       "      <td>0.073543</td>\n",
       "      <td>-0.115288</td>\n",
       "      <td>-0.081867</td>\n",
       "      <td>-0.752216</td>\n",
       "      <td>0.025732</td>\n",
       "    </tr>\n",
       "    <tr>\n",
       "      <th>1</th>\n",
       "      <td>0.258126</td>\n",
       "      <td>0.270350</td>\n",
       "      <td>-0.384920</td>\n",
       "      <td>-0.491242</td>\n",
       "      <td>-0.153683</td>\n",
       "      <td>0.558118</td>\n",
       "      <td>-0.148580</td>\n",
       "      <td>-0.127693</td>\n",
       "      <td>-0.311937</td>\n",
       "    </tr>\n",
       "    <tr>\n",
       "      <th>2</th>\n",
       "      <td>-0.110881</td>\n",
       "      <td>-0.593558</td>\n",
       "      <td>0.008418</td>\n",
       "      <td>-0.378786</td>\n",
       "      <td>-0.123509</td>\n",
       "      <td>-0.308186</td>\n",
       "      <td>0.206045</td>\n",
       "      <td>-0.076891</td>\n",
       "      <td>-0.577273</td>\n",
       "    </tr>\n",
       "    <tr>\n",
       "      <th>3</th>\n",
       "      <td>0.428709</td>\n",
       "      <td>0.295212</td>\n",
       "      <td>0.329237</td>\n",
       "      <td>0.137506</td>\n",
       "      <td>-0.014109</td>\n",
       "      <td>0.018857</td>\n",
       "      <td>0.699236</td>\n",
       "      <td>-0.274441</td>\n",
       "      <td>-0.192227</td>\n",
       "    </tr>\n",
       "    <tr>\n",
       "      <th>4</th>\n",
       "      <td>0.228836</td>\n",
       "      <td>-0.155099</td>\n",
       "      <td>-0.458709</td>\n",
       "      <td>0.652538</td>\n",
       "      <td>-0.008500</td>\n",
       "      <td>-0.086098</td>\n",
       "      <td>-0.216067</td>\n",
       "      <td>-0.379923</td>\n",
       "      <td>-0.298073</td>\n",
       "    </tr>\n",
       "    <tr>\n",
       "      <th>5</th>\n",
       "      <td>0.219344</td>\n",
       "      <td>-0.153970</td>\n",
       "      <td>0.662574</td>\n",
       "      <td>0.038535</td>\n",
       "      <td>0.307040</td>\n",
       "      <td>0.243632</td>\n",
       "      <td>-0.504121</td>\n",
       "      <td>-0.109812</td>\n",
       "      <td>-0.260509</td>\n",
       "    </tr>\n",
       "    <tr>\n",
       "      <th>6</th>\n",
       "      <td>-0.492306</td>\n",
       "      <td>0.345380</td>\n",
       "      <td>-0.000985</td>\n",
       "      <td>0.276443</td>\n",
       "      <td>0.188188</td>\n",
       "      <td>0.148669</td>\n",
       "      <td>0.099135</td>\n",
       "      <td>0.398705</td>\n",
       "      <td>-0.579323</td>\n",
       "    </tr>\n",
       "    <tr>\n",
       "      <th>7</th>\n",
       "      <td>0.250375</td>\n",
       "      <td>0.484702</td>\n",
       "      <td>0.074055</td>\n",
       "      <td>-0.133175</td>\n",
       "      <td>-0.251334</td>\n",
       "      <td>-0.657219</td>\n",
       "      <td>-0.351783</td>\n",
       "      <td>0.144932</td>\n",
       "      <td>-0.198228</td>\n",
       "    </tr>\n",
       "    <tr>\n",
       "      <th>8</th>\n",
       "      <td>-0.185842</td>\n",
       "      <td>-0.062039</td>\n",
       "      <td>0.284451</td>\n",
       "      <td>0.230492</td>\n",
       "      <td>-0.873264</td>\n",
       "      <td>0.243044</td>\n",
       "      <td>-0.073721</td>\n",
       "      <td>-0.016271</td>\n",
       "      <td>-0.014669</td>\n",
       "    </tr>\n",
       "  </tbody>\n",
       "</table>\n",
       "</div>"
      ],
      "text/plain": [
       "          0         1         2         3         4         5         6  \\\n",
       "0 -0.545177  0.285683  0.086911 -0.147381  0.073543 -0.115288 -0.081867   \n",
       "1  0.258126  0.270350 -0.384920 -0.491242 -0.153683  0.558118 -0.148580   \n",
       "2 -0.110881 -0.593558  0.008418 -0.378786 -0.123509 -0.308186  0.206045   \n",
       "3  0.428709  0.295212  0.329237  0.137506 -0.014109  0.018857  0.699236   \n",
       "4  0.228836 -0.155099 -0.458709  0.652538 -0.008500 -0.086098 -0.216067   \n",
       "5  0.219344 -0.153970  0.662574  0.038535  0.307040  0.243632 -0.504121   \n",
       "6 -0.492306  0.345380 -0.000985  0.276443  0.188188  0.148669  0.099135   \n",
       "7  0.250375  0.484702  0.074055 -0.133175 -0.251334 -0.657219 -0.351783   \n",
       "8 -0.185842 -0.062039  0.284451  0.230492 -0.873264  0.243044 -0.073721   \n",
       "\n",
       "          7         8  \n",
       "0 -0.752216  0.025732  \n",
       "1 -0.127693 -0.311937  \n",
       "2 -0.076891 -0.577273  \n",
       "3 -0.274441 -0.192227  \n",
       "4 -0.379923 -0.298073  \n",
       "5 -0.109812 -0.260509  \n",
       "6  0.398705 -0.579323  \n",
       "7  0.144932 -0.198228  \n",
       "8 -0.016271 -0.014669  "
      ]
     },
     "execution_count": 47,
     "metadata": {},
     "output_type": "execute_result"
    }
   ],
   "source": [
    "temp = pd.DataFrame(eigen_vectors_new)\n",
    "temp"
   ]
  },
  {
   "cell_type": "code",
   "execution_count": 48,
   "id": "3147ea7f",
   "metadata": {},
   "outputs": [],
   "source": [
    "# Since the 1st eigen value is the highest value - it forms the PC1.\n",
    "# Hence we will use this eigen value and the 1st eigen verctor for finding the transformed data\n",
    "# Rotation is the multiplication of the datset with the eigen vector\n",
    "\n",
    "pc1_transformed_data = scaled_x_df @ eigen_vectors_new[:,0]"
   ]
  },
  {
   "cell_type": "code",
   "execution_count": 49,
   "id": "de16d3c2",
   "metadata": {},
   "outputs": [
    {
     "data": {
      "text/plain": [
       "(214,)"
      ]
     },
     "execution_count": 49,
     "metadata": {},
     "output_type": "execute_result"
    }
   ],
   "source": [
    "pc1_transformed_data.shape"
   ]
  },
  {
   "cell_type": "code",
   "execution_count": 50,
   "id": "f38bf599",
   "metadata": {},
   "outputs": [
    {
     "data": {
      "text/plain": [
       "0     -0.213979\n",
       "1      0.070901\n",
       "2      0.155774\n",
       "3      2.325668\n",
       "4     -7.138698\n",
       "         ...   \n",
       "209    0.447183\n",
       "210    1.213698\n",
       "211    0.462998\n",
       "212    0.654109\n",
       "213    0.144390\n",
       "Length: 214, dtype: float64"
      ]
     },
     "execution_count": 50,
     "metadata": {},
     "output_type": "execute_result"
    }
   ],
   "source": [
    "pc1_transformed_data"
   ]
  },
  {
   "cell_type": "code",
   "execution_count": 51,
   "id": "c431edbd",
   "metadata": {},
   "outputs": [],
   "source": [
    "pc2_transformed_data = scaled_x_df @ eigen_vectors_new[:,1]"
   ]
  },
  {
   "cell_type": "code",
   "execution_count": 52,
   "id": "c82f0c1c",
   "metadata": {},
   "outputs": [
    {
     "data": {
      "text/plain": [
       "0     -1.065052\n",
       "1     -1.301203\n",
       "2     -0.738150\n",
       "3     -0.462400\n",
       "4      4.004437\n",
       "         ...   \n",
       "209   -0.957422\n",
       "210   -0.779098\n",
       "211   -0.988247\n",
       "212   -0.710903\n",
       "213    0.639849\n",
       "Length: 214, dtype: float64"
      ]
     },
     "execution_count": 52,
     "metadata": {},
     "output_type": "execute_result"
    }
   ],
   "source": [
    "pc2_transformed_data"
   ]
  },
  {
   "cell_type": "markdown",
   "id": "1db9c653",
   "metadata": {},
   "source": [
    "# Now we need to validate whether the PC is real and correct"
   ]
  },
  {
   "cell_type": "code",
   "execution_count": 53,
   "id": "33be31e4",
   "metadata": {},
   "outputs": [],
   "source": [
    "# We can check whether the 2 PC are orthogonal to each other or not (Matrix multiplication will lead to 0)"
   ]
  },
  {
   "cell_type": "code",
   "execution_count": 54,
   "id": "6d9a4074",
   "metadata": {},
   "outputs": [],
   "source": [
    "# We can also check wth the PCA module in sklearn library.\n",
    "\n",
    "from sklearn.decomposition import PCA\n",
    "pca = PCA(n_components=2)"
   ]
  },
  {
   "cell_type": "code",
   "execution_count": 55,
   "id": "ae46db33",
   "metadata": {},
   "outputs": [
    {
     "data": {
      "text/plain": [
       "array([[ 2.13978802e-01, -1.06505169e+00],\n",
       "       [-7.09007624e-02, -1.30120252e+00],\n",
       "       [-1.55773980e-01, -7.38149546e-01],\n",
       "       [-2.32566823e+00, -4.62400329e-01],\n",
       "       [ 7.13869786e+00,  4.00443669e+00],\n",
       "       [-2.26479128e-02, -8.10349081e-01],\n",
       "       [ 5.95438880e-01, -9.54422853e-01],\n",
       "       [ 1.81361046e-01, -4.09957896e-01],\n",
       "       [-2.29846438e+00,  2.21466938e+00],\n",
       "       [ 6.14443758e-01, -1.09156288e+00],\n",
       "       [-6.19527617e-01, -8.77061910e-01],\n",
       "       [ 6.13895376e-01, -1.40234153e+00],\n",
       "       [ 2.07281161e+00, -1.93673881e-01],\n",
       "       [ 1.74711568e+00, -1.83206568e-01],\n",
       "       [-3.15800764e-01, -7.53169864e-01],\n",
       "       [-7.81415457e-01, -6.41887105e-01],\n",
       "       [-2.08135612e+00,  3.07840526e+00],\n",
       "       [-6.55247560e-01, -1.14303255e+00],\n",
       "       [ 5.44543846e-01,  1.76724509e+00],\n",
       "       [-1.33583022e-01, -4.11998638e-01],\n",
       "       [ 2.09535866e+00, -4.27013874e-01],\n",
       "       [ 3.33328693e+00,  2.02616879e+00],\n",
       "       [ 9.91658801e-01, -1.02189999e+00],\n",
       "       [ 3.73730855e-02, -1.05432062e+00],\n",
       "       [ 1.01004447e+00,  8.84077930e-01],\n",
       "       [-8.67763488e-01, -1.07801813e+00],\n",
       "       [-1.07450035e+00, -9.64788704e-01],\n",
       "       [-2.16116939e+00,  2.89977062e+00],\n",
       "       [-5.72010313e-01, -9.28041764e-01],\n",
       "       [-4.92429807e-01, -9.56241961e-01],\n",
       "       [-7.74831821e-01, -1.08145439e+00],\n",
       "       [ 1.06061322e-01, -2.83081850e-01],\n",
       "       [-3.28279679e+00, -4.17913576e-02],\n",
       "       [-6.85088615e-01, -8.41639892e-01],\n",
       "       [-2.35222894e-03, -1.06581344e+00],\n",
       "       [-3.82514937e-01, -1.38013403e+00],\n",
       "       [-2.90266583e-01, -1.32400756e+00],\n",
       "       [-7.23703277e-02, -5.16663086e-01],\n",
       "       [-6.25511768e-02, -1.22086276e+00],\n",
       "       [-2.31637606e+00, -5.73982461e-01],\n",
       "       [ 2.70430953e-02, -9.41150868e-01],\n",
       "       [ 3.37682286e-01, -1.29110463e+00],\n",
       "       [-6.90359145e-01, -1.06629931e+00],\n",
       "       [-7.34604026e-01, -9.22386904e-01],\n",
       "       [ 1.21897823e+00, -6.73372800e-01],\n",
       "       [ 1.73653764e-02, -1.10093167e+00],\n",
       "       [-4.32287332e+00,  2.65385680e+00],\n",
       "       [-1.42083283e-01, -9.61677440e-01],\n",
       "       [-6.58374915e-02, -9.02875839e-01],\n",
       "       [ 7.93041028e-01, -6.04328270e-01],\n",
       "       [-6.90862734e-02, -1.16390421e+00],\n",
       "       [ 4.79061318e-01, -1.00897795e+00],\n",
       "       [-2.52671444e-01, -1.11614958e+00],\n",
       "       [-9.35068761e-01, -1.20394562e+00],\n",
       "       [-1.99364680e+00,  2.59939654e+00],\n",
       "       [-3.08817022e-01, -7.63162157e-01],\n",
       "       [ 5.88963889e-01,  1.91167950e+00],\n",
       "       [ 1.20709914e+00, -1.68166022e-02],\n",
       "       [ 1.15965177e-01, -7.37970348e-01],\n",
       "       [ 2.86272002e-02, -8.03704365e-01],\n",
       "       [ 7.49344065e-01, -8.70094723e-01],\n",
       "       [ 4.57306871e-01, -5.51911400e-01],\n",
       "       [-3.88918640e-01, -1.00978004e+00],\n",
       "       [ 1.93311245e+00, -1.42114298e-01],\n",
       "       [ 2.72721095e+00, -1.13038577e-01],\n",
       "       [-2.10499822e+00,  2.37404264e+00],\n",
       "       [ 7.23068883e-01, -4.74891927e-01],\n",
       "       [ 2.19327703e+00, -1.60194716e-01],\n",
       "       [ 3.64021336e+00,  6.19344465e+00],\n",
       "       [ 2.06574480e+00, -4.47085324e-01],\n",
       "       [-1.99650272e-01,  7.40225310e-01],\n",
       "       [ 3.23984511e-01, -9.15170462e-01],\n",
       "       [-2.73475886e-01,  1.78882182e+00],\n",
       "       [ 1.86714046e-01, -8.88809019e-01],\n",
       "       [ 2.25195536e+00,  2.79739773e-02],\n",
       "       [-6.88645250e-01, -8.44544670e-01],\n",
       "       [-1.15093633e-01, -1.05293936e+00],\n",
       "       [-4.23198376e-01, -1.81655603e+00],\n",
       "       [-2.77448819e-01, -1.01028758e+00],\n",
       "       [-2.17093779e-01, -1.03946718e+00],\n",
       "       [-1.33538675e-02, -1.10471913e+00],\n",
       "       [-3.51092291e-01, -1.09124921e+00],\n",
       "       [ 1.52912927e+00,  5.44240128e-02],\n",
       "       [-9.91042449e-02, -7.46806921e-01],\n",
       "       [ 1.80337643e+00,  5.28727703e-01],\n",
       "       [ 9.43164121e-02, -6.45011377e-01],\n",
       "       [ 4.59649709e+00,  2.69944760e+00],\n",
       "       [ 2.05673879e-01, -9.99182661e-01],\n",
       "       [-5.04865218e-02, -1.04723075e+00],\n",
       "       [ 1.37738839e+00,  1.60336370e+00],\n",
       "       [-2.18787696e+00,  2.85648463e+00],\n",
       "       [ 7.55238909e-01, -1.19430193e+00],\n",
       "       [ 2.00488480e+00, -3.63498656e-01],\n",
       "       [ 6.54463516e-01,  3.42545752e-01],\n",
       "       [-2.73231156e+00,  2.03728730e+00],\n",
       "       [ 1.76739012e+00, -2.34851172e-01],\n",
       "       [-2.04532108e+00,  3.07594965e+00],\n",
       "       [ 1.06594039e+00,  1.36757767e+00],\n",
       "       [-5.62642120e-01, -1.06581042e+00],\n",
       "       [ 2.59209029e-01, -1.01845622e+00],\n",
       "       [-5.74137172e-01, -7.59787774e-01],\n",
       "       [-6.31138456e-02, -1.09080518e+00],\n",
       "       [-2.17032226e-02,  3.47383505e+00],\n",
       "       [-2.39765190e+00,  3.10823570e+00],\n",
       "       [-2.52519849e+00,  3.12098266e+00],\n",
       "       [-4.38953460e+00, -1.03449577e-01],\n",
       "       [-7.02191754e-01, -7.51136992e-01],\n",
       "       [-1.95865705e+00,  2.46318823e+00],\n",
       "       [ 3.93111591e-01, -3.40258187e-01],\n",
       "       [ 6.83776477e-01,  1.39728332e+00],\n",
       "       [ 9.83504760e-01, -1.02010847e+00],\n",
       "       [-2.26974017e+00,  2.34831576e+00],\n",
       "       [ 5.47316267e-01, -2.95660130e-01],\n",
       "       [-2.36974768e+00,  2.75687280e+00],\n",
       "       [-2.28073900e-03, -9.59297592e-01],\n",
       "       [ 1.06709874e+00, -7.14334989e-02],\n",
       "       [ 6.40905488e-01,  9.00575079e-01],\n",
       "       [-2.76034579e+00,  1.26705494e+00],\n",
       "       [ 7.41593451e-01,  7.85341417e-01],\n",
       "       [ 4.59256767e-01, -9.72071790e-01],\n",
       "       [ 3.02639624e-01, -1.04410159e+00],\n",
       "       [-3.09724390e-01, -1.42304024e+00],\n",
       "       [ 2.35136469e+00,  1.14019846e+00],\n",
       "       [ 3.85238194e+00,  1.34506467e+00],\n",
       "       [ 1.63107556e+00,  1.31861732e+00],\n",
       "       [ 1.56521013e-01, -1.23592823e+00],\n",
       "       [-1.37738556e+00, -8.70759297e-01],\n",
       "       [-2.38383457e+00,  3.06167702e+00],\n",
       "       [ 1.15113957e+00, -5.29487638e-01],\n",
       "       [-8.99566628e-02, -1.18125211e+00],\n",
       "       [-9.22562290e-01, -1.19692928e+00],\n",
       "       [-7.66226327e-01, -1.21918683e+00],\n",
       "       [-1.68024627e+00,  3.28482346e+00],\n",
       "       [ 2.98261451e-01, -1.16489328e+00],\n",
       "       [ 1.92981829e+00,  2.49244227e+00],\n",
       "       [-1.20299466e-01, -1.22184622e+00],\n",
       "       [-3.27242420e-01, -1.10236197e+00],\n",
       "       [-5.41321804e-01, -1.03138006e+00],\n",
       "       [ 1.90784649e+00, -1.35146218e-01],\n",
       "       [-6.51404126e-01, -1.11647242e+00],\n",
       "       [ 1.73458320e-01, -1.18243967e+00],\n",
       "       [ 2.57422809e-01, -9.89360442e-02],\n",
       "       [ 2.36220840e-01,  5.68330203e-01],\n",
       "       [-7.95024676e-01,  7.94729609e-01],\n",
       "       [-8.81333556e-01, -9.72313068e-01],\n",
       "       [ 2.72746438e-01, -7.60850930e-01],\n",
       "       [-8.34974605e-01, -5.23690716e-01],\n",
       "       [ 1.11574391e+00,  6.20438569e-01],\n",
       "       [-1.11062971e+00, -3.60459191e-01],\n",
       "       [-2.30106379e-03, -1.02447346e+00],\n",
       "       [-3.95051181e+00, -7.28506609e-01],\n",
       "       [ 1.90646324e+00,  1.85186825e-01],\n",
       "       [ 3.41894371e+00,  3.13489973e+00],\n",
       "       [-1.20536745e-01, -1.01574215e+00],\n",
       "       [-2.62625463e-01, -7.71749068e-01],\n",
       "       [-1.13206012e-01, -1.02762181e+00],\n",
       "       [-2.67936046e+00,  2.13082037e+00],\n",
       "       [ 2.60337952e-01,  5.48033322e-01],\n",
       "       [ 1.21605345e+00, -4.36896108e-01],\n",
       "       [ 9.33354363e-02, -7.97513650e-01],\n",
       "       [ 4.51874493e+00,  2.02772563e+00],\n",
       "       [ 1.88483803e+00, -2.96475700e-01],\n",
       "       [-2.14926480e+00,  2.29560843e+00],\n",
       "       [-4.43253973e+00, -1.68680125e-01],\n",
       "       [ 4.87303441e+00,  2.11110882e+00],\n",
       "       [ 1.93311245e+00, -1.42114298e-01],\n",
       "       [-2.22363433e-02, -1.16273745e+00],\n",
       "       [ 9.68425776e-01, -1.14896334e+00],\n",
       "       [-5.35657351e-01, -1.06978417e+00],\n",
       "       [-2.34025986e+00,  2.43366642e+00],\n",
       "       [-1.21350033e-01, -1.06270367e+00],\n",
       "       [-3.06796378e-01, -9.64066395e-01],\n",
       "       [ 2.97136159e+00,  4.63140502e-01],\n",
       "       [-3.55709771e+00,  3.46675073e+00],\n",
       "       [-2.08160308e-02, -3.21932609e-01],\n",
       "       [-1.38770709e+00,  1.08914537e+00],\n",
       "       [ 1.45812372e+00,  9.88413780e-02],\n",
       "       [ 1.58405624e-02, -9.57454062e-01],\n",
       "       [ 1.78618611e+00,  3.12751888e-01],\n",
       "       [ 1.11416397e+00,  1.45711253e+00],\n",
       "       [-6.50903533e-01, -1.06424608e+00],\n",
       "       [-5.36304118e-01, -9.23478860e-01],\n",
       "       [ 7.70000955e-02, -2.78969006e-01],\n",
       "       [ 1.69502290e+00,  2.07414559e+00],\n",
       "       [ 8.17537725e-02, -9.66019429e-01],\n",
       "       [-2.26264885e+00,  3.02859155e+00],\n",
       "       [ 4.11679297e-02, -1.02788338e+00],\n",
       "       [ 1.06160451e-01, -4.14506038e-01],\n",
       "       [-1.66864635e-01, -9.65406470e-01],\n",
       "       [ 1.59504215e+00,  2.11331608e+00],\n",
       "       [ 4.15149070e-01, -2.93287264e-01],\n",
       "       [ 1.71804895e-01, -5.10287786e-01],\n",
       "       [ 2.56498778e-01,  6.39225236e-01],\n",
       "       [-2.39038043e+00,  2.40058515e+00],\n",
       "       [-6.68969638e-02,  2.24369392e+00],\n",
       "       [ 9.04286720e-01, -8.98187688e-01],\n",
       "       [-8.78041073e-01, -1.20892921e+00],\n",
       "       [-9.09189665e-01, -1.13899985e+00],\n",
       "       [-7.55392780e-01, -1.09926663e+00],\n",
       "       [-3.25952384e-01, -1.16131445e+00],\n",
       "       [-6.58328771e-01, -7.80730458e-01],\n",
       "       [ 6.04423395e-01, -7.80199849e-01],\n",
       "       [-8.19412962e-02, -3.43555681e-01],\n",
       "       [ 3.96586112e-01, -1.07307343e+00],\n",
       "       [ 9.46407531e-02, -4.56164629e-01],\n",
       "       [-1.47523366e-01, -9.33767049e-01],\n",
       "       [-2.10698079e+00,  2.13071878e+00],\n",
       "       [-9.40159722e-01, -9.29835966e-01],\n",
       "       [-1.15255023e-01, -1.16028212e+00],\n",
       "       [-4.47183180e-01, -9.57421674e-01],\n",
       "       [-1.21369799e+00, -7.79098155e-01],\n",
       "       [-4.62997748e-01, -9.88247287e-01],\n",
       "       [-6.54109481e-01, -7.10902736e-01],\n",
       "       [-1.44389955e-01,  6.39849281e-01]])"
      ]
     },
     "execution_count": 55,
     "metadata": {},
     "output_type": "execute_result"
    }
   ],
   "source": [
    "pca.fit_transform(scaled_x_df)"
   ]
  },
  {
   "cell_type": "code",
   "execution_count": 56,
   "id": "3d5b8df2",
   "metadata": {},
   "outputs": [
    {
     "data": {
      "text/html": [
       "<div>\n",
       "<style scoped>\n",
       "    .dataframe tbody tr th:only-of-type {\n",
       "        vertical-align: middle;\n",
       "    }\n",
       "\n",
       "    .dataframe tbody tr th {\n",
       "        vertical-align: top;\n",
       "    }\n",
       "\n",
       "    .dataframe thead th {\n",
       "        text-align: right;\n",
       "    }\n",
       "</style>\n",
       "<table border=\"1\" class=\"dataframe\">\n",
       "  <thead>\n",
       "    <tr style=\"text-align: right;\">\n",
       "      <th></th>\n",
       "      <th>0</th>\n",
       "      <th>1</th>\n",
       "      <th>2</th>\n",
       "      <th>3</th>\n",
       "      <th>4</th>\n",
       "      <th>5</th>\n",
       "      <th>6</th>\n",
       "      <th>7</th>\n",
       "      <th>8</th>\n",
       "    </tr>\n",
       "  </thead>\n",
       "  <tbody>\n",
       "    <tr>\n",
       "      <th>0</th>\n",
       "      <td>-0.143715</td>\n",
       "      <td>-0.758384</td>\n",
       "      <td>0.566677</td>\n",
       "      <td>-0.652289</td>\n",
       "      <td>0.490551</td>\n",
       "      <td>0.219689</td>\n",
       "      <td>-0.131680</td>\n",
       "      <td>-0.352877</td>\n",
       "      <td>-0.586451</td>\n",
       "    </tr>\n",
       "    <tr>\n",
       "      <th>1</th>\n",
       "      <td>-0.638803</td>\n",
       "      <td>-1.531681</td>\n",
       "      <td>0.580575</td>\n",
       "      <td>-0.190536</td>\n",
       "      <td>0.309376</td>\n",
       "      <td>0.112107</td>\n",
       "      <td>-0.300715</td>\n",
       "      <td>-0.352877</td>\n",
       "      <td>-0.586451</td>\n",
       "    </tr>\n",
       "    <tr>\n",
       "      <th>2</th>\n",
       "      <td>-0.143715</td>\n",
       "      <td>-0.242853</td>\n",
       "      <td>0.552779</td>\n",
       "      <td>-0.070079</td>\n",
       "      <td>-0.014151</td>\n",
       "      <td>0.142844</td>\n",
       "      <td>-0.371146</td>\n",
       "      <td>-0.352877</td>\n",
       "      <td>-0.586451</td>\n",
       "    </tr>\n",
       "    <tr>\n",
       "      <th>3</th>\n",
       "      <td>-1.774207</td>\n",
       "      <td>1.217820</td>\n",
       "      <td>-0.656366</td>\n",
       "      <td>0.190912</td>\n",
       "      <td>2.457593</td>\n",
       "      <td>-0.763919</td>\n",
       "      <td>-0.962769</td>\n",
       "      <td>-0.352877</td>\n",
       "      <td>-0.586451</td>\n",
       "    </tr>\n",
       "    <tr>\n",
       "      <th>4</th>\n",
       "      <td>5.137232</td>\n",
       "      <td>-1.359837</td>\n",
       "      <td>-1.865511</td>\n",
       "      <td>-0.893204</td>\n",
       "      <td>-3.223534</td>\n",
       "      <td>-0.579492</td>\n",
       "      <td>5.094318</td>\n",
       "      <td>-0.352877</td>\n",
       "      <td>1.882411</td>\n",
       "    </tr>\n",
       "    <tr>\n",
       "      <th>...</th>\n",
       "      <td>...</td>\n",
       "      <td>...</td>\n",
       "      <td>...</td>\n",
       "      <td>...</td>\n",
       "      <td>...</td>\n",
       "      <td>...</td>\n",
       "      <td>...</td>\n",
       "      <td>...</td>\n",
       "      <td>...</td>\n",
       "    </tr>\n",
       "    <tr>\n",
       "      <th>209</th>\n",
       "      <td>-0.747723</td>\n",
       "      <td>0.014913</td>\n",
       "      <td>0.497186</td>\n",
       "      <td>-0.451527</td>\n",
       "      <td>0.050555</td>\n",
       "      <td>0.142844</td>\n",
       "      <td>-0.448621</td>\n",
       "      <td>-0.352877</td>\n",
       "      <td>-0.586451</td>\n",
       "    </tr>\n",
       "    <tr>\n",
       "      <th>210</th>\n",
       "      <td>-0.807133</td>\n",
       "      <td>-0.672462</td>\n",
       "      <td>0.580575</td>\n",
       "      <td>1.355332</td>\n",
       "      <td>0.011732</td>\n",
       "      <td>0.296533</td>\n",
       "      <td>-0.695130</td>\n",
       "      <td>-0.352877</td>\n",
       "      <td>-0.586451</td>\n",
       "    </tr>\n",
       "    <tr>\n",
       "      <th>211</th>\n",
       "      <td>-0.737821</td>\n",
       "      <td>0.628641</td>\n",
       "      <td>0.580575</td>\n",
       "      <td>-0.391299</td>\n",
       "      <td>0.296435</td>\n",
       "      <td>-0.195271</td>\n",
       "      <td>-0.716259</td>\n",
       "      <td>-0.352877</td>\n",
       "      <td>0.853719</td>\n",
       "    </tr>\n",
       "    <tr>\n",
       "      <th>212</th>\n",
       "      <td>-0.486976</td>\n",
       "      <td>-0.905679</td>\n",
       "      <td>0.135832</td>\n",
       "      <td>0.532207</td>\n",
       "      <td>0.723490</td>\n",
       "      <td>0.358008</td>\n",
       "      <td>-0.293672</td>\n",
       "      <td>-0.352877</td>\n",
       "      <td>-0.586451</td>\n",
       "    </tr>\n",
       "    <tr>\n",
       "      <th>213</th>\n",
       "      <td>0.051020</td>\n",
       "      <td>0.837308</td>\n",
       "      <td>-0.343656</td>\n",
       "      <td>0.431826</td>\n",
       "      <td>0.024673</td>\n",
       "      <td>-0.763919</td>\n",
       "      <td>0.255692</td>\n",
       "      <td>-0.352877</td>\n",
       "      <td>-0.586451</td>\n",
       "    </tr>\n",
       "  </tbody>\n",
       "</table>\n",
       "<p>214 rows × 9 columns</p>\n",
       "</div>"
      ],
      "text/plain": [
       "            0         1         2         3         4         5         6  \\\n",
       "0   -0.143715 -0.758384  0.566677 -0.652289  0.490551  0.219689 -0.131680   \n",
       "1   -0.638803 -1.531681  0.580575 -0.190536  0.309376  0.112107 -0.300715   \n",
       "2   -0.143715 -0.242853  0.552779 -0.070079 -0.014151  0.142844 -0.371146   \n",
       "3   -1.774207  1.217820 -0.656366  0.190912  2.457593 -0.763919 -0.962769   \n",
       "4    5.137232 -1.359837 -1.865511 -0.893204 -3.223534 -0.579492  5.094318   \n",
       "..        ...       ...       ...       ...       ...       ...       ...   \n",
       "209 -0.747723  0.014913  0.497186 -0.451527  0.050555  0.142844 -0.448621   \n",
       "210 -0.807133 -0.672462  0.580575  1.355332  0.011732  0.296533 -0.695130   \n",
       "211 -0.737821  0.628641  0.580575 -0.391299  0.296435 -0.195271 -0.716259   \n",
       "212 -0.486976 -0.905679  0.135832  0.532207  0.723490  0.358008 -0.293672   \n",
       "213  0.051020  0.837308 -0.343656  0.431826  0.024673 -0.763919  0.255692   \n",
       "\n",
       "            7         8  \n",
       "0   -0.352877 -0.586451  \n",
       "1   -0.352877 -0.586451  \n",
       "2   -0.352877 -0.586451  \n",
       "3   -0.352877 -0.586451  \n",
       "4   -0.352877  1.882411  \n",
       "..        ...       ...  \n",
       "209 -0.352877 -0.586451  \n",
       "210 -0.352877 -0.586451  \n",
       "211 -0.352877  0.853719  \n",
       "212 -0.352877 -0.586451  \n",
       "213 -0.352877 -0.586451  \n",
       "\n",
       "[214 rows x 9 columns]"
      ]
     },
     "execution_count": 56,
     "metadata": {},
     "output_type": "execute_result"
    }
   ],
   "source": [
    "scaled_x_df"
   ]
  },
  {
   "cell_type": "code",
   "execution_count": 57,
   "id": "f2bb17a5",
   "metadata": {},
   "outputs": [],
   "source": [
    "# SCREEN PLOT for determining the number of features to use\n",
    "\n",
    "pca_features = PCA()"
   ]
  },
  {
   "cell_type": "code",
   "execution_count": 58,
   "id": "4d56240d",
   "metadata": {},
   "outputs": [],
   "source": [
    "principal_component = pca_features.fit_transform(scaled_x_df)"
   ]
  },
  {
   "cell_type": "code",
   "execution_count": 59,
   "id": "98cf1150",
   "metadata": {},
   "outputs": [],
   "source": [
    "import matplotlib.pyplot as plt"
   ]
  },
  {
   "cell_type": "code",
   "execution_count": 60,
   "id": "03d5362b",
   "metadata": {},
   "outputs": [
    {
     "data": {
      "text/plain": [
       "<Figure size 432x288 with 0 Axes>"
      ]
     },
     "execution_count": 60,
     "metadata": {},
     "output_type": "execute_result"
    },
    {
     "data": {
      "text/plain": [
       "<Figure size 432x288 with 0 Axes>"
      ]
     },
     "metadata": {},
     "output_type": "display_data"
    }
   ],
   "source": [
    "plt.figure()"
   ]
  },
  {
   "cell_type": "code",
   "execution_count": 61,
   "id": "e4b32fbd",
   "metadata": {},
   "outputs": [
    {
     "data": {
      "text/plain": [
       "Text(0, 0.5, 'EVR')"
      ]
     },
     "execution_count": 61,
     "metadata": {},
     "output_type": "execute_result"
    },
    {
     "data": {
      "image/png": "[encoded data removed]",
      "text/plain": [
       "<Figure size 432x288 with 1 Axes>"
      ]
     },
     "metadata": {
      "needs_background": "light"
     },
     "output_type": "display_data"
    }
   ],
   "source": [
    "plt.plot(np.cumsum(pca_features.explained_variance_ratio_))\n",
    "plt.xlabel(\"Number of features\")\n",
    "plt.ylabel(\"EVR\")"
   ]
  },
  {
   "cell_type": "code",
   "execution_count": 62,
   "id": "97b57acf",
   "metadata": {},
   "outputs": [],
   "source": [
    "# As we can see from the above graph, we can see that for around 5 or 6 features are enough to describe the dataset."
   ]
  },
  {
   "cell_type": "code",
   "execution_count": null,
   "id": "fef981ae",
   "metadata": {},
   "outputs": [],
   "source": []
  }
 ],
 "metadata": {
  "kernelspec": {
   "display_name": "Python 3",
   "language": "python",
   "name": "python3"
  },
  "language_info": {
   "codemirror_mode": {
    "name": "ipython",
    "version": 3
   },
   "file_extension": ".py",
   "mimetype": "text/x-python",
   "name": "python",
   "nbconvert_exporter": "python",
   "pygments_lexer": "ipython3",
   "version": "3.8.8"
  }
 },
 "nbformat": 4,
 "nbformat_minor": 5
}
