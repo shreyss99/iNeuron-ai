{
 "cells": [
  {
   "cell_type": "code",
   "execution_count": null,
   "metadata": {},
   "outputs": [],
   "source": [
    "'''\n",
    "Q1. To what does a relative path refer?\n",
    "\n",
    "Ans) Relative path refers to a specific path with respect to a particular directory. \n",
    "     We use \n",
    "     For eg. The current path --> C:\\Users\\Desktop\\\n",
    "             cd Public        --> C:\\Users\\Desktop\\Public\n",
    "\n",
    "'''"
   ]
  },
  {
   "cell_type": "code",
   "execution_count": null,
   "metadata": {},
   "outputs": [],
   "source": [
    "'''\n",
    "Q2. What does an absolute path start with your operating system?\n",
    "\n",
    "Ans) The absolute path refers to the complete path from start to the end of a particular file.\n",
    "     For eg. C:\\Users\\Desktop\\Public\\Java\\abc.java\n",
    "\n",
    "'''"
   ]
  },
  {
   "cell_type": "code",
   "execution_count": 13,
   "metadata": {},
   "outputs": [
    {
     "name": "stdout",
     "output_type": "stream",
     "text": [
      "Current working directory: C:\\Users\\Dell\\Desktop\n",
      "Changed directory: C:\\Users\\Dell\\Downloads\n"
     ]
    }
   ],
   "source": [
    "'''\n",
    "Q3. What do the functions os.getcwd() and os.chdir() do?\n",
    "\n",
    "Ans) The function os.getcwd() provides us the current path \\ directory where the user is currently working.\n",
    "     The function os.chdir() helps us to change the path from the current working directory to some other location\n",
    "\n",
    "'''\n",
    "\n",
    "import os\n",
    "\n",
    "print(\"Current working directory: \"+os.getcwd())\n",
    "os.chdir(\"C:\\\\Users\\\\Dell\\\\Downloads\")\n",
    "print(\"Changed directory: \"+os.getcwd())"
   ]
  },
  {
   "cell_type": "code",
   "execution_count": null,
   "metadata": {},
   "outputs": [],
   "source": [
    "'''\n",
    "Q4. What are the . and .. folders?\n",
    "\n",
    "Ans) The . folder / symbol refers to the current directory\n",
    "     The .. folder / symbol refers to the parent directory or one directory before the current directory.\n",
    "     \n",
    "     C:\\Users\\Dell>cd .  --> goes to the current directory which is C:\\Users\\Dell\n",
    "     C:\\Users\\Dell>cd .. --> goes to the parent directory which is C:\\Users\\\n",
    "     \n",
    "'''"
   ]
  },
  {
   "cell_type": "code",
   "execution_count": null,
   "metadata": {},
   "outputs": [],
   "source": [
    "'''\n",
    "Q5. In C:\\bacon\\eggs\\spam.txt, which part is the dir name, and which part is the base name?\n",
    "\n",
    "Ans) C:\\bacon\\eggs\\ represents the directory name\n",
    "     spam.txt refers to the base name / file name.\n",
    "\n",
    "'''"
   ]
  },
  {
   "cell_type": "code",
   "execution_count": null,
   "metadata": {},
   "outputs": [],
   "source": [
    "'''\n",
    "Q6. What are the three “mode” arguments that can be passed to the open() function?\n",
    "\n",
    "Ans) The below are the mode arguments to open a file into:\n",
    "\n",
    "    r: opens file in read-only mode.\n",
    "    w: opens the file in write mode, the file is truncated.\n",
    "    x: open for exclusive creation, failing if the file already exists\n",
    "    a: open for writing, appending to the end of the file if it exists\n",
    "    b: binary mode\n",
    "    t: text mode (default)\n",
    "    \n",
    "'''"
   ]
  },
  {
   "cell_type": "code",
   "execution_count": null,
   "metadata": {},
   "outputs": [],
   "source": [
    "'''\n",
    "Q7. What happens if an existing file is opened in write mode?\n",
    "\n",
    "Ans) If a file is already existing and is opened in write mode then the file will be truncated - meaning the file contents \n",
    "     will be removed but the file will not be deleted.\n",
    "\n",
    "'''"
   ]
  },
  {
   "cell_type": "code",
   "execution_count": null,
   "metadata": {},
   "outputs": [],
   "source": [
    "'''\n",
    "Q8. How do you tell the difference between read() and readlines()?\n",
    "\n",
    "Ans) The read() function will read the entire file.\n",
    "\n",
    "     The readlines() function will also read the entire file but it will separate the lines separated by \\n and add them in \n",
    "     a list.\n",
    "'''"
   ]
  },
  {
   "cell_type": "code",
   "execution_count": null,
   "metadata": {},
   "outputs": [],
   "source": [
    "'''\n",
    "Q9. What data structure does a shelf value resemble?\n",
    "\n",
    "Ans) A shelf represents the dictionary data structure, because the books are ordered by key (alphabets / numbers).\n",
    "'''"
   ]
  }
 ],
 "metadata": {
  "kernelspec": {
   "display_name": "Python 3",
   "language": "python",
   "name": "python3"
  },
  "language_info": {
   "codemirror_mode": {
    "name": "ipython",
    "version": 3
   },
   "file_extension": ".py",
   "mimetype": "text/x-python",
   "name": "python",
   "nbconvert_exporter": "python",
   "pygments_lexer": "ipython3",
   "version": "3.8.5"
  }
 },
 "nbformat": 4,
 "nbformat_minor": 4
}
