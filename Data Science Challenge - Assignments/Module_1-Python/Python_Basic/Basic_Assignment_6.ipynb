{
 "cells": [
  {
   "cell_type": "code",
   "execution_count": null,
   "metadata": {},
   "outputs": [],
   "source": [
    "'''\n",
    "Q1. What are escape characters, and how do you use them?\n",
    "\n",
    "Ans) Escape characters are special characters followed by a \\ and these have special functions designated to them.\n",
    "     When we specify an escape character the interpreter automatically understands what task needs to be done.\n",
    "     \n",
    "     e.g. \\n --> New line\n",
    "          \\t --> Tab space\n",
    "          \n",
    "'''"
   ]
  },
  {
   "cell_type": "code",
   "execution_count": 15,
   "metadata": {},
   "outputs": [
    {
     "name": "stdout",
     "output_type": "stream",
     "text": [
      "God\n",
      "loves\tus\n",
      "equally\n"
     ]
    }
   ],
   "source": [
    "'''\n",
    "Q2. What do the escape characters n and t stand for?\n",
    "\n",
    "Ans) The escape characters:\n",
    "     \\n means that interpreter will now jump to a new line immediately after the current line.\n",
    "     \\t menas that interpreter will leave a space which is equal to the space created when Tab key is pressed.\n",
    "\n",
    "'''\n",
    "\n",
    "print(\"God\\nloves\\tus\\nequally\")"
   ]
  },
  {
   "cell_type": "code",
   "execution_count": 12,
   "metadata": {},
   "outputs": [
    {
     "name": "stdout",
     "output_type": "stream",
     "text": [
      "ABCD\\EFG\\\\HIJ\n"
     ]
    }
   ],
   "source": [
    "'''\n",
    "Q3. What is the way to include backslash characters in a string?\n",
    "\n",
    "Ans) To include \\ character in a string we need to use a \\ in front of the actual character. \n",
    "     The first backslash will act as an escape character after which we provide the actual backslash we want in our string.\n",
    "'''\n",
    "\n",
    "string = \"ABCD\\\\EFG\\\\\\HIJ\"\n",
    "print(string)"
   ]
  },
  {
   "cell_type": "code",
   "execution_count": null,
   "metadata": {},
   "outputs": [],
   "source": [
    "'''\n",
    "Q4. The string \"Howl's Moving Castle\" is a correct value. Why isn't the single quote character in the\n",
    "word Howl's not escaped a problem?\n",
    "\n",
    "Ans) The given string begins with a \". So the Python interpreter will try to find the matching \" which \n",
    "marks the end of the string. So even if there is a single ' in the middle of the string in Howl's then\n",
    "the interpreter will not consider this as an issue.\n",
    "\n",
    "''' "
   ]
  },
  {
   "cell_type": "code",
   "execution_count": 20,
   "metadata": {},
   "outputs": [
    {
     "name": "stdout",
     "output_type": "stream",
     "text": [
      "this is an assignment\n",
      "questions are from escape characters\n",
      "and also lists\n"
     ]
    }
   ],
   "source": [
    "'''\n",
    "Q5. How do you write a string of newlines if you don't want to use the n character?\n",
    "\n",
    "Ans) We can print a string of newlines by using print() function without specifying any value in the end parameter.\n",
    "     \n",
    "'''\n",
    "\n",
    "print(\"this is an assignment\")\n",
    "print(\"questions are from escape characters\") \n",
    "print(\"and also lists\")"
   ]
  },
  {
   "cell_type": "code",
   "execution_count": 1,
   "metadata": {},
   "outputs": [
    {
     "name": "stdout",
     "output_type": "stream",
     "text": [
      "e\n",
      "Hello\n",
      "Hello\n",
      "lo, world!\n"
     ]
    }
   ],
   "source": [
    "'''\n",
    "Q6. What are the values of the given expressions?\n",
    "'Hello, world!'[1]\n",
    "'Hello, world!'[0:5]\n",
    "'Hello, world!'[:5]\n",
    "'Hello, world!'[3:]\n",
    "'''\n",
    "\n",
    "string = 'Hello, world!'\n",
    "\n",
    "#'Hello, world!'[1]\n",
    "print(string[1])\n",
    "\n",
    "#'Hello, world!'[0:5]\n",
    "print(string[0:5])\n",
    "\n",
    "#'Hello, world!'[:5]\n",
    "print(string[:5])\n",
    "\n",
    "#'Hello, world!'[3:]\n",
    "print(string[3:])\n"
   ]
  },
  {
   "cell_type": "code",
   "execution_count": 3,
   "metadata": {},
   "outputs": [
    {
     "name": "stdout",
     "output_type": "stream",
     "text": [
      "HELLO\n",
      "True\n",
      "hello\n"
     ]
    }
   ],
   "source": [
    "'''\n",
    "Q7. What are the values of the following expressions?\n",
    "'Hello'.upper()\n",
    "'Hello'.upper().isupper()\n",
    "'Hello'.upper().lower()\n",
    "'''\n",
    "\n",
    "print('Hello'.upper())\n",
    "print('Hello'.upper().isupper())\n",
    "print('Hello'.upper().lower())\n"
   ]
  },
  {
   "cell_type": "code",
   "execution_count": 6,
   "metadata": {},
   "outputs": [
    {
     "name": "stdout",
     "output_type": "stream",
     "text": [
      "['Remember,', 'remember,', 'the', 'fifth', 'of', 'July.']\n",
      "There-can-only-one.\n"
     ]
    }
   ],
   "source": [
    "'''\n",
    "Q8. What are the values of the following expressions?\n",
    "'Remember, remember, the fifth of July.'.split()\n",
    "'-'.join('There can only one.'.split())\n",
    "'''\n",
    "\n",
    "print('Remember, remember, the fifth of July.'.split())\n",
    "print('-'.join('There can only one.'.split()))\n"
   ]
  },
  {
   "cell_type": "code",
   "execution_count": 3,
   "metadata": {},
   "outputs": [
    {
     "name": "stdout",
     "output_type": "stream",
     "text": [
      "**************This is an assignment***************\n",
      "This is an assignment-----------------------------\n",
      "^^^^^^^^^^^^^^^^^^^^^^^^^^^^^This is an assignment\n"
     ]
    }
   ],
   "source": [
    "'''\n",
    "Q9. What are the methods for right-justifying, left-justifying, and centering a string?\n",
    "\n",
    "Ans) We can us the ljust, rjust and center functions to left-justify, right-justify and center a string respectively.\n",
    "     These take 2 parameters each. First being the final length of string after justifying \n",
    "     and the second being any character to be filled. \n",
    "'''\n",
    "\n",
    "string = 'This is an assignment'\n",
    "\n",
    "center_just = string.center(50,'*')\n",
    "left_just = string.ljust(50,'-')\n",
    "right_just = string.rjust(50,'^')\n",
    "\n",
    "print(center_just)\n",
    "print(left_just)\n",
    "print(right_just)"
   ]
  },
  {
   "cell_type": "code",
   "execution_count": 9,
   "metadata": {},
   "outputs": [
    {
     "name": "stdout",
     "output_type": "stream",
     "text": [
      "All is good\n"
     ]
    }
   ],
   "source": [
    "'''\n",
    "Q10. What is the best way to remove whitespace characters from the start or end?\n",
    "\n",
    "Ans) To remove whitespace character ' ' from start and end of a string, we can use the strip() function on the string. \n",
    "     It removes the character specified in parenthesis from the beginning and end of the string.     \n",
    "'''\n",
    "\n",
    "str = \"   All is good          \"\n",
    "print(str.strip(' '))"
   ]
  }
 ],
 "metadata": {
  "kernelspec": {
   "display_name": "Python 3",
   "language": "python",
   "name": "python3"
  },
  "language_info": {
   "codemirror_mode": {
    "name": "ipython",
    "version": 3
   },
   "file_extension": ".py",
   "mimetype": "text/x-python",
   "name": "python",
   "nbconvert_exporter": "python",
   "pygments_lexer": "ipython3",
   "version": "3.8.5"
  }
 },
 "nbformat": 4,
 "nbformat_minor": 4
}
