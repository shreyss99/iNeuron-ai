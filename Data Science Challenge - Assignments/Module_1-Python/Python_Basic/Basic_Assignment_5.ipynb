{
 "cells": [
  {
   "cell_type": "code",
   "execution_count": 1,
   "metadata": {},
   "outputs": [],
   "source": [
    "'''\n",
    "Q1. What does an empty dictionary's code look like?\n",
    "'''\n",
    "\n",
    "dict = {}"
   ]
  },
  {
   "cell_type": "code",
   "execution_count": 2,
   "metadata": {},
   "outputs": [],
   "source": [
    "'''\n",
    "Q2. What is the value of a dictionary value with the key 'foo' and the value 42?\n",
    "'''\n",
    "\n",
    "dict = {'foo':42}"
   ]
  },
  {
   "cell_type": "code",
   "execution_count": null,
   "metadata": {},
   "outputs": [],
   "source": [
    "'''\n",
    "Q3. What is the most significant distinction between a dictionary and a list?\n",
    "\n",
    "Ans) The difference is that the values inside the dictionary are held in key - value format whereas in \n",
    "     list there is no key - value format.\n",
    "     Values in list are arranged and extracted using indexes whereas in dictionary using the keys.\n",
    "'''"
   ]
  },
  {
   "cell_type": "code",
   "execution_count": 3,
   "metadata": {},
   "outputs": [
    {
     "ename": "KeyError",
     "evalue": "'foo'",
     "output_type": "error",
     "traceback": [
      "\u001b[1;31m---------------------------------------------------------------------------\u001b[0m",
      "\u001b[1;31mKeyError\u001b[0m                                  Traceback (most recent call last)",
      "\u001b[1;32m<ipython-input-3-7bbecb43cef9>\u001b[0m in \u001b[0;36m<module>\u001b[1;34m\u001b[0m\n\u001b[0;32m      4\u001b[0m \u001b[1;33m\u001b[0m\u001b[0m\n\u001b[0;32m      5\u001b[0m \u001b[0mspam\u001b[0m \u001b[1;33m=\u001b[0m \u001b[1;33m{\u001b[0m\u001b[1;34m\"bar\"\u001b[0m\u001b[1;33m:\u001b[0m\u001b[1;36m100\u001b[0m\u001b[1;33m}\u001b[0m\u001b[1;33m\u001b[0m\u001b[1;33m\u001b[0m\u001b[0m\n\u001b[1;32m----> 6\u001b[1;33m \u001b[0mspam\u001b[0m\u001b[1;33m[\u001b[0m\u001b[1;34m\"foo\"\u001b[0m\u001b[1;33m]\u001b[0m\u001b[1;33m\u001b[0m\u001b[1;33m\u001b[0m\u001b[0m\n\u001b[0m",
      "\u001b[1;31mKeyError\u001b[0m: 'foo'"
     ]
    }
   ],
   "source": [
    "'''\n",
    "Q4. What happens if you try to access spam['foo'] if spam is {'bar': 100}?\n",
    "\n",
    "Ans) It will throw an error because the key 'foo' does not exist in the dictionary 'spam'.\n",
    "'''\n",
    "\n",
    "spam = {\"bar\":100}\n",
    "spam[\"foo\"]"
   ]
  },
  {
   "cell_type": "code",
   "execution_count": null,
   "metadata": {},
   "outputs": [],
   "source": [
    "'''\n",
    "Q5. If a dictionary is stored in spam, what is the difference between the expressions 'cat' in spam and 'cat' in spam.keys()?\n",
    "\n",
    "Ans) It checks whether a value 'cat' exists as a key in the dictionary.\n",
    "'''\n"
   ]
  },
  {
   "cell_type": "code",
   "execution_count": null,
   "metadata": {},
   "outputs": [],
   "source": [
    "'''\n",
    "Q6. If a dictionary is stored in spam, what is the difference between the expressions 'cat' in spam and'cat' in spam.values()?\n",
    "\n",
    "Ans) 'cat' in spam checks whether a value 'cat' exists as a key in the dictionary\n",
    "     'cat' in spam.values() checks whether there is a value 'cat' for one of the keys in dictionary\n",
    "'''"
   ]
  },
  {
   "cell_type": "code",
   "execution_count": 32,
   "metadata": {},
   "outputs": [
    {
     "name": "stdout",
     "output_type": "stream",
     "text": [
      "{'color': 'black'}\n"
     ]
    }
   ],
   "source": [
    "'''\n",
    "Q7. What is a shortcut for the following code?\n",
    "if 'color' not in spam:\n",
    "    spam['color'] = 'black'\n",
    "\n",
    "Ans) The setdefault() method returns the value of a key \n",
    "     otherwise, it inserts key with a value to the dictionary.\n",
    "'''\n",
    "\n",
    "spam = {}\n",
    "spam.setdefault('color', 'black')\n",
    "\n",
    "print(spam)"
   ]
  },
  {
   "cell_type": "code",
   "execution_count": 31,
   "metadata": {},
   "outputs": [
    {
     "name": "stdout",
     "output_type": "stream",
     "text": [
      "{1: 'shrey',\n",
      " 'abc': {1: [1, 2, 3, 4, 5],\n",
      "         2: {(9+7j): {(3-6j): 'Full stack'}, (8, 9): 'abcdefghij'},\n",
      "         3: {False, True}},\n",
      " 'key': {-9.06: 'a', 7.5: {2, 3}, 23.4: 'b'},\n",
      " 'person': {'education': {'BE': 2019, 'hsc': 2015, 'school': 2013},\n",
      "            'name': 'Shrey'},\n",
      " (5, 6, 7): (7+5j)}\n"
     ]
    }
   ],
   "source": [
    "'''\n",
    "Q8. How do you 'pretty print' dictionary values using which module and function?\n",
    "'''\n",
    "\n",
    "import pprint\n",
    "pp = pprint.PrettyPrinter(indent=1)\n",
    "\n",
    "my_dict = {1:\"shrey\", 'abc':{1:[1,2,3,4,5], 2:{(8,9):'abcdefghij', 9+7j:{3-6j:\"Full stack\"}}, 3: {True, False, True}},\n",
    "           'person':{'name':\"Shrey\",\"education\":{\"school\":2013, 'hsc':2015, \"BE\":2019}}, \n",
    "           'key':{-9.06:'a',23.4:'b',7.5:{2,2,3}}, (5,6,7):7+5j}\n",
    "pp.pprint(my_dict)"
   ]
  }
 ],
 "metadata": {
  "kernelspec": {
   "display_name": "Python 3",
   "language": "python",
   "name": "python3"
  },
  "language_info": {
   "codemirror_mode": {
    "name": "ipython",
    "version": 3
   },
   "file_extension": ".py",
   "mimetype": "text/x-python",
   "name": "python",
   "nbconvert_exporter": "python",
   "pygments_lexer": "ipython3",
   "version": "3.8.5"
  }
 },
 "nbformat": 4,
 "nbformat_minor": 4
}
