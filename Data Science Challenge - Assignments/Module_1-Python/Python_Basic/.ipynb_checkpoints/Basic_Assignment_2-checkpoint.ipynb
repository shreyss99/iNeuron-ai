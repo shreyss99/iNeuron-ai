{
 "cells": [
  {
   "cell_type": "code",
   "execution_count": null,
   "metadata": {},
   "outputs": [],
   "source": [
    "'''\n",
    "Q1. What are the Boolean data type's two values? How do you go about writing them?\n",
    "\n",
    "Ans) The 2 values of Boolean data type are True and False.\n",
    "We write them as True anf False.\n",
    "\n",
    "'''"
   ]
  },
  {
   "cell_type": "code",
   "execution_count": null,
   "metadata": {},
   "outputs": [],
   "source": [
    "'''\n",
    "Q2. What are the three different types of Boolean operators?\n",
    "\n",
    "Ans)\n",
    "\n",
    "1) and\n",
    "2) or\n",
    "3) not \n",
    "\n",
    "'''"
   ]
  },
  {
   "cell_type": "code",
   "execution_count": null,
   "metadata": {},
   "outputs": [],
   "source": [
    "'''\n",
    "Q3. Make a list of each Boolean operator's truth tables \n",
    "(i.e. every possible combination of Boolean values for the operator and what it evaluate ).\n",
    "\n",
    "Ans)\n",
    "\n",
    "Truth table for AND:\n",
    "\n",
    "A     B     A and B\n",
    "True  True   True\n",
    "True  False  False\n",
    "False True   False\n",
    "False False  False\n",
    "\n",
    "Truth table for OR:\n",
    "\n",
    "A     B     A and B\n",
    "True  True   True\n",
    "True  False  True\n",
    "False True   True\n",
    "False False  False\n",
    "\n",
    "Truth table for NOT:\n",
    "\n",
    "A     Not A     \n",
    "True  False   \n",
    "False  True  \n",
    "\n",
    "'''"
   ]
  },
  {
   "cell_type": "code",
   "execution_count": 3,
   "metadata": {},
   "outputs": [
    {
     "name": "stdout",
     "output_type": "stream",
     "text": [
      "False\n",
      "False\n",
      "True\n",
      "False\n",
      "False\n",
      "True\n"
     ]
    }
   ],
   "source": [
    "# Q4. What are the values of the following expressions?\n",
    "\n",
    "print((5 > 4) and (3 == 5))\n",
    "print(not (5 > 4))\n",
    "print((5 > 4) or (3 == 5))\n",
    "print(not ((5 > 4) or (3 == 5)))\n",
    "print((True and True) and (True == False))\n",
    "print((not False) or (not True))"
   ]
  },
  {
   "cell_type": "code",
   "execution_count": null,
   "metadata": {},
   "outputs": [],
   "source": [
    "'''\n",
    "Q5. What are the six different types of reference operators?\n",
    "\n",
    "Ans)\n",
    "\n",
    "1) < is Less than operator\n",
    "2) > is greater than operator\n",
    "3) <= is less than or equal to operator\n",
    "4) >= is greater than or equal to operator\n",
    "5) == is equals to operator\n",
    "6) != is not equals to operator\n",
    "\n",
    "'''"
   ]
  },
  {
   "cell_type": "code",
   "execution_count": null,
   "metadata": {},
   "outputs": [],
   "source": [
    "'''\n",
    "Q6. How do you tell the difference between the equal to and assignment operators?\n",
    "\n",
    "Ans)\n",
    "\n",
    "== (equals to operator) is used to check for the equality of two values.\n",
    "eg. a = 5\n",
    "    b = 5\n",
    "    a == b\n",
    "    True\n",
    "    This checks if both variables a and b hold same value.\n",
    "\n",
    "= (assignment operator) is used to assign the right hand side value to the quantity on the left hand side.\n",
    "eg. a = 9\n",
    "    This assigns a value of 9 to variable a.\n",
    "    \n",
    "'''"
   ]
  },
  {
   "cell_type": "code",
   "execution_count": 1,
   "metadata": {},
   "outputs": [
    {
     "name": "stdout",
     "output_type": "stream",
     "text": [
      "ham\n",
      "spam\n",
      "spam\n"
     ]
    }
   ],
   "source": [
    "# Q7. Identify the three blocks in this code:\n",
    "\n",
    "spam = 0\n",
    "if spam == 10:\n",
    "    print('eggs')\n",
    "\n",
    "if spam > 5:\n",
    "    print('bacon')\n",
    "    \n",
    "else:\n",
    "    print('ham')\n",
    "    print('spam')\n",
    "    print('spam')\n",
    "\n",
    "# The 3 blocks are:\n",
    "# 1st if condition where we check if spam == 10\n",
    "# 2nd if condition where we check if spam > 5\n",
    "# 3rd else condition where it prints if spam < 5"
   ]
  },
  {
   "cell_type": "code",
   "execution_count": 3,
   "metadata": {},
   "outputs": [
    {
     "name": "stdout",
     "output_type": "stream",
     "text": [
      "Enter a positive number:5\n",
      "Greetings!\n"
     ]
    }
   ],
   "source": [
    "# Q8. Write code that prints Hello if 1 is stored in spam, prints Howdy if 2 is stored in spam, and prints\n",
    "# Greetings! if anything else is stored in spam.\n",
    "\n",
    "spam = int(input(\"Enter a positive number:\"))\n",
    "if spam == 1:\n",
    "    print(\"Hello\")\n",
    "elif spam == 2:\n",
    "    print(\"Howdy\")\n",
    "else:\n",
    "    print(\"Greetings!\")\n"
   ]
  },
  {
   "cell_type": "code",
   "execution_count": null,
   "metadata": {},
   "outputs": [],
   "source": [
    "'''\n",
    "Q9. If your programme is stuck in an endless loop, what keys you'll press?\n",
    "\n",
    "Ctrl + C\n",
    "\n",
    "'''"
   ]
  },
  {
   "cell_type": "code",
   "execution_count": 22,
   "metadata": {},
   "outputs": [
    {
     "name": "stdout",
     "output_type": "stream",
     "text": [
      "Using break\n",
      "1\n",
      "2\n",
      "3\n",
      "4\n",
      "\n",
      "Using continue\n",
      "1\n",
      "2\n",
      "3\n",
      "4\n",
      "6\n",
      "7\n",
      "8\n",
      "9\n",
      "10\n"
     ]
    }
   ],
   "source": [
    "# 10. How can you tell the difference between break and continue?\n",
    "\n",
    "# Ans)\n",
    "\n",
    "# If a break statement is encountered in program block it will immediately terminate the loop and come out of it and start \n",
    "# executing the next instruction.\n",
    "print(\"Using break\")\n",
    "for i in range(1,11):\n",
    "    if i == 5:\n",
    "        break\n",
    "    print(i)\n",
    "\n",
    "print()\n",
    "# If a continue statement is encountered in program block it will terminate the current iteration of loop and again\n",
    "# moves the execution to the start of the loop for next iteration.\n",
    "print(\"Using continue\")\n",
    "for i in range(1,11):\n",
    "    if i == 5:\n",
    "        continue\n",
    "    print(i)"
   ]
  },
  {
   "cell_type": "code",
   "execution_count": null,
   "metadata": {},
   "outputs": [],
   "source": [
    "'''\n",
    "Q11. In a for loop, what is the difference between range(10), range(0, 10), and range(0, 10, 1)?\n",
    "\n",
    "Ans)\n",
    "\n",
    "range(10) defines the range from 0 to 10 including 0 and excluding 10.\n",
    "range(0,10) defines the range from 0 to 10 including 0 and excluding 10.\n",
    "range(0,10,1) defines the range from 0 to 10 excluding 10 in steps of 1.\n",
    "\n",
    "'''"
   ]
  },
  {
   "cell_type": "code",
   "execution_count": 20,
   "metadata": {},
   "outputs": [
    {
     "name": "stdout",
     "output_type": "stream",
     "text": [
      "Using for loop\n",
      "\n",
      "1\n",
      "2\n",
      "3\n",
      "4\n",
      "5\n",
      "6\n",
      "7\n",
      "8\n",
      "9\n",
      "10\n",
      "\n",
      "Using while loop\n",
      "\n",
      "1\n",
      "2\n",
      "3\n",
      "4\n",
      "5\n",
      "6\n",
      "7\n",
      "8\n",
      "9\n",
      "10\n"
     ]
    }
   ],
   "source": [
    "# 12. Write a short program that prints the numbers 1 to 10 using a for loop. Then write an equivalent\n",
    "# program that prints the numbers 1 to 10 using a while loop.\n",
    "\n",
    "# Using for loop:\n",
    "\n",
    "print(\"Using for loop\")\n",
    "print()\n",
    "for i in range(1,11):\n",
    "    print(i)\n",
    "    \n",
    "print()\n",
    "# Using while loop:\n",
    "\n",
    "print(\"Using while loop\")\n",
    "print()\n",
    "i=1\n",
    "while(i < 11):\n",
    "    print(i)\n",
    "    i += 1"
   ]
  },
  {
   "cell_type": "code",
   "execution_count": null,
   "metadata": {},
   "outputs": [],
   "source": [
    "'''\n",
    "Q13. If you had a function named bacon() inside a module named spam, how would you call it after importing spam?\n",
    "\n",
    "Ans)\n",
    "\n",
    "import spam\n",
    "spam.bacon()\n",
    "\n",
    "'''"
   ]
  }
 ],
 "metadata": {
  "kernelspec": {
   "display_name": "Python 3",
   "language": "python",
   "name": "python3"
  },
  "language_info": {
   "codemirror_mode": {
    "name": "ipython",
    "version": 3
   },
   "file_extension": ".py",
   "mimetype": "text/x-python",
   "name": "python",
   "nbconvert_exporter": "python",
   "pygments_lexer": "ipython3",
   "version": "3.8.8"
  }
 },
 "nbformat": 4,
 "nbformat_minor": 4
}
