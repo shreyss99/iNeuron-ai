{
 "cells": [
  {
   "cell_type": "code",
   "execution_count": null,
   "metadata": {},
   "outputs": [],
   "source": [
    "'''\n",
    "Q1. Why are functions advantageous to have in your programs?\n",
    "\n",
    "Ans) Functions are advantageous because:\n",
    "     1. It increases modularity in the program.\n",
    "     2. The code can be reused by calling the same function when the same task needs to be performed.\n",
    "     \n",
    "'''"
   ]
  },
  {
   "cell_type": "code",
   "execution_count": null,
   "metadata": {},
   "outputs": [],
   "source": [
    "'''\n",
    "Q2. When does the code in a function run: when it's specified or when it's called?\n",
    "\n",
    "\n",
    "Ans) The code in the function runs when it is called.\n",
    "'''"
   ]
  },
  {
   "cell_type": "code",
   "execution_count": 1,
   "metadata": {},
   "outputs": [
    {
     "name": "stdout",
     "output_type": "stream",
     "text": [
      "33.300000000000004\n"
     ]
    }
   ],
   "source": [
    "'''\n",
    "Q3. What statement creates a function?\n",
    "\n",
    "Ans) The function is created using the 'def' keyword followed by function name and parameter list.\n",
    "     Eg. \n",
    "def function_name (parameters_list):\n",
    "    function body\n",
    "    return             \n",
    "'''\n",
    "\n",
    "# Function to add 2 numbers:\n",
    "def add_2_numbers(x, y):\n",
    "    z = x + y\n",
    "    return z\n",
    "\n",
    "print(add_2_numbers(-7.9,41.2))"
   ]
  },
  {
   "cell_type": "code",
   "execution_count": 2,
   "metadata": {},
   "outputs": [
    {
     "name": "stdout",
     "output_type": "stream",
     "text": [
      "-0.7999999999999972\n"
     ]
    }
   ],
   "source": [
    "'''\n",
    "Q4. What is the difference between a function and a function call?\n",
    "\n",
    "Ans) Function basically specifies the function definition whereas \n",
    "     function call is when the defined function is called by using its name and passing the arguments.\n",
    "'''\n",
    "\n",
    "# Function to add 2 numbers:\n",
    "def add_2_numbers(x, y):                     #\n",
    "    z = x + y                                #  Function definition\n",
    "    return z                                 #\n",
    "\n",
    "print(add_2_numbers(-42,41.2))               # Function call"
   ]
  },
  {
   "cell_type": "code",
   "execution_count": null,
   "metadata": {},
   "outputs": [],
   "source": [
    "'''\n",
    "Q5. How many global scopes are there in a Python program? How many local scopes?\n",
    "\n",
    "Ans) 1) In a Python program, there is only 1 global scope.\n",
    "     2) A variable can have only 1 local scope in a defined function. \n",
    "     3) If the same variable is defined in multiple functions, it will have multiple local scopes, \n",
    "     but all those will be different as it is defined in deifferent functions.\n",
    "'''"
   ]
  },
  {
   "cell_type": "code",
   "execution_count": null,
   "metadata": {},
   "outputs": [],
   "source": [
    "'''\n",
    "Q6. What happens to variables in a local scope when the function call returns?\n",
    "\n",
    "Ans) The variables in the local scope (local variables) will have their scope till the function is executing. \n",
    "     It is accessible from the point at which it is defined until the end of the function. \n",
    "     Once the return statement is executed the function execution stops and the local variables do not exist further.\n",
    "'''"
   ]
  },
  {
   "cell_type": "code",
   "execution_count": 13,
   "metadata": {},
   "outputs": [
    {
     "name": "stdout",
     "output_type": "stream",
     "text": [
      "Choice 1 function: 1\n",
      "Choice 2 function: 3\n"
     ]
    }
   ],
   "source": [
    "'''\n",
    "Q7. What is the concept of a return value? Is it possible to have a return value in an expression?\n",
    "\n",
    "Ans) 1) A program executes in a sequential manner. \n",
    "     2) Whenever a function call occurs, the control is transferred to the function defintion.\n",
    "     3)The function operates on the passed arguments and generates a result. \n",
    "     4) Sometimes to provide back the result and go back to the original sequence of execution, \n",
    "     return is used to transfer the flow of program to the next instruction after function call to the caller function\n",
    "     \n",
    "     We can return the value of an expression in return statement and also an expression\n",
    "'''\n",
    "\n",
    "# Example 1: Returning a value in return\n",
    "def choice_1(x,y):\n",
    "    if x > y:\n",
    "        return 1\n",
    "    else:\n",
    "        return 0\n",
    "    \n",
    "#Example 2: Returning an expression in return\n",
    "def choice_2(x,y):\n",
    "    if x > y:\n",
    "        return x\n",
    "    else:\n",
    "        return y\n",
    "    \n",
    "print(\"Choice 1 function:\", choice_1(7,5))\n",
    "print(\"Choice 2 function:\", choice_2(-9,3))"
   ]
  },
  {
   "cell_type": "code",
   "execution_count": null,
   "metadata": {},
   "outputs": [],
   "source": [
    "'''\n",
    "Q8. If a function does not have a return statement, what is the return value of a call to that function?\n",
    "\n",
    "Ans) If a function does not have a return statement, \n",
    "     the control flow transfers to the next instruction directly after the function call is executed.\n",
    "     In this case, the return value of the called function is undefined / NoneType\n",
    "'''"
   ]
  },
  {
   "cell_type": "code",
   "execution_count": null,
   "metadata": {},
   "outputs": [],
   "source": [
    "'''\n",
    "Q9. How do you make a function variable refer to the global variable?\n",
    "\n",
    "Ans) We can use the global keyword to create which variables are global.\n",
    "'''"
   ]
  },
  {
   "cell_type": "code",
   "execution_count": null,
   "metadata": {},
   "outputs": [],
   "source": [
    "'''\n",
    "Q10. What is the data type of None?\n",
    "\n",
    "Ans) The data type of None is NoneType.\n",
    "'''"
   ]
  },
  {
   "cell_type": "code",
   "execution_count": 3,
   "metadata": {},
   "outputs": [
    {
     "ename": "ModuleNotFoundError",
     "evalue": "No module named 'areallyourpetsnamederic'",
     "output_type": "error",
     "traceback": [
      "\u001b[1;31m---------------------------------------------------------------------------\u001b[0m",
      "\u001b[1;31mModuleNotFoundError\u001b[0m                       Traceback (most recent call last)",
      "\u001b[1;32m<ipython-input-3-b1ea9cb2228f>\u001b[0m in \u001b[0;36m<module>\u001b[1;34m\u001b[0m\n\u001b[1;32m----> 1\u001b[1;33m \u001b[1;32mimport\u001b[0m \u001b[0mareallyourpetsnamederic\u001b[0m\u001b[1;33m\u001b[0m\u001b[1;33m\u001b[0m\u001b[0m\n\u001b[0m",
      "\u001b[1;31mModuleNotFoundError\u001b[0m: No module named 'areallyourpetsnamederic'"
     ]
    }
   ],
   "source": [
    "'''\n",
    "\n",
    "Q11. What does the sentence import areallyourpetsnamederic do?\n",
    "\n",
    "Ans) The statement 'import areallyourpetsnamederic' tries to \n",
    "     import the module named 'areallyourpetsnamederic' in the current python program.\n",
    "     If there exists such module it will import in the code and you will be able to access the fucntions defined inside.\n",
    "     If not then it will throw a 'ModuleNotFoundError'.\n",
    "     \n",
    "     Please refer the code snippet below:\n",
    "'''\n",
    "\n",
    "import areallyourpetsnamederic"
   ]
  },
  {
   "cell_type": "code",
   "execution_count": null,
   "metadata": {},
   "outputs": [],
   "source": [
    "'''\n",
    "Q12. If you had a bacon() feature in a spam module, what would you call it after importing spam?\n",
    "'''\n",
    "\n",
    "import spam\n",
    "spam.bacon()"
   ]
  },
  {
   "cell_type": "code",
   "execution_count": null,
   "metadata": {},
   "outputs": [],
   "source": [
    "'''\n",
    "Q13. What can you do to save a programme from crashing if it encounters an error?\n",
    "\n",
    "Ans) For saving a program from crashing if it encounters an error, we can use exception handling. This is a way\n",
    "     in which we enclose the statements which can cause an exception or an error during the program execution in an\n",
    "     exception handling mechanism block.\n",
    "     Examples include the use of try-except block, finally, else statements.\n",
    "'''"
   ]
  },
  {
   "cell_type": "code",
   "execution_count": 9,
   "metadata": {},
   "outputs": [
    {
     "name": "stdout",
     "output_type": "stream",
     "text": [
      "Enter a number: -9\n",
      "Enter a number: 0\n",
      "The operation resulted in an error\n",
      "Cannot divide a number by 0\n"
     ]
    }
   ],
   "source": [
    "'''\n",
    "Q14. What is the purpose of the try clause? What is the purpose of the except clause?\n",
    "\n",
    "Ans) The try-except block belongs to the Python exception handling mechanism.\n",
    "     The code block / statements which may cause an error or any unforseen situation are put inside the try clause. The intepreter \n",
    "     will try to execute these statements normally.\n",
    "     \n",
    "     If these statements produce any error during execution, it will be caught in the except block with correct \n",
    "     error name and reason. We can specify how we want to handle the error situation\n",
    "'''\n",
    "\n",
    "a = float(input(\"Enter a number: \"))\n",
    "b = float(input(\"Enter a number: \"))\n",
    "\n",
    "try:\n",
    "    result = a / b  # This statement can cause error if b=0, because division by 0 is not allowed, hence written in try clause\n",
    "    print(\"The result of {}/{} is {}\".format(a,b,result))\n",
    "except:\n",
    "    print(\"The operation resulted in an error\")\n",
    "    print(\"Cannot divide a number by 0\")  # If there is an error in try clause, the way we handle it is specified in except \n",
    "                                          # clause\n",
    "    "
   ]
  }
 ],
 "metadata": {
  "kernelspec": {
   "display_name": "Python 3",
   "language": "python",
   "name": "python3"
  },
  "language_info": {
   "codemirror_mode": {
    "name": "ipython",
    "version": 3
   },
   "file_extension": ".py",
   "mimetype": "text/x-python",
   "name": "python",
   "nbconvert_exporter": "python",
   "pygments_lexer": "ipython3",
   "version": "3.8.8"
  }
 },
 "nbformat": 4,
 "nbformat_minor": 4
}
