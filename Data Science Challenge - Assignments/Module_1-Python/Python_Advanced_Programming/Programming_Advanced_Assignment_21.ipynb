{
 "cells": [
  {
   "cell_type": "code",
   "execution_count": 29,
   "metadata": {},
   "outputs": [],
   "source": [
    "import numpy as np"
   ]
  },
  {
   "cell_type": "code",
   "execution_count": 2,
   "metadata": {},
   "outputs": [
    {
     "name": "stdout",
     "output_type": "stream",
     "text": [
      "Enter the string value: Pop! goes the balloon and tater tot.\n"
     ]
    },
    {
     "data": {
      "text/plain": [
       "2"
      ]
     },
     "execution_count": 2,
     "metadata": {},
     "output_type": "execute_result"
    }
   ],
   "source": [
    "'''\n",
    "Q1. Given a sentence, return the number of words which have the same first\n",
    "and last letter.\n",
    "Examples\n",
    "count_same_ends(\"Pop! goes the balloon\") ➞ 1\n",
    "count_same_ends(\"And the crowd goes wild!\") ➞ 0\n",
    "count_same_ends(\"No I am not in a gang.\") ➞ 1\n",
    "'''\n",
    "\n",
    "import re\n",
    "\n",
    "def count_same_ends(string):\n",
    "    string = string.casefold()\n",
    "    res = re.sub(r'[^\\w\\s]', '', string)\n",
    "    words_list = res.split(\" \")\n",
    "    \n",
    "    count = 0\n",
    "    for i in words_list:\n",
    "        if i[0] == i[-1]:\n",
    "            count += 1\n",
    "    return count\n",
    "    \n",
    "string = input(\"Enter the string value: \")\n",
    "count_same_ends(string)"
   ]
  },
  {
   "cell_type": "code",
   "execution_count": 47,
   "metadata": {},
   "outputs": [
    {
     "name": "stdout",
     "output_type": "stream",
     "text": [
      "Enter the string value: Christmas is the 25th of December!\n"
     ]
    },
    {
     "data": {
      "text/plain": [
       "'Xsirhgnzh rh gsv 25gs lu Wvxvnyvi!'"
      ]
     },
     "execution_count": 47,
     "metadata": {},
     "output_type": "execute_result"
    }
   ],
   "source": [
    "'''\n",
    "Q2. The Atbash cipher is an encryption method in which each letter of a word is\n",
    "replaced with its \"mirror\" letter in the alphabet: A <=> Z; B <=> Y; C <=> X;\n",
    "etc.\n",
    "Create a function that takes a string and applies the Atbash cipher to it.\n",
    "Examples\n",
    "atbash(\"apple\") ➞ \"zkkov\"\n",
    "atbash(\"Hello world!\") ➞ \"Svool dliow!\"\n",
    "atbash(\"Christmas is the 25th of December\") ➞ \"Xsirhgnzh rh gsv 25gs luWvxvnyvi\"\n",
    "'''\n",
    "\n",
    "import string\n",
    "\n",
    "def atbash(input_string):\n",
    "    atbash_cipher = \"\"\n",
    "    for i in input_string:\n",
    "        if i in list(string.ascii_lowercase):\n",
    "            atbash_cipher += chr(219-ord(i))     #219 = ord(a) + ord(z) = 97 + 122 \n",
    "                                                 # since we know ord(i), we subtract it from 219 to get mirror letter\n",
    "        elif i in list(string.ascii_uppercase):\n",
    "            atbash_cipher += chr(155-ord(i))\n",
    "        \n",
    "        else:\n",
    "            atbash_cipher += i\n",
    "    return atbash_cipher                      \n",
    "    \n",
    "input_string = input(\"Enter the string value: \")\n",
    "atbash(input_string)"
   ]
  },
  {
   "cell_type": "code",
   "execution_count": 75,
   "metadata": {},
   "outputs": [
    {
     "name": "stdout",
     "output_type": "stream",
     "text": [
      "John first name:  John\n",
      "Mary last name:  Holt\n",
      "Richard's salary:  110000\n",
      "Giancarlo's height:  182\n",
      "Sally's nationality:  French\n"
     ]
    }
   ],
   "source": [
    "'''\n",
    "Q3. Create a class Employee that will take a full name as argument, as well as\n",
    "a set of none, one or more keywords. Each instance should have a name and\n",
    "a lastname attributes plus one more attribute for each of the keywords, if any.\n",
    "Examples\n",
    "john = Employee(\"John Doe\")\n",
    "mary = Employee(\"Mary Major\", salary=120000)\n",
    "richard = Employee(\"Richard Roe\", salary=110000, height=178)\n",
    "giancarlo = Employee(\"Giancarlo Rossi\", salary=115000, height=182,nationality=\"Italian\")\n",
    "\n",
    "john.name ➞ \"John\"\n",
    "mary.lastname ➞ \"Major\"\n",
    "richard.height ➞ 178\n",
    "giancarlo.nationality ➞ \"Italian\"\n",
    "'''\n",
    "\n",
    "class Employee():\n",
    "\n",
    "    def __init__(self,full_name,**kwargs):\n",
    "        list = full_name.split(\" \")\n",
    "        self.name = list[0]\n",
    "        self.lastname = list[-1]\n",
    "        for key,value in kwargs.items():\n",
    "            self.key = value\n",
    "\n",
    "john = Employee(\"John Doe\")\n",
    "print(\"John first name: \",john.name)\n",
    "mary = Employee(\"Mary Holt\")\n",
    "print(\"Mary last name: \",mary.lastname)\n",
    "richard = Employee(\"Richard Duncan\",salary=110000)\n",
    "print(\"Richard's salary: \",richard.key)\n",
    "giancarlo = Employee(\"Giancarlo Rossi\", salary=115000, height=182)\n",
    "print(\"Giancarlo's height: \",giancarlo.key)\n",
    "sally = Employee(\"Giancarlo Rossi\", salary=115000, height=182, nationality='French')\n",
    "print(\"Sally's nationality: \",sally.key)"
   ]
  },
  {
   "cell_type": "code",
   "execution_count": 41,
   "metadata": {},
   "outputs": [
    {
     "data": {
      "text/plain": [
       "False"
      ]
     },
     "execution_count": 41,
     "metadata": {},
     "output_type": "execute_result"
    }
   ],
   "source": [
    "'''\n",
    "Q4. Create a function that determines whether each seat can \"see\" the front-\n",
    "stage. A number can \"see\" the front-stage if it is strictly greater than the\n",
    "number before it.\n",
    "Everyone can see the front-stage in the example below:\n",
    "# FRONT STAGE\n",
    "[[1, 2, 3, 2, 1, 1],\n",
    "[2, 4, 4, 3, 2, 2],\n",
    "[5, 5, 5, 5, 4, 4],\n",
    "[6, 6, 7, 6, 5, 5]]\n",
    "# Starting from the left, the 6 > 5 > 2 > 1, so all numbers can see.\n",
    "# 6 > 5 > 4 > 2 - so all numbers can see, etc.\n",
    "Not everyone can see the front-stage in the example below:\n",
    "# FRONT STAGE\n",
    "[[1, 2, 3, 2, 1, 1],\n",
    "[2, 4, 4, 3, 2, 2],\n",
    "[5, 5, 5, 10, 4, 4],\n",
    "[6, 6, 7, 6, 5, 5]]\n",
    "# The 10 is directly in front of the 6 and blocking its view.\n",
    "The function should return True if every number can see the front-stage, and\n",
    "False if even a single number cannot.\n",
    "Examples\n",
    "can_see_stage([\n",
    "[1, 2, 3],\n",
    "[4, 5, 6],\n",
    "[7, 8, 9]\n",
    "]) ➞ True\n",
    "can_see_stage([\n",
    "[0, 0, 0],\n",
    "[1, 1, 1],\n",
    "[2, 2, 2]\n",
    "]) ➞ True\n",
    "can_see_stage([\n",
    "[2, 0, 0],\n",
    "[1, 1, 1],\n",
    "\n",
    "[2, 2, 2]\n",
    "]) ➞ False\n",
    "can_see_stage([\n",
    "[1, 0, 0],\n",
    "[1, 1, 1],\n",
    "[2, 2, 2]\n",
    "]) ➞ False\n",
    "# Number must be strictly smaller than\n",
    "# the number directly behind it.\n",
    "'''\n",
    "\n",
    "def can_see_stage(array):\n",
    "    matrix = np.asarray(array)\n",
    "    rows,cols = matrix.shape\n",
    "    \n",
    "    flag = True\n",
    "    for i in range(cols):\n",
    "        for j in range(rows-1):\n",
    "            if matrix[j][i] >= matrix[j+1][i] and j < rows:\n",
    "                flag = False\n",
    "                break\n",
    "            else:\n",
    "                continue\n",
    "    if flag == True:\n",
    "        return True\n",
    "    elif flag == False:\n",
    "        return False\n",
    "    \n",
    "can_see_stage([\n",
    "[1, 2, 3],\n",
    "[1, 5, 6],\n",
    "[7, 8, 6]\n",
    "]) "
   ]
  },
  {
   "cell_type": "code",
   "execution_count": 169,
   "metadata": {},
   "outputs": [
    {
     "name": "stdout",
     "output_type": "stream",
     "text": [
      "Pizza 1 ingredients: ['ham', 'corn']\n",
      "Pizza 1 order number: 1\n",
      "Pizza 2 ingredients: ['mushroom', 'jalapenos', 'onion', 'capsicum', 'cheese']\n",
      "Pizza 2 order number: 2\n",
      "Pizza 3 ingredients: ['beef', 'meatball', 'bacon']\n",
      "Pizza 3 order number: 3\n",
      "Pizza 4 ingredients: ['pineapple']\n",
      "Pizza 4 order number: 4\n"
     ]
    }
   ],
   "source": [
    "'''\n",
    "Q5. Create a Pizza class with the attributes order_number and ingredients\n",
    "(which is given as a list). Only the ingredients will be given as input.\n",
    "You should also make it so that its possible to choose a ready made pizza\n",
    "flavour rather than typing out the ingredients manually! As well as creating\n",
    "this Pizza class, hard-code the following pizza flavours.\n",
    "Name             Ingredients\n",
    "hawaiian ham --> pineapple\n",
    "meat_festival --> beef, meatball, bacon\n",
    "garden_feast --> spinach, olives, mushroom\n",
    "Examples\n",
    "p1 = Pizza([\"bacon\", \"parmesan\", \"ham\"]) # order 1\n",
    "p2 = Pizza.garden_feast() # order 2\n",
    "p1.ingredients ➞ [\"bacon\", \"parmesan\", \"ham\"]\n",
    "p2.ingredients ➞ [\"spinach\", \"olives\", \"mushroom\"]\n",
    "p1.order_number ➞ 1\n",
    "p2.order_number ➞ 2\n",
    "'''\n",
    "\n",
    "order = 1\n",
    "\n",
    "class Pizza():\n",
    "    \n",
    "    def __init__(self, *args):\n",
    "        global order\n",
    "        self.ingredients = args[0]\n",
    "        self.order_number = order\n",
    "        order += 1\n",
    "    \n",
    "    def garden_feast(self):\n",
    "        self.ingredients = ['spinach', 'olives', 'mushroom']\n",
    "    \n",
    "    def hawaiian_ham(self):\n",
    "        self.ingredients = ['pineapple']\n",
    "\n",
    "    def meat_festival(self):\n",
    "        self.ingredients = ['beef', 'meatball', 'bacon']\n",
    "\n",
    "\n",
    "p1 = Pizza([\"ham\",'corn'])\n",
    "print(\"Pizza 1 ingredients:\",p1.ingredients)\n",
    "print(\"Pizza 1 order number:\",p1.order_number)\n",
    "\n",
    "p2 = Pizza([\"mushroom\",'jalapenos','onion','capsicum','cheese'])\n",
    "print(\"Pizza 2 ingredients:\",p2.ingredients)\n",
    "print(\"Pizza 2 order number:\",p2.order_number)\n",
    "\n",
    "p3 = Pizza('temp')\n",
    "p3.meat_festival()\n",
    "print(\"Pizza 3 ingredients:\",p3.ingredients)\n",
    "print(\"Pizza 3 order number:\",p3.order_number)\n",
    "\n",
    "p4 = Pizza('temp')\n",
    "p4.hawaiian_ham()\n",
    "print(\"Pizza 4 ingredients:\",p4.ingredients)\n",
    "print(\"Pizza 4 order number:\",p4.order_number)"
   ]
  },
  {
   "cell_type": "code",
   "execution_count": null,
   "metadata": {},
   "outputs": [],
   "source": []
  }
 ],
 "metadata": {
  "kernelspec": {
   "display_name": "Python 3",
   "language": "python",
   "name": "python3"
  },
  "language_info": {
   "codemirror_mode": {
    "name": "ipython",
    "version": 3
   },
   "file_extension": ".py",
   "mimetype": "text/x-python",
   "name": "python",
   "nbconvert_exporter": "python",
   "pygments_lexer": "ipython3",
   "version": "3.8.5"
  }
 },
 "nbformat": 4,
 "nbformat_minor": 4
}
