{
 "cells": [
  {
   "cell_type": "code",
   "execution_count": 3,
   "metadata": {},
   "outputs": [
    {
     "name": "stdout",
     "output_type": "stream",
     "text": [
      "Enter the length of the character list: 9\n",
      "Enter the character: b\n",
      "Enter the character: b\n",
      "Enter the character: l\n",
      "Enter the character: l\n",
      "Enter the character: g\n",
      "Enter the character: n\n",
      "Enter the character: o\n",
      "Enter the character: a\n",
      "Enter the character: w\n",
      "Enter the string: balloon\n"
     ]
    },
    {
     "data": {
      "text/plain": [
       "['b', 'g', 'w']"
      ]
     },
     "execution_count": 3,
     "metadata": {},
     "output_type": "execute_result"
    }
   ],
   "source": [
    "'''\n",
    "Q1. Create a function that takes a list and string. The function should remove\n",
    "the letters in the string from the list, and return the list.\n",
    "Examples\n",
    "remove_letters([\"s\", \"t\", \"r\", \"i\", \"n\", \"g\", \"w\"], \"string\") ➞ [\"w\"]\n",
    "remove_letters([\"b\", \"b\", \"l\", \"l\", \"g\", \"n\", \"o\", \"a\", \"w\"], \"balloon\") ➞ [\"b\", \"g\",\"w\"]\n",
    "remove_letters([\"d\", \"b\", \"t\", \"e\", \"a\", \"i\"], \"edabit\") ➞ []\n",
    "'''\n",
    "\n",
    "def remove_letters(char_list,string):\n",
    "    for i in string:\n",
    "        if i in char_list:\n",
    "            char_list.remove(i)\n",
    "    return char_list\n",
    "\n",
    "length = int(input(\"Enter the length of the character list: \"))\n",
    "char_list = []\n",
    "for i in range(length):\n",
    "    char_list.append(input(\"Enter the character: \"))\n",
    "string = input(\"Enter the string: \")\n",
    "remove_letters(char_list,string)"
   ]
  },
  {
   "cell_type": "code",
   "execution_count": 81,
   "metadata": {},
   "outputs": [
    {
     "name": "stdout",
     "output_type": "stream",
     "text": [
      "Enter the number of steps: 50\n"
     ]
    },
    {
     "data": {
      "text/plain": [
       "1524"
      ]
     },
     "execution_count": 81,
     "metadata": {},
     "output_type": "execute_result"
    }
   ],
   "source": [
    "'''\n",
    "Q2. A block sequence in three dimensions. We can write a formula for this one:\n",
    "\n",
    "Create a function that takes a number (step) as an argument and returns the\n",
    "amount of blocks in that step.\n",
    "Examples\n",
    "blocks(1) ➞ 5\n",
    "blocks(5) ➞ 39\n",
    "blocks(2) ➞ 12\n",
    "'''\n",
    "\n",
    "def blocks(steps):\n",
    "    increment = 0\n",
    "    for i in range(0,steps):\n",
    "        blocks = increment + 5\n",
    "        increment += 7 + i\n",
    "    return blocks\n",
    "\n",
    "steps = int(input(\"Enter the number of steps: \"))\n",
    "blocks(steps)"
   ]
  },
  {
   "cell_type": "code",
   "execution_count": 31,
   "metadata": {},
   "outputs": [
    {
     "name": "stdout",
     "output_type": "stream",
     "text": [
      "Enter the first number: 4\n",
      "Enter the second number: 89\n"
     ]
    },
    {
     "data": {
      "text/plain": [
       "85"
      ]
     },
     "execution_count": 31,
     "metadata": {},
     "output_type": "execute_result"
    }
   ],
   "source": [
    "'''\n",
    "Q3. Create a function that subtracts one positive integer from another, without\n",
    "using any arithmetic operators such as -, %, /, +, etc.\n",
    "Examples\n",
    "my_sub(5, 9) ➞ 4\n",
    "my_sub(10, 30) ➞ 20\n",
    "my_sub(0, 0) ➞ 0\n",
    "'''\n",
    "\n",
    "def my_sub(x,y):\n",
    "    if x < y:\n",
    "        x,y = y,x\n",
    "    while (y != 0):\n",
    "        borrow = (~x) & y\n",
    "        x = x ^ y\n",
    "        y = borrow << 1\n",
    "    return x\n",
    "    \n",
    "num1 = int(input(\"Enter the first number: \"))\n",
    "num2 = int(input(\"Enter the second number: \"))\n",
    "my_sub(num1,num2)"
   ]
  },
  {
   "cell_type": "code",
   "execution_count": 45,
   "metadata": {},
   "outputs": [
    {
     "data": {
      "text/plain": [
       "95200"
      ]
     },
     "execution_count": 45,
     "metadata": {},
     "output_type": "execute_result"
    }
   ],
   "source": [
    "'''\n",
    "Q4. Create a function that takes a string containing money in dollars and\n",
    "pounds sterling (seperated by comma) and returns the sum of dollar bills only,\n",
    "as an integer.\n",
    "For the input string:\n",
    "- Each amount is prefixed by the currency symbol: $ for dollars and £ for\n",
    "pounds.\n",
    "- Thousands are represented by the suffix k.\n",
    "i.e. $4k = $4,000 and £40k = £40,000\n",
    "Examples\n",
    "add_bill(\"d20,p40,p60,d50\") ➞ 20 + 50 = 70\n",
    "add_bill(\"p30,d20,p60,d150,p360\") ➞ 20 + 150 = 170\n",
    "add_bill(\"p30,d2k,p60,d200,p360\") ➞ 2 * 1000 + 200 = 2200\n",
    "'''\n",
    "\n",
    "def add_bill(money_string):\n",
    "    list = money_string.split(\",\")\n",
    "    dollar_sum = 0\n",
    "    for i in list:\n",
    "        if i[0] == '$':\n",
    "            if 'k' in i[1:]:\n",
    "                k_index = i.index(\"k\")\n",
    "                dollar_sum += int(i[1:k_index])*1000\n",
    "            else:\n",
    "                dollar_sum += int(i[1:])\n",
    "    return dollar_sum\n",
    "    \n",
    "add_bill(\"£30,$2k,£60,$200,£360,$3k,$90k\")"
   ]
  },
  {
   "cell_type": "code",
   "execution_count": 70,
   "metadata": {},
   "outputs": [
    {
     "name": "stdout",
     "output_type": "stream",
     "text": [
      "Vertical to Horizontal: \n",
      "[5, 6, 9, 2]\n",
      "Null:\n",
      "[]\n",
      "Horizontal to Vertical: \n",
      "[[1], [2], [3], [4]]\n"
     ]
    }
   ],
   "source": [
    "'''\n",
    "Q5. Create a function that flips a horizontal list into a vertical list, and a vertical\n",
    "list into a horizontal list.\n",
    "In other words, take an 1 x n list (1 row + n columns) and flip it into a n x 1 list\n",
    "(n rows and 1 column), and vice versa.\n",
    "Examples\n",
    "flip_list([1, 2, 3, 4]) ➞ [[1], [2], [3], [4]]\n",
    "# Take a horizontal list and flip it vertical.\n",
    "flip_list([[5], [6], [9]]) ➞ [5, 6, 9]\n",
    "# Take a vertical list and flip it horizontal.\n",
    "flip_list([]) ➞ []\n",
    "'''\n",
    "\n",
    "def flip_list(input_list):\n",
    "    nested_lists = 0\n",
    "    elements = 0\n",
    "    for i in input_list:\n",
    "        if type(i) == list:\n",
    "            nested_lists += 1\n",
    "        else:\n",
    "            elements += 1\n",
    "            \n",
    "    if nested_lists != 0:\n",
    "        horizontal = []\n",
    "        for i in input_list:\n",
    "            horizontal.append(i[0])\n",
    "        return horizontal\n",
    "    \n",
    "    elif elements != 0:\n",
    "        vertical = []\n",
    "        for i in input_list:\n",
    "            vertical.append([i])\n",
    "        return vertical\n",
    "        \n",
    "    else:\n",
    "        return []\n",
    "    \n",
    "print(\"Vertical to Horizontal: \")\n",
    "print(flip_list([[5], [6], [9], [2]]))\n",
    "\n",
    "print(\"Null:\")\n",
    "print([])\n",
    "\n",
    "print(\"Horizontal to Vertical: \")\n",
    "print(flip_list([1, 2, 3, 4]))"
   ]
  }
 ],
 "metadata": {
  "kernelspec": {
   "display_name": "Python 3",
   "language": "python",
   "name": "python3"
  },
  "language_info": {
   "codemirror_mode": {
    "name": "ipython",
    "version": 3
   },
   "file_extension": ".py",
   "mimetype": "text/x-python",
   "name": "python",
   "nbconvert_exporter": "python",
   "pygments_lexer": "ipython3",
   "version": "3.8.5"
  }
 },
 "nbformat": 4,
 "nbformat_minor": 4
}
