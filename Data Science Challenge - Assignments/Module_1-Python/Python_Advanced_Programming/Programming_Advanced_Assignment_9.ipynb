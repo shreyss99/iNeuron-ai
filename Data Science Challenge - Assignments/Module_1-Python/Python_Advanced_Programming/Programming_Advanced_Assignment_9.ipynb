{
 "cells": [
  {
   "cell_type": "code",
   "execution_count": 16,
   "metadata": {},
   "outputs": [
    {
     "name": "stdout",
     "output_type": "stream",
     "text": [
      "Enter the actual duration in HH:MM:SS format- 51:34:49\n",
      "Enter the playback speed- 0.5\n",
      "The playback duration is: 103:09:38\n"
     ]
    }
   ],
   "source": [
    "'''\n",
    "Q1. YouTube offers different playback speed options for users. This allows\n",
    "users to increase or decrease the speed of the video content. Given the\n",
    "actual duration and playback speed of the video, calculate the playback\n",
    "duration of the video.\n",
    "Examples\n",
    "playback_duration(\"00:30:00\", 2) ➞ \"00:15:00\"\n",
    "playback_duration(\"01:20:00\", 1.5) ➞ \"00:53:20\"\n",
    "playback_duration(\"51:20:09\", 0.5) ➞ \"102:40:18\"\n",
    "'''\n",
    "import time\n",
    "\n",
    "def playback_duration(actual_duration, playback_speed):\n",
    "    hours,minutes,seconds = actual_duration.split(\":\")\n",
    "    total_seconds = int(hours)*3600 + int(minutes)*60 + int(seconds)\n",
    "    playback_seconds = total_seconds / playback_speed\n",
    "\n",
    "    hours = int(hours) / playback_speed\n",
    "    minutes = int(minutes) / playback_speed\n",
    "    seconds = int(seconds) / playback_speed\n",
    "    \n",
    "    if seconds > 60:\n",
    "        seconds -= 60\n",
    "        minutes += 1\n",
    "    if minutes > 60:\n",
    "        minutes -= 60\n",
    "        hours += 1\n",
    "    \n",
    "    return \"%02i:%02i:%02i\" % (hours, minutes, seconds)\n",
    "    \n",
    "actual_duration = input(\"Enter the actual duration in HH:MM:SS format- \")\n",
    "playback_speed = float(input(\"Enter the playback speed- \"))\n",
    "print(\"The playback duration is: {}\".format(playback_duration(actual_duration, playback_speed)))"
   ]
  },
  {
   "cell_type": "code",
   "execution_count": 22,
   "metadata": {},
   "outputs": [
    {
     "name": "stdout",
     "output_type": "stream",
     "text": [
      "Enter the volume of the building: 4183059834009\n",
      "The number of cubes for building are: 2022\n"
     ]
    }
   ],
   "source": [
    "'''\n",
    "Q2. We needs your help to construct a building which will be a pile of n cubes.\n",
    "The cube at the bottom will have a volume of n^3, the cube above will have\n",
    "volume of (n-1)^3 and so on until the top which will have a volume of 1^3.\n",
    "Given the total volume m of the building, can you find the number of cubes n\n",
    "required for the building?\n",
    "In other words, you have to return an integer n such that:\n",
    "n^3 + (n-1)^3 + ... + 1^3 == m\n",
    "Return None if there is no such number.\n",
    "Examples\n",
    "pile_of_cubes(1071225) ➞ 45\n",
    "pile_of_cubes(4183059834009) ➞ 2022\n",
    "pile_of_cubes(16) ➞ None\n",
    "'''\n",
    "\n",
    "import math\n",
    "\n",
    "def pile_of_cubes(m):\n",
    "    sum = 0\n",
    "    temp = m\n",
    "    for i in range(1,m):\n",
    "        sum += math.pow(i,3)\n",
    "        if int(sum) == temp:\n",
    "            return i\n",
    "        else:\n",
    "            continue\n",
    "    \n",
    "m = int(input(\"Enter the volume of the building: \"))\n",
    "result = pile_of_cubes(m)\n",
    "print(\"The number of cubes for building are: {}\".format(result))"
   ]
  },
  {
   "cell_type": "code",
   "execution_count": 11,
   "metadata": {},
   "outputs": [
    {
     "name": "stdout",
     "output_type": "stream",
     "text": [
      "Enter the number of elements in the list: 7\n",
      "3\n",
      "1\n",
      "5\n",
      "2\n",
      "4\n",
      "6\n",
      "-1\n",
      "The fulcrum for the list is 2\n"
     ]
    }
   ],
   "source": [
    "'''\n",
    "Q3. A fulcrum of a list is an integer such that all elements to the left of it and all\n",
    "elements to the right of it sum to the same value. Write a function that finds\n",
    "the fulcrum of a list.\n",
    "To illustrate:\n",
    "find_fulcrum([3, 1, 5, 2, 4, 6, -1]) ➞ 2\n",
    "// Since [3, 1, 5] and [4, 6, -1] both sum to 9\n",
    "Examples\n",
    "\n",
    "find_fulcrum([1, 2, 4, 9, 10, -10, -9, 3]) ➞ 4\n",
    "find_fulcrum([9, 1, 9]) ➞ 1\n",
    "find_fulcrum([7, -1, 0, -1, 1, 1, 2, 3]) ➞ 0\n",
    "find_fulcrum([8, 8, 8, 8]) ➞ -1\n",
    "'''\n",
    "\n",
    "def find_fulcrum(list):\n",
    "    for i in range(len(list)):\n",
    "        left_list = list[0:i]\n",
    "        right_list = list[i+1:len(list)+1]\n",
    "        sum_left = sum(left_list)\n",
    "        sum_right = sum(right_list)\n",
    "        if sum_left == sum_right:\n",
    "            return list[i]\n",
    "        elif sum_left != sum_right:\n",
    "                flag = False\n",
    "                continue\n",
    "        \n",
    "    if flag == False:\n",
    "        return -1\n",
    "    \n",
    "length = int(input(\"Enter the number of elements in the list: \"))\n",
    "list = []\n",
    "for i in range(length):\n",
    "    list.append(int(input()))\n",
    "result = find_fulcrum(list)\n",
    "print(\"The fulcrum for the list is {}\".format(result))"
   ]
  },
  {
   "cell_type": "code",
   "execution_count": 42,
   "metadata": {},
   "outputs": [
    {
     "name": "stdout",
     "output_type": "stream",
     "text": [
      "Enter the number of socks: 9\n",
      "50\n",
      "20\n",
      "30\n",
      "90\n",
      "30\n",
      "20\n",
      "50\n",
      "20\n",
      "90\n",
      "The number of sock pairs are 4\n"
     ]
    }
   ],
   "source": [
    "'''\n",
    "Q4. Given a list of integers representing the color of each sock, determine how\n",
    "many pairs of socks with matching colors there are. For example, there are 7\n",
    "socks with colors [1, 2, 1, 2, 1, 3, 2]. There is one pair of color 1 and one of\n",
    "color 2. There are three odd socks left, one of each color. The number of\n",
    "pairs is 2.\n",
    "Create a function that returns an integer representing the number of matching\n",
    "pairs of socks that are available.\n",
    "Examples\n",
    "sock_merchant([10, 20, 20, 10, 10, 30, 50, 10, 20]) ➞ 3\n",
    "sock_merchant([50, 20, 30, 90, 30, 20, 50, 20, 90]) ➞ 4\n",
    "sock_merchant([]) ➞ 0\n",
    "'''\n",
    "\n",
    "def sock_merchant(sock_list):\n",
    "    pair_count = 0\n",
    "    for i in range(0,len(sock_list)):\n",
    "        count = 1\n",
    "        for j in range(i+1,len(sock_list)):\n",
    "            if sock_list[i] == sock_list[j]:\n",
    "                count += 1\n",
    "            \n",
    "        if count % 2 == 0:\n",
    "            pair_count += 1\n",
    "    return pair_count         \n",
    "    \n",
    "no_of_socks = int(input(\"Enter the number of socks: \"))\n",
    "sock_list = []\n",
    "for i in range(no_of_socks):\n",
    "    sock_list.append(int(input()))\n",
    "result = sock_merchant(sock_list)\n",
    "print(\"The number of sock pairs are {}\".format(result))"
   ]
  },
  {
   "cell_type": "code",
   "execution_count": 52,
   "metadata": {},
   "outputs": [
    {
     "name": "stdout",
     "output_type": "stream",
     "text": [
      "Enter a string: 22 13%14&-11(-22%13!12^-23\n",
      "The negative sum for the string is -56\n"
     ]
    }
   ],
   "source": [
    "'''\n",
    "Q5. Create a function that takes a string containing integers as well as other\n",
    "characters and return the sum of the negative integers only.\n",
    "Examples\n",
    "negative_sum(\"-12 13%14&-11\") ➞ -23\n",
    "# -12 + -11 = -23\n",
    "negative_sum(\"22 13%14&-11-22 13 12\") ➞ -33\n",
    "# -11 + -22 = -33\n",
    "'''\n",
    "\n",
    "import re\n",
    "\n",
    "def negative_sum(string):\n",
    "    neg_sum = 0\n",
    "    list = re.split('[\" \"&+*!@#$%^()]',string)\n",
    "    for i in list: \n",
    "        if int(i) < 0:\n",
    "            neg_sum += int(i)\n",
    "    return neg_sum\n",
    "    \n",
    "string = input(\"Enter a string: \")\n",
    "result = negative_sum(string)\n",
    "print(\"The negative sum for the string is {}\".format(result))"
   ]
  }
 ],
 "metadata": {
  "kernelspec": {
   "display_name": "Python 3",
   "language": "python",
   "name": "python3"
  },
  "language_info": {
   "codemirror_mode": {
    "name": "ipython",
    "version": 3
   },
   "file_extension": ".py",
   "mimetype": "text/x-python",
   "name": "python",
   "nbconvert_exporter": "python",
   "pygments_lexer": "ipython3",
   "version": "3.8.5"
  }
 },
 "nbformat": 4,
 "nbformat_minor": 4
}
