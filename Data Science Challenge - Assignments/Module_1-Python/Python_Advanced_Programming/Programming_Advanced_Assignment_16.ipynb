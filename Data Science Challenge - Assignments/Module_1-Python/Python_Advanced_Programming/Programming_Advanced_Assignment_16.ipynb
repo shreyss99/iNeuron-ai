{
 "cells": [
  {
   "cell_type": "code",
   "execution_count": 66,
   "metadata": {},
   "outputs": [
    {
     "name": "stdout",
     "output_type": "stream",
     "text": [
      "Enter the string: ABACADAEAFAGAHAIAJALA\n"
     ]
    },
    {
     "data": {
      "text/plain": [
       "False"
      ]
     },
     "execution_count": 66,
     "metadata": {},
     "output_type": "execute_result"
    }
   ],
   "source": [
    "'''\n",
    "Q1. Rondo Form is a type of musical structure, in which there is a recurring\n",
    "theme/refrain, notated as A. Here are the rules for valid rondo forms:\n",
    "- Rondo forms always start and end with an A section.\n",
    "- In between the A sections, there should be contrasting sections notated as\n",
    "B, then C, then D, etc... No letter should be skipped.\n",
    "- There shouldn't be any repeats in the sequence (such as ABBACCA).\n",
    "Create a function which validates whether a given string is a valid Rondo\n",
    "Form.\n",
    "Examples\n",
    "valid_rondo(\"ABACADAEAFAGAHAIAJA\") ➞ True\n",
    "valid_rondo(\"ABA\") ➞ True\n",
    "valid_rondo(\"ABBACCA\") ➞ False\n",
    "valid_rondo(\"ACAC\") ➞ False\n",
    "valid_rondo(\"A\") ➞ False\n",
    "'''\n",
    "\n",
    "def valid_rondo(string):\n",
    "    flag = True\n",
    "    if string[0] != 'A' or string[-1] != 'A':\n",
    "        flag = False\n",
    "        \n",
    "    if string == 'A':\n",
    "        flag = False\n",
    "        \n",
    "    j = 66\n",
    "    for i in range(1,len(string)-1,2):\n",
    "        if i % 2 != 0 and string[i] != 'A' and string[i] == chr(j):\n",
    "            j += 1\n",
    "            continue\n",
    "        else:\n",
    "            flag = False\n",
    "            \n",
    "    if flag == True:\n",
    "        return True\n",
    "    else:\n",
    "        return False\n",
    "    \n",
    "string = input(\"Enter the string: \")\n",
    "valid_rondo(string)"
   ]
  },
  {
   "cell_type": "code",
   "execution_count": 17,
   "metadata": {},
   "outputs": [
    {
     "name": "stdout",
     "output_type": "stream",
     "text": [
      "Enter the sentence: I have a cat. I have a mat. Things are going swell. There is also a well\n",
      "Enter the word: also\n",
      "There is also a well .\n"
     ]
    }
   ],
   "source": [
    "'''\n",
    "Q2. Create a function that returns the whole of the first sentence which\n",
    "contains a specific word. Include the full stop at the end of the sentence.\n",
    "Examples\n",
    "txt = \"I have a cat. I have a mat. Things are going swell.\"\n",
    "sentence_searcher(txt, \"have\") ➞ \"I have a cat.\"\n",
    "sentence_searcher(txt, \"MAT\") ➞ \"I have a mat.\"\n",
    "sentence_searcher(txt, \"things\") ➞ \"Things are going swell.\"\n",
    "sentence_searcher(txt, \"flat\") ➞ \"\"\n",
    "'''\n",
    "\n",
    "import string\n",
    "\n",
    "def sentence_searcher(txt, word):\n",
    "    sentence = txt.split(\". \")\n",
    "    \n",
    "    sentence_list = []\n",
    "    for i in sentence:\n",
    "        sentence_list.append(i.split(\" \"))\n",
    "    \n",
    "    final_op = \"\"\n",
    "    for i in sentence_list:\n",
    "        for j in i:\n",
    "            if j == word:\n",
    "                for k in i:\n",
    "                    final_op += k + \" \"\n",
    "                return final_op\n",
    "            else:\n",
    "                continue\n",
    "    \n",
    "txt = input(\"Enter the sentence: \")\n",
    "word = input(\"Enter the word: \")\n",
    "output = sentence_searcher(txt, word) + \".\"\n",
    "print(output)"
   ]
  },
  {
   "cell_type": "code",
   "execution_count": 105,
   "metadata": {},
   "outputs": [
    {
     "name": "stdout",
     "output_type": "stream",
     "text": [
      "Enter the number: 5230450\n",
      "50 400 30000 200000 5000000 \n"
     ]
    }
   ],
   "source": [
    "'''\n",
    "Q3. Given a number, find the \"round \"of each digit of the number. An integer is\n",
    "called \"round\" if all its digits except the leftmost (most significant) are equal to\n",
    "zero.\n",
    "- Round numbers: 4000, 1, 9, 800, 90\n",
    "- Not round numbers: 110, 707, 222, 1001\n",
    "\n",
    "Create a function that takes a number and returns the \"round\" of each digit\n",
    "(except if the digit is zero) as a string. Check out the following examples for\n",
    "more clarification.\n",
    "Examples\n",
    "sum_round(101) ➞ \"1 100\"\n",
    "sum_round(1234) ➞ \"4 30 200 1000\"\n",
    "sum_round(54210) ➞ \"10 200 4000 50000\"\n",
    "'''\n",
    "\n",
    "def sum_round(number):\n",
    "    num_str = str(number)[::-1]\n",
    "    length = 0\n",
    "    round = \"\"\n",
    "    \n",
    "    for i in num_str:\n",
    "        if i != '0':\n",
    "            round += i + ((length)*'0') + \" \"\n",
    "        length += 1\n",
    "    return round\n",
    "    \n",
    "number = int(input(\"Enter the number: \"))\n",
    "print(sum_round(number))"
   ]
  },
  {
   "cell_type": "code",
   "execution_count": 53,
   "metadata": {},
   "outputs": [
    {
     "name": "stdout",
     "output_type": "stream",
     "text": [
      "Enter the number whose multiplication table needs to be calculated: 15\n"
     ]
    },
    {
     "data": {
      "text/plain": [
       "[[1, 2, 3, 4, 5, 6, 7, 8, 9, 10, 11, 12, 13, 14, 15],\n",
       " [2, 4, 6, 8, 10, 12, 14, 16, 18, 20, 22, 24, 26, 28, 30],\n",
       " [3, 6, 9, 12, 15, 18, 21, 24, 27, 30, 33, 36, 39, 42, 45],\n",
       " [4, 8, 12, 16, 20, 24, 28, 32, 36, 40, 44, 48, 52, 56, 60],\n",
       " [5, 10, 15, 20, 25, 30, 35, 40, 45, 50, 55, 60, 65, 70, 75],\n",
       " [6, 12, 18, 24, 30, 36, 42, 48, 54, 60, 66, 72, 78, 84, 90],\n",
       " [7, 14, 21, 28, 35, 42, 49, 56, 63, 70, 77, 84, 91, 98, 105],\n",
       " [8, 16, 24, 32, 40, 48, 56, 64, 72, 80, 88, 96, 104, 112, 120],\n",
       " [9, 18, 27, 36, 45, 54, 63, 72, 81, 90, 99, 108, 117, 126, 135],\n",
       " [10, 20, 30, 40, 50, 60, 70, 80, 90, 100, 110, 120, 130, 140, 150],\n",
       " [11, 22, 33, 44, 55, 66, 77, 88, 99, 110, 121, 132, 143, 154, 165],\n",
       " [12, 24, 36, 48, 60, 72, 84, 96, 108, 120, 132, 144, 156, 168, 180],\n",
       " [13, 26, 39, 52, 65, 78, 91, 104, 117, 130, 143, 156, 169, 182, 195],\n",
       " [14, 28, 42, 56, 70, 84, 98, 112, 126, 140, 154, 168, 182, 196, 210],\n",
       " [15, 30, 45, 60, 75, 90, 105, 120, 135, 150, 165, 180, 195, 210, 225]]"
      ]
     },
     "execution_count": 53,
     "metadata": {},
     "output_type": "execute_result"
    }
   ],
   "source": [
    "'''\n",
    "Q4. Your task, is to create N x N multiplication table, of size n provided in\n",
    "parameter.\n",
    "For example, when n is 5, the multiplication table is:\n",
    "- 1, 2, 3, 4, 5\n",
    "- 2, 4, 6, 8, 10\n",
    "- 3, 6, 9, 12, 15\n",
    "- 4, 8, 12, 16, 20\n",
    "- 5, 10, 15, 20, 25\n",
    "This example will result in:\n",
    "[[1, 2, 3, 4, 5], [2, 4, 6, 8, 10], [3, 6, 9, 12, 15], [4, 8, 12, 16, 20], [5, 10, 15, 20,\n",
    "25]]\n",
    "Examples\n",
    "multiplication_table(1) ➞ [[1]]\n",
    "multiplication_table(3) ➞ [[1, 2, 3], [2, 4, 6], [3, 6, 9]]\n",
    "'''\n",
    "\n",
    "def multiplication_table(number):\n",
    "    final_mul_table = []\n",
    "    for i in range(1,number+1):\n",
    "        mul_table = []\n",
    "        for j in range(1,number+1):\n",
    "            mul_table.append(i*j)\n",
    "        final_mul_table.append(mul_table)\n",
    "    return final_mul_table\n",
    "    \n",
    "number = int(input(\"Enter the number whose multiplication table needs to be calculated: \"))\n",
    "multiplication_table(number)"
   ]
  },
  {
   "cell_type": "code",
   "execution_count": 84,
   "metadata": {},
   "outputs": [
    {
     "name": "stdout",
     "output_type": "stream",
     "text": [
      "Enter the string to check for rhyme: If ever two were one, then surely we, If ever man were loved by wife, then thee;\n"
     ]
    },
    {
     "data": {
      "text/plain": [
       "False"
      ]
     },
     "execution_count": 84,
     "metadata": {},
     "output_type": "execute_result"
    }
   ],
   "source": [
    "'''\n",
    "Q5. Create a function that returns True if two lines rhyme and False otherwise.\n",
    "For the purposes of this exercise, two lines rhyme if the last word from each\n",
    "sentence contains the same vowels.\n",
    "Examples\n",
    "does_rhyme(\"Sam I am!\", \"Green eggs and ham.\") ➞ True\n",
    "does_rhyme(\"Sam I am!\", \"Green eggs and HAM.\") ➞ True\n",
    "# Capitalization and punctuation should not matter.\n",
    "\n",
    "does_rhyme(\"You are off to the races\", \"a splendid day.\") ➞ False\n",
    "does_rhyme(\"and frequently do?\", \"you gotta move.\") ➞ False\n",
    "'''\n",
    "\n",
    "def does_rhyme(string):\n",
    "    vowels = ['a','e','i','o','u','A','E','I','O','U']\n",
    "    sentences = string.split(\",\")\n",
    "\n",
    "    split_sentences = []\n",
    "    for i in sentences: \n",
    "        split_sentences.append(i.split(\" \"))\n",
    "    \n",
    "    count_letter = []\n",
    "    for i in split_sentences:\n",
    "        last_word = i[-1]\n",
    "        count = 0\n",
    "        for j in last_word:\n",
    "            if j in vowels:\n",
    "                count += 1\n",
    "                count_letter.append([j,count])\n",
    "    \n",
    "    set_count = set()\n",
    "    for i in count_letter:\n",
    "        set_count.add(i[1])\n",
    "    \n",
    "    if len(set_count) == 1:\n",
    "        return True\n",
    "    else:\n",
    "        return False\n",
    "\n",
    "string = input(\"Enter the string to check for rhyme: \")\n",
    "does_rhyme(string)"
   ]
  }
 ],
 "metadata": {
  "kernelspec": {
   "display_name": "Python 3",
   "language": "python",
   "name": "python3"
  },
  "language_info": {
   "codemirror_mode": {
    "name": "ipython",
    "version": 3
   },
   "file_extension": ".py",
   "mimetype": "text/x-python",
   "name": "python",
   "nbconvert_exporter": "python",
   "pygments_lexer": "ipython3",
   "version": "3.8.5"
  }
 },
 "nbformat": 4,
 "nbformat_minor": 4
}
