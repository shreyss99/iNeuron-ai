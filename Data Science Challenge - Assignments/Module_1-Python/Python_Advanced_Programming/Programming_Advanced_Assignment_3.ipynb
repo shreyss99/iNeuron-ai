{
 "cells": [
  {
   "cell_type": "code",
   "execution_count": 7,
   "metadata": {},
   "outputs": [
    {
     "name": "stdout",
     "output_type": "stream",
     "text": [
      "Enter the number of expressions: 5\n",
      "Enter the expression string: 12 + 67\n",
      "The result of 12 + 67 is 79\n",
      "Enter the expression string: -8 - -10\n",
      "The result of -8 - -10 is 2\n",
      "Enter the expression string: 5 * -5\n",
      "The result of 5 * -5 is -25\n",
      "Enter the expression string: 12 / 6\n",
      "The result of 12 / 6 is 2.0\n",
      "Enter the expression string: 99 / 0\n",
      "The result of 99 / 0 is -1\n"
     ]
    }
   ],
   "source": [
    "'''\n",
    "Q1. Create a function to perform basic arithmetic operations that includes\n",
    "addition, subtraction, multiplication and division on a string number (e.g. \"12 +\n",
    "24\" or \"23 - 21\" or \"12 // 12\" or \"12 * 21\").\n",
    "Here, we have 1 followed by a space, operator followed by another space\n",
    "and 2. For the challenge, we are going to have only two numbers between 1\n",
    "valid operator. The return value should be a number.\n",
    "eval() is not allowed. In case of division, whenever the second number equals\n",
    "\"0\" return -1.\n",
    "For example:\n",
    "\"15 // 0\" ➞ -1\n",
    "Examples\n",
    "arithmetic_operation(\"12 + 12\") ➞ 24 // 12 + 12 = 24\n",
    "arithmetic_operation(\"12 - 12\") ➞ 0 // 12 - 12 = 0\n",
    "arithmetic_operation(\"12 * 12\") ➞ 144 // 12 * 12 = 144\n",
    "arithmetic_operation(\"12 // 0\") ➞ -1 // 12 / 0 = -1\n",
    "'''\n",
    "def calculate(string):\n",
    "    expression_split_list = expression.split(\" \")\n",
    "    if expression_split_list[1] == '+':\n",
    "        return int(expression_split_list[0]) + int(expression_split_list[2])\n",
    "    if expression_split_list[1] == '-':\n",
    "        return int(expression_split_list[0]) - int(expression_split_list[2])\n",
    "    if expression_split_list[1] == '*':\n",
    "        return int(expression_split_list[0]) * int(expression_split_list[2])\n",
    "    if expression_split_list[1] == '/':\n",
    "        if expression_split_list[2] == '0':\n",
    "            return -1\n",
    "        else:\n",
    "            return int(expression_split_list[0]) / int(expression_split_list[2])\n",
    "    \n",
    "number_of_exp = int(input(\"Enter the number of expressions: \"))\n",
    "for i in range(number_of_exp):\n",
    "    expression = input(\"Enter the expression string: \")\n",
    "    print(\"The result of {} is {}\".format(expression, calculate(expression)))"
   ]
  },
  {
   "cell_type": "code",
   "execution_count": 29,
   "metadata": {},
   "outputs": [
    {
     "name": "stdout",
     "output_type": "stream",
     "text": [
      "Enter the x any y coordinates for a point together: \n",
      "-10\n",
      "10\n",
      "-10\n",
      "-10\n",
      "10\n",
      "10\n",
      "The perimeter of triange with points [[-10, 10], [-10, -10], [10, 10]] is 68.28\n"
     ]
    }
   ],
   "source": [
    "'''\n",
    "Q2. Write a function that takes the coordinates of three points in the form of a\n",
    "2d array and returns the perimeter of the triangle. The given points are the\n",
    "vertices of a triangle on a two-dimensional plane.\n",
    "Examples\n",
    "perimeter( [ [15, 7], [5, 22], [11, 1] ] ) ➞ 47.08\n",
    "perimeter( [ [0, 0], [0, 1], [1, 0] ] ) ➞ 3.42\n",
    "perimeter( [ [-10, -10], [10, 10 ], [-10, 10] ] ) ➞ 68.28\n",
    "'''\n",
    "\n",
    "import math\n",
    "import array as arr\n",
    "\n",
    "# Here we calculate the perimeter of the triangle by taking 2 points simultaneously and adding their distance returned by \n",
    "# calculate_dist function\n",
    "def perimeter(_2darray):\n",
    "    sum = 0\n",
    "    for i in range(len(_2darray)):\n",
    "        sum = sum + calculate_dist(_2darray[i%3],_2darray[(i+1)%3])\n",
    "    return round(sum,2)\n",
    "\n",
    "#Here we calculate the distance between 2 points using Euclidean formula\n",
    "def calculate_dist(x,y):\n",
    "    distance = math.sqrt((abs(x[0] - y[0]) ** 2) + (abs(x[1] - y[1]) ** 2))\n",
    "    return distance\n",
    "    \n",
    "# Here we have created a 2D Array using the array module \n",
    "_2darray = []\n",
    "print(\"Enter the x any y coordinates for a point together: \")\n",
    "row = 3\n",
    "col = 2\n",
    "for i in range(row):\n",
    "    point = []\n",
    "    for j in range(col):\n",
    "        point.append(int(input()))\n",
    "    _2darray.append(point)\n",
    "\n",
    "print(\"The perimeter of triange with points {} is {}\".format(_2darray,perimeter(_2darray)))\n"
   ]
  },
  {
   "cell_type": "code",
   "execution_count": 23,
   "metadata": {},
   "outputs": [
    {
     "data": {
      "text/plain": [
       "7"
      ]
     },
     "execution_count": 23,
     "metadata": {},
     "output_type": "execute_result"
    }
   ],
   "source": [
    "'''\n",
    "Q3. A city skyline can be represented as a 2-D list with 1s representing\n",
    "buildings. In the example below, the height of the tallest building is 4 (second-\n",
    "most right column).\n",
    "[[0, 0, 0, 0, 0, 0],\n",
    "[0, 0, 0, 0, 1, 0],\n",
    "[0, 0, 1, 0, 1, 0],\n",
    "[0, 1, 1, 1, 1, 0],\n",
    "[1, 1, 1, 1, 1, 1]]\n",
    "Create a function that takes a skyline (2-D list of 0's and 1's) and returns the\n",
    "height of the tallest skyscraper.\n",
    "Examples\n",
    "tallest_skyscraper([\n",
    "[0, 0, 0, 0],\n",
    "[0, 1, 0, 0],\n",
    "[0, 1, 1, 0],\n",
    "[1, 1, 1, 1]\n",
    "]) ➞ 3\n",
    "tallest_skyscraper([\n",
    "[0, 1, 0, 0],\n",
    "[0, 1, 0, 0],\n",
    "[0, 1, 1, 0],\n",
    "[1, 1, 1, 1]\n",
    "]) ➞ 4\n",
    "tallest_skyscraper([\n",
    "[0, 0, 0, 0],\n",
    "[0, 0, 0, 0],\n",
    "[1, 1, 1, 0],\n",
    "[1, 1, 1, 1]\n",
    "]) ➞ 2\n",
    "'''\n",
    "\n",
    "# So we have logic that we will iterate column wise. So we iterate through the length of the list (args[0][0]) \n",
    "# because we want sum for all columns. This becomes the outermost loop\n",
    "\n",
    "# Now we need to iterate through the column wise element of each inner list to get the sum. So we iterate through \n",
    "# the length of outermost list (length of skyscraper) (args[0]).\n",
    "\n",
    "# Finally we take sum of all column wise elements in the tuple by args[0][j][i] \n",
    "# j being the innermost list pointer and i being the column wise pointer\n",
    "\n",
    "\n",
    "\n",
    "def tallest_skyscraper(*args):         # *args takes input in tuple form\n",
    "    skyscraper_sumlist = []\n",
    "    for i in range(len(args[0][0])):   # args[0] - 1st element of tuple, args[0][0] - 1st list inside the 1st element of tuple\n",
    "        sum = 0\n",
    "        for j in range(len(args[0])):  \n",
    "            sum = sum + args[0][j][i]  \n",
    "        skyscraper_sumlist.append(sum)\n",
    "    skyscraper_sumlist.sort()\n",
    "    return skyscraper_sumlist[len(skyscraper_sumlist) - 1]\n",
    "    \n",
    "tallest_skyscraper([\n",
    "[0, 0, 0, 0, 0, 0],\n",
    "[0, 0, 0, 0, 1, 0],\n",
    "[0, 0, 1, 0, 1, 0],\n",
    "[0, 1, 1, 1, 1, 0],\n",
    "[1, 0, 0, 0, 1, 1],\n",
    "[1, 0, 0, 0, 1, 1],\n",
    "[1, 0, 0, 0, 1, 1],\n",
    "[1, 0, 0, 0, 1, 1]\n",
    "])"
   ]
  },
  {
   "cell_type": "code",
   "execution_count": 27,
   "metadata": {},
   "outputs": [
    {
     "name": "stdout",
     "output_type": "stream",
     "text": [
      "Enter the number of days billable: 66\n",
      "The bonus for 66 days is 17800\n"
     ]
    }
   ],
   "source": [
    "'''\n",
    "Q4. A financial institution provides professional services to banks and claims\n",
    "charges from the customers based on the number of man-days provided.\n",
    "Internally, it has set a scheme to motivate and reward staff to meet and\n",
    "exceed targeted billable utilization and revenues by paying a bonus for each\n",
    "day claimed from customers in excess of a threshold target.\n",
    "This quarterly scheme is calculated with a threshold target of 32 days per\n",
    "quarter, and the incentive payment for each billable day in excess of such\n",
    "threshold target is shown as follows:\n",
    "Days Bonus\n",
    "0 to 32 days Zero\n",
    "33 to 40 days SGD$325 per billable day\n",
    "41 to 48 days SGD$550 per billable day\n",
    "Greater than 48 days SGD$600 per billable day\n",
    "\n",
    "Please note that incentive payment is calculated progressively. As an\n",
    "example, if an employee reached total billable days of 45 in a quarter, his/her\n",
    "incentive payment is computed as follows:\n",
    "32*0 + 8*325 + 5*550 = 5350\n",
    "Write a function to read the billable days of an employee and return the bonus\n",
    "he/she has obtained in that quarter.\n",
    "Examples\n",
    "bonus(15) ➞ 0\n",
    "bonus(37) ➞ 1625\n",
    "bonus(50) ➞ 8200\n",
    "'''\n",
    "\n",
    "def bonus(billable_days):\n",
    "    bonus = 0\n",
    "    \n",
    "    if billable_days <= 32:\n",
    "        bonus = 0*32\n",
    "    elif billable_days > 32 and billable_days <= 40:\n",
    "        bonus = 0*32 + (billable_days - 32)*325\n",
    "    elif billable_days > 40 and billable_days <= 48:\n",
    "        bonus = 0*32 + 325*8 + (billable_days - 40)*550\n",
    "    else:\n",
    "        bonus = 0*32 + 325*8 + 550*8 + (billable_days - 48)*600\n",
    "\n",
    "    return bonus\n",
    "    \n",
    "\n",
    "billable_days = int(input(\"Enter the number of days billable: \"))\n",
    "print(\"The bonus for {} days is {}\".format(billable_days, bonus(billable_days)))"
   ]
  },
  {
   "cell_type": "code",
   "execution_count": 66,
   "metadata": {},
   "outputs": [
    {
     "name": "stdout",
     "output_type": "stream",
     "text": [
      "Enter the number to be checked for Disarium: 518\n"
     ]
    },
    {
     "data": {
      "text/plain": [
       "True"
      ]
     },
     "execution_count": 66,
     "metadata": {},
     "output_type": "execute_result"
    }
   ],
   "source": [
    "'''\n",
    "Q5. A number is said to be Disarium if the sum of its digits raised to their\n",
    "respective positions is the number itself.\n",
    "Create a function that determines whether a number is a Disarium or not.\n",
    "Examples\n",
    "is_disarium(75) ➞ False\n",
    "# 7^1 + 5^2 = 7 + 25 = 32\n",
    "is_disarium(135) ➞ True\n",
    "# 1^1 + 3^2 + 5^3 = 1 + 9 + 125 = 135\n",
    "is_disarium(544) ➞ False\n",
    "is_disarium(518) ➞ True\n",
    "is_disarium(466) ➞ False\n",
    "is_disarium(8) ➞ True\n",
    "'''\n",
    "\n",
    "def is_disarium(number):\n",
    "    length = len(number)\n",
    "    number = int(number)\n",
    "    temp = number\n",
    "    sum = 0 \n",
    "    while(number > 0):\n",
    "        digit = number % 10\n",
    "        sum += digit ** length\n",
    "        length -= 1\n",
    "        number //= 10\n",
    "    \n",
    "    if sum == temp:\n",
    "        return True\n",
    "    else:\n",
    "        return False\n",
    "    \n",
    "number = input(\"Enter the number to be checked for Disarium: \")\n",
    "is_disarium(number)"
   ]
  }
 ],
 "metadata": {
  "kernelspec": {
   "display_name": "Python 3",
   "language": "python",
   "name": "python3"
  },
  "language_info": {
   "codemirror_mode": {
    "name": "ipython",
    "version": 3
   },
   "file_extension": ".py",
   "mimetype": "text/x-python",
   "name": "python",
   "nbconvert_exporter": "python",
   "pygments_lexer": "ipython3",
   "version": "3.8.5"
  }
 },
 "nbformat": 4,
 "nbformat_minor": 4
}
