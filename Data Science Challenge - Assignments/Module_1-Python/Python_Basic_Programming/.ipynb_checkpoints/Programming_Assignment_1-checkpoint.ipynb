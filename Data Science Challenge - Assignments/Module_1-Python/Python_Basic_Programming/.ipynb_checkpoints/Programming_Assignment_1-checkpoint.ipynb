{
 "cells": [
  {
   "cell_type": "code",
   "execution_count": 1,
   "metadata": {},
   "outputs": [
    {
     "name": "stdout",
     "output_type": "stream",
     "text": [
      "Hello Python\n"
     ]
    }
   ],
   "source": [
    "'''\n",
    "Q1. Write a Python program to print 'Hello Python'?\n",
    "'''\n",
    "\n",
    "print('Hello Python')"
   ]
  },
  {
   "cell_type": "code",
   "execution_count": 7,
   "metadata": {},
   "outputs": [
    {
     "name": "stdout",
     "output_type": "stream",
     "text": [
      "Enter the first number: 5\n",
      "Enter the second number: 7\n",
      "The sum is:  12\n",
      "The quotient is:  0.7142857142857143\n"
     ]
    }
   ],
   "source": [
    "'''\n",
    "Q2. Write a Python program to do arithmetical operations addition and division?\n",
    "'''\n",
    "\n",
    "a = int(input('Enter the first number: '))\n",
    "b = int(input('Enter the second number: '))\n",
    "\n",
    "sum = a + b\n",
    "quotient = a / b\n",
    "print(\"The sum is: \",sum)\n",
    "print(\"The quotient is: \",quotient)"
   ]
  },
  {
   "cell_type": "code",
   "execution_count": 8,
   "metadata": {},
   "outputs": [
    {
     "name": "stdout",
     "output_type": "stream",
     "text": [
      "Enter the base of triangle: 6\n",
      "Enter the height of triangle: 8\n",
      "The are of the triangle is:  24.0\n"
     ]
    }
   ],
   "source": [
    "'''\n",
    "Q3. Write a Python program to find the area of a triangle?\n",
    "'''\n",
    "\n",
    "base = int(input('Enter the base of triangle: '))\n",
    "height = int(input('Enter the height of triangle: '))\n",
    "\n",
    "area = 0.5 * base * height\n",
    "\n",
    "print(\"The are of the triangle is: \",area)"
   ]
  },
  {
   "cell_type": "code",
   "execution_count": 9,
   "metadata": {},
   "outputs": [
    {
     "name": "stdout",
     "output_type": "stream",
     "text": [
      "Enter the first number: 0\n",
      "Enter the second number: -9\n",
      "The numbers before swapping are 0 and -9\n",
      "The numbers after swapping are -9 and 0\n"
     ]
    }
   ],
   "source": [
    "'''\n",
    "Q4. Write a Python program to swap two variables?\n",
    "'''\n",
    "\n",
    "a = int(input('Enter the first number: '))\n",
    "b = int(input('Enter the second number: '))\n",
    "print(\"The numbers before swapping are {} and {}\".format(a,b))\n",
    "temp = a\n",
    "a = b\n",
    "b = temp\n",
    "print(\"The numbers after swapping are {} and {}\".format(a,b))"
   ]
  },
  {
   "cell_type": "code",
   "execution_count": 12,
   "metadata": {},
   "outputs": [
    {
     "name": "stdout",
     "output_type": "stream",
     "text": [
      "The random number generated is: 6\n"
     ]
    }
   ],
   "source": [
    "'''\n",
    "Q5. Write a Python program to generate a random number?\n",
    "'''\n",
    "\n",
    "import random\n",
    "r = random.randint(1,20)\n",
    "print(\"The random number generated is:\",r)"
   ]
  }
 ],
 "metadata": {
  "kernelspec": {
   "display_name": "Python 3",
   "language": "python",
   "name": "python3"
  },
  "language_info": {
   "codemirror_mode": {
    "name": "ipython",
    "version": 3
   },
   "file_extension": ".py",
   "mimetype": "text/x-python",
   "name": "python",
   "nbconvert_exporter": "python",
   "pygments_lexer": "ipython3",
   "version": "3.8.8"
  }
 },
 "nbformat": 4,
 "nbformat_minor": 4
}
