{
 "cells": [
  {
   "cell_type": "code",
   "execution_count": 84,
   "metadata": {},
   "outputs": [
    {
     "name": "stdout",
     "output_type": "stream",
     "text": [
      "Enter the number of elements in Fibonacci series: 6\n",
      "0 1 1 2 3 5 "
     ]
    }
   ],
   "source": [
    "'''\n",
    "Q1. Write a Python Program to Display Fibonacci Sequence Using Recursion?\n",
    "'''\n",
    "\n",
    "def fibonacci(length):\n",
    "    if length == 0:\n",
    "        return 0\n",
    "    if length == 1:\n",
    "        return 1\n",
    "    else:\n",
    "        return fibonacci(length - 1) + fibonacci(length - 2)\n",
    "    \n",
    "length = int(input(\"Enter the number of elements in Fibonacci series: \"))\n",
    "for i in range(length):\n",
    "    print(fibonacci(i), end = \" \")"
   ]
  },
  {
   "cell_type": "code",
   "execution_count": 85,
   "metadata": {},
   "outputs": [
    {
     "name": "stdout",
     "output_type": "stream",
     "text": [
      "Enter a number: 8\n",
      "The factorial of 8 is 40320\n"
     ]
    }
   ],
   "source": [
    "'''\n",
    "Q2. Write a Python Program to Find Factorial of Number Using Recursion?\n",
    "'''\n",
    "\n",
    "def factorial(n):\n",
    "    if n == 0 or n == 1:\n",
    "        return 1\n",
    "    else:\n",
    "        return n * factorial(n-1)\n",
    "    \n",
    "a = int(input(\"Enter a number: \"))\n",
    "print(\"The factorial of {} is {}\".format(a,factorial(a)))"
   ]
  },
  {
   "cell_type": "code",
   "execution_count": 19,
   "metadata": {},
   "outputs": [
    {
     "name": "stdout",
     "output_type": "stream",
     "text": [
      "Enter your weight in kilograms: 62\n",
      "Enter your height in centimeters: 158\n",
      "The body mass index for weight 62.0 and height 158.0 is 24.83576349943919\n"
     ]
    }
   ],
   "source": [
    "'''\n",
    "Q3. Write a Python Program to calculate your Body Mass Index?\n",
    "'''\n",
    "\n",
    "weight = float(input(\"Enter your weight in kilograms: \"))\n",
    "height = float(input(\"Enter your height in centimeters: \"))\n",
    "\n",
    "bmi = weight / (height / 100) ** 2\n",
    "\n",
    "print(\"The body mass index for weight {} and height {} is {}\".format(weight, height, bmi))"
   ]
  },
  {
   "cell_type": "code",
   "execution_count": 26,
   "metadata": {},
   "outputs": [
    {
     "name": "stdout",
     "output_type": "stream",
     "text": [
      "Enter a number whose natural log is to be calculated: 69\n",
      "4.23410650459726\n"
     ]
    }
   ],
   "source": [
    "'''\n",
    "Q4. Write a Python Program to calculate the natural logarithm of any number?\n",
    "'''\n",
    "\n",
    "import math\n",
    "\n",
    "a = float(input(\"Enter a number whose natural log is to be calculated: \"))\n",
    "log = math.log(a)\n",
    "print(log)"
   ]
  },
  {
   "cell_type": "code",
   "execution_count": 32,
   "metadata": {},
   "outputs": [
    {
     "name": "stdout",
     "output_type": "stream",
     "text": [
      "Enter the value of n: 7\n",
      "The cube sum of first 7 natural numbers is 784\n"
     ]
    }
   ],
   "source": [
    "'''\n",
    "Q5. Write a Python Program for cube sum of first n natural numbers?\n",
    "'''\n",
    "\n",
    "n = int(input(\"Enter the value of n: \"))\n",
    "sum = 0\n",
    "\n",
    "for i in range(1,n+1):\n",
    "    sum = sum + i ** 3\n",
    "    \n",
    "print(\"The cube sum of first {} natural numbers is {}\".format(n,sum))"
   ]
  }
 ],
 "metadata": {
  "kernelspec": {
   "display_name": "Python 3",
   "language": "python",
   "name": "python3"
  },
  "language_info": {
   "codemirror_mode": {
    "name": "ipython",
    "version": 3
   },
   "file_extension": ".py",
   "mimetype": "text/x-python",
   "name": "python",
   "nbconvert_exporter": "python",
   "pygments_lexer": "ipython3",
   "version": "3.8.8"
  }
 },
 "nbformat": 4,
 "nbformat_minor": 4
}
