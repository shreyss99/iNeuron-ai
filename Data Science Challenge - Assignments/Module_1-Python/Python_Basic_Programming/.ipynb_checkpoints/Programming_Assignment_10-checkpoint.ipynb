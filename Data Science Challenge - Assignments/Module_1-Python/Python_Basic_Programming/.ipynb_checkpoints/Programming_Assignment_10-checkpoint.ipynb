{
 "cells": [
  {
   "cell_type": "code",
   "execution_count": 3,
   "metadata": {},
   "outputs": [
    {
     "name": "stdout",
     "output_type": "stream",
     "text": [
      "Enter the number of elements in the list: 6\n",
      "Enter number: 1\n",
      "Enter number: 3\n",
      "Enter number: 5\n",
      "Enter number: 7\n",
      "Enter number: 9\n",
      "Enter number: -6\n",
      "The sum of elemnts in the list is: 19\n"
     ]
    }
   ],
   "source": [
    "'''\n",
    "Q1. Write a Python program to find sum of elements in list?\n",
    "'''\n",
    "\n",
    "def sum_list(list):\n",
    "    sum = 0\n",
    "    for i in list:\n",
    "        sum += i\n",
    "    return sum\n",
    "\n",
    "number = int(input(\"Enter the number of elements in the list: \"))\n",
    "list = []\n",
    "for i in range(number):\n",
    "    list.append(int(input(\"Enter number: \")))\n",
    "print(\"The sum of elemnts in the list is: {}\".format(sum_list(list)))"
   ]
  },
  {
   "cell_type": "code",
   "execution_count": 8,
   "metadata": {},
   "outputs": [
    {
     "name": "stdout",
     "output_type": "stream",
     "text": [
      "Enter the number of elements in the list: 5\n",
      "Enter number: 2\n",
      "Enter number: -4\n",
      "Enter number: -7\n",
      "Enter number: 19\n",
      "Enter number: -3\n",
      "The product of elemnts in the list is: -3192\n"
     ]
    }
   ],
   "source": [
    "'''\n",
    "Q2. Write a Python program to Multiply all numbers in the list?\n",
    "'''\n",
    "\n",
    "def mul_list(list):\n",
    "    prod = 1\n",
    "    for i in list:\n",
    "        prod *= i\n",
    "    return prod\n",
    "\n",
    "number = int(input(\"Enter the number of elements in the list: \"))\n",
    "list = []\n",
    "for i in range(number):\n",
    "    list.append(int(input(\"Enter number: \")))\n",
    "print(\"The product of elemnts in the list is: {}\".format(mul_list(list)))"
   ]
  },
  {
   "cell_type": "code",
   "execution_count": 12,
   "metadata": {},
   "outputs": [
    {
     "name": "stdout",
     "output_type": "stream",
     "text": [
      "Enter the number of elements in the list: 10\n",
      "Enter number: 2\n",
      "Enter number: -9\n",
      "Enter number: 0\n",
      "Enter number: 5\n",
      "Enter number: -19\n",
      "Enter number: 7\n",
      "Enter number: 66\n",
      "Enter number: -34\n",
      "Enter number: 1\n",
      "Enter number: 0\n",
      "The smallest of elemnts in the list is: -34\n"
     ]
    }
   ],
   "source": [
    "'''\n",
    "Q3. Write a Python program to find smallest number in a list?\n",
    "'''\n",
    "\n",
    "number = int(input(\"Enter the number of elements in the list: \"))\n",
    "list = []\n",
    "for i in range(number):\n",
    "    list.append(int(input(\"Enter number: \")))\n",
    "\n",
    "list.sort()\n",
    "    \n",
    "print(\"The smallest of elemnts in the list is: {}\".format(list[0]))"
   ]
  },
  {
   "cell_type": "code",
   "execution_count": 13,
   "metadata": {},
   "outputs": [
    {
     "name": "stdout",
     "output_type": "stream",
     "text": [
      "Enter the number of elements in the list: 5\n",
      "Enter number: 2\n",
      "Enter number: 3\n",
      "Enter number: 56\n",
      "Enter number: -9\n",
      "Enter number: 42\n",
      "The largest of elemnts in the list is: 56\n"
     ]
    }
   ],
   "source": [
    "'''\n",
    "Q4. Write a Python program to find largest number in a list?\n",
    "'''\n",
    "\n",
    "number = int(input(\"Enter the number of elements in the list: \"))\n",
    "list = []\n",
    "for i in range(number):\n",
    "    list.append(int(input(\"Enter number: \")))\n",
    "\n",
    "list.sort()\n",
    "    \n",
    "print(\"The largest of elemnts in the list is: {}\".format(list[-1]))"
   ]
  },
  {
   "cell_type": "code",
   "execution_count": 13,
   "metadata": {},
   "outputs": [
    {
     "name": "stdout",
     "output_type": "stream",
     "text": [
      "Enter the number of elements in the list: 10\n",
      "Enter number: 2\n",
      "Enter number: -6\n",
      "Enter number: 99\n",
      "Enter number: 34\n",
      "Enter number: -7\n",
      "Enter number: 99\n",
      "Enter number: 0\n",
      "Enter number: 71\n",
      "Enter number: 71\n",
      "Enter number: 99\n",
      "The second largest of elemnts in the list is: 71\n"
     ]
    }
   ],
   "source": [
    "'''\n",
    "Q5. Write a Python program to find second largest number in a list?\n",
    "'''\n",
    "\n",
    "number = int(input(\"Enter the number of elements in the list: \"))\n",
    "list = []\n",
    "for i in range(number):\n",
    "    list.append(int(input(\"Enter number: \")))\n",
    "\n",
    "list.sort()\n",
    "for i in range(len(list)-1,-1,-1):\n",
    "    if list[i] == list[i-1]:\n",
    "        continue\n",
    "    elif list[i] > list[i-1]:\n",
    "        max_second = list[i-1]\n",
    "        break\n",
    "        \n",
    "print(\"The second largest of elemnts in the list is: {}\".format(max_second))"
   ]
  },
  {
   "cell_type": "code",
   "execution_count": 46,
   "metadata": {},
   "outputs": [
    {
     "name": "stdout",
     "output_type": "stream",
     "text": [
      "Enter the number of elements in the list: 10\n",
      "Enter the number of largest numbers to be found: 2\n",
      "Enter number: 1\n",
      "Enter number: 2\n",
      "Enter number: 3\n",
      "Enter number: 5\n",
      "Enter number: 5\n",
      "Enter number: 6\n",
      "Enter number: 8\n",
      "Enter number: 9\n",
      "Enter number: 8\n",
      "Enter number: 9\n",
      "Largest 2 numbers are: \n",
      "9\n",
      "8\n"
     ]
    }
   ],
   "source": [
    "'''\n",
    "Q6. Write a Python program to find N largest elements from a list?\n",
    "'''\n",
    "\n",
    "number = int(input(\"Enter the number of elements in the list: \"))\n",
    "N = int(input(\"Enter the number of largest numbers to be found: \"))\n",
    "list = []\n",
    "for i in range(number):\n",
    "    list.append(int(input(\"Enter number: \")))\n",
    "\n",
    "list.sort()\n",
    "\n",
    "first_largest = list[-1]\n",
    "\n",
    "for i in range(len(list)-1,-1,-1):\n",
    "    if list[i] == list[i-1]:\n",
    "        continue\n",
    "    elif list[i] > list[i-1]:\n",
    "        max_second = list[i-1]\n",
    "        break\n",
    "        \n",
    "print(\"Largest {} numbers are: \".format(N))\n",
    "print(first_largest)\n",
    "print(max_second)"
   ]
  },
  {
   "cell_type": "code",
   "execution_count": 14,
   "metadata": {},
   "outputs": [
    {
     "name": "stdout",
     "output_type": "stream",
     "text": [
      "Enter the number of elements in the list: 6\n",
      "Enter number: 3\n",
      "Enter number: 6\n",
      "Enter number: 1\n",
      "Enter number: 8\n",
      "Enter number: -9\n",
      "Enter number: 0\n",
      "The even numbers in list are:  [6, 8, 0]\n"
     ]
    }
   ],
   "source": [
    "'''\n",
    "Q7. Write a Python program to print even numbers in a list?\n",
    "'''\n",
    "\n",
    "number = int(input(\"Enter the number of elements in the list: \"))\n",
    "list = []\n",
    "even_list = []\n",
    "for i in range(number):\n",
    "    list.append(int(input(\"Enter number: \")))\n",
    "\n",
    "for i in list:\n",
    "    if i % 2 == 0:\n",
    "        even_list.append(i)\n",
    "        \n",
    "print(\"The even numbers in list are: \",even_list)"
   ]
  },
  {
   "cell_type": "code",
   "execution_count": 17,
   "metadata": {},
   "outputs": [
    {
     "name": "stdout",
     "output_type": "stream",
     "text": [
      "Enter the number of elements in the list: 6\n",
      "Enter number: 2\n",
      "Enter number: 3\n",
      "Enter number: 99\n",
      "Enter number: -6\n",
      "Enter number: 0\n",
      "Enter number: 73\n",
      "The odd numbers in list are:  [3, 99, 73]\n"
     ]
    }
   ],
   "source": [
    "'''\n",
    "Q8. Write a Python program to print odd numbers in a List?\n",
    "'''\n",
    "\n",
    "number = int(input(\"Enter the number of elements in the list: \"))\n",
    "list = []\n",
    "odd_list = []\n",
    "for i in range(number):\n",
    "    list.append(int(input(\"Enter number: \")))\n",
    "\n",
    "for i in list:\n",
    "    if i % 2 != 0:\n",
    "        odd_list.append(i)\n",
    "        \n",
    "print(\"The odd numbers in list are: \",odd_list)"
   ]
  },
  {
   "cell_type": "code",
   "execution_count": 41,
   "metadata": {},
   "outputs": [
    {
     "name": "stdout",
     "output_type": "stream",
     "text": [
      "Original list: \n",
      "[[1, 2], [], [True, False, True], [], [], [(2+3j)], [], ['a', 'b', 'c'], [], [4.0, -94, 0], []]\n",
      "\n",
      "After removal of empty list: \n",
      "[[1, 2], [True, False, True], [(2+3j)], ['a', 'b', 'c'], [4.0, -94, 0]]\n"
     ]
    }
   ],
   "source": [
    "'''\n",
    "Q9. Write a Python program to Remove empty List from List?\n",
    "'''\n",
    "\n",
    "def remove_emptylist(*args):\n",
    "    for i in range(len(args[0])-1,-1,-1):\n",
    "        if args[0][i] == []:\n",
    "            args[0].remove(args[0][i])\n",
    "    return(args[0])\n",
    "\n",
    "print(\"Original list: \")\n",
    "print([[1,2],[],[True,False,True],[],[],[2+3j],[],['a','b','c'],[],[4.0,-94,0],[]])\n",
    "\n",
    "print()\n",
    "\n",
    "print(\"After removal of empty list: \")\n",
    "print(remove_emptylist([[1,2],[],[True,False,True],[],[],[2+3j],[],['a','b','c'],[],[4.0,-94,0],[]]))"
   ]
  },
  {
   "cell_type": "code",
   "execution_count": 42,
   "metadata": {},
   "outputs": [
    {
     "name": "stdout",
     "output_type": "stream",
     "text": [
      "Enter the number of elements in the list: 5\n",
      "Enter number: 1\n",
      "Enter number: 2\n",
      "Enter number: 3\n",
      "Enter number: 4\n",
      "Enter number: 5\n",
      "Original List: \n",
      "[1, 2, 3, 4, 5]\n",
      "New List: \n",
      "[1, 2, 3, 4, 5]\n",
      "New list after appending 'abc': \n",
      "[1, 2, 3, 4, 5, 'abc']\n"
     ]
    }
   ],
   "source": [
    "'''\n",
    "Q10. Write a Python program to Cloning or Copying a list?\n",
    "'''\n",
    "\n",
    "number = int(input(\"Enter the number of elements in the list: \"))\n",
    "original_list = []\n",
    "for i in range(number):\n",
    "    original_list.append(int(input(\"Enter number: \")))\n",
    "    \n",
    "# we usle copy() to copy the list so that original list is not changed after copying\n",
    "\n",
    "new_list = original_list.copy()\n",
    "\n",
    "print(\"Original List: \")\n",
    "print(original_list, sep=\"\\n\")\n",
    "print(\"New List: \")\n",
    "print(new_list, sep=\"\\n\")\n",
    "\n",
    "new_list.append(\"abc\")\n",
    "print(\"New list after appending 'abc': \")\n",
    "print(new_list)"
   ]
  },
  {
   "cell_type": "code",
   "execution_count": 20,
   "metadata": {},
   "outputs": [
    {
     "name": "stdout",
     "output_type": "stream",
     "text": [
      "Enter the number of elements in the list: 8\n",
      "Enter the element to be counted: 0\n",
      "Enter number: 1\n",
      "Enter number: 0\n",
      "Enter number: 3\n",
      "Enter number: 0\n",
      "Enter number: 5\n",
      "Enter number: 0\n",
      "Enter number: 7\n",
      "Enter number: 0\n",
      "The count of elemt 0 in the list is 4\n"
     ]
    }
   ],
   "source": [
    "'''\n",
    "Q11. Write a Python program to Count occurrences of an element in a list?\n",
    "'''\n",
    "\n",
    "number = int(input(\"Enter the number of elements in the list: \"))\n",
    "element = int(input(\"Enter the element to be counted: \"))\n",
    "list = []\n",
    "odd_list = []\n",
    "for i in range(number):\n",
    "    list.append(int(input(\"Enter number: \")))\n",
    "    \n",
    "count = list.count(element)\n",
    "print(\"The count of elemt {} in the list is {}\".format(element,count))"
   ]
  }
 ],
 "metadata": {
  "kernelspec": {
   "display_name": "Python 3",
   "language": "python",
   "name": "python3"
  },
  "language_info": {
   "codemirror_mode": {
    "name": "ipython",
    "version": 3
   },
   "file_extension": ".py",
   "mimetype": "text/x-python",
   "name": "python",
   "nbconvert_exporter": "python",
   "pygments_lexer": "ipython3",
   "version": "3.8.8"
  }
 },
 "nbformat": 4,
 "nbformat_minor": 4
}
