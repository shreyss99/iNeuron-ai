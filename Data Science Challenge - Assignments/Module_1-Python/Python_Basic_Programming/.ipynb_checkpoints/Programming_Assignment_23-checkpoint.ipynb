{
 "cells": [
  {
   "cell_type": "code",
   "execution_count": 3,
   "metadata": {},
   "outputs": [
    {
     "name": "stdout",
     "output_type": "stream",
     "text": [
      "Enter the number: 2332\n"
     ]
    },
    {
     "data": {
      "text/plain": [
       "True"
      ]
     },
     "execution_count": 3,
     "metadata": {},
     "output_type": "execute_result"
    }
   ],
   "source": [
    "'''\n",
    "Question 1\n",
    "Create a function that takes a number as an argument and returns True or False depending\n",
    "on whether the number is symmetrical or not. A number is symmetrical when it is the same as\n",
    "its reverse.\n",
    "Examples\n",
    "is_symmetrical(7227) ➞ True\n",
    "is_symmetrical(12567) ➞ False\n",
    "is_symmetrical(44444444) ➞ True\n",
    "is_symmetrical(9939) ➞ False\n",
    "is_symmetrical(1112111) ➞ True\n",
    "'''\n",
    "\n",
    "def is_symmetrical(number):\n",
    "    string = str(number)\n",
    "    reverse = string[::-1]\n",
    "    if string == reverse:\n",
    "        return True\n",
    "    else:\n",
    "        return False\n",
    "    \n",
    "number = int(input(\"Enter the number: \"))\n",
    "is_symmetrical(number)"
   ]
  },
  {
   "cell_type": "code",
   "execution_count": 8,
   "metadata": {},
   "outputs": [
    {
     "name": "stdout",
     "output_type": "stream",
     "text": [
      "Enter the string of integers: 54, -73, 2, -4, 9\n",
      "The product of integers is strings is 283824\n"
     ]
    }
   ],
   "source": [
    "'''\n",
    "Question 2\n",
    "Given a string of numbers separated by a comma and space, return the product of the\n",
    "numbers.\n",
    "Examples\n",
    "multiply_nums(\"2, 3\") ➞ 6\n",
    "multiply_nums(\"1, 2, 3, 4\") ➞ 24\n",
    "multiply_nums(\"54, 75, 453, 0\") ➞ 0\n",
    "multiply_nums(\"10, -2\") ➞ -20\n",
    "'''\n",
    "\n",
    "def multiply_nums(string):\n",
    "    list = string.split(\", \")\n",
    "    prod = 1\n",
    "    for i in list:\n",
    "        prod *= int(i)\n",
    "    return prod\n",
    "    \n",
    "string = input(\"Enter the string of integers: \")\n",
    "print(\"The product of integers is strings is {}\".format(multiply_nums(string)))"
   ]
  },
  {
   "cell_type": "code",
   "execution_count": 12,
   "metadata": {},
   "outputs": [
    {
     "name": "stdout",
     "output_type": "stream",
     "text": [
      "Enter the number: 230797\n",
      "The square of digits are 490498149\n"
     ]
    }
   ],
   "source": [
    "'''\n",
    "Question 3\n",
    "Create a function that squares every digit of a number.\n",
    "Examples\n",
    "square_digits(9119) ➞ 811181\n",
    "square_digits(2483) ➞ 416649\n",
    "square_digits(3212) ➞ 9414\n",
    "Notes\n",
    "The function receives an integer and must return an integer.\n",
    "'''\n",
    "\n",
    "def square_digits(number):\n",
    "    squared_string = \"\"\n",
    "    for i in str(number):\n",
    "        squared_string += str(int(i)**2)\n",
    "    return int(squared_string)\n",
    "\n",
    "number = int(input(\"Enter the number: \"))\n",
    "print(\"The square of digits are {}\".format(square_digits(number)))"
   ]
  },
  {
   "cell_type": "code",
   "execution_count": 15,
   "metadata": {},
   "outputs": [
    {
     "name": "stdout",
     "output_type": "stream",
     "text": [
      "Enter the number of elements in list: 7\n",
      "Enter the element: 1\n",
      "Enter the element: 3\n",
      "Enter the element: 5\n",
      "Enter the element: 5\n",
      "Enter the element: 3\n",
      "Enter the element: 3\n",
      "Enter the element: 1\n",
      "The list without duplicates is [1, 3, 5]\n"
     ]
    }
   ],
   "source": [
    "'''\n",
    "Question 4\n",
    "Create a function that sorts a list and removes all duplicate items from it.\n",
    "Examples\n",
    "setify([1, 3, 3, 5, 5]) ➞ [1, 3, 5]\n",
    "setify([4, 4, 4, 4]) ➞ [4]\n",
    "setify([5, 7, 8, 9, 10, 15]) ➞ [5, 7, 8, 9, 10, 15]\n",
    "setify([3, 3, 3, 2, 1]) ➞ [1, 2, 3]\n",
    "'''\n",
    "\n",
    "def setify(list):\n",
    "    set_list = set(list)\n",
    "    no_dup = []\n",
    "    for i in set_list:\n",
    "        no_dup.append(i)\n",
    "    return no_dup\n",
    "    \n",
    "length = int(input(\"Enter the number of elements in list: \"))\n",
    "list = []\n",
    "for i in range(length):\n",
    "    list.append(int(input(\"Enter the element: \")))\n",
    "print(\"The list without duplicates is {}\".format(setify(list)))"
   ]
  },
  {
   "cell_type": "code",
   "execution_count": 16,
   "metadata": {},
   "outputs": [
    {
     "name": "stdout",
     "output_type": "stream",
     "text": [
      "Enter the number: 230797\n",
      "The mean of digits of number 230797 is 4.666666666666667\n"
     ]
    }
   ],
   "source": [
    "'''\n",
    "Question 5\n",
    "Create a function that returns the mean of all digits.\n",
    "Examples\n",
    "mean(42) ➞ 3\n",
    "mean(12345) ➞ 3\n",
    "mean(666) ➞ 6\n",
    "Notes\n",
    " The mean of all digits is the sum of digits / how many digits there are (e.g. mean of digits in\n",
    "512 is (5+1+2)/3(number of digits) = 8/3=2).\n",
    " The mean will always be an integer.\n",
    "'''\n",
    "\n",
    "def mean(number):\n",
    "    number = str(number)\n",
    "    count = len(number)\n",
    "    sum = 0\n",
    "    for i in number:\n",
    "        sum += int(i)\n",
    "    avg = sum / count\n",
    "    return avg\n",
    "\n",
    "number = int(input(\"Enter the number: \"))\n",
    "print(\"The mean of digits of number {} is {}\".format(number,mean(number)))"
   ]
  }
 ],
 "metadata": {
  "kernelspec": {
   "display_name": "Python 3",
   "language": "python",
   "name": "python3"
  },
  "language_info": {
   "codemirror_mode": {
    "name": "ipython",
    "version": 3
   },
   "file_extension": ".py",
   "mimetype": "text/x-python",
   "name": "python",
   "nbconvert_exporter": "python",
   "pygments_lexer": "ipython3",
   "version": "3.8.8"
  }
 },
 "nbformat": 4,
 "nbformat_minor": 4
}
