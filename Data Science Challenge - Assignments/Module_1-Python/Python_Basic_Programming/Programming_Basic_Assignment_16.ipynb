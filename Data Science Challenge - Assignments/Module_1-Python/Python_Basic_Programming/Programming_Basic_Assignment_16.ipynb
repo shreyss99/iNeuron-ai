{
 "cells": [
  {
   "cell_type": "code",
   "execution_count": 7,
   "metadata": {},
   "outputs": [
    {
     "name": "stdout",
     "output_type": "stream",
     "text": [
      "Enter the word to be stuttered: fantastic\n",
      "The stuttered string is: fa... fa... fantastic?\n"
     ]
    }
   ],
   "source": [
    "'''\n",
    "Question1. Write a function that stutters a word as if someone is struggling to read it. The\n",
    "first two letters are repeated twice with an ellipsis ... and space after each, and then the\n",
    "word is pronounced with a question mark ?.\n",
    "Examples\n",
    "stutter(\"incredible\") ➞ \"in... in... incredible?\"\n",
    "stutter(\"enthusiastic\") ➞ \"en... en... enthusiastic?\"\n",
    "stutter(\"outstanding\") ➞ \"ou... ou... outstanding?\"\n",
    "\n",
    "Hint :- Assume all input is in lower case and at least two characters long.\n",
    "'''\n",
    "\n",
    "def stutter(word):\n",
    "    first_2_letters = word[0:2]\n",
    "    start_pattern = first_2_letters+\"...\"+\" \"\n",
    "    stuttered_string = start_pattern * 2 + word + \"?\"\n",
    "    return stuttered_string\n",
    "    \n",
    "word = input(\"Enter the word to be stuttered: \")\n",
    "print(\"The stuttered string is: {}\".format(stutter(word)))"
   ]
  },
  {
   "cell_type": "code",
   "execution_count": 11,
   "metadata": {},
   "outputs": [
    {
     "name": "stdout",
     "output_type": "stream",
     "text": [
      "Enter the angle in radians: 90\n",
      "The converted radians to degrees is 5156.6\n"
     ]
    }
   ],
   "source": [
    "'''\n",
    "Question 2.Create a function that takes an angle in radians and returns the corresponding\n",
    "angle in degrees rounded to one decimal place.\n",
    "Examples\n",
    "radians_to_degrees(1) ➞ 57.3\n",
    "radians_to_degrees(20) ➞ 1145.9\n",
    "radians_to_degrees(50) ➞ 2864.8\n",
    "'''\n",
    "\n",
    "import math \n",
    "def radians_to_degrees(radians):\n",
    "    degrees = radians * 180 / math.pi\n",
    "    return round(degrees,1)\n",
    "    \n",
    "radians = float(input(\"Enter the angle in radians: \"))\n",
    "print(\"The converted radians to degrees is {}\".format(radians_to_degrees(radians)))"
   ]
  },
  {
   "cell_type": "code",
   "execution_count": 22,
   "metadata": {},
   "outputs": [
    {
     "name": "stdout",
     "output_type": "stream",
     "text": [
      "Enter the number to be checked for Curzon: 496\n"
     ]
    },
    {
     "data": {
      "text/plain": [
       "False"
      ]
     },
     "execution_count": 22,
     "metadata": {},
     "output_type": "execute_result"
    }
   ],
   "source": [
    "'''\n",
    "Question 3. In this challenge, establish if a given integer num is a Curzon number. If 1 plus\n",
    "2 elevated to num is exactly divisible by 1 plus 2 multiplied by num, then num is a Curzon\n",
    "number.\n",
    "Given a non-negative integer num, implement a function that returns True if num is a Curzon\n",
    "number, or False otherwise.\n",
    "Examples\n",
    "is_curzon(5) ➞ True\n",
    "# 2 ** 5 + 1 = 33\n",
    "# 2 * 5 + 1 = 11\n",
    "# 33 is a multiple of 11\n",
    "is_curzon(10) ➞ False\n",
    "# 2 ** 10 + 1 = 1025\n",
    "# 2 * 10 + 1 = 21\n",
    "# 1025 is not a multiple of 21\n",
    "is_curzon(14) ➞ True\n",
    "# 2 ** 14 + 1 = 16385\n",
    "# 2 * 14 + 1 = 29\n",
    "# 16385 is a multiple of 29\n",
    "'''\n",
    "\n",
    "import math\n",
    "\n",
    "def is_Curzon(number):\n",
    "    one = math.pow(2,number) + 1\n",
    "    two = 2 * number + 1\n",
    "    \n",
    "    if one % two == 0:\n",
    "        return True\n",
    "    else:\n",
    "        return False\n",
    "    \n",
    "number = int(input(\"Enter the number to be checked for Curzon: \"))\n",
    "is_Curzon(number)"
   ]
  },
  {
   "cell_type": "code",
   "execution_count": 14,
   "metadata": {},
   "outputs": [
    {
     "name": "stdout",
     "output_type": "stream",
     "text": [
      "Enter the side length of hexagon: 50\n",
      "The area of hexagon with side 50.0 is 6495.2\n"
     ]
    }
   ],
   "source": [
    "'''\n",
    "Question 4.Given the side length x find the area of a hexagon.\n",
    "\n",
    "Examples\n",
    "area_of_hexagon(1) ➞ 2.6\n",
    "area_of_hexagon(2) ➞ 10.4\n",
    "area_of_hexagon(3) ➞ 23.4\n",
    "'''\n",
    "\n",
    "import math\n",
    "\n",
    "def area_of_hexagon(side):\n",
    "    area = 3 * math.sqrt(3) * math.pow(side,2) / 2\n",
    "    return round(area,1)\n",
    "    \n",
    "side = float(input(\"Enter the side length of hexagon: \"))\n",
    "print(\"The area of hexagon with side {} is {}\".format(side,area_of_hexagon(side)))"
   ]
  },
  {
   "cell_type": "code",
   "execution_count": 30,
   "metadata": {},
   "outputs": [
    {
     "name": "stdout",
     "output_type": "stream",
     "text": [
      "Enter the number: 45\n",
      "The binary of 45 is 101101\n"
     ]
    }
   ],
   "source": [
    "'''\n",
    "Question 5. Create a function that returns a base-2 (binary) representation of a base-10\n",
    "(decimal) string number. To convert is simple: ((2) means base-2 and (10) means base-10)\n",
    "010101001(2) = 1 + 8 + 32 + 128.\n",
    "Going from right to left, the value of the most right bit is 1, now from that every bit to the left\n",
    "will be x2 the value, value of an 8 bit binary numbers are (256, 128, 64, 32, 16, 8, 4, 2, 1).\n",
    "Examples\n",
    "binary(1) ➞ \"1\"\n",
    "# 1*1 = 1\n",
    "binary(5) ➞ \"101\"\n",
    "# 1*1 + 1*4 = 5\n",
    "binary(10) ➞ \"1010\"\n",
    "# 1*2 + 1*8 = 10\n",
    "'''\n",
    "\n",
    "def binary(number):\n",
    "    list = []\n",
    "    while number >= 1:\n",
    "        list.append(number % 2)\n",
    "        number //= 2\n",
    "    binary = \"\"\n",
    "    for i in list[::-1]:\n",
    "        binary += str(i)\n",
    "    return binary\n",
    "    \n",
    "number = int(input(\"Enter the number: \"))\n",
    "result = binary(number)\n",
    "print(\"The binary of {} is {}\".format(number,result))"
   ]
  }
 ],
 "metadata": {
  "kernelspec": {
   "display_name": "Python 3",
   "language": "python",
   "name": "python3"
  },
  "language_info": {
   "codemirror_mode": {
    "name": "ipython",
    "version": 3
   },
   "file_extension": ".py",
   "mimetype": "text/x-python",
   "name": "python",
   "nbconvert_exporter": "python",
   "pygments_lexer": "ipython3",
   "version": "3.8.5"
  }
 },
 "nbformat": 4,
 "nbformat_minor": 4
}
