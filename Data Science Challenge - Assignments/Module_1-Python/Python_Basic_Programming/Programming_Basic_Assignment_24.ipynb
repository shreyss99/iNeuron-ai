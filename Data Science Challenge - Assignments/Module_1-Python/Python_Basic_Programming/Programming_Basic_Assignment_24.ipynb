{
 "cells": [
  {
   "cell_type": "code",
   "execution_count": 8,
   "metadata": {},
   "outputs": [
    {
     "name": "stdout",
     "output_type": "stream",
     "text": [
      "Enter the value of n: 15\n"
     ]
    },
    {
     "data": {
      "text/plain": [
       "[1, 2, 3, 40, 5, 6, 7, 80, 9, 10, 11, 120, 13, 14, 15]"
      ]
     },
     "execution_count": 8,
     "metadata": {},
     "output_type": "execute_result"
    }
   ],
   "source": [
    "'''\n",
    "Question1\n",
    "Create a function that takes an integer and returns a list from 1 to the given number, where:\n",
    "1. If the number can be divided evenly by 4, amplify it by 10 (i.e. return 10 times the\n",
    "number).\n",
    "2. If the number cannot be divided evenly by 4, simply return the number.\n",
    "Examples\n",
    "amplify(4) ➞ [1, 2, 3, 40]\n",
    "amplify(3) ➞ [1, 2, 3]\n",
    "amplify(25) ➞ [1, 2, 3, 40, 5, 6, 7, 80, 9, 10, 11, 120, 13, 14, 15, 160,\n",
    "17, 18, 19, 200, 21, 22, 23, 240, 25]\n",
    "Notes\n",
    " The given integer will always be equal to or greater than 1.\n",
    " Include the number (see example above).\n",
    " To perform this problem with its intended purpose, try doing it with list\n",
    "comprehensions. If that's too difficult, just solve the challenge any way you can.\n",
    "'''\n",
    "\n",
    "def amplify(number):\n",
    "    return number * 10\n",
    "\n",
    "n = int(input(\"Enter the value of n: \"))\n",
    "[amplify(i) if i%4==0 else i for i in range(1,n+1)]"
   ]
  },
  {
   "cell_type": "code",
   "execution_count": 18,
   "metadata": {},
   "outputs": [
    {
     "name": "stdout",
     "output_type": "stream",
     "text": [
      "Enter the length of list: 6\n",
      "Enter element: 1\n",
      "Enter element: 1\n",
      "Enter element: 3\n",
      "Enter element: 1\n",
      "Enter element: 1\n",
      "Enter element: 1\n",
      "The unique element in list [1, 1, 3, 1, 1, 1] is 3\n"
     ]
    }
   ],
   "source": [
    "'''\n",
    "Question2\n",
    "Create a function that takes a list of numbers and return the number that's unique.\n",
    "Examples\n",
    "unique([3, 3, 3, 7, 3, 3]) ➞ 7\n",
    "unique([0, 0, 0.77, 0, 0]) ➞ 0.77\n",
    "unique([0, 1, 1, 1, 1, 1, 1, 1]) ➞ 0\n",
    "Notes\n",
    "Test cases will always have exactly one unique number while all others are the same.\n",
    "'''\n",
    "\n",
    "def unique(list):\n",
    "    count = []\n",
    "    for i in list:\n",
    "        count.append(list.count(i))\n",
    "    for i in range(len(count)):\n",
    "        if count[i] == 1:\n",
    "            return list[i]\n",
    "    \n",
    "length = int(input(\"Enter the length of list: \"))\n",
    "list = []\n",
    "for i in range(length):\n",
    "    list.append(int(input(\"Enter element: \")))\n",
    "print(\"The unique element in list {} is {}\".format(list,unique(list)))"
   ]
  },
  {
   "cell_type": "code",
   "execution_count": 21,
   "metadata": {},
   "outputs": [
    {
     "name": "stdout",
     "output_type": "stream",
     "text": [
      "Enter the radius for circle: 23\n",
      "The area of the circle is 1661.9025137490005\n",
      "The perimeter of the circle is 144.51326206513048\n"
     ]
    }
   ],
   "source": [
    "'''\n",
    "Question3\n",
    "Your task is to create a Circle constructor that creates a circle with a radius provided by an\n",
    "argument. The circles constructed must have two getters getArea() (PIr^2) and\n",
    "getPerimeter() (2PI*r) which give both respective areas and perimeter (circumference).\n",
    "\n",
    "For help with this class, I have provided you with a Rectangle constructor which you can use\n",
    "as a base example.\n",
    "Examples\n",
    "circy = Circle(11)\n",
    "circy.getArea()\n",
    "# Should return 380.132711084365\n",
    "circy = Circle(4.44)\n",
    "circy.getPerimeter()\n",
    "# Should return 27.897342763877365\n",
    "Notes\n",
    "Round results up to the nearest integer.\n",
    "'''\n",
    "\n",
    "import math\n",
    "\n",
    "class Circle():\n",
    "    def __init__(self,radius):\n",
    "        self.radius = radius\n",
    "        \n",
    "    def getArea(self):\n",
    "        return math.pi * self.radius**2\n",
    "    \n",
    "    def getPerimeter(self):\n",
    "        return 2 * math.pi * self.radius\n",
    "    \n",
    "radius = float(input(\"Enter the radius for circle: \"))\n",
    "circy = Circle(radius)\n",
    "print(\"The area of the circle is {}\".format(circy.getArea()))\n",
    "print(\"The perimeter of the circle is {}\".format(circy.getPerimeter()))"
   ]
  },
  {
   "cell_type": "code",
   "execution_count": 26,
   "metadata": {},
   "outputs": [
    {
     "name": "stdout",
     "output_type": "stream",
     "text": [
      "Enter the length of the list: 5\n",
      "Enter the string: Amazon\n",
      "Enter the string: Apple\n",
      "Enter the string: Microsoft\n",
      "Enter the string: Youtube\n",
      "Enter the string: Facebook\n"
     ]
    },
    {
     "data": {
      "text/plain": [
       "['Apple', 'Amazon', 'Youtube', 'Facebook', 'Microsoft']"
      ]
     },
     "execution_count": 26,
     "metadata": {},
     "output_type": "execute_result"
    }
   ],
   "source": [
    "'''\n",
    "Question4\n",
    "Create a function that takes a list of strings and return a list, sorted from shortest to longest.\n",
    "Examples\n",
    "sort_by_length([\"Google\", \"Apple\", \"Microsoft\"])\n",
    "➞ [\"Apple\", \"Google\", \"Microsoft\"]\n",
    "sort_by_length([\"Leonardo\", \"Michelangelo\", \"Raphael\", \"Donatello\"])\n",
    "➞ [\"Raphael\", \"Leonardo\", \"Donatello\", \"Michelangelo\"]\n",
    "sort_by_length([\"Turing\", \"Einstein\", \"Jung\"])\n",
    "➞ [\"Jung\", \"Turing\", \"Einstein\"]\n",
    "Notes\n",
    "All test cases contain lists with strings of different lengths, so you won't have to deal with\n",
    "multiple strings of the same length.\n",
    "'''\n",
    "\n",
    "def sort_by_length(list):\n",
    "    length_list = []\n",
    "    for i in list:\n",
    "        length_list.append(len(i)) \n",
    "    length_list.sort()\n",
    "    sorted_list = []\n",
    "    for i in length_list:\n",
    "        for j in list:\n",
    "            if len(j) == i:\n",
    "                sorted_list.append(j)\n",
    "    return sorted_list\n",
    "\n",
    "length = int(input(\"Enter the length of the list: \"))\n",
    "list = []\n",
    "for i in range(length):\n",
    "    list.append(input(\"Enter the string: \"))\n",
    "sort_by_length(list)"
   ]
  },
  {
   "cell_type": "code",
   "execution_count": 31,
   "metadata": {},
   "outputs": [
    {
     "name": "stdout",
     "output_type": "stream",
     "text": [
      "Enter the value of side 1: 4\n",
      "Enter the value of side 2: 3\n",
      "Enter the value of side 3: 5\n",
      "4.0, 3.0, 5.0 form a Pythagorean Triplet\n"
     ]
    }
   ],
   "source": [
    "'''\n",
    "Question5\n",
    "Create a function that validates whether three given integers form a Pythagorean triplet. The\n",
    "sum of the squares of the two smallest integers must equal the square of the largest number to\n",
    "be validated.\n",
    "'''\n",
    "\n",
    "def is_PythagoreanTriplet(a,b,c):\n",
    "    list = []\n",
    "    list.append(a)\n",
    "    list.append(b)\n",
    "    list.append(c)\n",
    "    list.sort()\n",
    "    \n",
    "    if list[0]**2 + list[1]**2 == list[2]**2:\n",
    "        return True\n",
    "    else:\n",
    "        return False\n",
    "\n",
    "a = float(input(\"Enter the value of side 1: \"))\n",
    "b = float(input(\"Enter the value of side 2: \"))\n",
    "c = float(input(\"Enter the value of side 3: \"))\n",
    "result = is_PythagoreanTriplet(a,b,c)\n",
    "if result:\n",
    "    print(\"{}, {}, {} form a Pythagorean Triplet\".format(a,b,c))\n",
    "else:\n",
    "    print(\"{}, {}, {} do not form a Pythagorean Triplet\".format(a,b,c))"
   ]
  }
 ],
 "metadata": {
  "kernelspec": {
   "display_name": "Python 3",
   "language": "python",
   "name": "python3"
  },
  "language_info": {
   "codemirror_mode": {
    "name": "ipython",
    "version": 3
   },
   "file_extension": ".py",
   "mimetype": "text/x-python",
   "name": "python",
   "nbconvert_exporter": "python",
   "pygments_lexer": "ipython3",
   "version": "3.8.5"
  }
 },
 "nbformat": 4,
 "nbformat_minor": 4
}
