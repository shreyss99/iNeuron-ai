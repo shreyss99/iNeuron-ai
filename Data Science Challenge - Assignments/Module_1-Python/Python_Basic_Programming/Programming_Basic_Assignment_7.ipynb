{
 "cells": [
  {
   "cell_type": "code",
   "execution_count": 12,
   "metadata": {},
   "outputs": [
    {
     "name": "stdout",
     "output_type": "stream",
     "text": [
      "Enter the number of elements in the array: 5\n",
      "Enter the array element: -9\n",
      "Enter the array element: 5\n",
      "Enter the array element: 6\n",
      "Enter the array element: 1\n",
      "Enter the array element: -7\n",
      "The sum of the array array('i', [-9, 5, 6, 1, -7]) is -4\n"
     ]
    }
   ],
   "source": [
    "'''\n",
    "Q1. Write a Python Program to find sum of array?\n",
    "'''\n",
    "\n",
    "import array as arr\n",
    "\n",
    "def sum_array(array):\n",
    "    sum = 0\n",
    "    for i in array:\n",
    "        sum = sum + i\n",
    "    return sum\n",
    "\n",
    "n = int(input(\"Enter the number of elements in the array: \"))\n",
    "a = arr.array('i',[])\n",
    "for j in range(n):\n",
    "    a.append(int(input(\"Enter the array element: \"))) \n",
    "\n",
    "print(\"The sum of the array {} is {}\".format(a,sum_array(a)))"
   ]
  },
  {
   "cell_type": "code",
   "execution_count": 15,
   "metadata": {},
   "outputs": [
    {
     "name": "stdout",
     "output_type": "stream",
     "text": [
      "Enter the number of elements in the array: 10\n",
      "Enter the array element: -1\n",
      "Enter the array element: -2\n",
      "Enter the array element: -3\n",
      "Enter the array element: 4\n",
      "Enter the array element: 5\n",
      "Enter the array element: -8\n",
      "Enter the array element: 9\n",
      "Enter the array element: 0\n",
      "Enter the array element: -3\n",
      "Enter the array element: 7\n",
      "The largest element of the array array('i', [-1, -2, -3, 4, 5, -8, 9, 0, -3, 7]) is 9\n"
     ]
    }
   ],
   "source": [
    "'''\n",
    "Q2. Write a Python Program to find largest element in an array?\n",
    "'''\n",
    "\n",
    "import array as arr\n",
    "\n",
    "def largest_element(array):\n",
    "    list = []\n",
    "    for i in array:\n",
    "        list.append(i)\n",
    "    list.sort()\n",
    "    max = list[-1]\n",
    "    return max\n",
    "\n",
    "n = int(input(\"Enter the number of elements in the array: \"))\n",
    "a = arr.array('i',[])\n",
    "for j in range(n):\n",
    "    a.append(int(input(\"Enter the array element: \"))) \n",
    "\n",
    "print(\"The largest element of the array {} is {}\".format(a,largest_element(a)))"
   ]
  },
  {
   "cell_type": "code",
   "execution_count": 66,
   "metadata": {},
   "outputs": [
    {
     "name": "stdout",
     "output_type": "stream",
     "text": [
      "Enter the number of elements in the first array: 4\n",
      "Enter the array element: 2\n",
      "Enter the array element: 4\n",
      "Enter the array element: 6\n",
      "Enter the array element: 8\n",
      "Enter the number of times of array rotation: 3\n",
      "Enter L for left rotation and R for right rotation: L\n",
      "The array rotated 3 times in L direction is array('i', [8, 2, 4, 6]): \n",
      "\n",
      "\n",
      "Enter the number of elements in the first array: 5\n",
      "Enter the array element: 1\n",
      "Enter the array element: 3\n",
      "Enter the array element: 5\n",
      "Enter the array element: 7\n",
      "Enter the array element: 9\n",
      "Enter the number of times of array rotation: 7\n",
      "Enter L for left rotation and R for right rotation: R\n",
      "The array rotated 7 times in R direction is array('i', [7, 9, 1, 3, 5]): \n"
     ]
    }
   ],
   "source": [
    "'''\n",
    "Q3. Write a Python Program for array rotation?\n",
    "'''\n",
    "\n",
    "import array as arr\n",
    "\n",
    "def array_rotate(array,rotate_times,direction):\n",
    "    if direction == \"L\":\n",
    "        length = len(array)\n",
    "        for i in range(rotate_times):\n",
    "            first = array[0]\n",
    "            for j in range(length):\n",
    "                array[j%length] = array[(j+1)%length]\n",
    "            array[-1] = first\n",
    "        return array  \n",
    "    \n",
    "    elif direction == 'R':\n",
    "        length = len(array)\n",
    "        for i in range(rotate_times):\n",
    "            last = array[-1]\n",
    "            for j in range(length,1,-1):\n",
    "                array[(j-1)%length] = array[(j-2)%length]\n",
    "            array[0] = last\n",
    "                \n",
    "        return array  \n",
    "\n",
    "n1 = int(input(\"Enter the number of elements in the first array: \"))\n",
    "a1 = arr.array('i',[])\n",
    "for j in range(n1):\n",
    "    a1.append(int(input(\"Enter the array element: \"))) \n",
    "rotate_times_1 = int(input(\"Enter the number of times of array rotation: \"))\n",
    "direction_1 = input(\"Enter L for left rotation and R for right rotation: \")\n",
    "print(\"The array rotated {} times in {} direction is {}: \".format(rotate_times_1,direction_1,\n",
    "                                                                     array_rotate(a1,rotate_times_1,direction_1)))\n",
    "\n",
    "print()\n",
    "print()\n",
    "n2 = int(input(\"Enter the number of elements in the first array: \"))\n",
    "a2 = arr.array('i',[])\n",
    "for j in range(n2):\n",
    "    a2.append(int(input(\"Enter the array element: \"))) \n",
    "rotate_times_2 = int(input(\"Enter the number of times of array rotation: \"))\n",
    "direction_2 = input(\"Enter L for left rotation and R for right rotation: \")\n",
    "print(\"The array rotated {} times in {} direction is {}: \".format(rotate_times_2,direction_2,\n",
    "                                                                     array_rotate(a2,rotate_times_2,direction_2)))\n"
   ]
  },
  {
   "cell_type": "code",
   "execution_count": 19,
   "metadata": {},
   "outputs": [
    {
     "name": "stdout",
     "output_type": "stream",
     "text": [
      "Enter the number of elements in the array: 7\n",
      "Enter the array element: 12\n",
      "Enter the array element: 23\n",
      "Enter the array element: 34\n",
      "Enter the array element: 45\n",
      "Enter the array element: 56\n",
      "Enter the array element: 67\n",
      "Enter the array element: 78\n",
      "Enter the position where array is to be split. Position starts from 1: 4\n",
      "The array after spltiing at 4 position and adding is array('i', [56, 67, 78, 12, 23, 34, 45]):\n"
     ]
    }
   ],
   "source": [
    "'''\n",
    "Q4. Write a Python Program to Split the array and add the first part to the end?\n",
    "'''\n",
    "\n",
    "import array as arr\n",
    "\n",
    "def split_add(array,split_point):\n",
    "    a1 = arr.array('i',[])\n",
    "    a2 = arr.array('i',[])\n",
    "    for i in range(split_point):\n",
    "        a1.append(array[i])\n",
    "    for i in range(split_point,len(array)):\n",
    "        a2.append(array[i])\n",
    "    for i in range(len(a1)):\n",
    "        a2.append(a1[i])\n",
    "    return a2\n",
    "\n",
    "n = int(input(\"Enter the number of elements in the array: \"))\n",
    "a = arr.array('i',[])\n",
    "for j in range(n):\n",
    "    a.append(int(input(\"Enter the array element: \"))) \n",
    "split_point = int(input(\"Enter the position where array is to be split. Position starts from 1: \"))\n",
    "    \n",
    "print(\"The array after spltiing at {} position and adding is {}:\".format(split_point,split_add(a,split_point)))"
   ]
  },
  {
   "cell_type": "code",
   "execution_count": 38,
   "metadata": {},
   "outputs": [
    {
     "name": "stdout",
     "output_type": "stream",
     "text": [
      "Enter the number of elements in the array: 5\n",
      "Enter the array element: 98\n",
      "Enter the array element: 54\n",
      "Enter the array element: 3\n",
      "Enter the array element: 2\n",
      "Enter the array element: 0\n"
     ]
    },
    {
     "data": {
      "text/plain": [
       "True"
      ]
     },
     "execution_count": 38,
     "metadata": {},
     "output_type": "execute_result"
    }
   ],
   "source": [
    "'''\n",
    "Q5. Write a Python Program to check if given array is Monotonic?\n",
    "'''\n",
    "\n",
    "import array as arr\n",
    "\n",
    "def isMonotonic(array):\n",
    "    return (all(array[i] <= array[i + 1] for i in range(len(array) - 1)) or\n",
    "            all(array[i] >= array[i + 1] for i in range(len(array) - 1)))\n",
    "        \n",
    "n = int(input(\"Enter the number of elements in the array: \"))\n",
    "a = arr.array('i',[])\n",
    "for j in range(n):\n",
    "    a.append(int(input(\"Enter the array element: \"))) \n",
    "    \n",
    "isMonotonic(a)"
   ]
  },
  {
   "cell_type": "code",
   "execution_count": 36,
   "metadata": {},
   "outputs": [
    {
     "ename": "IndentationError",
     "evalue": "unexpected indent (<ipython-input-36-c4299eeac464>, line 3)",
     "output_type": "error",
     "traceback": [
      "\u001b[1;36m  File \u001b[1;32m\"<ipython-input-36-c4299eeac464>\"\u001b[1;36m, line \u001b[1;32m3\u001b[0m\n\u001b[1;33m    return (all(A[i] <= A[i + 1] for i in range(len(A) - 1)) or\u001b[0m\n\u001b[1;37m    ^\u001b[0m\n\u001b[1;31mIndentationError\u001b[0m\u001b[1;31m:\u001b[0m unexpected indent\n"
     ]
    }
   ],
   "source": [
    "### def isMonotonic(A):\n",
    "  \n",
    "    return (all(A[i] <= A[i + 1] for i in range(len(A) - 1)) or\n",
    "            all(A[i] >= A[i + 1] for i in range(len(A) - 1)))\n",
    "  \n",
    "# Driver program\n",
    "A = [6, 5, 4, 4]\n",
    "  \n",
    "# Print required result\n",
    "print(isMonotonic(A))"
   ]
  },
  {
   "cell_type": "code",
   "execution_count": null,
   "metadata": {},
   "outputs": [],
   "source": []
  }
 ],
 "metadata": {
  "kernelspec": {
   "display_name": "Python 3",
   "language": "python",
   "name": "python3"
  },
  "language_info": {
   "codemirror_mode": {
    "name": "ipython",
    "version": 3
   },
   "file_extension": ".py",
   "mimetype": "text/x-python",
   "name": "python",
   "nbconvert_exporter": "python",
   "pygments_lexer": "ipython3",
   "version": "3.8.5"
  }
 },
 "nbformat": 4,
 "nbformat_minor": 4
}
