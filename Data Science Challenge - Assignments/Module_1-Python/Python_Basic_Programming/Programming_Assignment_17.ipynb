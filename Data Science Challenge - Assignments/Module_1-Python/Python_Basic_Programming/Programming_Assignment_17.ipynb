{
 "cells": [
  {
   "cell_type": "code",
   "execution_count": 4,
   "metadata": {},
   "outputs": [
    {
     "name": "stdout",
     "output_type": "stream",
     "text": [
      "Enter the value of a: 1\n",
      "Enter the value of b: 1000\n",
      "Enter the value of c: 4\n",
      "The sum is 125500\n"
     ]
    }
   ],
   "source": [
    "'''\n",
    "Question1. Create a function that takes three arguments a, b, c and returns the sum of the\n",
    "numbers that are evenly divided by c from the range a, b inclusive.\n",
    "Examples\n",
    "evenly_divisible(1, 10, 20) ➞ 0\n",
    "# No number between 1 and 10 can be evenly divided by 20.\n",
    "evenly_divisible(1, 10, 2) ➞ 30\n",
    "# 2 + 4 + 6 + 8 + 10 = 30\n",
    "evenly_divisible(1, 10, 3) ➞ 18\n",
    "# 3 + 6 + 9 = 18\n",
    "'''\n",
    "\n",
    "def evenly_divisible(a,b,c):\n",
    "    sum = 0\n",
    "    for i in range(a,b+1):\n",
    "        if i % c == 0:\n",
    "            sum += i\n",
    "    return sum\n",
    "\n",
    "a = int(input(\"Enter the value of a: \"))\n",
    "b = int(input(\"Enter the value of b: \"))\n",
    "c = int(input(\"Enter the value of c: \"))\n",
    "print(\"The sum is {}\".format(evenly_divisible(a,b,c)))"
   ]
  },
  {
   "cell_type": "code",
   "execution_count": 28,
   "metadata": {},
   "outputs": [
    {
     "name": "stdout",
     "output_type": "stream",
     "text": [
      "Enter the inequality expression: 13 > 44 > 33 > 1 < 6\n",
      "False\n"
     ]
    }
   ],
   "source": [
    "'''\n",
    "Question2. Create a function that returns True if a given inequality expression is correct and\n",
    "False otherwise.\n",
    "Examples\n",
    "correct_signs(\"3 < 7 < 11\") ➞ True\n",
    "correct_signs(\"13 > 44 > 33 > 1\") ➞ False\n",
    "correct_signs(\"1 < 2 < 6 < 9 > 3\") ➞ True\n",
    "'''\n",
    "\n",
    "def correct_signs(expression):\n",
    "    expression_list = expression.split(\" \")\n",
    "    count = 0\n",
    "    \n",
    "    for i in range(0,len(expression),2):\n",
    "        if count != len(expression) - 1:\n",
    "            pair = expression[i:i+3]\n",
    "            sign = pair[1]\n",
    "            if sign == '<':\n",
    "                if pair[0] < pair[2]:\n",
    "                    count += 2\n",
    "                    continue\n",
    "            if sign == '>':\n",
    "                if pair[0] < pair[2]:\n",
    "                    count += 2\n",
    "                    continue\n",
    "            if sign == '<=':\n",
    "                if pair[0] <= pair[2]:\n",
    "                    count += 2\n",
    "                    continue\n",
    "            if sign == '>=':\n",
    "                if pair[0] >= pair[2]:\n",
    "                    count += 2\n",
    "                    continue\n",
    "            else:\n",
    "                if count == len(expression):\n",
    "                    return False\n",
    "    \n",
    "expression = input(\"Enter the inequality expression: \")\n",
    "if(correct_signs(expression)):\n",
    "    print(True)\n",
    "else:\n",
    "    print(False)"
   ]
  },
  {
   "cell_type": "code",
   "execution_count": 13,
   "metadata": {},
   "outputs": [
    {
     "name": "stdout",
     "output_type": "stream",
     "text": [
      "Enter the string: I love ice-cream and donuts\n",
      "Enter the character: *\n"
     ]
    },
    {
     "data": {
      "text/plain": [
       "'* l*v* *c*-cr**m *nd d*n*ts'"
      ]
     },
     "execution_count": 13,
     "metadata": {},
     "output_type": "execute_result"
    }
   ],
   "source": [
    "'''\n",
    "Question3. Create a function that replaces all the vowels in a string with a specified character.\n",
    "Examples\n",
    "replace_vowels(\"the aardvark\", \"#\") ➞ \"th# ##rdv#rk\"\n",
    "replace_vowels(\"minnie mouse\", \"?\") ➞ \"m?nn?? m??s?\"\n",
    "replace_vowels(\"shakespeare\", \"*\") ➞ \"sh*k*sp**r*\"\n",
    "'''\n",
    "\n",
    "def replace_vowels(string, char):\n",
    "    vowels = ['a','e','i','o','u','A','E','I','O','U']\n",
    "    for i in string:\n",
    "        if i in vowels:\n",
    "            string = string.replace(i,char)\n",
    "    return string\n",
    "    \n",
    "string = input(\"Enter the string: \")\n",
    "char = input(\"Enter the character: \")\n",
    "replace_vowels(string, char)"
   ]
  },
  {
   "cell_type": "code",
   "execution_count": 9,
   "metadata": {},
   "outputs": [
    {
     "name": "stdout",
     "output_type": "stream",
     "text": [
      "Enter the number whose factorial is to be calculated: 10\n",
      "The factorial of 10 is 3628800\n"
     ]
    }
   ],
   "source": [
    "'''\n",
    "Question4. Write a function that calculates the factorial of a number recursively.\n",
    "Examples\n",
    "factorial(5) ➞ 120\n",
    "factorial(3) ➞ 6\n",
    "factorial(1) ➞ 1\n",
    "factorial(0) ➞ 1\n",
    "'''\n",
    "\n",
    "def factorial(number):\n",
    "    if number == 0 or number == 1:\n",
    "        return 1\n",
    "    else:\n",
    "        return number * factorial(number - 1)\n",
    "    \n",
    "number = int(input(\"Enter the number whose factorial is to be calculated: \"))\n",
    "print(\"The factorial of {} is {}\".format(number,factorial(number)))"
   ]
  },
  {
   "cell_type": "code",
   "execution_count": 11,
   "metadata": {},
   "outputs": [
    {
     "name": "stdout",
     "output_type": "stream",
     "text": [
      "Enter two strings of equal lengths: \n",
      "Enter the first string: full stack\n",
      "Enter the second string: dull flask\n",
      "The hamming distance betweeb full stack and dull flask is 4\n"
     ]
    }
   ],
   "source": [
    "'''\n",
    "Question 5\n",
    "Hamming distance is the number of characters that differ between two strings.\n",
    "To illustrate:\n",
    "String1: \"abcbba\"\n",
    "String2: \"abcbda\"\n",
    "Hamming Distance: 1 - \"b\" vs. \"d\" is the only difference.\n",
    "Create a function that computes the hamming distance between two strings.\n",
    "Examples\n",
    "hamming_distance(\"abcde\", \"bcdef\") ➞ 5\n",
    "hamming_distance(\"abcde\", \"abcde\") ➞ 0\n",
    "hamming_distance(\"strong\", \"strung\") ➞ 1\n",
    "'''\n",
    "\n",
    "def hamming_distance(first, second):\n",
    "    hamming_count = 0\n",
    "    if len(first) != len(second):\n",
    "        return \"Unequal lengths\"\n",
    "    else:\n",
    "        for i in range(len(first)):\n",
    "            if first[i] != second[i]:\n",
    "                hamming_count += 1\n",
    "    return hamming_count\n",
    "\n",
    "print(\"Enter two strings of equal lengths: \")\n",
    "first = input(\"Enter the first string: \")\n",
    "second = input(\"Enter the second string: \")\n",
    "hamming_count = hamming_distance(first, second)\n",
    "print(\"The hamming distance betweeb {} and {} is {}\".format(first,second,hamming_count))"
   ]
  }
 ],
 "metadata": {
  "kernelspec": {
   "display_name": "Python 3",
   "language": "python",
   "name": "python3"
  },
  "language_info": {
   "codemirror_mode": {
    "name": "ipython",
    "version": 3
   },
   "file_extension": ".py",
   "mimetype": "text/x-python",
   "name": "python",
   "nbconvert_exporter": "python",
   "pygments_lexer": "ipython3",
   "version": "3.8.8"
  }
 },
 "nbformat": 4,
 "nbformat_minor": 4
}
