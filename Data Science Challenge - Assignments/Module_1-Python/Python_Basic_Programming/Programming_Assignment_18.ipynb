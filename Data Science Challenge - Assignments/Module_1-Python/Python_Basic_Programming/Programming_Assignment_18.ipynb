{
 "cells": [
  {
   "cell_type": "code",
   "execution_count": 10,
   "metadata": {},
   "outputs": [
    {
     "data": {
      "text/plain": [
       "[1, 2, 123]"
      ]
     },
     "execution_count": 10,
     "metadata": {},
     "output_type": "execute_result"
    }
   ],
   "source": [
    "'''\n",
    "Question 1\n",
    "Create a function that takes a list of non-negative integers and strings and return a new list\n",
    "without the strings.\n",
    "Examples\n",
    "filter_list([1, 2, \"a\", \"b\"]) ➞ [1, 2]\n",
    "filter_list([1, \"a\", \"b\", 0, 15]) ➞ [1, 0, 15]\n",
    "filter_list([1, 2, \"aasf\", \"1\", \"123\", 123]) ➞ [1, 2, 123]\n",
    "'''\n",
    "\n",
    "def filter_list(*args):\n",
    "    for i in range(len(args[0])-1,-1,-1):\n",
    "        if type(args[0][i]) == str:\n",
    "            args[0].remove(args[0][i])\n",
    "    return args[0]\n",
    "\n",
    "filter_list([1, 2, \"aasf\", \"1\", \"123\", 123])"
   ]
  },
  {
   "cell_type": "code",
   "execution_count": 19,
   "metadata": {},
   "outputs": [
    {
     "name": "stdout",
     "output_type": "stream",
     "text": [
      "Enter the string: Hello World\n",
      "The reversed string is DLROw OLLEh\n"
     ]
    }
   ],
   "source": [
    "'''\n",
    "Question 2\n",
    "The \"Reverser\" takes a string as input and returns that string in reverse order, with the\n",
    "opposite case.\n",
    "Examples\n",
    "reverse(\"Hello World\") ➞ \"DLROw OLLEh\"\n",
    "reverse(\"ReVeRsE\") ➞ \"eSrEvEr\"\n",
    "reverse(\"Radar\") ➞ \"RADAr\n",
    "'''\n",
    "\n",
    "def reverse(string):\n",
    "    reversed = \"\"\n",
    "    string = string[::-1]\n",
    "    for i in string:\n",
    "        if i.isupper():\n",
    "            reversed += i.lower()\n",
    "        elif i == \" \":\n",
    "            reversed += i\n",
    "        elif i.islower():\n",
    "            reversed += i.upper()\n",
    "    return reversed\n",
    "    \n",
    "string = input(\"Enter the string: \")\n",
    "print(\"The reversed string is {}\".format(reverse(string)))"
   ]
  },
  {
   "cell_type": "code",
   "execution_count": 23,
   "metadata": {},
   "outputs": [
    {
     "name": "stdout",
     "output_type": "stream",
     "text": [
      "Enter the length of the list: 8\n",
      "8\n",
      "7\n",
      "6\n",
      "5\n",
      "4\n",
      "3\n",
      "2\n",
      "1\n",
      "First:  8\n",
      "Middle:  [7, 6, 5, 4, 3, 2]\n",
      "Last:  1\n"
     ]
    }
   ],
   "source": [
    "'''\n",
    "Question 3\n",
    "You can assign variables from lists like this:\n",
    "lst = [1, 2, 3, 4, 5, 6]\n",
    "first = lst[0]\n",
    "middle = lst[1:-1]\n",
    "last = lst[-1]\n",
    "print(first) ➞ outputs 1\n",
    "print(middle) ➞ outputs [2, 3, 4, 5]\n",
    "print(last) ➞ outputs 6\n",
    "With Python 3, you can assign variables from lists in a much more succinct way. Create\n",
    "variables first, middle and last from the given list using destructuring assignment\n",
    "(check the Resources tab for some examples), where:\n",
    "first ➞ 1\n",
    "middle ➞ [2, 3, 4, 5]\n",
    "last ➞ 6\n",
    "\n",
    "Your task is to unpack the list writeyourcodehere into three variables, being first,\n",
    "middle, and last, with middle being everything in between the first and last element. Then\n",
    "print all three variables.\n",
    "'''\n",
    "\n",
    "length = int(input(\"Enter the length of the list: \"))\n",
    "list = []\n",
    "for i in range(length):\n",
    "    list.append(int(input()))\n",
    "\n",
    "first, middle, last = list[0], list[1:-1], list[-1]\n",
    "print(\"First: \",first)\n",
    "print(\"Middle: \",middle)\n",
    "print(\"Last: \",last)"
   ]
  },
  {
   "cell_type": "code",
   "execution_count": 24,
   "metadata": {},
   "outputs": [
    {
     "name": "stdout",
     "output_type": "stream",
     "text": [
      "Enter the number whose factorial is to be calculated: 8\n",
      "The factorail of 8 is 40320\n"
     ]
    }
   ],
   "source": [
    "'''\n",
    "Question 4\n",
    "Write a function that calculates the factorial of a number recursively.\n",
    "Examples\n",
    "factorial(5) ➞ 120\n",
    "factorial(3) ➞ 6\n",
    "factorial(1) ➞ 1\n",
    "factorial(0) ➞ 1\n",
    "'''\n",
    "\n",
    "def factorial(number):\n",
    "    if number  ==0 or number == 1:\n",
    "        return 1\n",
    "    else:\n",
    "        return number  * factorial(number - 1)\n",
    "    \n",
    "number = int(input(\"Enter the number whose factorial is to be calculated: \"))\n",
    "print(\"The factorail of {} is {}\".format(number,factorial(number)))"
   ]
  },
  {
   "cell_type": "code",
   "execution_count": 26,
   "metadata": {},
   "outputs": [
    {
     "name": "stdout",
     "output_type": "stream",
     "text": [
      "Enter the length of the list: 7\n",
      "1\n",
      "2\n",
      "3\n",
      "1\n",
      "5\n",
      "1\n",
      "6\n",
      "Enter the value to be shifted to end: 1\n"
     ]
    },
    {
     "data": {
      "text/plain": [
       "[2, 3, 5, 6, 1, 1, 1]"
      ]
     },
     "execution_count": 26,
     "metadata": {},
     "output_type": "execute_result"
    }
   ],
   "source": [
    "'''\n",
    "Question 5\n",
    "Write a function that moves all elements of one type to the end of the list.\n",
    "Examples\n",
    "move_to_end([1, 3, 2, 4, 4, 1], 1) ➞ [3, 2, 4, 4, 1, 1]\n",
    "# Move all the 1s to the end of the array.\n",
    "move_to_end([7, 8, 9, 1, 2, 3, 4], 9) ➞ [7, 8, 1, 2, 3, 4, 9]\n",
    "move_to_end([\"a\", \"a\", \"a\", \"b\"], \"a\") ➞ [\"b\", \"a\", \"a\", \"a\"]\n",
    "'''\n",
    "\n",
    "def move_to_end(list, value):\n",
    "    for i in list:\n",
    "        if i == value:\n",
    "            list.remove(i)\n",
    "            list.append(value)\n",
    "    return list\n",
    "\n",
    "length = int(input(\"Enter the length of the list: \"))\n",
    "list = []\n",
    "for i in range(length):\n",
    "    list.append(int(input()))\n",
    "value = int(input(\"Enter the value to be shifted to end: \"))\n",
    "move_to_end(list,value)"
   ]
  }
 ],
 "metadata": {
  "kernelspec": {
   "display_name": "Python 3",
   "language": "python",
   "name": "python3"
  },
  "language_info": {
   "codemirror_mode": {
    "name": "ipython",
    "version": 3
   },
   "file_extension": ".py",
   "mimetype": "text/x-python",
   "name": "python",
   "nbconvert_exporter": "python",
   "pygments_lexer": "ipython3",
   "version": "3.8.8"
  }
 },
 "nbformat": 4,
 "nbformat_minor": 4
}
