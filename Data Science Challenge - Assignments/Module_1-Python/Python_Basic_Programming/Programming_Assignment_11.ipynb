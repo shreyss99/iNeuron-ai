{
 "cells": [
  {
   "cell_type": "code",
   "execution_count": 6,
   "metadata": {},
   "outputs": [
    {
     "name": "stdout",
     "output_type": "stream",
     "text": [
      "Enter a string of words: Join like-minded poetry lovers from across the world to discover new poetry and different cultures, share insights and language skills, working together to open up a poem in its original language and reassemble it in English. The result will be new group translations of contemporary Nigerian poems by Oladapo Olatubosun, Auwalu Anwar and Amarachi Attamah.\n",
      "Enter the value of k: 8\n",
      "The list of workds > length 8\n"
     ]
    },
    {
     "data": {
      "text/plain": [
       "['like-minded',\n",
       " 'different',\n",
       " 'cultures,',\n",
       " 'reassemble',\n",
       " 'translations',\n",
       " 'contemporary',\n",
       " 'Olatubosun,']"
      ]
     },
     "execution_count": 6,
     "metadata": {},
     "output_type": "execute_result"
    }
   ],
   "source": [
    "'''\n",
    "Q1. Write a Python program to find words which are greater than given length k?\n",
    "'''\n",
    "\n",
    "def count_words(string, k):\n",
    "    big_words = []\n",
    "    input = string.split(\" \")\n",
    "    for i in input:\n",
    "        if len(i) > k:\n",
    "            big_words.append(i)\n",
    "    return big_words\n",
    "            \n",
    "string = input(\"Enter a string of words: \")\n",
    "k = int(input(\"Enter the value of k: \"))\n",
    "print(\"The list of workds > length {}\".format(k))\n",
    "count_words(string, k)"
   ]
  },
  {
   "cell_type": "code",
   "execution_count": 59,
   "metadata": {},
   "outputs": [
    {
     "name": "stdout",
     "output_type": "stream",
     "text": [
      "Enter a string: a good life\n",
      "Enter the value of 'i': 6\n",
      "The string after removal if 6-th character is 'a goo life'\n"
     ]
    }
   ],
   "source": [
    "'''\n",
    "Q2. Write a Python program for removing i-th character from a string?\n",
    "'''\n",
    "\n",
    "def remove_i_char(string,i):\n",
    "    list = []\n",
    "    result = ''\n",
    "    for j in string:\n",
    "        list.append(j)\n",
    "    list.remove(list[i-1])\n",
    "    for i in list:\n",
    "        result += i\n",
    "    return result\n",
    "    \n",
    "string = input(\"Enter a string: \")\n",
    "i = int(input(\"Enter the value of 'i': \"))\n",
    "print(\"The string after removal if {}-th character is '{}'\".format(i,remove_i_char(string, i)))"
   ]
  },
  {
   "cell_type": "code",
   "execution_count": 12,
   "metadata": {},
   "outputs": [
    {
     "name": "stdout",
     "output_type": "stream",
     "text": [
      "Enter a string of words: The join() method is a string method and returns a string in which the elements of sequence have been joined by str separator.\n",
      "Enter the joining symbol: -\n",
      "The split and join string is The-join()-method-is-a-string-method-and-returns-a-string-in-which-the-elements-of-sequence-have-been-joined-by-str-separator.\n"
     ]
    }
   ],
   "source": [
    "'''\n",
    "Q3. Write a Python program to split and join a string?\n",
    "'''\n",
    "\n",
    "string = input(\"Enter a string of words: \")\n",
    "list = string.split(\" \")\n",
    "delim = input(\"Enter the joining symbol: \")\n",
    "split_join = delim.join(list)\n",
    "print(\"The split and join string is {}\".format(split_join))"
   ]
  },
  {
   "cell_type": "code",
   "execution_count": 17,
   "metadata": {},
   "outputs": [
    {
     "name": "stdout",
     "output_type": "stream",
     "text": [
      "Enter a single string: 101010101010101010101\n"
     ]
    },
    {
     "data": {
      "text/plain": [
       "'Binary'"
      ]
     },
     "execution_count": 17,
     "metadata": {},
     "output_type": "execute_result"
    }
   ],
   "source": [
    "'''\n",
    "Q4. Write a Python to check if a given string is binary string or not?\n",
    "'''\n",
    "\n",
    "def string_isBinary(string):\n",
    "    list = []\n",
    "    for i in string:\n",
    "        list.append(i)\n",
    "    string_set = set(list)\n",
    "    binary_set = {'0','1'}\n",
    "    flag = True\n",
    "    for i in string_set:\n",
    "        if i not in binary_set:\n",
    "            flag = False\n",
    "            break\n",
    "        else:\n",
    "            flag = True\n",
    "            \n",
    "    if flag == True:\n",
    "        return \"Binary\"\n",
    "    else:\n",
    "        return \"Not Binary\"\n",
    "            \n",
    "string = input(\"Enter a single string: \")\n",
    "string_isBinary(string)"
   ]
  },
  {
   "cell_type": "code",
   "execution_count": 24,
   "metadata": {},
   "outputs": [
    {
     "name": "stdout",
     "output_type": "stream",
     "text": [
      "Enter the first string: i want ML class\n",
      "Enter the second string: i like Full stack class\n",
      "The uncommon words are:  {'ML', 'like', 'want', 'stack', 'Full'}\n"
     ]
    }
   ],
   "source": [
    "'''\n",
    "Q5. Write a Python program to find uncommon words from two Strings?\n",
    "'''\n",
    "\n",
    "def uncommon_words(first, second):\n",
    "    list1 = first.split(\" \")\n",
    "    list2 = second.split(\" \")\n",
    "    set_first = set(list1)\n",
    "    set_second = set(list2)\n",
    "    first_second_diff = set_first.difference(set_second)\n",
    "    second_first_diff = set_second.difference(set_first)\n",
    "    final = first_second_diff.union(second_first_diff)\n",
    "    return final\n",
    "    \n",
    "first = input(\"Enter the first string: \")\n",
    "second = input(\"Enter the second string: \")\n",
    "print(\"The uncommon words are: \",uncommon_words(first, second))"
   ]
  },
  {
   "cell_type": "code",
   "execution_count": 39,
   "metadata": {},
   "outputs": [
    {
     "name": "stdout",
     "output_type": "stream",
     "text": [
      "Enter the string for duplicate characters: i want to learn ML\n"
     ]
    },
    {
     "data": {
      "text/plain": [
       "['a', 'n', 't', 'l']"
      ]
     },
     "execution_count": 39,
     "metadata": {},
     "output_type": "execute_result"
    }
   ],
   "source": [
    "'''\n",
    "Q6. Write a Python to find all duplicate characters in string?\n",
    "'''\n",
    "\n",
    "def duplicate_chars(string):\n",
    "    duplicates = []\n",
    "    string = string.casefold()\n",
    "    for i in range(0,len(string)):\n",
    "        count = 1\n",
    "        for j in range(i+1,len(string)):\n",
    "            if string[i] == string[j] and string[i] != ' ':\n",
    "                count += 1\n",
    "        if count > 1:\n",
    "            duplicates.append(string[i])\n",
    "    return duplicates\n",
    "\n",
    "string = input(\"Enter the string for duplicate characters: \")\n",
    "duplicate_chars(string)"
   ]
  },
  {
   "cell_type": "code",
   "execution_count": 25,
   "metadata": {},
   "outputs": [
    {
     "name": "stdout",
     "output_type": "stream",
     "text": [
      "Enter a string for checking special characters: I want to have # Full stack class\n",
      "String has special characters\n"
     ]
    }
   ],
   "source": [
    "'''\n",
    "Q7. Write a Python Program to check if a string contains any special character?\n",
    "'''\n",
    "\n",
    "import re\n",
    "string = input(\"Enter a string for checking special characters: \")\n",
    "\n",
    "reg_ex = re.compile(\"[@_!#$%^&*()<>?/\\|}{~:]\")\n",
    "\n",
    "if reg_ex.search(string) == None:\n",
    "    print(\"String has no special characters\")\n",
    "else:\n",
    "    print(\"String has special characters\")"
   ]
  }
 ],
 "metadata": {
  "kernelspec": {
   "display_name": "Python 3",
   "language": "python",
   "name": "python3"
  },
  "language_info": {
   "codemirror_mode": {
    "name": "ipython",
    "version": 3
   },
   "file_extension": ".py",
   "mimetype": "text/x-python",
   "name": "python",
   "nbconvert_exporter": "python",
   "pygments_lexer": "ipython3",
   "version": "3.8.8"
  }
 },
 "nbformat": 4,
 "nbformat_minor": 4
}
