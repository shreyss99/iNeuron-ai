{
 "cells": [
  {
   "cell_type": "code",
   "execution_count": 1,
   "metadata": {},
   "outputs": [
    {
     "name": "stdout",
     "output_type": "stream",
     "text": [
      "Enter the start of the range: 30\n",
      "Enter the end of the range: 70\n",
      "Enter the divisor: 4\n",
      "The numbers divisible by 4 between 30 and 70 are [32, 36, 40, 44, 48, 52, 56, 60, 64, 68]\n"
     ]
    }
   ],
   "source": [
    "'''\n",
    "Question1\n",
    "Create a function that takes three parameters where:\n",
    " x is the start of the range (inclusive).\n",
    " y is the end of the range (inclusive).\n",
    " n is the divisor to be checked against.\n",
    "Return an ordered list with numbers in the range that are divisible by the third parameter n.\n",
    "Return an empty list if there are no numbers that are divisible by n.\n",
    "Examples\n",
    "list_operation(1, 10, 3) ➞ [3, 6, 9]\n",
    "list_operation(7, 9, 2) ➞ [8]\n",
    "list_operation(15, 20, 7) ➞ []\n",
    "'''\n",
    "\n",
    "def list_operation(x,y,n):\n",
    "    list = []\n",
    "    for i in range(x,y+1):\n",
    "        if i % n == 0:\n",
    "            list.append(i)\n",
    "    return list\n",
    "\n",
    "x = int(input(\"Enter the start of the range: \"))\n",
    "y = int(input(\"Enter the end of the range: \"))\n",
    "n = int(input(\"Enter the divisor: \"))\n",
    "print(\"The numbers divisible by {} between {} and {} are {}\".format(n,x,y,list_operation(x,y,n)))"
   ]
  },
  {
   "cell_type": "code",
   "execution_count": 15,
   "metadata": {},
   "outputs": [
    {
     "name": "stdout",
     "output_type": "stream",
     "text": [
      "Enter the length of the list: 1\n",
      "Entered length is less than 2\n",
      "Enter length greater than 2: 5\n",
      "Enter the element of first list: 1\n",
      "Enter the element of second list: 0\n",
      "Enter the element of first list: 2\n",
      "Enter the element of second list: 1\n",
      "Enter the element of first list: 3\n",
      "Enter the element of second list: 2\n",
      "Enter the element of first list: 4\n",
      "Enter the element of second list: 3\n",
      "Enter the element of first list: 5\n",
      "Enter the element of second list: 4\n"
     ]
    },
    {
     "data": {
      "text/plain": [
       "True"
      ]
     },
     "execution_count": 15,
     "metadata": {},
     "output_type": "execute_result"
    }
   ],
   "source": [
    "'''\n",
    "Question2\n",
    "Create a function that takes in two lists and returns True if the second list follows the first list\n",
    "by one element, and False otherwise. In other words, determine if the second list is the first\n",
    "list shifted to the right by 1.\n",
    "Examples\n",
    "simon_says([1, 2], [5, 1]) ➞ True\n",
    "simon_says([1, 2], [5, 5]) ➞ False\n",
    "simon_says([1, 2, 3, 4, 5], [0, 1, 2, 3, 4]) ➞ True\n",
    "simon_says([1, 2, 3, 4, 5], [5, 5, 1, 2, 3]) ➞ False\n",
    "Notes\n",
    " Both input lists will be of the same length, and will have a minimum length of 2.\n",
    " The values of the 0-indexed element in the second list and the n-1th indexed element\n",
    "in the first list do not matter.\n",
    "'''\n",
    "\n",
    "def simon_says(list1,list2):\n",
    "    count = 0\n",
    "    for i in range(0,len(list1)-1):\n",
    "        if list1[i % len(list1)] != list2[(i+1) % len(list1)]:\n",
    "            return False\n",
    "            break\n",
    "        else:\n",
    "            count += 1\n",
    "            if count == len(list1) - 1:\n",
    "                return True\n",
    "            continue\n",
    "    \n",
    "length = int(input(\"Enter the length of the list: \"))\n",
    "if length < 2 :\n",
    "    print(\"Entered length is less than 2\")\n",
    "    length = int(input(\"Enter length greater than 2: \"))\n",
    "list1 = []\n",
    "list2 = []\n",
    "\n",
    "for i in range(length):\n",
    "    list1.append(int(input(\"Enter the element of first list: \")))\n",
    "    list2.append(int(input(\"Enter the element of second list: \")))\n",
    "simon_says(list1,list2)"
   ]
  },
  {
   "cell_type": "code",
   "execution_count": 17,
   "metadata": {},
   "outputs": [
    {
     "name": "stdout",
     "output_type": "stream",
     "text": [
      "Enter the number of members in society: 6\n",
      "Enter the society members name: Rachel\n",
      "Enter the society members name: Monica\n",
      "Enter the society members name: Phoebe\n",
      "Enter the society members name: Joey\n",
      "Enter the society members name: Chandler\n",
      "Enter the society members name: Ross\n",
      "The name of sceret society is CJMPRR\n"
     ]
    }
   ],
   "source": [
    "'''\n",
    "Question3\n",
    "A group of friends have decided to start a secret society. The name will be the first letter of\n",
    "each of their names, sorted in alphabetical order.\n",
    "Create a function that takes in a list of names and returns the name of the secret society.\n",
    "\n",
    "Examples\n",
    "society_name([\"Adam\", \"Sarah\", \"Malcolm\"]) ➞ \"AMS\"\n",
    "society_name([\"Harry\", \"Newt\", \"Luna\", \"Cho\"]) ➞ \"CHLN\"\n",
    "society_name([\"Phoebe\", \"Chandler\", \"Rachel\", \"Ross\", \"Monica\", \"Joey\"])\n",
    "'''\n",
    "\n",
    "def society_name(members):\n",
    "    initials = []\n",
    "    for i in members:\n",
    "        initials.append(i[0])\n",
    "    initials.sort()\n",
    "    society_name = \"\"\n",
    "    for i in initials:\n",
    "        society_name += i\n",
    "    return society_name\n",
    "    \n",
    "length = int(input(\"Enter the number of members in society: \"))\n",
    "members = []\n",
    "for i in range(length):\n",
    "    members.append(input(\"Enter the society members name: \"))\n",
    "print(\"The name of sceret society is {}\".format(society_name(members)))"
   ]
  },
  {
   "cell_type": "code",
   "execution_count": 41,
   "metadata": {},
   "outputs": [
    {
     "name": "stdout",
     "output_type": "stream",
     "text": [
      "Enter the string to be checked for isogram: Amazing\n"
     ]
    },
    {
     "data": {
      "text/plain": [
       "False"
      ]
     },
     "execution_count": 41,
     "metadata": {},
     "output_type": "execute_result"
    }
   ],
   "source": [
    "'''\n",
    "Question4\n",
    "An isogram is a word that has no duplicate letters. Create a function that takes a string and\n",
    "returns either True or False depending on whether or not it's an \"isogram\".\n",
    "Examples\n",
    "is_isogram(\"Algorism\") ➞ True\n",
    "is_isogram(\"PasSword\") ➞ False\n",
    "# Not case sensitive.\n",
    "is_isogram(\"Consecutive\") ➞ False\n",
    "Notes\n",
    " Ignore letter case (should not be case sensitive).\n",
    " All test cases contain valid one word strings.\n",
    "'''\n",
    "\n",
    "def is_Isogram(string):\n",
    "    string = string.casefold()\n",
    "    count = []\n",
    "    for i in string:\n",
    "        count.append(string.count(i))\n",
    "    for i in count:\n",
    "        if i > 1:\n",
    "            return False\n",
    "        else:\n",
    "            return True\n",
    "    \n",
    "string = input(\"Enter the string to be checked for isogram: \")\n",
    "is_Isogram(string)"
   ]
  },
  {
   "cell_type": "code",
   "execution_count": 47,
   "metadata": {},
   "outputs": [
    {
     "name": "stdout",
     "output_type": "stream",
     "text": [
      "Enter the string: gorst\n"
     ]
    },
    {
     "data": {
      "text/plain": [
       "True"
      ]
     },
     "execution_count": 47,
     "metadata": {},
     "output_type": "execute_result"
    }
   ],
   "source": [
    "'''\n",
    "Question5\n",
    "Create a function that takes a string and returns True or False, depending on whether the\n",
    "characters are in order or not.\n",
    "Examples\n",
    "is_in_order(\"abc\") ➞ True\n",
    "is_in_order(\"edabit\") ➞ False\n",
    "is_in_order(\"123\") ➞ True\n",
    "is_in_order(\"xyzz\") ➞ True\n",
    "Notes\n",
    "You don,t have to handle empty strings.\n",
    "'''\n",
    "\n",
    "def is_in_order(string):\n",
    "    list = []\n",
    "    sort = []\n",
    "    for i in string:\n",
    "        list.append(i)\n",
    "    sort = sorted(list)\n",
    "    for i in range(len(list)):\n",
    "        if list[i] == sort[i]:\n",
    "            return True\n",
    "        else:\n",
    "            return False\n",
    "    \n",
    "string = input(\"Enter the string: \")\n",
    "is_in_order(string)"
   ]
  }
 ],
 "metadata": {
  "kernelspec": {
   "display_name": "Python 3",
   "language": "python",
   "name": "python3"
  },
  "language_info": {
   "codemirror_mode": {
    "name": "ipython",
    "version": 3
   },
   "file_extension": ".py",
   "mimetype": "text/x-python",
   "name": "python",
   "nbconvert_exporter": "python",
   "pygments_lexer": "ipython3",
   "version": "3.8.8"
  }
 },
 "nbformat": 4,
 "nbformat_minor": 4
}
