{
 "cells": [
  {
   "cell_type": "code",
   "execution_count": 5,
   "metadata": {},
   "outputs": [
    {
     "name": "stdout",
     "output_type": "stream",
     "text": [
      "Enter a positive number: 10\n",
      "The factorial of 10 is 3628800\n"
     ]
    }
   ],
   "source": [
    "'''\n",
    "Q1. Write a Python Program to Find the Factorial of a Number?\n",
    "'''\n",
    "\n",
    "a = int(input(\"Enter a positive number: \"))\n",
    "\n",
    "if a == 0 | a == 1:\n",
    "    factorial = 1\n",
    "    print(\"The factorial of {} is {}\".format(a,factorial))\n",
    "else:\n",
    "    factorial = 1\n",
    "    for i in range(1,a+1):\n",
    "         factorial *= i\n",
    "    print(\"The factorial of {} is {}\".format(a,factorial))\n",
    "    "
   ]
  },
  {
   "cell_type": "code",
   "execution_count": 11,
   "metadata": {},
   "outputs": [
    {
     "name": "stdout",
     "output_type": "stream",
     "text": [
      "Enter a positive number: 9\n",
      "Multiplication table of 9 is: \n",
      "9 x 1 = 9\n",
      "9 x 2 = 18\n",
      "9 x 3 = 27\n",
      "9 x 4 = 36\n",
      "9 x 5 = 45\n",
      "9 x 6 = 54\n",
      "9 x 7 = 63\n",
      "9 x 8 = 72\n",
      "9 x 9 = 81\n",
      "9 x 10 = 90\n",
      "9 x 11 = 99\n",
      "9 x 12 = 108\n"
     ]
    }
   ],
   "source": [
    "'''\n",
    "Q2. Write a Python Program to Display the multiplication Table?\n",
    "'''\n",
    "\n",
    "a = int(input(\"Enter a positive number: \"))\n",
    "\n",
    "print(\"Multiplication table of {} is: \".format(a))\n",
    "for i in range (1,13):\n",
    "    print(str(a) + \" x \" + str(i) + \" = \" + str(a*i))"
   ]
  },
  {
   "cell_type": "code",
   "execution_count": 18,
   "metadata": {},
   "outputs": [
    {
     "name": "stdout",
     "output_type": "stream",
     "text": [
      "Enter the length of Fibonacci series to be generated: 15\n",
      "0\n",
      "1\n",
      "1\n",
      "2\n",
      "3\n",
      "5\n",
      "8\n",
      "13\n",
      "21\n",
      "34\n",
      "55\n",
      "89\n",
      "144\n",
      "233\n",
      "377\n"
     ]
    }
   ],
   "source": [
    "'''\n",
    "Q3. Write a Python Program to Print the Fibonacci sequence?\n",
    "'''\n",
    "\n",
    "length = int(input(\"Enter the length of Fibonacci series to be generated: \"))\n",
    "a = 0\n",
    "b = 1\n",
    "print(a)\n",
    "print(b)\n",
    "for i in range(0,length-2):\n",
    "    c = a + b\n",
    "    a = b\n",
    "    b = c\n",
    "    print(c)"
   ]
  },
  {
   "cell_type": "code",
   "execution_count": 42,
   "metadata": {},
   "outputs": [
    {
     "name": "stdout",
     "output_type": "stream",
     "text": [
      "Enter the number to be checked as Armstrong: 1634\n",
      "The number 1634 is an Armstrong number \n"
     ]
    }
   ],
   "source": [
    "'''\n",
    "Q4. Write a Python Program to Check Armstrong Number?\n",
    "'''\n",
    "import math\n",
    "\n",
    "num = input(\"Enter the number to be checked as Armstrong: \")\n",
    "num_len = len(num)\n",
    "num = int(num)\n",
    "temp = num\n",
    "\n",
    "sum = 0\n",
    "while (temp > 0):\n",
    "    x = temp % 10\n",
    "    sum = sum + math.pow(x,num_len)\n",
    "    temp = temp // 10\n",
    "    \n",
    "if sum == num:\n",
    "    print(\"The number {} is an Armstrong number \".format(num))\n",
    "else:\n",
    "    print(\"The number {} is not an Armstrong number \".format(num))"
   ]
  },
  {
   "cell_type": "code",
   "execution_count": 44,
   "metadata": {},
   "outputs": [
    {
     "name": "stdout",
     "output_type": "stream",
     "text": [
      "Enter the lower limit: 1\n",
      "Enter the higher limit: 10000\n",
      "Armstrong numbers between 1 and 10000 are: \n",
      "1\n",
      "2\n",
      "3\n",
      "4\n",
      "5\n",
      "6\n",
      "7\n",
      "8\n",
      "9\n",
      "153\n",
      "370\n",
      "371\n",
      "407\n",
      "1634\n",
      "8208\n",
      "9474\n"
     ]
    }
   ],
   "source": [
    "'''\n",
    "Q5. Write a Python Program to Find Armstrong Number in an Interval?\n",
    "'''\n",
    "import math\n",
    "\n",
    "low = int(input(\"Enter the lower limit: \"))\n",
    "high = int(input(\"Enter the higher limit: \"))\n",
    "\n",
    "print(\"Armstrong numbers between {} and {} are: \".format(low,high))\n",
    "\n",
    "for i in range(low,high+1):\n",
    "    temp = i\n",
    "    i_length = len(str(i))\n",
    "    i = int(i)\n",
    "    sum = 0\n",
    "    while (temp > 0):\n",
    "        x = temp % 10\n",
    "        sum = sum + math.pow(x,i_length)\n",
    "        temp = temp // 10\n",
    "    if sum == i:\n",
    "        print(i)\n"
   ]
  },
  {
   "cell_type": "code",
   "execution_count": 47,
   "metadata": {},
   "outputs": [
    {
     "name": "stdout",
     "output_type": "stream",
     "text": [
      "Enter the higher limit of natural number: 593\n",
      "The sum of natural numbers from 1 to 593 is 176121 \n"
     ]
    }
   ],
   "source": [
    "'''\n",
    "Q6. Write a Python Program to Find the Sum of Natural Numbers?\n",
    "'''\n",
    "\n",
    "final = int(input(\"Enter the higher limit of natural number: \"))\n",
    "\n",
    "sum = 0\n",
    "for i in range(1,final+1):\n",
    "    sum += i\n",
    "print(\"The sum of natural numbers from 1 to {} is {} \".format(final,sum))"
   ]
  }
 ],
 "metadata": {
  "kernelspec": {
   "display_name": "Python 3",
   "language": "python",
   "name": "python3"
  },
  "language_info": {
   "codemirror_mode": {
    "name": "ipython",
    "version": 3
   },
   "file_extension": ".py",
   "mimetype": "text/x-python",
   "name": "python",
   "nbconvert_exporter": "python",
   "pygments_lexer": "ipython3",
   "version": "3.8.8"
  }
 },
 "nbformat": 4,
 "nbformat_minor": 4
}
