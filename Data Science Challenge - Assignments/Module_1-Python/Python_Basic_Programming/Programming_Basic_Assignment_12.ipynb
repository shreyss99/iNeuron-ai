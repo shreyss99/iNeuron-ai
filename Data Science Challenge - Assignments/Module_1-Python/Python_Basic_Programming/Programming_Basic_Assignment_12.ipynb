{
 "cells": [
  {
   "cell_type": "code",
   "execution_count": 4,
   "metadata": {},
   "outputs": [
    {
     "name": "stdout",
     "output_type": "stream",
     "text": [
      "Enter the number of dictionary calues: 5\n",
      "Enter the key: name\n",
      "Enter the value: shrey\n",
      "Enter the key: class\n",
      "Enter the value: BE\n",
      "Enter the key: surname\n",
      "Enter the value: shrey\n",
      "Enter the key: comp\n",
      "Enter the value: barc\n",
      "Enter the key: num\n",
      "Enter the value: BE\n",
      "The unique vales from dictionary are: \n",
      "['BE', 'shrey', 'barc']\n"
     ]
    }
   ],
   "source": [
    "'''\n",
    "Q1. Write a Python program to Extract Unique values dictionary values?\n",
    "'''\n",
    "\n",
    "dict = {}\n",
    "number = int(input(\"Enter the number of dictionary calues: \"))\n",
    "\n",
    "for i in range(number):\n",
    "    key = input(\"Enter the key: \")\n",
    "    value = input(\"Enter the value: \")\n",
    "    dict[key] = value\n",
    "\n",
    "print(\"The unique vales from dictionary are: \")\n",
    "print(list(set(dict.values())))"
   ]
  },
  {
   "cell_type": "code",
   "execution_count": 27,
   "metadata": {},
   "outputs": [
    {
     "name": "stdout",
     "output_type": "stream",
     "text": [
      "Enter the number of dictionary calues: 4\n",
      "Enter the key: a\n",
      "Enter the value: 1\n",
      "Enter the key: b\n",
      "Enter the value: 3\n",
      "Enter the key: c\n",
      "Enter the value: 5\n",
      "Enter the key: d\n",
      "Enter the value: 7\n",
      "The sum of dictionary items is:  16\n"
     ]
    }
   ],
   "source": [
    "'''\n",
    "Q2. Write a Python program to find the sum of all items in a dictionary?\n",
    "'''\n",
    "\n",
    "dict = {}\n",
    "number = int(input(\"Enter the number of dictionary calues: \"))\n",
    "\n",
    "for i in range(number):\n",
    "    key = input(\"Enter the key: \")\n",
    "    value = int(input(\"Enter the value: \"))\n",
    "    dict[key] = value\n",
    "    \n",
    "sum = 0\n",
    "for i in dict:\n",
    "    sum += dict[i]\n",
    "print(\"The sum of dictionary items is: \", sum)"
   ]
  },
  {
   "cell_type": "code",
   "execution_count": 31,
   "metadata": {},
   "outputs": [
    {
     "name": "stdout",
     "output_type": "stream",
     "text": [
      "Enter the number of dictionary values: 3\n",
      "Enter the key for dictionary 1: 1\n",
      "Enter the value for dictionary 1: abc\n",
      "Enter the key for dictionary 1: 2\n",
      "Enter the value for dictionary 1: def\n",
      "Enter the key for dictionary 1: 3\n",
      "Enter the value for dictionary 1: ghi\n",
      "Enter the number of dictionary values: 2\n",
      "Enter the key for dictionary 2: lmn\n",
      "Enter the value for dictionary 2: 23\n",
      "Enter the key for dictionary 2: pqr\n",
      "Enter the value for dictionary 2: 56\n",
      "Enter 1 for first dictionary as start or else 2: 2\n",
      "The merged dictionary second follwed by first is  {'lmn': '23', 'pqr': '56', '1': 'abc', '2': 'def', '3': 'ghi'}\n"
     ]
    }
   ],
   "source": [
    "'''\n",
    "Q3. Write a Python program to Merging two Dictionaries?\n",
    "'''\n",
    "\n",
    "dict1 = {}\n",
    "number = int(input(\"Enter the number of dictionary values: \"))\n",
    "\n",
    "for i in range(number):\n",
    "    key = input(\"Enter the key for dictionary 1: \")\n",
    "    value = input(\"Enter the value for dictionary 1: \")\n",
    "    dict1[key] = value\n",
    "\n",
    "dict2 = {}\n",
    "number = int(input(\"Enter the number of dictionary values: \"))\n",
    "\n",
    "for i in range(number):\n",
    "    key = input(\"Enter the key for dictionary 2: \")\n",
    "    value = input(\"Enter the value for dictionary 2: \")\n",
    "    dict2[key] = value  \n",
    "    \n",
    "after_which = int(input(\"Enter 1 for first dictionary as start or else 2: \"))\n",
    "\n",
    "if after_which == 1:\n",
    "    for i in dict2:\n",
    "        dict1[i] = dict2[i]\n",
    "    print(\"The merged dictionary first follwed by second is \",dict1)\n",
    "elif after_which == 2:\n",
    "    for i in dict1:\n",
    "        dict2[i] = dict1[i]\n",
    "    print(\"The merged dictionary second follwed by first is \",dict2)"
   ]
  },
  {
   "cell_type": "code",
   "execution_count": 37,
   "metadata": {},
   "outputs": [
    {
     "name": "stdout",
     "output_type": "stream",
     "text": [
      "Enter the length of the list: 6\n",
      "a\n",
      "1\n",
      "b\n",
      "2\n",
      "c\n",
      "3\n",
      "The dictionary from list is: \n",
      "{'a': '1', 'b': '2', 'c': '3'}\n"
     ]
    }
   ],
   "source": [
    "'''\n",
    "Q4. Write a Python program to convert key-values list to flat dictionary?\n",
    "'''\n",
    "\n",
    "length = int(input(\"Enter the length of the list: \"))\n",
    "list = []\n",
    "for i in range(length):\n",
    "    list.append(input())\n",
    "    \n",
    "dict = {}\n",
    "for i in range(0,int(len(list)),2):\n",
    "    dict[list[i]] = list[i+1]\n",
    "print(\"The dictionary from list is: \")\n",
    "print(dict)"
   ]
  },
  {
   "cell_type": "code",
   "execution_count": 49,
   "metadata": {},
   "outputs": [
    {
     "name": "stdout",
     "output_type": "stream",
     "text": [
      "Enter the number of dictionary values: 3\n",
      "Enter the key: 1\n",
      "Enter the value: a\n",
      "Enter the key: b\n",
      "Enter the value: 2\n",
      "Enter the key: d\n",
      "Enter the value: 4\n",
      "Before inserting: \n",
      "OrderedDict([('1', 'a'), ('b', '2'), ('d', '4')])\n",
      "Enter the key to be added: s\n",
      "Enter the val to be added: 23\n",
      "After inserting: \n",
      "OrderedDict([('s', '23'), ('1', 'a'), ('b', '2'), ('d', '4')])\n"
     ]
    }
   ],
   "source": [
    "'''\n",
    "Q5. Write a Python program to insertion at the beginning in OrderedDict?\n",
    "'''\n",
    "\n",
    "from collections import OrderedDict\n",
    "\n",
    "dict = {}\n",
    "number = int(input(\"Enter the number of dictionary values: \"))\n",
    "\n",
    "for i in range(number):\n",
    "    key = input(\"Enter the key: \")\n",
    "    value = input(\"Enter the value: \")\n",
    "    dict[key] = value\n",
    "\n",
    "before_order = OrderedDict(dict)\n",
    "print(\"Before inserting: \")\n",
    "print(before_order)\n",
    "\n",
    "key = input(\"Enter the key to be added: \")\n",
    "value = input(\"Enter the val to be added: \")\n",
    "\n",
    "before_order.update({key:value})\n",
    "before_order.move_to_end(key,last=False)\n",
    "\n",
    "print(\"After inserting: \")\n",
    "print(before_order)"
   ]
  },
  {
   "cell_type": "code",
   "execution_count": 52,
   "metadata": {},
   "outputs": [
    {
     "name": "stdout",
     "output_type": "stream",
     "text": [
      "Enter the string: Python Dictionary\n",
      "Enter the character: on\n"
     ]
    },
    {
     "data": {
      "text/plain": [
       "'Order of character in string is maintained'"
      ]
     },
     "execution_count": 52,
     "metadata": {},
     "output_type": "execute_result"
    }
   ],
   "source": [
    "'''\n",
    "Q6. Write a Python program to check order of character in string using OrderedDict()?\n",
    "'''\n",
    "\n",
    "from collections import OrderedDict\n",
    "\n",
    "def checkOrder(dict, character): \n",
    "    dictionary = OrderedDict.fromkeys(dict) \n",
    "  \n",
    "    flag = 0\n",
    "    for key,value in dictionary.items(): \n",
    "        if (key == character[flag]): \n",
    "            flag += 1\n",
    "          \n",
    "        if (flag == (len(character))): \n",
    "            return 'Order of character in string is maintained'\n",
    "\n",
    "    return 'Order of character in string is not maintained'\n",
    "\n",
    "dict = input(\"Enter the string: \")\n",
    "character = input(\"Enter the character: \")\n",
    "checkOrder(dict,character)"
   ]
  },
  {
   "cell_type": "code",
   "execution_count": 44,
   "metadata": {},
   "outputs": [
    {
     "name": "stdout",
     "output_type": "stream",
     "text": [
      "Enter the number of dictionary values: 4\n",
      "Enter the key: 1\n",
      "Enter the value: abc\n",
      "Enter the key: 9\n",
      "Enter the value: def\n",
      "Enter the key: 4\n",
      "Enter the value: ghi\n",
      "Enter the key: 0\n",
      "Enter the value: rst\n",
      "Before sorting: \n",
      "{'1': 'abc', '9': 'def', '4': 'ghi', '0': 'rst'}\n",
      "After sorting: \n",
      "{'0': 'rst', '1': 'abc', '4': 'ghi', '9': 'def'}\n"
     ]
    }
   ],
   "source": [
    "'''\n",
    "Q7. Write a Python program to sort Python Dictionaries by Key?\n",
    "'''\n",
    "\n",
    "dict = {}\n",
    "number = int(input(\"Enter the number of dictionary values: \"))\n",
    "\n",
    "for i in range(number):\n",
    "    key = input(\"Enter the key: \")\n",
    "    value = input(\"Enter the value: \")\n",
    "    dict[key] = value\n",
    "\n",
    "keys_list = []\n",
    "for keys in dict.keys():\n",
    "    keys_list.append(keys)\n",
    "keys_list.sort()\n",
    "\n",
    "sorted_dict = {}\n",
    "for i in keys_list:\n",
    "    sorted_dict[i] = dict[i]\n",
    "    \n",
    "print(\"Before sorting: \")\n",
    "print(dict)\n",
    "print(\"After sorting: \")\n",
    "print(sorted_dict)"
   ]
  }
 ],
 "metadata": {
  "kernelspec": {
   "display_name": "Python 3",
   "language": "python",
   "name": "python3"
  },
  "language_info": {
   "codemirror_mode": {
    "name": "ipython",
    "version": 3
   },
   "file_extension": ".py",
   "mimetype": "text/x-python",
   "name": "python",
   "nbconvert_exporter": "python",
   "pygments_lexer": "ipython3",
   "version": "3.8.5"
  }
 },
 "nbformat": 4,
 "nbformat_minor": 4
}
